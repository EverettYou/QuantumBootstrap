{
 "cells": [
  {
   "cell_type": "code",
   "execution_count": 54,
   "id": "5f54bfbb-da17-447f-80d9-f74aa354e881",
   "metadata": {},
   "outputs": [],
   "source": [
    "%run \"qboot.py\""
   ]
  },
  {
   "cell_type": "code",
   "execution_count": 55,
   "id": "cc7030da-921d-4007-bbad-11b4d02683b4",
   "metadata": {},
   "outputs": [
    {
     "data": {
      "text/plain": [
       "i χ0 χ1 +i χ1 χ2 +i χ2 χ3 +i χ3 χ4 +i χ4 χ5 +i χ5 χ6"
      ]
     },
     "execution_count": 55,
     "metadata": {},
     "output_type": "execute_result"
    }
   ],
   "source": [
    "L = 6\n",
    "H = sum(1j* maj(i) @ maj(i+1) for i in range(L))\n",
    "H"
   ]
  },
  {
   "cell_type": "code",
   "execution_count": 56,
   "id": "51fd4cb3-d46a-4e3a-90e8-c1bde55f3049",
   "metadata": {},
   "outputs": [
    {
     "name": "stdout",
     "output_type": "stream",
     "text": [
      "    terms weight\n",
      " 0:     1    0.0\n",
      " 1:     6    2.0\n",
      " 2:    10    4.0\n",
      " 3:    14    5.5\n",
      " 4:    16    4.0\n",
      " 5:    16    2.1\n",
      " 6:    17    4.0\n",
      " 7:    14    2.4\n"
     ]
    }
   ],
   "source": [
    "K = H.krylov(show_progress=True)"
   ]
  },
  {
   "cell_type": "code",
   "execution_count": 65,
   "id": "de6bbd11-72e9-475f-9289-acffa2cef005",
   "metadata": {},
   "outputs": [
    {
     "data": {
      "text/plain": [
       "(χ1 χ2 χ3 χ4, 0)"
      ]
     },
     "execution_count": 65,
     "metadata": {},
     "output_type": "execute_result"
    }
   ],
   "source": [
    "a = maj(1,2) @ maj(3,4)\n",
    "with limit(len, 2):\n",
    "    b = maj(1,2) @ maj(3,4)\n",
    "a, b"
   ]
  },
  {
   "cell_type": "code",
   "execution_count": 66,
   "id": "6ccdfc8f-a564-4233-a29f-080bcae428a2",
   "metadata": {},
   "outputs": [
    {
     "data": {
      "text/plain": [
       "χ1 χ2 χ3 χ4"
      ]
     },
     "execution_count": 66,
     "metadata": {},
     "output_type": "execute_result"
    }
   ],
   "source": [
    "maj(1,2) @ maj(3,4)"
   ]
  },
  {
   "cell_type": "code",
   "execution_count": 37,
   "id": "e8124ed5-f3d4-40c6-bd29-a8f98293be65",
   "metadata": {},
   "outputs": [
    {
     "data": {
      "text/plain": [
       "OperatorSpace([I,\n",
       "               0.408i χ0 χ1 +0.408i χ1 χ2 +0.408i χ2 χ3 +0.408i χ3 χ4 +0.408i χ4 χ5 +0.408i χ5 χ6,\n",
       "               -0.316 χ0 χ1 χ2 χ3 -0.316 χ0 χ1 χ3 χ4 -0.316 χ0 χ1 χ4 χ5 -0.316 χ0 χ1 χ5 χ6 -0.316 χ1 χ2 χ3 χ4 -0.316 χ1 χ2 χ4 χ5 -0.316 χ1 χ2 χ5 χ6 -0.316 χ2 χ3 χ4 χ5 -0.316 χ2 χ3 χ5 χ6 -0.316 χ3 χ4 χ5 χ6,\n",
       "               -0.144i χ2 χ3 -0.144i χ3 χ4 -0.144i χ4 χ5 +0.289i χ5 χ6 +0.433i χ0 χ3 +0.289i χ0 χ1 +0.433i χ1 χ4 -0.144i χ1 χ2 +0.433i χ2 χ5 +0.433i χ3 χ6,\n",
       "               -0.258 χ0 χ1 χ2 χ3 +0.0645 χ0 χ1 χ3 χ4 +0.0645 χ0 χ1 χ4 χ5 -0.258 χ0 χ1 χ5 χ6 -0.323 χ0 χ1 χ2 χ5 -0.323 χ0 χ1 χ3 χ6 +0.0645 χ1 χ2 χ3 χ4 +0.387 χ1 χ2 χ4 χ5 +0.0645 χ1 χ2 χ5 χ6 -0.323 χ1 χ2 χ3 χ6 +0.0645 χ2 χ3 χ4 χ5 +0.0645 χ2 χ3 χ5 χ6 -0.258 χ3 χ4 χ5 χ6 -0.323 χ0 χ3 χ4 χ5 -0.323 χ0 χ3 χ5 χ6 -0.323 χ1 χ4 χ5 χ6,\n",
       "               0.25i χ2 χ3 +0.25i χ3 χ4 -0.25i χ4 χ5 -0.25i χ2 χ5 +0.25i χ3 χ6 +0.25i χ0 χ3 +0.5i χ0 χ5 -0.25i χ1 χ4 +0.5i χ1 χ6 -0.25i χ1 χ2,\n",
       "               -0.144 χ0 χ1 χ2 χ3 -0.289 χ0 χ1 χ3 χ4 +0.144 χ0 χ1 χ4 χ5 +0.144 χ0 χ1 χ2 χ5 +0.144 χ0 χ1 χ3 χ6 -0.289 χ1 χ2 χ3 χ6 +0.144 χ2 χ3 χ4 χ5 -0.433 χ0 χ2 χ3 χ5 -0.289 χ0 χ3 χ4 χ5 -0.433 χ1 χ3 χ4 χ6 +0.144 χ1 χ2 χ3 χ4 -0.144 χ3 χ4 χ5 χ6 +0.144 χ1 χ4 χ5 χ6 -0.289 χ2 χ3 χ5 χ6 +0.144 χ0 χ3 χ5 χ6 +0.144 χ1 χ2 χ5 χ6 +0.289 χ0 χ1 χ5 χ6])"
      ]
     },
     "execution_count": 37,
     "metadata": {},
     "output_type": "execute_result"
    }
   ],
   "source": [
    "K"
   ]
  },
  {
   "cell_type": "code",
   "execution_count": null,
   "id": "8b352897-f0f9-4241-9976-8ad65d035abc",
   "metadata": {},
   "outputs": [],
   "source": []
  }
 ],
 "metadata": {
  "kernelspec": {
   "display_name": "Python 3 (ipykernel)",
   "language": "python",
   "name": "python3"
  },
  "language_info": {
   "codemirror_mode": {
    "name": "ipython",
    "version": 3
   },
   "file_extension": ".py",
   "mimetype": "text/x-python",
   "name": "python",
   "nbconvert_exporter": "python",
   "pygments_lexer": "ipython3",
   "version": "3.9.12"
  }
 },
 "nbformat": 4,
 "nbformat_minor": 5
}
