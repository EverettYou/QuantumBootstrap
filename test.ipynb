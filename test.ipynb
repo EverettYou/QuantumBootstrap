{
 "cells": [
  {
   "cell_type": "code",
   "execution_count": 136,
   "metadata": {},
   "outputs": [],
   "source": [
    "%run 'operator.py'"
   ]
  },
  {
   "cell_type": "code",
   "execution_count": 142,
   "metadata": {},
   "outputs": [],
   "source": [
    "def Krylov_simple(H, n):\n",
    "    Ks = [unit(H)]\n",
    "    for k in range(n):\n",
    "        K = H @ Ks[k]\n",
    "        a = Ks[k].inner(K)\n",
    "        K = K - a * Ks[k]\n",
    "        if k > 0:\n",
    "            b = Ks[k-1].inner(K)\n",
    "            K = K - b * Ks[k-1]\n",
    "        if k + 1 < n :\n",
    "            norm = K.norm()\n",
    "            if norm > 0:\n",
    "                K = K / norm\n",
    "                Ks.append(K)\n",
    "            else:\n",
    "                break\n",
    "    return Ks"
   ]
  },
  {
   "cell_type": "code",
   "execution_count": 143,
   "metadata": {},
   "outputs": [
    {
     "data": {
      "text/plain": [
       "0.5 I +0.25i χ2 χ3 +0.25i χ0 χ1 -0.25 χ0 χ1 χ2 χ3 +0.25i χ6 χ7 +0.25i χ4 χ5 -0.25 χ4 χ5 χ6 χ7 +0.5i χ0 χ5 -0.5i χ1 χ4 +0.5i χ2 χ7 -0.5i χ3 χ6"
      ]
     },
     "execution_count": 143,
     "metadata": {},
     "output_type": "execute_result"
    }
   ],
   "source": [
    "def c(i,s):\n",
    "    return (maj(4*i+2*s) + 1j * maj(4*i+2*s+1))/2\n",
    "def cd(i,s):\n",
    "    return (maj(4*i+2*s) - 1j * maj(4*i+2*s+1))/2\n",
    "def n(i,s):\n",
    "    return cd(i,s) @ c(i,s)\n",
    "H = sum(cd(0,s) @ c(1,s)+cd(1,s) @ c(0,s) for s in [0,1]) + sum(n(i,0) @ n(i,1) for i in [0,1])\n",
    "H"
   ]
  },
  {
   "cell_type": "code",
   "execution_count": 146,
   "metadata": {},
   "outputs": [
    {
     "data": {
      "text/plain": [
       "[I,\n",
       " 0.213i χ2 χ3 +0.213i χ0 χ1 -0.213 χ0 χ1 χ2 χ3 +0.213i χ6 χ7 +0.213i χ4 χ5 -0.213 χ4 χ5 χ6 χ7 +0.426i χ0 χ5 -0.426i χ1 χ4 +0.426i χ2 χ7 -0.426i χ3 χ6,\n",
       " 0.065i χ2 χ3 +0.065i χ0 χ1 -0.065 χ0 χ1 χ2 χ3 +0.065i χ6 χ7 +0.065i χ4 χ5 -0.065 χ4 χ5 χ6 χ7 -0.0487i χ0 χ5 +0.0487i χ1 χ4 -0.0487i χ2 χ7 +0.0487i χ3 χ6 +0.268 χ2 χ3 χ6 χ7 -0.0893 χ2 χ3 χ4 χ5 -0.0893i χ2 χ3 χ4 χ5 χ6 χ7 -0.179 χ0 χ2 χ3 χ5 +0.179 χ1 χ2 χ3 χ4 -0.0893 χ0 χ1 χ6 χ7 +0.268 χ0 χ1 χ4 χ5 -0.0893i χ0 χ1 χ4 χ5 χ6 χ7 -0.179 χ0 χ1 χ2 χ7 +0.179 χ0 χ1 χ3 χ6 -0.0893i χ0 χ1 χ2 χ3 χ6 χ7 -0.0893i χ0 χ1 χ2 χ3 χ4 χ5 +0.0893 χ0 χ1 χ2 χ3 χ4 χ5 χ6 χ7 -0.179 χ0 χ5 χ6 χ7 +0.179 χ1 χ4 χ6 χ7 -0.179 χ2 χ4 χ5 χ7 +0.179 χ3 χ4 χ5 χ6 +0.357 χ0 χ2 χ5 χ7 -0.357 χ0 χ3 χ5 χ6 -0.357 χ1 χ2 χ4 χ7 +0.357 χ1 χ3 χ4 χ6]"
      ]
     },
     "execution_count": 146,
     "metadata": {},
     "output_type": "execute_result"
    }
   ],
   "source": [
    "Ks = Krylov_simple(H, 3)\n",
    "Ks"
   ]
  },
  {
   "cell_type": "markdown",
   "metadata": {},
   "source": [
    "Larger system"
   ]
  },
  {
   "cell_type": "code",
   "execution_count": 147,
   "metadata": {},
   "outputs": [
    {
     "data": {
      "text/plain": [
       "0.5i χ0 χ5 -0.5i χ1 χ4 +0.5i χ2 χ7 -0.5i χ3 χ6 +0.5i χ4 χ9 -0.5i χ5 χ8 +0.5i χ6 χ11 -0.5i χ7 χ10 -0.5i χ1 χ8 +0.5i χ0 χ9 -0.5i χ3 χ10 +0.5i χ2 χ11 +0.75 I +0.25i χ2 χ3 +0.25i χ0 χ1 -0.25 χ0 χ1 χ2 χ3 +0.25i χ6 χ7 +0.25i χ4 χ5 -0.25 χ4 χ5 χ6 χ7 +0.25i χ10 χ11 +0.25i χ8 χ9 -0.25 χ8 χ9 χ10 χ11"
      ]
     },
     "execution_count": 147,
     "metadata": {},
     "output_type": "execute_result"
    }
   ],
   "source": [
    "L = 3\n",
    "H = sum(sum(cd(i,s) @ c((i+1)%L,s)+cd((i+1)%L,s) @ c(i,s) for s in [0,1]) for i in range(L)) \\\n",
    "    + sum(n(i,0) @ n(i,1) for i in range(L))\n",
    "H"
   ]
  },
  {
   "cell_type": "code",
   "execution_count": 151,
   "metadata": {},
   "outputs": [
    {
     "name": "stdout",
     "output_type": "stream",
     "text": [
      "113 ms ± 9.07 ms per loop (mean ± std. dev. of 7 runs, 1 loop each)\n"
     ]
    }
   ],
   "source": [
    "%timeit Krylov_simple(H, 10)"
   ]
  },
  {
   "cell_type": "code",
   "execution_count": 149,
   "metadata": {},
   "outputs": [
    {
     "name": "stdout",
     "output_type": "stream",
     "text": [
      " "
     ]
    },
    {
     "data": {
      "text/plain": [
       "         1245475 function calls in 0.724 seconds\n",
       "\n",
       "   Ordered by: internal time\n",
       "\n",
       "   ncalls  tottime  percall  cumtime  percall filename:lineno(function)\n",
       "    83050    0.239    0.000    0.319    0.000 operator.py:405(term_mul)\n",
       "    83050    0.161    0.000    0.172    0.000 operator.py:164(__iadd__)\n",
       "       10    0.137    0.014    0.691    0.069 operator.py:212(__matmul__)\n",
       "    83050    0.057    0.000    0.057    0.000 operator.py:104(__imul__)\n",
       "    83127    0.054    0.000    0.071    0.000 operator.py:391(__init__)\n",
       "    83127    0.017    0.000    0.017    0.000 operator.py:18(__init__)\n",
       "       19    0.011    0.001    0.012    0.001 operator.py:133(__add__)\n",
       "    93831    0.008    0.000    0.008    0.000 {built-in function abs}\n",
       "       28    0.006    0.000    0.006    0.000 operator.py:96(<dictcomp>)\n",
       "       19    0.006    0.000    0.006    0.000 operator.py:281(inner)\n",
       "   311533    0.006    0.000    0.006    0.000 {method 'append' of 'list' objects}\n",
       "      385    0.004    0.000    0.006    0.000 message.py:143(close)\n",
       "   320909    0.004    0.000    0.004    0.000 {built-in function len}\n",
       "        9    0.003    0.000    0.005    0.001 operator.py:310(norm)\n",
       "     6239    0.003    0.000    0.003    0.000 {method 'pop' of 'dict' objects}\n",
       "       19    0.002    0.000    0.002    0.000 operator.py:131(<dictcomp>)\n",
       "    83118    0.002    0.000    0.002    0.000 {built-in function isinstance}\n",
       "      770    0.001    0.000    0.002    0.000 attrsettr.py:16(__setattr__)\n",
       "     3783    0.001    0.000    0.001    0.000 operator.py:312(<genexpr>)\n",
       "      770    0.000    0.000    0.000    0.000 {method '__setattr__' of 'AttributeSetter' objects}\n",
       "        1    0.000    0.000    0.723    0.723 {built-in function exec}\n",
       "     7005    0.000    0.000    0.000    0.000 {method 'conjugate' of 'complex' objects}\n",
       "        1    0.000    0.000    0.000    0.000 {method 'disable' of '_lsprof.Profiler' objects}\n",
       "      385    0.000    0.000    0.000    0.000 {method 'mro' of 'type' objects}\n",
       "       19    0.000    0.000    0.000    0.000 {method 'copy' of 'dict' objects}\n",
       "      385    0.000    0.000    0.006    0.000 message.py:139(__del__)\n",
       "        1    0.000    0.000    0.723    0.723 1926418958.py:1(Krylov_simple)\n",
       "       47    0.000    0.000    0.000    0.000 {method 'items' of 'dict' objects}\n",
       "       28    0.000    0.000    0.007    0.000 operator.py:90(__mul__)\n",
       "      385    0.000    0.000    0.000    0.000 {built-in function getattr}\n",
       "       19    0.000    0.000    0.002    0.000 operator.py:129(__neg__)\n",
       "       19    0.000    0.000    0.014    0.001 operator.py:184(__sub__)\n",
       "      174    0.000    0.000    0.000    0.000 futures.py:90(__del__)\n",
       "       19    0.000    0.000    0.003    0.000 operator.py:98(__rmul__)\n",
       "        1    0.000    0.000    0.000    0.000 operator.py:366(unit)\n",
       "       16    0.000    0.000    0.000    0.000 ast.py:210(iter_fields)\n",
       "        9    0.000    0.000    0.004    0.000 operator.py:115(__truediv__)\n",
       "        2    0.000    0.000    0.000    0.000 {method 'conjugate' of 'int' objects}\n",
       "        2    0.000    0.000    0.000    0.000 <frozen importlib._bootstrap>:185(cb)\n",
       "       10    0.000    0.000    0.000    0.000 operator.py:353(zero)\n",
       "       38    0.000    0.000    0.000    0.000 _sqlite3.py:812(__del__)\n",
       "        9    0.000    0.000    0.000    0.000 {built-in function math.sqrt}\n",
       "       38    0.000    0.000    0.000    0.000 _sqlite3.py:1178(_reset)\n",
       "        1    0.000    0.000    0.723    0.723 <string>:1(<module>)\n",
       "        2    0.000    0.000    0.000    0.000 {built-in function _imp.acquire_lock}\n",
       "        2    0.000    0.000    0.000    0.000 {method 'get' of 'dict' objects}\n",
       "        9    0.000    0.000    0.000    0.000 {method 'values' of 'dict' objects}\n",
       "        2    0.000    0.000    0.000    0.000 {built-in function _imp.release_lock}"
      ]
     },
     "metadata": {},
     "output_type": "display_data"
    }
   ],
   "source": [
    "%prun Krylov_simple(H, 10)"
   ]
  },
  {
   "cell_type": "code",
   "execution_count": null,
   "metadata": {},
   "outputs": [],
   "source": []
  }
 ],
 "metadata": {
  "kernelspec": {
   "display_name": "PyPy 3 (ipykernel)",
   "language": "python",
   "name": "python3"
  },
  "language_info": {
   "codemirror_mode": {
    "name": "ipython",
    "version": 3
   },
   "file_extension": ".py",
   "mimetype": "text/x-python",
   "name": "python",
   "nbconvert_exporter": "python",
   "pygments_lexer": "ipython3",
   "version": "3.8.13"
  }
 },
 "nbformat": 4,
 "nbformat_minor": 4
}
