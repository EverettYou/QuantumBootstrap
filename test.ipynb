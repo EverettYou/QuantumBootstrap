{
 "cells": [
  {
   "cell_type": "code",
   "execution_count": 1,
   "metadata": {},
   "outputs": [],
   "source": [
    "import numpy\n",
    "import cvxpy\n",
    "import itertools"
   ]
  },
  {
   "cell_type": "markdown",
   "metadata": {},
   "source": [
    "# SDP Problem"
   ]
  },
  {
   "cell_type": "markdown",
   "metadata": {},
   "source": [
    "Using `cvxpy` to solve a semidefinite programing (SDP) problem.\n",
    "$$\\begin{split}&\\mathrm{min}\\;b^\\intercal x\\\\\n",
    "&\\mathrm{s.t.}\\;A_0+\\sum_{i}x_i A_i\\succeq 0\\end{split}$$\n",
    "The constraint matrices can be complex Hermitian matrices. "
   ]
  },
  {
   "cell_type": "code",
   "execution_count": 7,
   "metadata": {},
   "outputs": [
    {
     "name": "stdout",
     "output_type": "stream",
     "text": [
      "[[1.+0.j 0.+0.j]\n",
      " [0.+0.j 1.+0.j]] + [[ 0.+0.j -0.-1.j]\n",
      " [ 0.+1.j  0.+0.j]] * Promote(var104[0], (2, 2))\n",
      "The optimal value is -0.9999999703672325\n",
      "A solution x is\n",
      " [-0.99999997]\n"
     ]
    }
   ],
   "source": [
    "import numpy\n",
    "import cvxpy\n",
    "\n",
    "b = numpy.array([1.])\n",
    "As = numpy.array([[[1.,0.],[0.,1.]], [[0.,-1.j],[1.j,0.]]])\n",
    "\n",
    "n = b.shape[0]\n",
    "x = cvxpy.Variable(n)\n",
    "\n",
    "objective = x @ b\n",
    "A = As[0]\n",
    "for i in range(n):\n",
    "    A = A  As[i+1] * x[i]\n",
    "constraints = [A >> 0]\n",
    "print(A)\n",
    "\n",
    "problem = cvxpy.Problem(cvxpy.Minimize(objective), constraints)\n",
    "problem.solve()\n",
    "\n",
    "print(\"The optimal value is\", problem.value)\n",
    "print(\"A solution x is\\n\", x.value)"
   ]
  },
  {
   "cell_type": "code",
   "execution_count": 5,
   "metadata": {},
   "outputs": [
    {
     "data": {
      "text/plain": [
       "('1.17.2', '1.0.25')"
      ]
     },
     "execution_count": 5,
     "metadata": {},
     "output_type": "execute_result"
    }
   ],
   "source": [
    "numpy.__version__, cvxpy.__version__"
   ]
  },
  {
   "cell_type": "markdown",
   "metadata": {},
   "source": [
    "pack into a function."
   ]
  },
  {
   "cell_type": "code",
   "execution_count": 26,
   "metadata": {},
   "outputs": [
    {
     "data": {
      "text/plain": [
       "(-0.9999999703672325, array([-0.99999997]))"
      ]
     },
     "execution_count": 26,
     "metadata": {},
     "output_type": "execute_result"
    }
   ],
   "source": [
    "SDP(b, As)"
   ]
  },
  {
   "cell_type": "markdown",
   "metadata": {},
   "source": [
    "## Operator Array"
   ]
  },
  {
   "cell_type": "code",
   "execution_count": 33,
   "metadata": {},
   "outputs": [],
   "source": [
    "%run qboot"
   ]
  },
  {
   "cell_type": "code",
   "execution_count": 38,
   "metadata": {},
   "outputs": [
    {
     "data": {
      "text/plain": [
       "OperatorSpace([χ0, χ1, χ2, χ3])"
      ]
     },
     "execution_count": 38,
     "metadata": {},
     "output_type": "execute_result"
    }
   ],
   "source": [
    "s = OperatorSpace([maj(i) for i in range(4)])\n",
    "s"
   ]
  },
  {
   "cell_type": "code",
   "execution_count": 40,
   "metadata": {},
   "outputs": [
    {
     "data": {
      "text/plain": [
       "χ2"
      ]
     },
     "execution_count": 40,
     "metadata": {},
     "output_type": "execute_result"
    }
   ],
   "source": [
    "s.reconstruct(s.represent(maj(2)))"
   ]
  },
  {
   "cell_type": "code",
   "execution_count": 39,
   "metadata": {},
   "outputs": [
    {
     "data": {
      "text/plain": [
       "Operators([χ2, χ3])"
      ]
     },
     "execution_count": 39,
     "metadata": {},
     "output_type": "execute_result"
    }
   ],
   "source": [
    "s.reconstruct(s.represent([maj(2),maj(3)]))"
   ]
  },
  {
   "cell_type": "code",
   "execution_count": 25,
   "metadata": {},
   "outputs": [
    {
     "data": {
      "text/plain": [
       "Operators([χ0, χ1, χ2, χ3])"
      ]
     },
     "execution_count": 25,
     "metadata": {},
     "output_type": "execute_result"
    }
   ],
   "source": [
    "a = Operators([maj(i) for i in range(4)])\n",
    "a"
   ]
  },
  {
   "cell_type": "code",
   "execution_count": 26,
   "metadata": {},
   "outputs": [
    {
     "data": {
      "text/plain": [
       "(Operators([0.30 χ0, 0.30 χ1, 0.30 χ2, 0.30 χ3]),\n",
       " Operators([0.50 χ0, 0.50 χ1, 0.50 χ2, 0.50 χ3]))"
      ]
     },
     "execution_count": 26,
     "metadata": {},
     "output_type": "execute_result"
    }
   ],
   "source": [
    "0.3 * a, a * 0.5"
   ]
  },
  {
   "cell_type": "markdown",
   "metadata": {},
   "source": [
    "The cummutative multiplication of operators is defined to be the operator inner product $A * B = \\mathrm{Tr}(A B)$, this is the only way to define a meaningful cummutative multiplication for generally non-commutative operators."
   ]
  },
  {
   "cell_type": "code",
   "execution_count": 22,
   "metadata": {},
   "outputs": [
    {
     "data": {
      "text/plain": [
       "(0, 1)"
      ]
     },
     "execution_count": 22,
     "metadata": {},
     "output_type": "execute_result"
    }
   ],
   "source": [
    "maj() * maj(1), maj(1) * maj(1)"
   ]
  },
  {
   "cell_type": "code",
   "execution_count": 65,
   "metadata": {},
   "outputs": [
    {
     "data": {
      "text/plain": [
       "(array([0, 1, 0, 0], dtype=object), array([0, 1, 0, 0], dtype=object))"
      ]
     },
     "execution_count": 65,
     "metadata": {},
     "output_type": "execute_result"
    }
   ],
   "source": [
    "maj(1) * a, a * maj(1)"
   ]
  },
  {
   "cell_type": "code",
   "execution_count": 27,
   "metadata": {},
   "outputs": [
    {
     "data": {
      "text/plain": [
       "array([0. , 0.3, 0.2, 0. ])"
      ]
     },
     "execution_count": 27,
     "metadata": {},
     "output_type": "execute_result"
    }
   ],
   "source": [
    "a * (0.3*maj(1)+0.2*maj(2)) # use to perform operator representation"
   ]
  },
  {
   "cell_type": "code",
   "execution_count": 28,
   "metadata": {},
   "outputs": [
    {
     "data": {
      "text/plain": [
       "array([1., 1., 1., 1.])"
      ]
     },
     "execution_count": 28,
     "metadata": {},
     "output_type": "execute_result"
    }
   ],
   "source": [
    "a * a"
   ]
  },
  {
   "cell_type": "code",
   "execution_count": 29,
   "metadata": {},
   "outputs": [
    {
     "data": {
      "text/plain": [
       "(array([1., 1., 1., 1.]), array([1.+0.j, 1.+0.j, 1.+0.j, 1.+0.j]))"
      ]
     },
     "execution_count": 29,
     "metadata": {},
     "output_type": "execute_result"
    }
   ],
   "source": [
    "(a * a).astype(numpy.float), (a * a).astype(numpy.complex)"
   ]
  },
  {
   "cell_type": "code",
   "execution_count": 30,
   "metadata": {},
   "outputs": [
    {
     "data": {
      "text/plain": [
       "array([0, 1, 2, 3])"
      ]
     },
     "execution_count": 30,
     "metadata": {},
     "output_type": "execute_result"
    }
   ],
   "source": [
    "x = numpy.arange(4)\n",
    "x"
   ]
  },
  {
   "cell_type": "code",
   "execution_count": 31,
   "metadata": {},
   "outputs": [
    {
     "data": {
      "text/plain": [
       "(Operators([0, χ1, 2 χ2, 3 χ3]), Operators([0, χ1, 2 χ2, 3 χ3]))"
      ]
     },
     "execution_count": 31,
     "metadata": {},
     "output_type": "execute_result"
    }
   ],
   "source": [
    "x * a, a * x"
   ]
  },
  {
   "cell_type": "code",
   "execution_count": 32,
   "metadata": {},
   "outputs": [
    {
     "data": {
      "text/plain": [
       "(χ1 +2 χ2 +3 χ3, χ1 +2 χ2 +3 χ3)"
      ]
     },
     "execution_count": 32,
     "metadata": {},
     "output_type": "execute_result"
    }
   ],
   "source": [
    "x.dot(a), a.dot(x) # use for operator reconstruction"
   ]
  },
  {
   "cell_type": "code",
   "execution_count": 103,
   "metadata": {},
   "outputs": [
    {
     "data": {
      "text/plain": [
       "array([i χ0 χ1, i χ1 χ2, i χ2 χ3, i χ3 χ4], dtype=object)"
      ]
     },
     "execution_count": 103,
     "metadata": {},
     "output_type": "execute_result"
    }
   ],
   "source": [
    "b = numpy.array([maj(i,i+1).hermitianize() for i in range(4)])\n",
    "b"
   ]
  },
  {
   "cell_type": "code",
   "execution_count": 104,
   "metadata": {},
   "outputs": [
    {
     "data": {
      "text/plain": [
       "array([i χ0 χ1, i χ1 χ2, i χ2 χ3, i χ3 χ4], dtype=object)"
      ]
     },
     "execution_count": 104,
     "metadata": {},
     "output_type": "execute_result"
    }
   ],
   "source": [
    "b.conj()"
   ]
  },
  {
   "cell_type": "code",
   "execution_count": 105,
   "metadata": {},
   "outputs": [
    {
     "data": {
      "text/plain": [
       "i χ0 χ1 +i χ1 χ2 +i χ2 χ3 +i χ3 χ4"
      ]
     },
     "execution_count": 105,
     "metadata": {},
     "output_type": "execute_result"
    }
   ],
   "source": [
    "H = sum(1j*maj(i,i+1) for i in range(4))\n",
    "H"
   ]
  },
  {
   "cell_type": "code",
   "execution_count": 106,
   "metadata": {},
   "outputs": [
    {
     "data": {
      "text/plain": [
       "[-2i χ1, 2i χ0 -2i χ2, 2i χ1 -2i χ3, -2i χ4 +2i χ2]"
      ]
     },
     "execution_count": 106,
     "metadata": {},
     "output_type": "execute_result"
    }
   ],
   "source": [
    "[H.commutate(op) for op in a]"
   ]
  },
  {
   "cell_type": "code",
   "execution_count": 107,
   "metadata": {},
   "outputs": [
    {
     "data": {
      "text/plain": [
       "array([[I, - χ0 χ1, - χ0 χ2, - χ0 χ3],\n",
       "       [χ0 χ1, I, - χ1 χ2, - χ1 χ3],\n",
       "       [χ0 χ2, χ1 χ2, I, - χ2 χ3],\n",
       "       [χ0 χ3, χ1 χ3, χ2 χ3, I]], dtype=object)"
      ]
     },
     "execution_count": 107,
     "metadata": {},
     "output_type": "execute_result"
    }
   ],
   "source": [
    "mul_table = numpy.array([[op1 @ op2 for op1 in a] for op2 in a])\n",
    "mul_table"
   ]
  },
  {
   "cell_type": "code",
   "execution_count": 111,
   "metadata": {},
   "outputs": [
    {
     "data": {
      "text/plain": [
       "array([[[0, 1j, 0, 0],\n",
       "        [-1j, 0, 0, 0],\n",
       "        [0, 0, 0, 0],\n",
       "        [0, 0, 0, 0]],\n",
       "\n",
       "       [[0, 0, 0, 0],\n",
       "        [0, 0, 1j, 0],\n",
       "        [0, -1j, 0, 0],\n",
       "        [0, 0, 0, 0]],\n",
       "\n",
       "       [[0, 0, 0, 0],\n",
       "        [0, 0, 0, 0],\n",
       "        [0, 0, 0, 1j],\n",
       "        [0, 0, -1j, 0]],\n",
       "\n",
       "       [[0, 0, 0, 0],\n",
       "        [0, 0, 0, 0],\n",
       "        [0, 0, 0, 0],\n",
       "        [0, 0, 0, 0]]], dtype=object)"
      ]
     },
     "execution_count": 111,
     "metadata": {},
     "output_type": "execute_result"
    }
   ],
   "source": [
    "b.reshape(-1,1,1).conjugate() * mul_table.reshape(1,4,4)"
   ]
  },
  {
   "cell_type": "code",
   "execution_count": 132,
   "metadata": {},
   "outputs": [
    {
     "data": {
      "text/plain": [
       "array([I, -i χ0 χ1, -i χ0 χ2, -i χ0 χ3, i χ0 χ1, I, -i χ1 χ2, -i χ1 χ3,\n",
       "       i χ0 χ2, i χ1 χ2, I, -i χ2 χ3, i χ0 χ3, i χ1 χ3, i χ2 χ3, I],\n",
       "      dtype=object)"
      ]
     },
     "execution_count": 132,
     "metadata": {},
     "output_type": "execute_result"
    }
   ],
   "source": [
    "c = numpy.array([op.hermitianize() for op in mul_table.flat])\n",
    "c"
   ]
  },
  {
   "cell_type": "code",
   "execution_count": 136,
   "metadata": {},
   "outputs": [
    {
     "data": {
      "text/plain": [
       "array([χ0, χ1, χ2, χ3, I, -i χ0 χ1, -i χ0 χ2, -i χ0 χ3, i χ0 χ1, I,\n",
       "       -i χ1 χ2, -i χ1 χ3, i χ0 χ2, i χ1 χ2, I, -i χ2 χ3, i χ0 χ3,\n",
       "       i χ1 χ3, i χ2 χ3, I], dtype=object)"
      ]
     },
     "execution_count": 136,
     "metadata": {},
     "output_type": "execute_result"
    }
   ],
   "source": [
    "d = numpy.hstack([a,c])\n",
    "d"
   ]
  },
  {
   "cell_type": "code",
   "execution_count": 151,
   "metadata": {},
   "outputs": [],
   "source": [
    "gram = numpy.outer(d,d).astype(numpy.complex).real\n",
    "w, v = numpy.linalg.eigh(gram)"
   ]
  },
  {
   "cell_type": "code",
   "execution_count": 157,
   "metadata": {},
   "outputs": [
    {
     "data": {
      "text/plain": [
       "array([χ0, χ1, χ3, χ2, 1.41i χ1 χ2 -0.04i χ1 χ3, -1.41i χ2 χ3,\n",
       "       -i χ0 χ1 +i χ0 χ2, 1.41i χ0 χ3, 0.04i χ1 χ2 +1.41i χ1 χ3,\n",
       "       i χ0 χ1 +i χ0 χ2, 2 I], dtype=object)"
      ]
     },
     "execution_count": 157,
     "metadata": {},
     "output_type": "execute_result"
    }
   ],
   "source": [
    "d.dot(v[:,w > 1.e-10].round(10))"
   ]
  },
  {
   "cell_type": "code",
   "execution_count": 73,
   "metadata": {},
   "outputs": [],
   "source": [
    "%run qboot"
   ]
  },
  {
   "cell_type": "code",
   "execution_count": 74,
   "metadata": {},
   "outputs": [
    {
     "data": {
      "text/plain": [
       "[I,\n",
       " χ0,\n",
       " χ1,\n",
       " χ2,\n",
       " χ3]"
      ]
     },
     "execution_count": 74,
     "metadata": {},
     "output_type": "execute_result"
    }
   ],
   "source": [
    "ops = OperatorSpace(MajoranaOperator, numpy.array([maj()]+[maj(i) for i in range(4)]))\n",
    "ops"
   ]
  },
  {
   "cell_type": "code",
   "execution_count": 47,
   "metadata": {},
   "outputs": [
    {
     "data": {
      "text/plain": [
       "array([[[0.+0.j, 1.+0.j, 0.+0.j, 0.+0.j, 0.+0.j],\n",
       "        [0.+0.j, 0.+0.j, 1.+0.j, 0.+0.j, 0.+0.j]],\n",
       "\n",
       "       [[0.+0.j, 0.+0.j, 0.+0.j, 1.+0.j, 0.+0.j],\n",
       "        [0.+0.j, 0.+0.j, 0.+0.j, 0.+0.j, 1.+0.j]]])"
      ]
     },
     "execution_count": 47,
     "metadata": {},
     "output_type": "execute_result"
    }
   ],
   "source": [
    "x = ops.represent(numpy.array([[maj(0),maj(1)],[maj(2),maj(3)]]))\n",
    "x"
   ]
  },
  {
   "cell_type": "code",
   "execution_count": 48,
   "metadata": {},
   "outputs": [
    {
     "data": {
      "text/plain": [
       "array([[χ0, χ1],\n",
       "       [χ2, χ3]], dtype=object)"
      ]
     },
     "execution_count": 48,
     "metadata": {},
     "output_type": "execute_result"
    }
   ],
   "source": [
    "ops.reconstruct(x)"
   ]
  },
  {
   "cell_type": "code",
   "execution_count": 49,
   "metadata": {},
   "outputs": [
    {
     "data": {
      "text/plain": [
       "array([[[0.+0.j, 0.+0.j],\n",
       "        [0.+0.j, 0.+0.j]],\n",
       "\n",
       "       [[1.+0.j, 0.+0.j],\n",
       "        [0.+0.j, 0.+0.j]],\n",
       "\n",
       "       [[0.+0.j, 1.+0.j],\n",
       "        [0.+0.j, 0.+0.j]],\n",
       "\n",
       "       [[0.+0.j, 0.+0.j],\n",
       "        [1.+0.j, 0.+0.j]],\n",
       "\n",
       "       [[0.+0.j, 0.+0.j],\n",
       "        [0.+0.j, 1.+0.j]]])"
      ]
     },
     "execution_count": 49,
     "metadata": {},
     "output_type": "execute_result"
    }
   ],
   "source": [
    "x = ops.represent(numpy.array([[maj(0),maj(1)],[maj(2),maj(3)]]), axis=0)\n",
    "x"
   ]
  },
  {
   "cell_type": "code",
   "execution_count": 51,
   "metadata": {},
   "outputs": [
    {
     "data": {
      "text/plain": [
       "array([[χ0, χ1],\n",
       "       [χ2, χ3]], dtype=object)"
      ]
     },
     "execution_count": 51,
     "metadata": {},
     "output_type": "execute_result"
    }
   ],
   "source": [
    "ops.reconstruct(x, axis=0)"
   ]
  },
  {
   "cell_type": "code",
   "execution_count": 75,
   "metadata": {},
   "outputs": [
    {
     "data": {
      "text/plain": [
       "array([-1.67 I +0.16 χ0 +1.17 χ1 -1.41 χ2 -0.18 χ3,\n",
       "       -0.15 I +0.63 χ0 -0.95 χ1 -1.48 χ2 -1.93 χ3,\n",
       "       0.76 I -1.13 χ0 -1.21 χ1 +0.39 χ2 -0.30 χ3,\n",
       "       0.41 I -1.38 χ0 -0.75 χ1 -0.30 χ2 +1.18 χ3,\n",
       "       -0.17 I +1.04 χ0 +0.86 χ1 -0.89 χ2 -1.34 χ3,\n",
       "       -0.70 I +0.01 χ0 -2.07 χ1 +2.26 χ2 -0.67 χ3,\n",
       "       -0.41 I +1.23 χ0 +1.19 χ1 +1.16 χ2 -1.71 χ3,\n",
       "       1.50 I -0.36 χ0 +0.36 χ1 +0.87 χ2 +0.88 χ3,\n",
       "       0.43 I -0.42 χ0 +0.17 χ1 +0.58 χ2 -1.33 χ3,\n",
       "       0.20 I -0.57 χ0 +0.09 χ1 -0.13 χ2 +1.06 χ3], dtype=object)"
      ]
     },
     "execution_count": 75,
     "metadata": {},
     "output_type": "execute_result"
    }
   ],
   "source": [
    "basis = numpy.random.randn(10,5) @ ops.basis\n",
    "basis"
   ]
  },
  {
   "cell_type": "code",
   "execution_count": 76,
   "metadata": {},
   "outputs": [
    {
     "data": {
      "text/plain": [
       "[I,\n",
       " χ0,\n",
       " χ1,\n",
       " χ2,\n",
       " χ3]"
      ]
     },
     "execution_count": 76,
     "metadata": {},
     "output_type": "execute_result"
    }
   ],
   "source": [
    "ops.extend(basis)"
   ]
  },
  {
   "cell_type": "code",
   "execution_count": 63,
   "metadata": {},
   "outputs": [],
   "source": [
    "for i in range(len(basis)):\n",
    "    v = basis[i]\n",
    "    us = basis[:i]\n",
    "    u = v - (us.conjugate() * v) @ us\n",
    "    u_norm = u.norm()\n",
    "    if u_norm > 1.e-10:\n",
    "        basis[i] = u / u_norm\n",
    "    else:\n",
    "        basis[i] = zero()\n",
    "basis = basis[basis != 0]"
   ]
  },
  {
   "cell_type": "code",
   "execution_count": 70,
   "metadata": {},
   "outputs": [
    {
     "data": {
      "text/plain": [
       "array([0.07 I -0.03 χ0 -0.57 χ1 +0.09 χ2 +0.81 χ3,\n",
       "       0.32 I -0.53 χ0 -0.58 χ1 -0.33 χ2 -0.42 χ3,\n",
       "       -0.14 I -0.38 χ0 +0.42 χ1 -0.72 χ2 +0.37 χ3,\n",
       "       0.41 I -0.61 χ0 +0.38 χ1 +0.54 χ2 +0.14 χ3,\n",
       "       0.84 I +0.44 χ0 +0.15 χ1 -0.27 χ2 +0.08 χ3], dtype=object)"
      ]
     },
     "execution_count": 70,
     "metadata": {},
     "output_type": "execute_result"
    }
   ],
   "source": [
    "basis"
   ]
  },
  {
   "cell_type": "code",
   "execution_count": 72,
   "metadata": {},
   "outputs": [
    {
     "data": {
      "text/plain": [
       "array([[ 1.,  0.,  0., -0., -0.],\n",
       "       [ 0.,  1.,  0., -0., -0.],\n",
       "       [ 0.,  0.,  1.,  0.,  0.],\n",
       "       [-0., -0.,  0.,  1.,  0.],\n",
       "       [-0., -0.,  0.,  0.,  1.]])"
      ]
     },
     "execution_count": 72,
     "metadata": {},
     "output_type": "execute_result"
    }
   ],
   "source": [
    "(basis.conjugate().reshape(-1,1) @ basis.reshape(1,-1)).astype(numpy.double).round(10)"
   ]
  },
  {
   "cell_type": "code",
   "execution_count": 83,
   "metadata": {},
   "outputs": [
    {
     "data": {
      "text/plain": [
       "True"
      ]
     },
     "execution_count": 83,
     "metadata": {},
     "output_type": "execute_result"
    }
   ],
   "source": [
    "isinstance((maj(i) for i in range(2)), Iterable)"
   ]
  },
  {
   "cell_type": "code",
   "execution_count": 81,
   "metadata": {},
   "outputs": [
    {
     "data": {
      "text/plain": [
       "[1, 2]"
      ]
     },
     "execution_count": 81,
     "metadata": {},
     "output_type": "execute_result"
    }
   ],
   "source": [
    "list({1,2})"
   ]
  },
  {
   "cell_type": "code",
   "execution_count": 87,
   "metadata": {},
   "outputs": [],
   "source": [
    "outer = numpy.frompyfunc(lambda op1, op2: op1 @ op2, 2, 1).outer"
   ]
  },
  {
   "cell_type": "code",
   "execution_count": 89,
   "metadata": {},
   "outputs": [
    {
     "data": {
      "text/plain": [
       "array([[I, χ0, χ1, χ2, χ3],\n",
       "       [χ0, I, χ0 χ1, χ0 χ2, χ0 χ3],\n",
       "       [χ1, - χ0 χ1, I, χ1 χ2, χ1 χ3],\n",
       "       [χ2, - χ0 χ2, - χ1 χ2, I, χ2 χ3],\n",
       "       [χ3, - χ0 χ3, - χ1 χ3, - χ2 χ3, I]], dtype=object)"
      ]
     },
     "execution_count": 89,
     "metadata": {},
     "output_type": "execute_result"
    }
   ],
   "source": [
    "outer(ops.basis, ops.basis)"
   ]
  },
  {
   "cell_type": "code",
   "execution_count": 123,
   "metadata": {},
   "outputs": [],
   "source": [
    "%run qboot"
   ]
  },
  {
   "cell_type": "code",
   "execution_count": 124,
   "metadata": {},
   "outputs": [
    {
     "data": {
      "text/plain": [
       "Operators([I, χ0, χ1, χ2, χ3, χ0 χ1, χ1 χ2, χ2 χ3])"
      ]
     },
     "execution_count": 124,
     "metadata": {},
     "output_type": "execute_result"
    }
   ],
   "source": [
    "a = Operators([maj()]+[maj(i) for i in range(4)]+[maj(i,i+1) for i in range(3)])\n",
    "a"
   ]
  },
  {
   "cell_type": "code",
   "execution_count": 132,
   "metadata": {},
   "outputs": [
    {
     "data": {
      "text/plain": [
       "Operators([0.01 I, 0.01 χ0, 0.01 χ1, 0.01 χ2, 0.01 χ3, 0.01 χ0 χ1,\n",
       "           0.01 χ1 χ2, 0.01 χ2 χ3])"
      ]
     },
     "execution_count": 132,
     "metadata": {},
     "output_type": "execute_result"
    }
   ],
   "source": [
    "(0.01*a).round(2)"
   ]
  },
  {
   "cell_type": "code",
   "execution_count": 139,
   "metadata": {},
   "outputs": [
    {
     "data": {
      "text/plain": [
       "array([I, χ0, χ1, χ2, χ3, χ0 χ1, χ1 χ2, χ2 χ3, χ1 χ2 χ3], dtype=object)"
      ]
     },
     "execution_count": 139,
     "metadata": {},
     "output_type": "execute_result"
    }
   ],
   "source": [
    "numpy.tensordot(a, maj(1,2,3))"
   ]
  },
  {
   "cell_type": "code",
   "execution_count": 140,
   "metadata": {},
   "outputs": [
    {
     "data": {
      "text/plain": [
       "Operators([I, χ0, χ1, χ2, χ3, χ0 χ1, χ1 χ2, χ2 χ3])"
      ]
     },
     "execution_count": 140,
     "metadata": {},
     "output_type": "execute_result"
    }
   ],
   "source": [
    "a"
   ]
  },
  {
   "cell_type": "code",
   "execution_count": 138,
   "metadata": {},
   "outputs": [
    {
     "name": "stdout",
     "output_type": "stream",
     "text": [
      "0 χ0\n",
      "1 χ0\n"
     ]
    }
   ],
   "source": [
    "ops = Operators([[[maj(0)],[maj(0)]],[[maj(0)],[maj(0)]]])\n",
    "for i, op in enumerate(ops.flat[0:2]):\n",
    "    print(i, op)"
   ]
  },
  {
   "cell_type": "code",
   "execution_count": 102,
   "metadata": {},
   "outputs": [
    {
     "data": {
      "text/plain": [
       "'[χ0 χ1 χ2 χ3]'"
      ]
     },
     "execution_count": 102,
     "metadata": {},
     "output_type": "execute_result"
    }
   ],
   "source": [
    "numpy.array2string(numpy.array([maj(i) for i in range(4)]))"
   ]
  },
  {
   "cell_type": "code",
   "execution_count": 2,
   "metadata": {},
   "outputs": [],
   "source": [
    "import numpy"
   ]
  },
  {
   "cell_type": "code",
   "execution_count": 44,
   "metadata": {},
   "outputs": [],
   "source": [
    "class A():\n",
    "    def __init__(self, real, imag):\n",
    "        self._real = real\n",
    "        self._imag = imag\n",
    "        \n",
    "    def __repr__(self):\n",
    "        return repr((self._real, self._imag))\n",
    "    \n",
    "    @property\n",
    "    def H(self):\n",
    "        return self.conjugate()\n",
    "    \n",
    "    @property\n",
    "    def real(self):\n",
    "        return self._real\n",
    "        \n",
    "    def conjugate(self):\n",
    "        return A(self._real, -self._imag)"
   ]
  },
  {
   "cell_type": "code",
   "execution_count": 45,
   "metadata": {},
   "outputs": [
    {
     "data": {
      "text/plain": [
       "(1, (1, -2), (1, -2))"
      ]
     },
     "execution_count": 45,
     "metadata": {},
     "output_type": "execute_result"
    }
   ],
   "source": [
    "A(1,2).real, A(1,2).conjugate(), A(1,2).H"
   ]
  },
  {
   "cell_type": "code",
   "execution_count": 11,
   "metadata": {},
   "outputs": [
    {
     "data": {
      "text/plain": [
       "1"
      ]
     },
     "execution_count": 11,
     "metadata": {},
     "output_type": "execute_result"
    }
   ],
   "source": [
    "numpy.real(A(1,2))"
   ]
  },
  {
   "cell_type": "code",
   "execution_count": 12,
   "metadata": {},
   "outputs": [
    {
     "data": {
      "text/plain": [
       "array([(1, 2)], dtype=object)"
      ]
     },
     "execution_count": 12,
     "metadata": {},
     "output_type": "execute_result"
    }
   ],
   "source": [
    "numpy.array([A(1,2)]).real"
   ]
  },
  {
   "cell_type": "code",
   "execution_count": 13,
   "metadata": {},
   "outputs": [
    {
     "data": {
      "text/plain": [
       "array([(1, 2)], dtype=object)"
      ]
     },
     "execution_count": 13,
     "metadata": {},
     "output_type": "execute_result"
    }
   ],
   "source": [
    "numpy.real(numpy.array([A(1,2)]))"
   ]
  },
  {
   "cell_type": "code",
   "execution_count": 14,
   "metadata": {},
   "outputs": [
    {
     "data": {
      "text/plain": [
       "array([(1, -2)], dtype=object)"
      ]
     },
     "execution_count": 14,
     "metadata": {},
     "output_type": "execute_result"
    }
   ],
   "source": [
    "numpy.array([A(1,2)]).conjugate()"
   ]
  },
  {
   "cell_type": "code",
   "execution_count": 15,
   "metadata": {},
   "outputs": [
    {
     "ename": "AttributeError",
     "evalue": "'numpy.ndarray' object has no attribute 'H'",
     "output_type": "error",
     "traceback": [
      "\u001b[0;31m---------------------------------------------------------------------------\u001b[0m",
      "\u001b[0;31mAttributeError\u001b[0m                            Traceback (most recent call last)",
      "\u001b[0;32m<ipython-input-15-c12f4a47ada6>\u001b[0m in \u001b[0;36m<module>\u001b[0;34m\u001b[0m\n\u001b[0;32m----> 1\u001b[0;31m \u001b[0mnumpy\u001b[0m\u001b[0;34m.\u001b[0m\u001b[0marray\u001b[0m\u001b[0;34m(\u001b[0m\u001b[0;34m[\u001b[0m\u001b[0mA\u001b[0m\u001b[0;34m(\u001b[0m\u001b[0;36m1\u001b[0m\u001b[0;34m,\u001b[0m\u001b[0;36m2\u001b[0m\u001b[0;34m)\u001b[0m\u001b[0;34m]\u001b[0m\u001b[0;34m)\u001b[0m\u001b[0;34m.\u001b[0m\u001b[0mH\u001b[0m\u001b[0;34m\u001b[0m\u001b[0;34m\u001b[0m\u001b[0m\n\u001b[0m",
      "\u001b[0;31mAttributeError\u001b[0m: 'numpy.ndarray' object has no attribute 'H'"
     ]
    }
   ],
   "source": [
    "numpy.array([A(1,2)]).H"
   ]
  },
  {
   "cell_type": "code",
   "execution_count": 67,
   "metadata": {},
   "outputs": [],
   "source": [
    "class As(numpy.ndarray):\n",
    "    def __new__(cls, input_array):\n",
    "        obj = numpy.asarray(input_array).view(cls)\n",
    "        return obj\n",
    "    \n",
    "    @property\n",
    "    def real(self):\n",
    "        return numpy.frompyfunc(lambda x: x.real,1,1)(self)\n",
    "    \n",
    "    @property\n",
    "    def imag(self):\n",
    "        return numpy.frompyfunc(lambda x: x.imag,1,1)(self)"
   ]
  },
  {
   "cell_type": "code",
   "execution_count": 68,
   "metadata": {},
   "outputs": [
    {
     "data": {
      "text/plain": [
       "As((1, 2), dtype=object)"
      ]
     },
     "execution_count": 68,
     "metadata": {},
     "output_type": "execute_result"
    }
   ],
   "source": [
    "As(A(1,2))"
   ]
  },
  {
   "cell_type": "code",
   "execution_count": 70,
   "metadata": {},
   "outputs": [
    {
     "data": {
      "text/plain": [
       "(As([1], dtype=object), As([(1, -2)], dtype=object))"
      ]
     },
     "execution_count": 70,
     "metadata": {},
     "output_type": "execute_result"
    }
   ],
   "source": [
    "As([A(1,2)]).real, As([A(1,2)]).conjugate()"
   ]
  },
  {
   "cell_type": "code",
   "execution_count": 66,
   "metadata": {},
   "outputs": [
    {
     "data": {
      "text/plain": [
       "dtype('float64')"
      ]
     },
     "execution_count": 66,
     "metadata": {},
     "output_type": "execute_result"
    }
   ],
   "source": [
    "numpy.dtype(numpy.float)"
   ]
  },
  {
   "cell_type": "code",
   "execution_count": 73,
   "metadata": {},
   "outputs": [
    {
     "data": {
      "text/plain": [
       "array([0, 1, 2, 3])"
      ]
     },
     "execution_count": 73,
     "metadata": {},
     "output_type": "execute_result"
    }
   ],
   "source": [
    "numpy.asarray([i for i in range(4)])"
   ]
  },
  {
   "cell_type": "code",
   "execution_count": 41,
   "metadata": {},
   "outputs": [],
   "source": [
    "%run qboot"
   ]
  },
  {
   "cell_type": "code",
   "execution_count": 42,
   "metadata": {},
   "outputs": [
    {
     "data": {
      "text/plain": [
       "OperatorSpace([I, χ1])"
      ]
     },
     "execution_count": 42,
     "metadata": {},
     "output_type": "execute_result"
    }
   ],
   "source": [
    "ops = OperatorSpace([maj(),maj(1)])\n",
    "ops"
   ]
  },
  {
   "cell_type": "code",
   "execution_count": 43,
   "metadata": {},
   "outputs": [
    {
     "data": {
      "text/plain": [
       "array([1., 0.])"
      ]
     },
     "execution_count": 43,
     "metadata": {},
     "output_type": "execute_result"
    }
   ],
   "source": [
    "ops.represent(maj())"
   ]
  },
  {
   "cell_type": "code",
   "execution_count": 44,
   "metadata": {},
   "outputs": [
    {
     "data": {
      "text/plain": [
       "OperatorSpace([ True, False])"
      ]
     },
     "execution_count": 44,
     "metadata": {},
     "output_type": "execute_result"
    }
   ],
   "source": [
    "ops == 1"
   ]
  },
  {
   "cell_type": "code",
   "execution_count": 45,
   "metadata": {},
   "outputs": [
    {
     "data": {
      "text/plain": [
       "OperatorSpace([False,  True])"
      ]
     },
     "execution_count": 45,
     "metadata": {},
     "output_type": "execute_result"
    }
   ],
   "source": [
    "ops != 1"
   ]
  },
  {
   "cell_type": "code",
   "execution_count": 46,
   "metadata": {},
   "outputs": [
    {
     "data": {
      "text/plain": [
       "I"
      ]
     },
     "execution_count": 46,
     "metadata": {},
     "output_type": "execute_result"
    }
   ],
   "source": [
    "ops.identity"
   ]
  },
  {
   "cell_type": "code",
   "execution_count": 47,
   "metadata": {},
   "outputs": [
    {
     "data": {
      "text/plain": [
       "OperatorSpace([χ1])"
      ]
     },
     "execution_count": 47,
     "metadata": {},
     "output_type": "execute_result"
    }
   ],
   "source": [
    "ops.nonidentities"
   ]
  },
  {
   "cell_type": "code",
   "execution_count": 59,
   "metadata": {},
   "outputs": [],
   "source": [
    "%run qboot"
   ]
  },
  {
   "cell_type": "code",
   "execution_count": 110,
   "metadata": {},
   "outputs": [
    {
     "data": {
      "text/plain": [
       "(Operators([χ1, χ2]), (2,))"
      ]
     },
     "execution_count": 110,
     "metadata": {},
     "output_type": "execute_result"
    }
   ],
   "source": [
    "us = Operators([maj(1),maj(2)])\n",
    "us, us.shape"
   ]
  },
  {
   "cell_type": "code",
   "execution_count": 111,
   "metadata": {},
   "outputs": [
    {
     "data": {
      "text/plain": [
       "array([1., 0.])"
      ]
     },
     "execution_count": 111,
     "metadata": {},
     "output_type": "execute_result"
    }
   ],
   "source": [
    "us.H * maj(1)"
   ]
  },
  {
   "cell_type": "code",
   "execution_count": 112,
   "metadata": {},
   "outputs": [
    {
     "data": {
      "text/plain": [
       "(χ1, χ1)"
      ]
     },
     "execution_count": 112,
     "metadata": {},
     "output_type": "execute_result"
    }
   ],
   "source": [
    "us.dot(us.H * maj(1)), (us.H * maj(1)).dot(us)"
   ]
  },
  {
   "cell_type": "code",
   "execution_count": 113,
   "metadata": {},
   "outputs": [
    {
     "data": {
      "text/plain": [
       "(χ1, Operators(χ1))"
      ]
     },
     "execution_count": 113,
     "metadata": {},
     "output_type": "execute_result"
    }
   ],
   "source": [
    "us @ (us.H * maj(1)), (us.H * maj(1)) @ us"
   ]
  },
  {
   "cell_type": "code",
   "execution_count": 114,
   "metadata": {},
   "outputs": [
    {
     "data": {
      "text/plain": [
       "array(χ1, dtype=object)"
      ]
     },
     "execution_count": 114,
     "metadata": {},
     "output_type": "execute_result"
    }
   ],
   "source": [
    "numpy.tensordot(us, us.H * maj(1), axes=([0],[0]))"
   ]
  },
  {
   "cell_type": "code",
   "execution_count": 105,
   "metadata": {},
   "outputs": [
    {
     "data": {
      "text/plain": [
       "(Operators([]), (0,))"
      ]
     },
     "execution_count": 105,
     "metadata": {},
     "output_type": "execute_result"
    }
   ],
   "source": [
    "us = Operators([maj(1),maj(2)])[:0]\n",
    "us, us.shape"
   ]
  },
  {
   "cell_type": "code",
   "execution_count": 106,
   "metadata": {},
   "outputs": [
    {
     "data": {
      "text/plain": [
       "array([], dtype=float64)"
      ]
     },
     "execution_count": 106,
     "metadata": {},
     "output_type": "execute_result"
    }
   ],
   "source": [
    "us.H * maj(1)"
   ]
  },
  {
   "cell_type": "code",
   "execution_count": 107,
   "metadata": {},
   "outputs": [
    {
     "data": {
      "text/plain": [
       "(None, None)"
      ]
     },
     "execution_count": 107,
     "metadata": {},
     "output_type": "execute_result"
    }
   ],
   "source": [
    "us.dot(us.H * maj(1)), (us.H * maj(1)).dot(us)"
   ]
  },
  {
   "cell_type": "code",
   "execution_count": 108,
   "metadata": {},
   "outputs": [
    {
     "data": {
      "text/plain": [
       "(0, Operators(0))"
      ]
     },
     "execution_count": 108,
     "metadata": {},
     "output_type": "execute_result"
    }
   ],
   "source": [
    "us @ (us.H * maj(1)), (us.H * maj(1)) @ us"
   ]
  },
  {
   "cell_type": "code",
   "execution_count": 109,
   "metadata": {},
   "outputs": [
    {
     "data": {
      "text/plain": [
       "array(None, dtype=object)"
      ]
     },
     "execution_count": 109,
     "metadata": {},
     "output_type": "execute_result"
    }
   ],
   "source": [
    "numpy.tensordot(us, us.H * maj(1), axes=([0],[0]))"
   ]
  },
  {
   "cell_type": "code",
   "execution_count": 89,
   "metadata": {},
   "outputs": [
    {
     "data": {
      "text/plain": [
       "(Operators([]), (0,))"
      ]
     },
     "execution_count": 89,
     "metadata": {},
     "output_type": "execute_result"
    }
   ],
   "source": [
    "us = Operators([])\n",
    "us, us.shape"
   ]
  },
  {
   "cell_type": "code",
   "execution_count": 90,
   "metadata": {},
   "outputs": [
    {
     "data": {
      "text/plain": [
       "array([], dtype=float64)"
      ]
     },
     "execution_count": 90,
     "metadata": {},
     "output_type": "execute_result"
    }
   ],
   "source": [
    "us.H * maj(1)"
   ]
  },
  {
   "cell_type": "code",
   "execution_count": 84,
   "metadata": {},
   "outputs": [
    {
     "data": {
      "text/plain": [
       "(0.0, 0.0)"
      ]
     },
     "execution_count": 84,
     "metadata": {},
     "output_type": "execute_result"
    }
   ],
   "source": [
    "us.dot(us.H * maj(1)), (us.H * maj(1)).dot(us)"
   ]
  },
  {
   "cell_type": "code",
   "execution_count": 85,
   "metadata": {},
   "outputs": [
    {
     "data": {
      "text/plain": [
       "(0.0, Operators(0.))"
      ]
     },
     "execution_count": 85,
     "metadata": {},
     "output_type": "execute_result"
    }
   ],
   "source": [
    "us @ (us.H * maj(1)), (us.H * maj(1)) @ us"
   ]
  },
  {
   "cell_type": "code",
   "execution_count": 86,
   "metadata": {},
   "outputs": [
    {
     "data": {
      "text/plain": [
       "array(0.)"
      ]
     },
     "execution_count": 86,
     "metadata": {},
     "output_type": "execute_result"
    }
   ],
   "source": [
    "numpy.tensordot(us, us.H * maj(1), axes=([0],[0]))"
   ]
  },
  {
   "cell_type": "code",
   "execution_count": 88,
   "metadata": {},
   "outputs": [
    {
     "data": {
      "text/plain": [
       "0"
      ]
     },
     "execution_count": 88,
     "metadata": {},
     "output_type": "execute_result"
    }
   ],
   "source": [
    "x = numpy.array([1,2,3])[:0]\n",
    "x.dot(x)"
   ]
  },
  {
   "cell_type": "code",
   "execution_count": 93,
   "metadata": {},
   "outputs": [
    {
     "data": {
      "text/plain": [
       "0"
      ]
     },
     "execution_count": 93,
     "metadata": {},
     "output_type": "execute_result"
    }
   ],
   "source": [
    "us.size"
   ]
  },
  {
   "cell_type": "code",
   "execution_count": 13,
   "metadata": {},
   "outputs": [
    {
     "data": {
      "text/plain": [
       "(1, 2)"
      ]
     },
     "execution_count": 13,
     "metadata": {},
     "output_type": "execute_result"
    }
   ],
   "source": [
    "class A():\n",
    "    _a = 0\n",
    "    def put(self, a):\n",
    "        self._a = a\n",
    "        \n",
    "    def get(self):\n",
    "        return self._a\n",
    "\n",
    "x = A()\n",
    "y = A()\n",
    "x.put(1)\n",
    "y.put(2)\n",
    "x.get(), y.get()"
   ]
  },
  {
   "cell_type": "code",
   "execution_count": 19,
   "metadata": {},
   "outputs": [
    {
     "data": {
      "text/plain": [
       "{}"
      ]
     },
     "execution_count": 19,
     "metadata": {},
     "output_type": "execute_result"
    }
   ],
   "source": [
    "x=A()\n",
    "x.__dict__"
   ]
  },
  {
   "cell_type": "code",
   "execution_count": 35,
   "metadata": {},
   "outputs": [],
   "source": [
    "%run qboot"
   ]
  },
  {
   "cell_type": "code",
   "execution_count": 36,
   "metadata": {},
   "outputs": [],
   "source": [
    "x = maj(1,2)\n",
    "y = maj(2,3)\n",
    "z = x + y"
   ]
  },
  {
   "cell_type": "code",
   "execution_count": 37,
   "metadata": {},
   "outputs": [
    {
     "data": {
      "text/plain": [
       "(χ1 χ2, χ2 χ3, χ1 χ2 + χ2 χ3)"
      ]
     },
     "execution_count": 37,
     "metadata": {},
     "output_type": "execute_result"
    }
   ],
   "source": [
    "x, y, z"
   ]
  },
  {
   "cell_type": "code",
   "execution_count": null,
   "metadata": {},
   "outputs": [],
   "source": []
  },
  {
   "cell_type": "code",
   "execution_count": 185,
   "metadata": {},
   "outputs": [],
   "source": [
    "%run qboot"
   ]
  },
  {
   "cell_type": "code",
   "execution_count": 186,
   "metadata": {},
   "outputs": [
    {
     "data": {
      "text/plain": [
       "Operators([0.88 χ0 +0.38 χ1 +1.03 χ2 +1.41 χ3,\n",
       "           -0.59 χ0 +0.23 χ1 -1.63 χ2 -1.80 χ3,\n",
       "           1.67 χ0 -1.40 χ1 -1.18 χ2 -0.55 χ3,\n",
       "           -0.16 χ0 +1.73 χ1 +1.46 χ2 -0.40 χ3,\n",
       "           -0.73 χ0 -1.16 χ1 +0.56 χ2 +1.87 χ3,\n",
       "           1.43 χ0 -0.06 χ1 -0.26 χ2 -1.49 χ3,\n",
       "           0.45 χ0 -0.25 χ1 -1.45 χ2 -0.00 χ3,\n",
       "           -0.65 χ0 -0.57 χ1 +2.50 χ2 +0.20 χ3])"
      ]
     },
     "execution_count": 186,
     "metadata": {},
     "output_type": "execute_result"
    }
   ],
   "source": [
    "ops = numpy.random.randn(8,4)@Operators([maj(i) for i in range(4)])\n",
    "ops"
   ]
  },
  {
   "cell_type": "code",
   "execution_count": 187,
   "metadata": {},
   "outputs": [
    {
     "data": {
      "text/plain": [
       "OperatorSpace([-0.27 χ0 +0.09 χ1 +0.79 χ2 +0.54 χ3,\n",
       "               -0.19 χ0 +0.70 χ1 +0.29 χ2 -0.63 χ3,\n",
       "               0.90 χ0 -0.06 χ1 +0.41 χ2 -0.14 χ3,\n",
       "               0.29 χ0 +0.71 χ1 -0.34 χ2 +0.54 χ3])"
      ]
     },
     "execution_count": 187,
     "metadata": {},
     "output_type": "execute_result"
    }
   ],
   "source": [
    "ops = ops.orth()\n",
    "ops"
   ]
  },
  {
   "cell_type": "code",
   "execution_count": 191,
   "metadata": {},
   "outputs": [
    {
     "data": {
      "text/plain": [
       "array([ 0.0865134 +0.j,  0.69501108+0.j, -0.05610874+0.j,  0.71156647+0.j])"
      ]
     },
     "execution_count": 191,
     "metadata": {},
     "output_type": "execute_result"
    }
   ],
   "source": [
    "ops.inner(maj(1))"
   ]
  },
  {
   "cell_type": "code",
   "execution_count": 188,
   "metadata": {},
   "outputs": [
    {
     "data": {
      "text/plain": [
       "array([[ 1.+0.j,  0.+0.j,  0.+0.j, -0.+0.j],\n",
       "       [ 0.+0.j,  1.+0.j, -0.+0.j, -0.+0.j],\n",
       "       [ 0.+0.j, -0.+0.j,  1.+0.j, -0.+0.j],\n",
       "       [-0.+0.j, -0.+0.j, -0.+0.j,  1.+0.j]])"
      ]
     },
     "execution_count": 188,
     "metadata": {},
     "output_type": "execute_result"
    }
   ],
   "source": [
    "(ops.reshape(-1,1).inner(ops.reshape(1,-1))).round(10)"
   ]
  },
  {
   "cell_type": "code",
   "execution_count": 189,
   "metadata": {},
   "outputs": [
    {
     "data": {
      "text/plain": [
       "Operators([[1.00 I,\n",
       "            -0.17 χ0 χ1 +0.07 χ0 χ2 +0.27 χ0 χ3 -0.53 χ1 χ2 -0.43 χ1 χ3 -0.66 χ2 χ3,\n",
       "            -0.06 χ0 χ1 -0.83 χ0 χ2 -0.44 χ0 χ3 +0.08 χ1 χ2 +0.02 χ1 χ3 -0.33 χ2 χ3,\n",
       "            -0.22 χ0 χ1 -0.13 χ0 χ2 -0.30 χ0 χ3 -0.60 χ1 χ2 -0.33 χ1 χ3 +0.61 χ2 χ3],\n",
       "           [0.17 χ0 χ1 -0.07 χ0 χ2 -0.27 χ0 χ3 +0.53 χ1 χ2 +0.43 χ1 χ3 +0.66 χ2 χ3,\n",
       "            1.00 I,\n",
       "            -0.61 χ0 χ1 -0.33 χ0 χ2 +0.60 χ0 χ3 +0.30 χ1 χ2 -0.13 χ1 χ3 +0.22 χ2 χ3,\n",
       "            -0.33 χ0 χ1 -0.02 χ0 χ2 +0.08 χ0 χ3 -0.44 χ1 χ2 +0.83 χ1 χ3 -0.06 χ2 χ3],\n",
       "           [0.06 χ0 χ1 +0.83 χ0 χ2 +0.44 χ0 χ3 -0.08 χ1 χ2 -0.02 χ1 χ3 +0.33 χ2 χ3,\n",
       "            0.61 χ0 χ1 +0.33 χ0 χ2 -0.60 χ0 χ3 -0.30 χ1 χ2 +0.13 χ1 χ3 -0.22 χ2 χ3,\n",
       "            1.00 I,\n",
       "            0.66 χ0 χ1 -0.43 χ0 χ2 +0.53 χ0 χ3 -0.27 χ1 χ2 +0.07 χ1 χ3 +0.17 χ2 χ3],\n",
       "           [0.22 χ0 χ1 +0.13 χ0 χ2 +0.30 χ0 χ3 +0.60 χ1 χ2 +0.33 χ1 χ3 -0.61 χ2 χ3,\n",
       "            0.33 χ0 χ1 +0.02 χ0 χ2 -0.08 χ0 χ3 +0.44 χ1 χ2 -0.83 χ1 χ3 +0.06 χ2 χ3,\n",
       "            -0.66 χ0 χ1 +0.43 χ0 χ2 -0.53 χ0 χ3 +0.27 χ1 χ2 -0.07 χ1 χ3 -0.17 χ2 χ3,\n",
       "            I]])"
      ]
     },
     "execution_count": 189,
     "metadata": {},
     "output_type": "execute_result"
    }
   ],
   "source": [
    "ops.outer(ops)"
   ]
  },
  {
   "cell_type": "code",
   "execution_count": 153,
   "metadata": {},
   "outputs": [
    {
     "name": "stdout",
     "output_type": "stream",
     "text": [
      "The snakeviz extension is already loaded. To reload it, use:\n",
      "  %reload_ext snakeviz\n"
     ]
    }
   ],
   "source": [
    "%load_ext snakeviz"
   ]
  },
  {
   "cell_type": "code",
   "execution_count": 171,
   "metadata": {},
   "outputs": [],
   "source": [
    "%run qboot"
   ]
  },
  {
   "cell_type": "code",
   "execution_count": 172,
   "metadata": {},
   "outputs": [
    {
     "data": {
      "text/plain": [
       "21"
      ]
     },
     "execution_count": 172,
     "metadata": {},
     "output_type": "execute_result"
    }
   ],
   "source": [
    "from itertools import combinations\n",
    "def c(a):\n",
    "    return (maj(2*a) + 1j*maj(2*a+1))/2\n",
    "basis = [maj()]\n",
    "for n in range(1,3):\n",
    "    for comb in combinations(range(4),n):\n",
    "        op = opprod([c(i) for i in comb])\n",
    "        basis.append(op.real)\n",
    "        basis.append(op.imag)\n",
    "base = OperatorSpace(basis).orth()\n",
    "base.size"
   ]
  },
  {
   "cell_type": "code",
   "execution_count": 173,
   "metadata": {},
   "outputs": [
    {
     "data": {
      "text/plain": [
       "194481"
      ]
     },
     "execution_count": 173,
     "metadata": {},
     "output_type": "execute_result"
    }
   ],
   "source": [
    "ope = base.outer(base)\n",
    "ope.size **2"
   ]
  },
  {
   "cell_type": "code",
   "execution_count": 183,
   "metadata": {},
   "outputs": [
    {
     "data": {
      "text/plain": [
       "OperatorSpace([I, χ2, χ3, χ4, χ5, χ6, χ7, χ0, χ1,\n",
       "               0.71i χ2 χ6 -0.71i χ3 χ7, -0.71i χ4 χ7 -0.71i χ5 χ6,\n",
       "               0.71i χ4 χ6 -0.71i χ5 χ7, 0.71i χ0 χ2 -0.71i χ1 χ3,\n",
       "               -0.71i χ0 χ5 -0.71i χ1 χ4, 0.71i χ0 χ4 -0.71i χ1 χ5,\n",
       "               -0.71i χ0 χ7 -0.71i χ1 χ6, 0.71i χ0 χ6 -0.71i χ1 χ7,\n",
       "               -0.71i χ2 χ5 -0.71i χ3 χ4, 0.71i χ2 χ4 -0.71i χ3 χ5,\n",
       "               -0.71i χ2 χ7 -0.71i χ3 χ6,\n",
       "               -0.71i χ0 χ3 +(0.00-0.71i) χ1 χ2])"
      ]
     },
     "execution_count": 183,
     "metadata": {},
     "output_type": "execute_result"
    }
   ],
   "source": [
    "base"
   ]
  },
  {
   "cell_type": "code",
   "execution_count": 174,
   "metadata": {},
   "outputs": [
    {
     "name": "stdout",
     "output_type": "stream",
     "text": [
      " \n",
      "*** Profile stats marshalled to file '/var/folders/1m/3nz1kxmj2mgb2s2gwq2ndxqh0000gn/T/tmpzax5jese'. \n",
      "Embedding SnakeViz in this document...\n"
     ]
    },
    {
     "data": {
      "text/html": [
       "\n",
       "<iframe id='snakeviz-048f4104-9e72-11ec-a8c0-f40f242280ab' frameborder=0 seamless width='100%' height='1000'></iframe>\n",
       "<script>document.getElementById(\"snakeviz-048f4104-9e72-11ec-a8c0-f40f242280ab\").setAttribute(\"src\", \"http://\" + document.location.hostname + \":8080/snakeviz/%2Fvar%2Ffolders%2F1m%2F3nz1kxmj2mgb2s2gwq2ndxqh0000gn%2FT%2Ftmpzax5jese\")</script>\n"
      ],
      "text/plain": [
       "<IPython.core.display.HTML object>"
      ]
     },
     "metadata": {},
     "output_type": "display_data"
    }
   ],
   "source": [
    "%snakeviz (ope.orth());"
   ]
  },
  {
   "cell_type": "code",
   "execution_count": null,
   "metadata": {},
   "outputs": [],
   "source": []
  },
  {
   "cell_type": "code",
   "execution_count": 146,
   "metadata": {},
   "outputs": [
    {
     "data": {
      "text/plain": [
       "OperatorSpace([I, X0, Y0, Z0])"
      ]
     },
     "execution_count": 146,
     "metadata": {},
     "output_type": "execute_result"
    }
   ],
   "source": [
    "ops = OperatorSpace([pauli(i) for i in range(4)])\n",
    "ops"
   ]
  },
  {
   "cell_type": "code",
   "execution_count": 148,
   "metadata": {},
   "outputs": [
    {
     "data": {
      "text/plain": [
       "Operators([[I, X0, Y0, Z0],\n",
       "           [X0, I, i Z0, -i Y0],\n",
       "           [Y0, -i Z0, I, i X0],\n",
       "           [Z0, i Y0, -i X0, I]])"
      ]
     },
     "execution_count": 148,
     "metadata": {},
     "output_type": "execute_result"
    }
   ],
   "source": [
    "ope = ops.outer(ops)\n",
    "ope"
   ]
  },
  {
   "cell_type": "code",
   "execution_count": 156,
   "metadata": {},
   "outputs": [
    {
     "data": {
      "text/plain": [
       "array([[[1.+0.j, 0.+0.j, 0.+0.j, 0.+0.j],\n",
       "        [0.+0.j, 1.+0.j, 0.+0.j, 0.+0.j],\n",
       "        [0.+0.j, 0.+0.j, 1.+0.j, 0.+0.j],\n",
       "        [0.+0.j, 0.+0.j, 0.+0.j, 1.+0.j]],\n",
       "\n",
       "       [[0.+0.j, 1.+0.j, 0.+0.j, 0.+0.j],\n",
       "        [1.+0.j, 0.+0.j, 0.+0.j, 0.+0.j],\n",
       "        [0.+0.j, 0.+0.j, 0.+0.j, 0.+1.j],\n",
       "        [0.+0.j, 0.+0.j, 0.-1.j, 0.+0.j]],\n",
       "\n",
       "       [[0.+0.j, 0.+0.j, 1.+0.j, 0.+0.j],\n",
       "        [0.+0.j, 0.+0.j, 0.+0.j, 0.-1.j],\n",
       "        [1.+0.j, 0.+0.j, 0.+0.j, 0.+0.j],\n",
       "        [0.+0.j, 0.+1.j, 0.+0.j, 0.+0.j]],\n",
       "\n",
       "       [[0.+0.j, 0.+0.j, 0.+0.j, 1.+0.j],\n",
       "        [0.+0.j, 0.+0.j, 0.+1.j, 0.+0.j],\n",
       "        [0.+0.j, 0.-1.j, 0.+0.j, 0.+0.j],\n",
       "        [1.+0.j, 0.+0.j, 0.+0.j, 0.+0.j]]])"
      ]
     },
     "execution_count": 156,
     "metadata": {},
     "output_type": "execute_result"
    }
   ],
   "source": [
    "As = ops.represent(ope, axis=0)\n",
    "As"
   ]
  },
  {
   "cell_type": "code",
   "execution_count": 51,
   "metadata": {},
   "outputs": [
    {
     "data": {
      "text/plain": [
       "[]"
      ]
     },
     "execution_count": 51,
     "metadata": {},
     "output_type": "execute_result"
    }
   ],
   "source": [
    "from itertools import combinations\n",
    "list(combinations([1,2,3,4],6))"
   ]
  },
  {
   "cell_type": "code",
   "execution_count": 1,
   "metadata": {},
   "outputs": [
    {
     "ename": "ModuleNotFoundError",
     "evalue": "No module named 'numpy'",
     "output_type": "error",
     "traceback": [
      "\u001b[0;31m---------------------------------------------------------------------------\u001b[0m",
      "\u001b[0;31mModuleNotFoundError\u001b[0m                       Traceback (most recent call last)",
      "File \u001b[0;32m~/Dropbox (Personal)/Projects/[You]Bootstrap/QuantumBootstrap/qboot.py:1\u001b[0m, in \u001b[0;36m<module>\u001b[0;34m\u001b[0m\n\u001b[0;32m----> 1\u001b[0m \u001b[38;5;28;01mimport\u001b[39;00m \u001b[38;5;21;01mnumpy\u001b[39;00m\n\u001b[1;32m      2\u001b[0m \u001b[38;5;28;01mimport\u001b[39;00m \u001b[38;5;21;01mscipy\u001b[39;00m\n\u001b[1;32m      3\u001b[0m \u001b[38;5;28;01mimport\u001b[39;00m \u001b[38;5;21;01mcvxpy\u001b[39;00m\n",
      "\u001b[0;31mModuleNotFoundError\u001b[0m: No module named 'numpy'"
     ]
    }
   ],
   "source": [
    "%run 'qboot.py'"
   ]
  },
  {
   "cell_type": "code",
   "execution_count": 236,
   "metadata": {},
   "outputs": [],
   "source": [
    "def Krylov_simple(H, n):\n",
    "    Ks = [one(H)]\n",
    "    for k in range(n):\n",
    "        K = H @ Ks[k]\n",
    "        a = Ks[k].inner(K)\n",
    "        K = K - a * Ks[k]\n",
    "        if k > 0:\n",
    "            b = Ks[k-1].inner(K)\n",
    "            K = K - b * Ks[k-1]\n",
    "        if k + 1 < n :\n",
    "            norm = K.norm()\n",
    "            if norm > 0:\n",
    "                K = K / norm\n",
    "                Ks.append(K)\n",
    "            else:\n",
    "                break\n",
    "    return Ks"
   ]
  },
  {
   "cell_type": "code",
   "execution_count": 237,
   "metadata": {},
   "outputs": [
    {
     "data": {
      "text/plain": [
       "0.5 I +0.25i χ2 χ3 +0.25i χ0 χ1 -0.25 χ0 χ1 χ2 χ3 +0.25i χ6 χ7 +0.25i χ4 χ5 -0.25 χ4 χ5 χ6 χ7 +0.5i χ0 χ5 -0.5i χ1 χ4 +0.5i χ2 χ7 -0.5i χ3 χ6"
      ]
     },
     "execution_count": 237,
     "metadata": {},
     "output_type": "execute_result"
    }
   ],
   "source": [
    "def c(i,s):\n",
    "    return (maj(4*i+2*s) + 1j * maj(4*i+2*s+1))/2\n",
    "def cd(i,s):\n",
    "    return (maj(4*i+2*s) - 1j * maj(4*i+2*s+1))/2\n",
    "def n(i,s):\n",
    "    return cd(i,s) @ c(i,s)\n",
    "H = sum(cd(0,s) @ c(1,s)+cd(1,s) @ c(0,s) for s in [0,1]) \\\n",
    "    + sum(n(i,0) @ n(i,1) for i in [0,1])\n",
    "H"
   ]
  },
  {
   "cell_type": "code",
   "execution_count": 238,
   "metadata": {},
   "outputs": [
    {
     "data": {
      "text/plain": [
       "[I,\n",
       " 0.213i χ2 χ3 +0.213i χ0 χ1 -0.213 χ0 χ1 χ2 χ3 +0.213i χ6 χ7 +0.213i χ4 χ5 -0.213 χ4 χ5 χ6 χ7 +0.426i χ0 χ5 -0.426i χ1 χ4 +0.426i χ2 χ7 -0.426i χ3 χ6,\n",
       " 0.065i χ2 χ3 +0.065i χ0 χ1 -0.065 χ0 χ1 χ2 χ3 +0.065i χ6 χ7 +0.065i χ4 χ5 -0.065 χ4 χ5 χ6 χ7 -0.0487i χ0 χ5 +0.0487i χ1 χ4 -0.0487i χ2 χ7 +0.0487i χ3 χ6 +0.268 χ2 χ3 χ6 χ7 -0.0893 χ2 χ3 χ4 χ5 -0.0893i χ2 χ3 χ4 χ5 χ6 χ7 -0.179 χ0 χ2 χ3 χ5 +0.179 χ1 χ2 χ3 χ4 -0.0893 χ0 χ1 χ6 χ7 +0.268 χ0 χ1 χ4 χ5 -0.0893i χ0 χ1 χ4 χ5 χ6 χ7 -0.179 χ0 χ1 χ2 χ7 +0.179 χ0 χ1 χ3 χ6 -0.0893i χ0 χ1 χ2 χ3 χ6 χ7 -0.0893i χ0 χ1 χ2 χ3 χ4 χ5 +0.0893 χ0 χ1 χ2 χ3 χ4 χ5 χ6 χ7 -0.179 χ0 χ5 χ6 χ7 +0.179 χ1 χ4 χ6 χ7 -0.179 χ2 χ4 χ5 χ7 +0.179 χ3 χ4 χ5 χ6 +0.357 χ0 χ2 χ5 χ7 -0.357 χ0 χ3 χ5 χ6 -0.357 χ1 χ2 χ4 χ7 +0.357 χ1 χ3 χ4 χ6,\n",
       " -0.0441i χ2 χ3 -0.0441i χ0 χ1 +0.129 χ0 χ1 χ2 χ3 -0.0441i χ6 χ7 -0.0441i χ4 χ5 +0.129 χ4 χ5 χ6 χ7 +0.0544i χ0 χ5 -0.0544i χ1 χ4 +0.0544i χ2 χ7 -0.0544i χ3 χ6 -0.0863 χ2 χ3 χ6 χ7 +0.0288 χ2 χ3 χ4 χ5 +0.114i χ2 χ3 χ4 χ5 χ6 χ7 -0.0276 χ0 χ2 χ3 χ5 +0.0276 χ1 χ2 χ3 χ4 +0.0288 χ0 χ1 χ6 χ7 -0.0863 χ0 χ1 χ4 χ5 +0.114i χ0 χ1 χ4 χ5 χ6 χ7 -0.0276 χ0 χ1 χ2 χ7 +0.0276 χ0 χ1 χ3 χ6 +0.141 χ0 χ1 χ2 χ3 χ4 χ5 χ6 χ7 -0.0276 χ0 χ5 χ6 χ7 +0.0276 χ1 χ4 χ6 χ7 -0.0276 χ2 χ4 χ5 χ7 +0.0276 χ3 χ4 χ5 χ6 +0.0552 χ0 χ2 χ5 χ7 -0.0552 χ0 χ3 χ5 χ6 -0.0552 χ1 χ2 χ4 χ7 +0.0552 χ1 χ3 χ4 χ6 +0.426i χ0 χ2 χ3 χ5 χ6 χ7 -0.426i χ1 χ2 χ3 χ4 χ6 χ7 +0.426i χ0 χ1 χ2 χ4 χ5 χ7 -0.426i χ0 χ1 χ3 χ4 χ5 χ6 +0.114i χ0 χ1 χ2 χ3 χ6 χ7 +0.114i χ0 χ1 χ2 χ3 χ4 χ5 -0.17 χ1 χ3 χ5 χ7 -0.17 χ1 χ2 χ5 χ6 -0.17 χ0 χ3 χ4 χ7 -0.17 χ0 χ2 χ4 χ6,\n",
       " -0.0755i χ2 χ3 -0.0755i χ0 χ1 +0.0658 χ0 χ1 χ2 χ3 -0.0755i χ6 χ7 -0.0755i χ4 χ5 +0.0658 χ4 χ5 χ6 χ7 +0.0542i χ0 χ5 -0.0542i χ1 χ4 +0.0542i χ2 χ7 -0.0542i χ3 χ6 +0.281 χ2 χ3 χ6 χ7 +0.107 χ2 χ3 χ4 χ5 +0.0977i χ2 χ3 χ4 χ5 χ6 χ7 +0.225 χ0 χ2 χ3 χ5 -0.225 χ1 χ2 χ3 χ4 +0.107 χ0 χ1 χ6 χ7 +0.281 χ0 χ1 χ4 χ5 +0.0977i χ0 χ1 χ4 χ5 χ6 χ7 +0.225 χ0 χ1 χ2 χ7 -0.225 χ0 χ1 χ3 χ6 +0.477 χ0 χ1 χ2 χ3 χ4 χ5 χ6 χ7 +0.225 χ0 χ5 χ6 χ7 -0.225 χ1 χ4 χ6 χ7 +0.225 χ2 χ4 χ5 χ7 -0.225 χ3 χ4 χ5 χ6 +0.154 χ0 χ2 χ5 χ7 -0.154 χ0 χ3 χ5 χ6 -0.154 χ1 χ2 χ4 χ7 +0.154 χ1 χ3 χ4 χ6 -0.0487i χ0 χ2 χ3 χ5 χ6 χ7 +0.0487i χ1 χ2 χ3 χ4 χ6 χ7 -0.0487i χ0 χ1 χ2 χ4 χ5 χ7 +0.0487i χ0 χ1 χ3 χ4 χ5 χ6 +0.0977i χ0 χ1 χ2 χ3 χ6 χ7 +0.0977i χ0 χ1 χ2 χ3 χ4 χ5 +0.0195 χ1 χ3 χ5 χ7 +0.0195 χ1 χ2 χ5 χ6 +0.0195 χ0 χ3 χ4 χ7 +0.0195 χ0 χ2 χ4 χ6,\n",
       " -0.279i χ2 χ3 -0.279i χ0 χ1 -0.141 χ0 χ1 χ2 χ3 -0.279i χ6 χ7 -0.279i χ4 χ5 -0.141 χ4 χ5 χ6 χ7 +0.104i χ0 χ5 -0.104i χ1 χ4 +0.104i χ2 χ7 -0.104i χ3 χ6 +0.224 χ2 χ3 χ6 χ7 +0.169 χ2 χ3 χ4 χ5 -0.252i χ2 χ3 χ4 χ5 χ6 χ7 +0.014 χ0 χ2 χ3 χ5 -0.014 χ1 χ2 χ3 χ4 +0.169 χ0 χ1 χ6 χ7 +0.224 χ0 χ1 χ4 χ5 -0.252i χ0 χ1 χ4 χ5 χ6 χ7 +0.014 χ0 χ1 χ2 χ7 -0.014 χ0 χ1 χ3 χ6 -0.279 χ0 χ1 χ2 χ3 χ4 χ5 χ6 χ7 +0.014 χ0 χ5 χ6 χ7 -0.014 χ1 χ4 χ6 χ7 +0.014 χ2 χ4 χ5 χ7 -0.014 χ3 χ4 χ5 χ6 -0.0419 χ0 χ2 χ5 χ7 +0.0419 χ0 χ3 χ5 χ6 +0.0419 χ1 χ2 χ4 χ7 -0.0419 χ1 χ3 χ4 χ6 +0.132i χ0 χ2 χ3 χ5 χ6 χ7 -0.132i χ1 χ2 χ3 χ4 χ6 χ7 +0.132i χ0 χ1 χ2 χ4 χ5 χ7 -0.132i χ0 χ1 χ3 χ4 χ5 χ6 -0.252i χ0 χ1 χ2 χ3 χ6 χ7 -0.252i χ0 χ1 χ2 χ3 χ4 χ5 +0.0962 χ1 χ3 χ5 χ7 +0.0962 χ1 χ2 χ5 χ6 +0.0962 χ0 χ3 χ4 χ7 +0.0962 χ0 χ2 χ4 χ6]"
      ]
     },
     "execution_count": 238,
     "metadata": {},
     "output_type": "execute_result"
    }
   ],
   "source": [
    "Ks = Krylov_simple(H, 10)\n",
    "Ks"
   ]
  },
  {
   "cell_type": "code",
   "execution_count": 239,
   "metadata": {},
   "outputs": [
    {
     "name": "stdout",
     "output_type": "stream",
     "text": [
      "9.27 ms ± 46.1 µs per loop (mean ± std. dev. of 7 runs, 100 loops each)\n"
     ]
    }
   ],
   "source": [
    "%timeit Krylov_simple(H, 6)"
   ]
  },
  {
   "cell_type": "markdown",
   "metadata": {},
   "source": [
    "Larger system"
   ]
  },
  {
   "cell_type": "code",
   "execution_count": 240,
   "metadata": {},
   "outputs": [
    {
     "data": {
      "text/plain": [
       "0.5i χ0 χ5 -0.5i χ1 χ4 +0.5i χ2 χ7 -0.5i χ3 χ6 +0.5i χ4 χ9 -0.5i χ5 χ8 +0.5i χ6 χ11 -0.5i χ7 χ10 -0.5i χ1 χ8 +0.5i χ0 χ9 -0.5i χ3 χ10 +0.5i χ2 χ11 +0.75 I +0.25i χ2 χ3 +0.25i χ0 χ1 -0.25 χ0 χ1 χ2 χ3 +0.25i χ6 χ7 +0.25i χ4 χ5 -0.25 χ4 χ5 χ6 χ7 +0.25i χ10 χ11 +0.25i χ8 χ9 -0.25 χ8 χ9 χ10 χ11"
      ]
     },
     "execution_count": 240,
     "metadata": {},
     "output_type": "execute_result"
    }
   ],
   "source": [
    "L = 3\n",
    "H = sum(sum(cd(i,s) @ c((i+1)%L,s)+cd((i+1)%L,s) @ c(i,s) for s in [0,1]) for i in range(L)) \\\n",
    "    + sum(n(i,0) @ n(i,1) for i in range(L))\n",
    "H"
   ]
  },
  {
   "cell_type": "code",
   "execution_count": 241,
   "metadata": {},
   "outputs": [
    {
     "data": {
      "text/plain": [
       "[I,\n",
       " 0.265i χ0 χ5 -0.265i χ1 χ4 +0.265i χ2 χ7 -0.265i χ3 χ6 +0.265i χ4 χ9 -0.265i χ5 χ8 +0.265i χ6 χ11 -0.265i χ7 χ10 -0.265i χ1 χ8 +0.265i χ0 χ9 -0.265i χ3 χ10 +0.265i χ2 χ11 +0.132i χ2 χ3 +0.132i χ0 χ1 -0.132 χ0 χ1 χ2 χ3 +0.132i χ6 χ7 +0.132i χ4 χ5 -0.132 χ4 χ5 χ6 χ7 +0.132i χ10 χ11 +0.132i χ8 χ9 -0.132 χ8 χ9 χ10 χ11,\n",
       " 0.1 χ0 χ1 χ4 χ5 +0.133 χ0 χ2 χ5 χ7 -0.133 χ0 χ3 χ5 χ6 +0.0667 χ0 χ4 χ5 χ9 -0.133 χ0 χ5 χ6 χ11 +0.133 χ0 χ5 χ7 χ10 -0.0667 χ0 χ1 χ5 χ8 -0.133 χ0 χ3 χ5 χ10 +0.133 χ0 χ2 χ5 χ11 -0.0667 χ0 χ2 χ3 χ5 -0.0667 χ0 χ5 χ6 χ7 -0.0667 χ0 χ5 χ10 χ11 +0.0667 χ0 χ5 χ8 χ9 -0.0667i χ0 χ5 χ8 χ9 χ10 χ11 -0.133 χ1 χ2 χ4 χ7 +0.133 χ1 χ3 χ4 χ6 -0.0667 χ1 χ4 χ5 χ8 +0.133 χ1 χ4 χ6 χ11 -0.133 χ1 χ4 χ7 χ10 +0.0667 χ0 χ1 χ4 χ9 +0.133 χ1 χ3 χ4 χ10 -0.133 χ1 χ2 χ4 χ11 +0.0667 χ1 χ2 χ3 χ4 +0.0667 χ1 χ4 χ6 χ7 +0.0667 χ1 χ4 χ10 χ11 -0.0667 χ1 χ4 χ8 χ9 +0.0667i χ1 χ4 χ8 χ9 χ10 χ11 +0.1 χ2 χ3 χ6 χ7 +0.133 χ2 χ4 χ7 χ9 -0.133 χ2 χ5 χ7 χ8 +0.0667 χ2 χ6 χ7 χ11 +0.133 χ1 χ2 χ7 χ8 -0.133 χ0 χ2 χ7 χ9 -0.0667 χ2 χ3 χ7 χ10 -0.0667 χ0 χ1 χ2 χ7 -0.0667 χ2 χ4 χ5 χ7 +0.0667 χ2 χ7 χ10 χ11 -0.0667 χ2 χ7 χ8 χ9 -0.0667i χ2 χ7 χ8 χ9 χ10 χ11 -0.133 χ3 χ4 χ6 χ9 +0.133 χ3 χ5 χ6 χ8 -0.0667 χ3 χ6 χ7 χ10 -0.133 χ1 χ3 χ6 χ8 +0.133 χ0 χ3 χ6 χ9 +0.0667 χ2 χ3 χ6 χ11 +0.0667 χ0 χ1 χ3 χ6 +0.0667 χ3 χ4 χ5 χ6 -0.0667 χ3 χ6 χ10 χ11 +0.0667 χ3 χ6 χ8 χ9 +0.0667i χ3 χ6 χ8 χ9 χ10 χ11 +0.1 χ4 χ5 χ8 χ9 +0.133 χ4 χ6 χ9 χ11 -0.133 χ4 χ7 χ9 χ10 +0.133 χ3 χ4 χ9 χ10 -0.133 χ2 χ4 χ9 χ11 -0.0667 χ2 χ3 χ4 χ9 -0.0667i χ0 χ1 χ2 χ3 χ4 χ9 -0.0667 χ4 χ6 χ7 χ9 -0.0667 χ4 χ9 χ10 χ11 -0.133 χ5 χ6 χ8 χ11 +0.133 χ5 χ7 χ8 χ10 -0.133 χ3 χ5 χ8 χ10 +0.133 χ2 χ5 χ8 χ11 +0.0667 χ2 χ3 χ5 χ8 +0.0667i χ0 χ1 χ2 χ3 χ5 χ8 +0.0667 χ5 χ6 χ7 χ8 +0.0667 χ5 χ8 χ10 χ11 +0.1 χ6 χ7 χ10 χ11 -0.133 χ1 χ6 χ8 χ11 +0.133 χ0 χ6 χ9 χ11 -0.0667 χ0 χ1 χ6 χ11 -0.0667i χ0 χ1 χ2 χ3 χ6 χ11 -0.0667 χ4 χ5 χ6 χ11 -0.0667 χ6 χ8 χ9 χ11 +0.133 χ1 χ7 χ8 χ10 -0.133 χ0 χ7 χ9 χ10 +0.0667 χ0 χ1 χ7 χ10 +0.0667i χ0 χ1 χ2 χ3 χ7 χ10 +0.0667 χ4 χ5 χ7 χ10 +0.0667 χ7 χ8 χ9 χ10 +0.1 χ0 χ1 χ8 χ9 +0.133 χ1 χ3 χ8 χ10 -0.133 χ1 χ2 χ8 χ11 +0.0667 χ1 χ2 χ3 χ8 +0.0667 χ1 χ6 χ7 χ8 +0.0667i χ1 χ4 χ5 χ6 χ7 χ8 +0.0667 χ1 χ8 χ10 χ11 -0.133 χ0 χ3 χ9 χ10 +0.133 χ0 χ2 χ9 χ11 -0.0667 χ0 χ2 χ3 χ9 -0.0667 χ0 χ6 χ7 χ9 -0.0667i χ0 χ4 χ5 χ6 χ7 χ9 -0.0667 χ0 χ9 χ10 χ11 +0.1 χ2 χ3 χ10 χ11 +0.0667 χ0 χ1 χ3 χ10 +0.0667 χ3 χ4 χ5 χ10 +0.0667i χ3 χ4 χ5 χ6 χ7 χ10 +0.0667 χ3 χ8 χ9 χ10 -0.0667 χ0 χ1 χ2 χ11 -0.0667 χ2 χ4 χ5 χ11 -0.0667i χ2 χ4 χ5 χ6 χ7 χ11 -0.0667 χ2 χ8 χ9 χ11 -0.0105i χ0 χ5 +0.0105i χ1 χ4 -0.0105i χ2 χ7 +0.0105i χ3 χ6 -0.0105i χ4 χ9 +0.0105i χ5 χ8 -0.0105i χ6 χ11 +0.0105i χ7 χ10 +0.0105i χ1 χ8 -0.0105i χ0 χ9 +0.0105i χ3 χ10 -0.0105i χ2 χ11 +0.0281i χ2 χ3 +0.0281i χ0 χ1 -0.0281 χ0 χ1 χ2 χ3 +0.0281i χ6 χ7 +0.0281i χ4 χ5 -0.0281 χ4 χ5 χ6 χ7 +0.0281i χ10 χ11 +0.0281i χ8 χ9 -0.0281 χ8 χ9 χ10 χ11 -0.0334 χ2 χ3 χ4 χ5 -0.0334i χ2 χ3 χ4 χ5 χ6 χ7 -0.0334 χ2 χ3 χ8 χ9 -0.0334i χ2 χ3 χ8 χ9 χ10 χ11 -0.0334 χ0 χ1 χ6 χ7 -0.0334i χ0 χ1 χ4 χ5 χ6 χ7 -0.0334 χ0 χ1 χ10 χ11 -0.0334i χ0 χ1 χ8 χ9 χ10 χ11 -0.0334i χ0 χ1 χ2 χ3 χ6 χ7 -0.0334i χ0 χ1 χ2 χ3 χ4 χ5 +0.0334 χ0 χ1 χ2 χ3 χ4 χ5 χ6 χ7 -0.0334i χ0 χ1 χ2 χ3 χ10 χ11 -0.0334i χ0 χ1 χ2 χ3 χ8 χ9 +0.0334 χ0 χ1 χ2 χ3 χ8 χ9 χ10 χ11 -0.0334 χ6 χ7 χ8 χ9 -0.0334i χ6 χ7 χ8 χ9 χ10 χ11 -0.0334 χ4 χ5 χ10 χ11 -0.0334i χ4 χ5 χ8 χ9 χ10 χ11 -0.0334i χ4 χ5 χ6 χ7 χ10 χ11 -0.0334i χ4 χ5 χ6 χ7 χ8 χ9 +0.0334 χ4 χ5 χ6 χ7 χ8 χ9 χ10 χ11,\n",
       " -0.0255i χ1 χ4 +0.0255i χ2 χ7 -0.0255i χ3 χ6 +0.0255i χ4 χ9 +0.0255i χ6 χ11 -0.0255i χ7 χ10 -0.0255i χ1 χ8 -0.0255i χ3 χ10 +0.0255i χ2 χ11 -0.0827i χ2 χ3 -0.0827i χ6 χ7 +0.0383 χ8 χ9 χ10 χ11 +0.111i χ0 χ1 χ2 χ4 χ5 χ7 -0.111i χ0 χ1 χ3 χ4 χ5 χ6 +0.0999i χ0 χ1 χ4 χ5 χ6 χ11 -0.0999i χ0 χ1 χ4 χ5 χ7 χ10 -0.0999i χ0 χ1 χ3 χ4 χ5 χ10 +0.0999i χ0 χ1 χ2 χ4 χ5 χ11 +0.0288i χ0 χ1 χ2 χ3 χ4 χ5 +0.0288i χ0 χ1 χ4 χ5 χ6 χ7 +0.0499i χ0 χ1 χ4 χ5 χ10 χ11 -0.0832i χ0 χ1 χ4 χ5 χ8 χ9 -0.0499 χ0 χ1 χ4 χ5 χ8 χ9 χ10 χ11 +0.111i χ0 χ2 χ3 χ5 χ6 χ7 +0.0666i χ0 χ2 χ4 χ5 χ7 χ9 -0.0666i χ0 χ2 χ5 χ6 χ7 χ11 +0.0666i χ0 χ1 χ2 χ5 χ7 χ8 -0.0666i χ0 χ2 χ3 χ5 χ7 χ10 -0.0666 χ0 χ2 χ5 χ7 χ8 χ9 χ10 χ11 -0.0666i χ0 χ3 χ4 χ5 χ6 χ9 +0.0666i χ0 χ3 χ5 χ6 χ7 χ10 -0.0666i χ0 χ1 χ3 χ5 χ6 χ8 +0.0666i χ0 χ2 χ3 χ5 χ6 χ11 +0.0666 χ0 χ3 χ5 χ6 χ8 χ9 χ10 χ11 -0.0666i χ0 χ4 χ5 χ6 χ9 χ11 +0.0666i χ0 χ4 χ5 χ7 χ9 χ10 +0.0666i χ0 χ3 χ4 χ5 χ9 χ10 -0.0666i χ0 χ2 χ4 χ5 χ9 χ11 +0.0333i χ0 χ2 χ3 χ4 χ5 χ9 +0.0244i χ0 χ4 χ5 χ6 χ7 χ9 +0.0333i χ0 χ4 χ5 χ9 χ10 χ11 -0.0133 χ1 χ2 χ3 χ8 +0.0999i χ0 χ5 χ6 χ7 χ10 χ11 +0.0666i χ0 χ1 χ5 χ6 χ8 χ11 +0.0666i χ0 χ5 χ6 χ8 χ9 χ11 -0.0666i χ0 χ1 χ5 χ7 χ8 χ10 -0.0666i χ0 χ5 χ7 χ8 χ9 χ10 +0.0666i χ0 χ1 χ3 χ5 χ8 χ10 -0.0666i χ0 χ1 χ2 χ5 χ8 χ11 -0.0244i χ0 χ1 χ2 χ3 χ5 χ8 -0.0333i χ0 χ1 χ5 χ6 χ7 χ8 -0.0333i χ0 χ1 χ5 χ8 χ10 χ11 +0.0133 χ4 χ6 χ7 χ9 +0.0999i χ0 χ2 χ3 χ5 χ10 χ11 +0.0666i χ0 χ3 χ5 χ8 χ9 χ10 -0.0666i χ0 χ2 χ5 χ8 χ9 χ11 -0.0199 χ0 χ1 χ4 χ5 +0.0178 χ0 χ2 χ5 χ7 -0.0178 χ0 χ3 χ5 χ6 -0.0244 χ0 χ4 χ5 χ9 -0.0178 χ0 χ5 χ6 χ11 +0.0178 χ0 χ5 χ7 χ10 +0.0244 χ0 χ1 χ5 χ8 -0.0178 χ0 χ3 χ5 χ10 +0.0178 χ0 χ2 χ5 χ11 +0.0133 χ0 χ2 χ3 χ5 +0.0133 χ0 χ5 χ6 χ7 -0.02 χ0 χ5 χ10 χ11 -0.0244 χ0 χ5 χ8 χ9 +0.0244i χ0 χ5 χ8 χ9 χ10 χ11 +0.0333i χ0 χ2 χ3 χ5 χ8 χ9 +0.0333 χ0 χ2 χ3 χ5 χ8 χ9 χ10 χ11 -0.0133 χ1 χ4 χ6 χ7 -0.0133 χ1 χ2 χ3 χ4 -0.111i χ1 χ2 χ3 χ4 χ6 χ7 +0.0333i χ0 χ5 χ6 χ7 χ8 χ9 +0.0333 χ0 χ5 χ6 χ7 χ8 χ9 χ10 χ11 +0.0255i χ0 χ5 -0.0255i χ5 χ8 +0.0255i χ0 χ9 -0.0666i χ1 χ2 χ4 χ5 χ7 χ8 +0.0666i χ1 χ2 χ4 χ6 χ7 χ11 -0.0666i χ0 χ1 χ2 χ4 χ7 χ9 +0.0666i χ1 χ2 χ3 χ4 χ7 χ10 +0.0666 χ1 χ2 χ4 χ7 χ8 χ9 χ10 χ11 +0.0666i χ1 χ3 χ4 χ5 χ6 χ8 -0.0666i χ1 χ3 χ4 χ6 χ7 χ10 +0.0666i χ0 χ1 χ3 χ4 χ6 χ9 -0.0666i χ1 χ2 χ3 χ4 χ6 χ11 -0.0666 χ1 χ3 χ4 χ6 χ8 χ9 χ10 χ11 +0.0133 χ0 χ2 χ3 χ9 +0.0666i χ1 χ4 χ5 χ6 χ8 χ11 -0.0666i χ1 χ4 χ5 χ7 χ8 χ10 -0.0666i χ1 χ3 χ4 χ5 χ8 χ10 +0.0666i χ1 χ2 χ4 χ5 χ8 χ11 -0.0333i χ1 χ2 χ3 χ4 χ5 χ8 -0.0244i χ1 χ4 χ5 χ6 χ7 χ8 -0.0333i χ1 χ4 χ5 χ8 χ10 χ11 -0.0999i χ1 χ4 χ6 χ7 χ10 χ11 -0.0666i χ0 χ1 χ4 χ6 χ9 χ11 -0.0666i χ1 χ4 χ6 χ8 χ9 χ11 +0.0666i χ0 χ1 χ4 χ7 χ9 χ10 +0.0666i χ1 χ4 χ7 χ8 χ9 χ10 -0.0133 χ5 χ6 χ7 χ8 -0.0666i χ0 χ1 χ3 χ4 χ9 χ10 +0.0666i χ0 χ1 χ2 χ4 χ9 χ11 +0.0244i χ0 χ1 χ2 χ3 χ4 χ9 +0.0333i χ0 χ1 χ4 χ6 χ7 χ9 +0.0333i χ0 χ1 χ4 χ9 χ10 χ11 -0.0999i χ1 χ2 χ3 χ4 χ10 χ11 -0.0666i χ1 χ3 χ4 χ8 χ9 χ10 +0.0666i χ1 χ2 χ4 χ8 χ9 χ11 -0.0178 χ1 χ2 χ4 χ7 +0.0178 χ1 χ3 χ4 χ6 +0.0244 χ1 χ4 χ5 χ8 +0.0178 χ1 χ4 χ6 χ11 -0.0178 χ1 χ4 χ7 χ10 -0.0244 χ0 χ1 χ4 χ9 +0.0178 χ1 χ3 χ4 χ10 -0.0178 χ1 χ2 χ4 χ11 +0.02 χ1 χ4 χ10 χ11 +0.0244 χ1 χ4 χ8 χ9 -0.0244i χ1 χ4 χ8 χ9 χ10 χ11 -0.0333i χ1 χ2 χ3 χ4 χ8 χ9 -0.0333 χ1 χ2 χ3 χ4 χ8 χ9 χ10 χ11 -0.0333i χ1 χ4 χ6 χ7 χ8 χ9 -0.0333 χ1 χ4 χ6 χ7 χ8 χ9 χ10 χ11 -0.0827i χ4 χ5 +0.0999i χ2 χ3 χ4 χ6 χ7 χ9 -0.0999i χ2 χ3 χ5 χ6 χ7 χ8 -0.0999i χ1 χ2 χ3 χ6 χ7 χ8 +0.0999i χ0 χ2 χ3 χ6 χ7 χ9 +0.0288i χ0 χ1 χ2 χ3 χ6 χ7 +0.0288i χ2 χ3 χ4 χ5 χ6 χ7 -0.0832i χ2 χ3 χ6 χ7 χ10 χ11 +0.0499i χ2 χ3 χ6 χ7 χ8 χ9 -0.0499 χ2 χ3 χ6 χ7 χ8 χ9 χ10 χ11 +0.0999i χ2 χ4 χ5 χ7 χ8 χ9 +0.0666i χ2 χ4 χ6 χ7 χ9 χ11 +0.0666i χ2 χ3 χ4 χ7 χ9 χ10 -0.0666i χ2 χ5 χ6 χ7 χ8 χ11 -0.0666i χ2 χ3 χ5 χ7 χ8 χ10 +0.0666i χ1 χ2 χ6 χ7 χ8 χ11 -0.0666i χ0 χ2 χ6 χ7 χ9 χ11 +0.0333i χ0 χ1 χ2 χ6 χ7 χ11 +0.0244i χ2 χ4 χ5 χ6 χ7 χ11 +0.0333i χ2 χ6 χ7 χ8 χ9 χ11 -0.0133 χ0 χ1 χ3 χ10 +0.0999i χ0 χ1 χ2 χ7 χ8 χ9 -0.0666i χ1 χ2 χ3 χ7 χ8 χ10 -0.0666i χ1 χ2 χ7 χ8 χ10 χ11 +0.0666i χ0 χ2 χ3 χ7 χ9 χ10 +0.0666i χ0 χ2 χ7 χ9 χ10 χ11 -0.0244i χ0 χ1 χ2 χ3 χ7 χ10 -0.0333i χ2 χ3 χ4 χ5 χ7 χ10 -0.0333i χ2 χ3 χ7 χ8 χ9 χ10 +0.0133 χ4 χ5 χ6 χ11 -0.0199 χ2 χ3 χ6 χ7 +0.0178 χ2 χ4 χ7 χ9 -0.0178 χ2 χ5 χ7 χ8 -0.0244 χ2 χ6 χ7 χ11 +0.0178 χ1 χ2 χ7 χ8 -0.0178 χ0 χ2 χ7 χ9 +0.0244 χ2 χ3 χ7 χ10 +0.0133 χ0 χ1 χ2 χ7 +0.0133 χ2 χ4 χ5 χ7 -0.0244 χ2 χ7 χ10 χ11 -0.02 χ2 χ7 χ8 χ9 +0.0244i χ2 χ7 χ8 χ9 χ10 χ11 -0.0133 χ3 χ4 χ5 χ6 +0.0333i χ0 χ1 χ2 χ7 χ10 χ11 +0.0333 χ0 χ1 χ2 χ7 χ8 χ9 χ10 χ11 -0.0133 χ0 χ1 χ3 χ6 +0.0333i χ2 χ4 χ5 χ7 χ10 χ11 +0.0333 χ2 χ4 χ5 χ7 χ8 χ9 χ10 χ11 -0.0999i χ3 χ4 χ5 χ6 χ8 χ9 -0.0666i χ3 χ4 χ6 χ7 χ9 χ10 -0.0666i χ2 χ3 χ4 χ6 χ9 χ11 +0.0666i χ3 χ5 χ6 χ7 χ8 χ10 +0.0666i χ2 χ3 χ5 χ6 χ8 χ11 +0.0133 χ0 χ1 χ2 χ11 -0.0666i χ1 χ3 χ6 χ7 χ8 χ10 +0.0666i χ0 χ3 χ6 χ7 χ9 χ10 -0.0333i χ0 χ1 χ3 χ6 χ7 χ10 -0.0244i χ3 χ4 χ5 χ6 χ7 χ10 -0.0333i χ3 χ6 χ7 χ8 χ9 χ10 -0.0999i χ0 χ1 χ3 χ6 χ8 χ9 +0.0666i χ1 χ2 χ3 χ6 χ8 χ11 +0.0666i χ1 χ3 χ6 χ8 χ10 χ11 -0.0666i χ0 χ2 χ3 χ6 χ9 χ11 -0.0666i χ0 χ3 χ6 χ9 χ10 χ11 -0.0133 χ4 χ5 χ7 χ10 +0.0244i χ0 χ1 χ2 χ3 χ6 χ11 +0.0333i χ2 χ3 χ4 χ5 χ6 χ11 +0.0333i χ2 χ3 χ6 χ8 χ9 χ11 -0.0178 χ3 χ4 χ6 χ9 +0.0178 χ3 χ5 χ6 χ8 +0.0244 χ3 χ6 χ7 χ10 -0.0178 χ1 χ3 χ6 χ8 +0.0178 χ0 χ3 χ6 χ9 -0.0244 χ2 χ3 χ6 χ11 +0.0244 χ3 χ6 χ10 χ11 +0.02 χ3 χ6 χ8 χ9 -0.0244i χ3 χ6 χ8 χ9 χ10 χ11 -0.0333i χ0 χ1 χ3 χ6 χ10 χ11 -0.0333 χ0 χ1 χ3 χ6 χ8 χ9 χ10 χ11 -0.0333i χ3 χ4 χ5 χ6 χ10 χ11 -0.0333 χ3 χ4 χ5 χ6 χ8 χ9 χ10 χ11 -0.0133 χ1 χ8 χ10 χ11 +0.0666i χ1 χ2 χ4 χ7 χ8 χ9 -0.0666i χ1 χ3 χ4 χ6 χ8 χ9 +0.0383 χ0 χ1 χ2 χ3 -0.0827i χ10 χ11 +0.111i χ4 χ5 χ6 χ8 χ9 χ11 -0.111i χ4 χ5 χ7 χ8 χ9 χ10 -0.0999i χ3 χ4 χ5 χ8 χ9 χ10 +0.0999i χ2 χ4 χ5 χ8 χ9 χ11 +0.0499i χ2 χ3 χ4 χ5 χ8 χ9 -0.0499 χ0 χ1 χ2 χ3 χ4 χ5 χ8 χ9 +0.0288i χ4 χ5 χ6 χ7 χ8 χ9 +0.0288i χ4 χ5 χ8 χ9 χ10 χ11 +0.111i χ4 χ6 χ7 χ9 χ10 χ11 -0.0666 χ0 χ1 χ2 χ3 χ4 χ6 χ9 χ11 +0.0666 χ0 χ1 χ2 χ3 χ4 χ7 χ9 χ10 +0.0999i χ2 χ3 χ4 χ9 χ10 χ11 -0.0199 χ4 χ5 χ8 χ9 +0.0178 χ4 χ6 χ9 χ11 -0.0178 χ4 χ7 χ9 χ10 +0.0178 χ3 χ4 χ9 χ10 -0.0178 χ2 χ4 χ9 χ11 -0.02 χ2 χ3 χ4 χ9 +0.0133 χ4 χ9 χ10 χ11 +0.0333 χ0 χ1 χ2 χ3 χ4 χ6 χ7 χ9 +0.0333 χ0 χ1 χ2 χ3 χ4 χ9 χ10 χ11 -0.0133 χ5 χ8 χ10 χ11 -0.111i χ5 χ6 χ7 χ8 χ10 χ11 +0.0133 χ0 χ9 χ10 χ11 -0.0666i χ0 χ2 χ5 χ7 χ8 χ9 +0.0666i χ0 χ3 χ5 χ6 χ8 χ9 +0.0666 χ0 χ1 χ2 χ3 χ5 χ6 χ8 χ11 -0.0666 χ0 χ1 χ2 χ3 χ5 χ7 χ8 χ10 -0.0999i χ2 χ3 χ5 χ8 χ10 χ11 -0.0178 χ5 χ6 χ8 χ11 +0.0178 χ5 χ7 χ8 χ10 -0.0178 χ3 χ5 χ8 χ10 +0.0178 χ2 χ5 χ8 χ11 +0.02 χ2 χ3 χ5 χ8 -0.0333 χ0 χ1 χ2 χ3 χ5 χ6 χ7 χ8 -0.0333 χ0 χ1 χ2 χ3 χ5 χ8 χ10 χ11 +0.0666i χ0 χ3 χ5 χ6 χ10 χ11 -0.0666i χ1 χ3 χ4 χ6 χ10 χ11 -0.0133 χ3 χ8 χ9 χ10 +0.0666i χ3 χ4 χ6 χ9 χ10 χ11 -0.0666i χ3 χ5 χ6 χ8 χ10 χ11 -0.0827i χ0 χ1 -0.0827i χ8 χ9 -0.0999i χ1 χ6 χ7 χ8 χ10 χ11 +0.0999i χ0 χ6 χ7 χ9 χ10 χ11 +0.0499i χ0 χ1 χ6 χ7 χ10 χ11 -0.0499 χ0 χ1 χ2 χ3 χ6 χ7 χ10 χ11 +0.0288i χ4 χ5 χ6 χ7 χ10 χ11 +0.0288i χ6 χ7 χ8 χ9 χ10 χ11 +0.0999i χ0 χ1 χ6 χ8 χ9 χ11 -0.0199 χ6 χ7 χ10 χ11 -0.0178 χ1 χ6 χ8 χ11 +0.0178 χ0 χ6 χ9 χ11 -0.02 χ0 χ1 χ6 χ11 +0.0133 χ6 χ8 χ9 χ11 +0.0333 χ0 χ1 χ2 χ3 χ4 χ5 χ6 χ11 +0.0333 χ0 χ1 χ2 χ3 χ6 χ8 χ9 χ11 -0.0133 χ7 χ8 χ9 χ10 -0.0666i χ0 χ2 χ5 χ7 χ10 χ11 +0.0666i χ1 χ2 χ4 χ7 χ10 χ11 +0.0133 χ2 χ8 χ9 χ11 -0.0666i χ2 χ4 χ7 χ9 χ10 χ11 +0.0666i χ2 χ5 χ7 χ8 χ10 χ11 -0.0999i χ0 χ1 χ7 χ8 χ9 χ10 +0.0178 χ1 χ7 χ8 χ10 -0.0178 χ0 χ7 χ9 χ10 +0.02 χ0 χ1 χ7 χ10 -0.0333 χ0 χ1 χ2 χ3 χ4 χ5 χ7 χ10 -0.0333 χ0 χ1 χ2 χ3 χ7 χ8 χ9 χ10 +0.0383 χ4 χ5 χ6 χ7 -0.111i χ0 χ1 χ3 χ8 χ9 χ10 +0.111i χ0 χ1 χ2 χ8 χ9 χ11 +0.0288i χ0 χ1 χ2 χ3 χ8 χ9 +0.0499i χ0 χ1 χ6 χ7 χ8 χ9 -0.0499 χ0 χ1 χ4 χ5 χ6 χ7 χ8 χ9 +0.0288i χ0 χ1 χ8 χ9 χ10 χ11 -0.111i χ1 χ2 χ3 χ8 χ10 χ11 -0.0666 χ1 χ3 χ4 χ5 χ6 χ7 χ8 χ10 +0.0666 χ1 χ2 χ4 χ5 χ6 χ7 χ8 χ11 -0.0199 χ0 χ1 χ8 χ9 +0.0178 χ1 χ3 χ8 χ10 -0.0178 χ1 χ2 χ8 χ11 +0.02 χ1 χ6 χ7 χ8 -0.0333 χ1 χ2 χ3 χ4 χ5 χ6 χ7 χ8 +0.111i χ0 χ2 χ3 χ9 χ10 χ11 -0.0333 χ1 χ4 χ5 χ6 χ7 χ8 χ10 χ11 +0.0666 χ0 χ3 χ4 χ5 χ6 χ7 χ9 χ10 -0.0666 χ0 χ2 χ4 χ5 χ6 χ7 χ9 χ11 -0.0178 χ0 χ3 χ9 χ10 +0.0178 χ0 χ2 χ9 χ11 -0.02 χ0 χ6 χ7 χ9 +0.0333 χ0 χ2 χ3 χ4 χ5 χ6 χ7 χ9 +0.0333 χ0 χ4 χ5 χ6 χ7 χ9 χ10 χ11 +0.0288i χ0 χ1 χ2 χ3 χ10 χ11 +0.0499i χ2 χ3 χ4 χ5 χ10 χ11 -0.0499 χ2 χ3 χ4 χ5 χ6 χ7 χ10 χ11 +0.0288i χ2 χ3 χ8 χ9 χ10 χ11 -0.0199 χ2 χ3 χ10 χ11 +0.02 χ3 χ4 χ5 χ10 -0.0333 χ0 χ1 χ3 χ4 χ5 χ6 χ7 χ10 -0.0333 χ3 χ4 χ5 χ6 χ7 χ8 χ9 χ10 -0.02 χ2 χ4 χ5 χ11 +0.0333 χ0 χ1 χ2 χ4 χ5 χ6 χ7 χ11 +0.0333 χ2 χ4 χ5 χ6 χ7 χ8 χ9 χ11 +0.00664 χ2 χ3 χ4 χ5 +0.00664 χ2 χ3 χ8 χ9 +0.00664 χ0 χ1 χ6 χ7 +0.00664 χ0 χ1 χ10 χ11 +0.0377 χ0 χ1 χ2 χ3 χ4 χ5 χ6 χ7 +0.0377 χ0 χ1 χ2 χ3 χ8 χ9 χ10 χ11 +0.00664 χ6 χ7 χ8 χ9 +0.00664 χ4 χ5 χ10 χ11 +0.0377 χ4 χ5 χ6 χ7 χ8 χ9 χ10 χ11 +0.0166 χ2 χ3 χ4 χ5 χ8 χ9 χ10 χ11 +0.0166 χ2 χ3 χ4 χ5 χ6 χ7 χ8 χ9 +0.0166i χ2 χ3 χ4 χ5 χ6 χ7 χ8 χ9 χ10 χ11 +0.0166 χ0 χ1 χ6 χ7 χ8 χ9 χ10 χ11 +0.0166 χ0 χ1 χ4 χ5 χ6 χ7 χ10 χ11 +0.0166i χ0 χ1 χ4 χ5 χ6 χ7 χ8 χ9 χ10 χ11 -0.0444 χ1 χ3 χ5 χ7 -0.0444 χ1 χ2 χ5 χ6 -0.0222 χ1 χ2 χ5 χ10 -0.0222 χ1 χ3 χ5 χ11 -0.0444 χ0 χ3 χ4 χ7 -0.0444 χ0 χ2 χ4 χ6 -0.0222 χ0 χ2 χ4 χ10 -0.0222 χ0 χ3 χ4 χ11 +0.0222 χ0 χ3 χ7 χ8 +0.0222 χ1 χ3 χ7 χ9 +0.0222 χ0 χ2 χ6 χ8 +0.0222 χ1 χ2 χ6 χ9 -0.0444 χ0 χ2 χ8 χ10 -0.0444 χ0 χ3 χ8 χ11 -0.0444 χ1 χ2 χ9 χ10 -0.0444 χ1 χ3 χ9 χ11 +0.0166 χ0 χ1 χ2 χ3 χ6 χ7 χ8 χ9 +0.0166i χ0 χ1 χ2 χ3 χ6 χ7 χ8 χ9 χ10 χ11 +0.0166 χ0 χ1 χ2 χ3 χ4 χ5 χ10 χ11 +0.0166i χ0 χ1 χ2 χ3 χ4 χ5 χ8 χ9 χ10 χ11 +0.0166i χ0 χ1 χ2 χ3 χ4 χ5 χ6 χ7 χ10 χ11 +0.0166i χ0 χ1 χ2 χ3 χ4 χ5 χ6 χ7 χ8 χ9 -0.0166 χ0 χ1 χ2 χ3 χ4 χ5 χ6 χ7 χ8 χ9 χ10 χ11 -0.0222 χ0 χ4 χ7 χ11 -0.0222 χ0 χ4 χ6 χ10 -0.0222 χ1 χ5 χ7 χ11 -0.0222 χ1 χ5 χ6 χ10 +0.0222 χ2 χ5 χ6 χ9 +0.0222 χ2 χ4 χ6 χ8 +0.0222 χ3 χ5 χ7 χ9 +0.0222 χ3 χ4 χ7 χ8 -0.0444 χ5 χ7 χ9 χ11 -0.0444 χ5 χ6 χ9 χ10 -0.0444 χ4 χ7 χ8 χ11 -0.0444 χ4 χ6 χ8 χ10 +0.0222 χ3 χ4 χ8 χ11 +0.0222 χ2 χ4 χ8 χ10 +0.0222 χ3 χ5 χ9 χ11 +0.0222 χ2 χ5 χ9 χ10 -0.0222 χ1 χ6 χ9 χ10 -0.0222 χ0 χ6 χ8 χ10 -0.0222 χ1 χ7 χ9 χ11 -0.0222 χ0 χ7 χ8 χ11,\n",
       " 0.125 χ0 χ1 χ4 χ5 +0.0318 χ0 χ2 χ5 χ7 -0.0318 χ0 χ3 χ5 χ6 +0.112 χ0 χ4 χ5 χ9 -0.0103 χ0 χ5 χ6 χ11 +0.0103 χ0 χ5 χ7 χ10 -0.112 χ0 χ1 χ5 χ8 -0.0103 χ0 χ3 χ5 χ10 +0.0103 χ0 χ2 χ5 χ11 +0.099 χ0 χ2 χ3 χ5 +0.099 χ0 χ5 χ6 χ7 -0.0152i χ0 χ5 χ8 χ9 χ10 χ11 -0.0318 χ1 χ2 χ4 χ7 +0.0318 χ1 χ3 χ4 χ6 +0.0103 χ1 χ4 χ6 χ11 -0.0103 χ1 χ4 χ7 χ10 +0.0103 χ1 χ3 χ4 χ10 -0.0103 χ1 χ2 χ4 χ11 -0.099 χ1 χ2 χ3 χ4 -0.099 χ1 χ4 χ6 χ7 -0.0983 χ1 χ4 χ10 χ11 -0.112 χ1 χ4 χ8 χ9 +0.0152i χ1 χ4 χ8 χ9 χ10 χ11 +0.125 χ2 χ3 χ6 χ7 +0.0103 χ2 χ4 χ7 χ9 +0.112 χ2 χ6 χ7 χ11 +0.0103 χ1 χ2 χ7 χ8 -0.112 χ2 χ3 χ7 χ10 -0.0152i χ2 χ7 χ8 χ9 χ10 χ11 -0.0103 χ3 χ4 χ6 χ9 -0.112 χ3 χ6 χ7 χ10 -0.0103 χ1 χ3 χ6 χ8 +0.112 χ2 χ3 χ6 χ11 +0.0152i χ3 χ6 χ8 χ9 χ10 χ11 +0.0318 χ4 χ6 χ9 χ11 -0.0318 χ4 χ7 χ9 χ10 +0.0103 χ3 χ4 χ9 χ10 -0.0103 χ2 χ4 χ9 χ11 +0.0983 χ2 χ3 χ4 χ9 +0.099 χ4 χ6 χ7 χ9 +0.099 χ4 χ9 χ10 χ11 +0.0152i χ0 χ1 χ2 χ3 χ5 χ8 +0.125 χ6 χ7 χ10 χ11 -0.0103 χ1 χ6 χ8 χ11 +0.099 χ6 χ8 χ9 χ11 +0.0103 χ1 χ7 χ8 χ10 -0.099 χ7 χ8 χ9 χ10 +0.0318 χ1 χ3 χ8 χ10 -0.0318 χ1 χ2 χ8 χ11 -0.099 χ1 χ2 χ3 χ8 -0.0983 χ1 χ6 χ7 χ8 -0.099 χ1 χ8 χ10 χ11 -0.0152i χ0 χ4 χ5 χ6 χ7 χ9 +0.125 χ2 χ3 χ10 χ11 -0.099 χ3 χ8 χ9 χ10 +0.099 χ2 χ8 χ9 χ11 -0.0101i χ1 χ4 +0.0101i χ2 χ7 -0.0101i χ3 χ6 +0.0101i χ4 χ9 +0.0101i χ6 χ11 -0.0101i χ7 χ10 -0.0101i χ1 χ8 -0.0101i χ3 χ10 +0.0101i χ2 χ11 -0.0106i χ2 χ3 -0.0106i χ6 χ7 -0.0106i χ10 χ11 -0.0106i χ8 χ9 +0.0597 χ8 χ9 χ10 χ11 +0.087 χ2 χ3 χ8 χ9 +0.00887i χ2 χ3 χ8 χ9 χ10 χ11 +0.00887i χ0 χ1 χ4 χ5 χ6 χ7 +0.00887i χ0 χ1 χ2 χ3 χ4 χ5 +0.0569 χ0 χ1 χ2 χ3 χ4 χ5 χ6 χ7 +0.087 χ6 χ7 χ8 χ9 +0.00887i χ6 χ7 χ8 χ9 χ10 χ11 +0.0436 χ0 χ1 χ2 χ4 χ5 χ6 χ7 χ11 -0.0436 χ0 χ1 χ2 χ3 χ4 χ5 χ7 χ10 -0.0536i χ0 χ1 χ2 χ4 χ5 χ7 χ8 χ9 χ10 χ11 -0.0436 χ0 χ1 χ3 χ4 χ5 χ6 χ7 χ10 +0.0436 χ0 χ1 χ2 χ3 χ4 χ5 χ6 χ11 +0.0536i χ0 χ1 χ3 χ4 χ5 χ6 χ8 χ9 χ10 χ11 +0.0647 χ0 χ1 χ4 χ5 χ6 χ7 χ10 χ11 +0.0751 χ0 χ1 χ4 χ5 χ6 χ8 χ9 χ11 -0.0751 χ0 χ1 χ4 χ5 χ7 χ8 χ9 χ10 +0.0647 χ0 χ1 χ2 χ3 χ4 χ5 χ10 χ11 -0.0751 χ0 χ1 χ3 χ4 χ5 χ8 χ9 χ10 +0.0751 χ0 χ1 χ2 χ4 χ5 χ8 χ9 χ11 +0.006i χ0 χ1 χ2 χ4 χ5 χ7 -0.006i χ0 χ1 χ3 χ4 χ5 χ6 -0.00854i χ0 χ1 χ4 χ5 χ6 χ11 +0.00854i χ0 χ1 χ4 χ5 χ7 χ10 +0.00854i χ0 χ1 χ3 χ4 χ5 χ10 -0.00854i χ0 χ1 χ2 χ4 χ5 χ11 +0.00109i χ0 χ1 χ4 χ5 χ10 χ11 +0.084i χ0 χ1 χ4 χ5 χ8 χ9 +0.0632 χ0 χ1 χ4 χ5 χ8 χ9 χ10 χ11 +0.0632 χ0 χ1 χ2 χ3 χ4 χ5 χ8 χ9 -0.0425i χ0 χ1 χ2 χ3 χ4 χ5 χ8 χ9 χ10 χ11 +0.0632 χ0 χ1 χ4 χ5 χ6 χ7 χ8 χ9 -0.0425i χ0 χ1 χ4 χ5 χ6 χ7 χ8 χ9 χ10 χ11 +0.0436 χ0 χ2 χ3 χ4 χ5 χ6 χ7 χ9 -0.0436 χ0 χ1 χ2 χ3 χ5 χ6 χ7 χ8 +0.0751 χ0 χ2 χ3 χ5 χ6 χ7 χ10 χ11 -0.0536i χ0 χ2 χ3 χ5 χ6 χ7 χ8 χ9 χ10 χ11 -0.0229 χ0 χ2 χ4 χ5 χ6 χ7 χ9 χ11 +0.0322 χ0 χ2 χ3 χ4 χ5 χ7 χ9 χ10 -0.0322 χ0 χ1 χ2 χ5 χ6 χ7 χ8 χ11 -0.0322 χ0 χ2 χ5 χ6 χ7 χ8 χ9 χ11 -0.0229 χ0 χ1 χ2 χ3 χ5 χ7 χ8 χ10 -0.0322 χ0 χ2 χ3 χ5 χ7 χ8 χ9 χ10 +0.006i χ0 χ2 χ3 χ5 χ6 χ7 +0.0122i χ0 χ2 χ4 χ5 χ7 χ9 -0.0122i χ0 χ2 χ5 χ6 χ7 χ11 +0.0122i χ0 χ1 χ2 χ5 χ7 χ8 -0.0122i χ0 χ2 χ3 χ5 χ7 χ10 +0.02i χ0 χ2 χ5 χ7 χ10 χ11 +0.02i χ0 χ2 χ5 χ7 χ8 χ9 -0.0229 χ0 χ2 χ5 χ7 χ8 χ9 χ10 χ11 +0.0229 χ0 χ3 χ4 χ5 χ6 χ7 χ9 χ10 -0.0322 χ0 χ2 χ3 χ4 χ5 χ6 χ9 χ11 +0.0322 χ0 χ1 χ3 χ5 χ6 χ7 χ8 χ10 +0.0322 χ0 χ3 χ5 χ6 χ7 χ8 χ9 χ10 +0.0229 χ0 χ1 χ2 χ3 χ5 χ6 χ8 χ11 +0.0322 χ0 χ2 χ3 χ5 χ6 χ8 χ9 χ11 -0.0122i χ0 χ3 χ4 χ5 χ6 χ9 +0.0122i χ0 χ3 χ5 χ6 χ7 χ10 -0.0122i χ0 χ1 χ3 χ5 χ6 χ8 +0.0122i χ0 χ2 χ3 χ5 χ6 χ11 -0.02i χ0 χ3 χ5 χ6 χ10 χ11 -0.02i χ0 χ3 χ5 χ6 χ8 χ9 +0.0229 χ0 χ3 χ5 χ6 χ8 χ9 χ10 χ11 +0.01i χ0 χ1 χ5 χ8 χ10 χ11 +0.0751 χ0 χ1 χ2 χ4 χ5 χ7 χ8 χ9 -0.0751 χ0 χ1 χ3 χ4 χ5 χ6 χ8 χ9 +0.0983 χ0 χ5 χ10 χ11 +0.01i χ1 χ2 χ3 χ4 χ8 χ9 +0.0436 χ0 χ4 χ5 χ6 χ7 χ9 χ10 χ11 +0.0429 χ0 χ2 χ3 χ4 χ5 χ9 χ10 χ11 -0.0122i χ0 χ4 χ5 χ6 χ9 χ11 +0.0122i χ0 χ4 χ5 χ7 χ9 χ10 -0.02i χ0 χ3 χ4 χ5 χ9 χ10 +0.02i χ0 χ2 χ4 χ5 χ9 χ11 -0.01i χ0 χ2 χ3 χ4 χ5 χ9 -0.01i χ0 χ4 χ5 χ9 χ10 χ11 +0.0983 χ2 χ7 χ8 χ9 -0.0983 χ3 χ6 χ8 χ9 +0.0122i χ1 χ2 χ3 χ6 χ8 χ11 -0.0122i χ1 χ2 χ3 χ7 χ8 χ10 +0.00854i χ1 χ2 χ3 χ6 χ7 χ8 -0.006i χ1 χ2 χ3 χ8 χ10 χ11 -0.112 χ3 χ6 χ10 χ11 -0.0429 χ0 χ1 χ3 χ4 χ5 χ6 χ10 χ11 +0.0122i χ0 χ3 χ5 χ8 χ9 χ10 -0.0322 χ0 χ3 χ4 χ5 χ6 χ9 χ10 χ11 +0.112 χ0 χ5 χ8 χ9 -0.0429 χ0 χ1 χ5 χ6 χ7 χ8 χ10 χ11 +0.0436 χ0 χ5 χ6 χ7 χ8 χ9 χ10 χ11 -0.00854i χ0 χ5 χ6 χ7 χ10 χ11 -0.02i χ0 χ1 χ5 χ6 χ8 χ11 +0.0122i χ0 χ5 χ6 χ8 χ9 χ11 -0.0122i χ1 χ2 χ3 χ4 χ6 χ11 -0.0122i χ0 χ5 χ7 χ8 χ9 χ10 +0.112 χ2 χ7 χ10 χ11 +0.0429 χ0 χ1 χ2 χ4 χ5 χ7 χ10 χ11 -0.0122i χ0 χ2 χ5 χ8 χ9 χ11 +0.0322 χ0 χ2 χ4 χ5 χ7 χ9 χ10 χ11 +0.02i χ0 χ1 χ5 χ7 χ8 χ10 +0.0122i χ1 χ2 χ3 χ4 χ7 χ10 +0.01i χ1 χ4 χ6 χ7 χ8 χ9 -0.0436 χ0 χ1 χ2 χ3 χ5 χ8 χ10 χ11 +0.0122i χ0 χ1 χ3 χ5 χ8 χ10 -0.0122i χ0 χ1 χ2 χ5 χ8 χ11 +0.01i χ0 χ1 χ5 χ6 χ7 χ8 -0.0122i χ3 χ4 χ6 χ7 χ9 χ10 +0.0122i χ2 χ4 χ6 χ7 χ9 χ11 -0.00854i χ2 χ3 χ4 χ6 χ7 χ9 +0.006i χ4 χ6 χ7 χ9 χ10 χ11 +0.0436 χ0 χ2 χ3 χ5 χ8 χ9 χ10 χ11 -0.00854i χ0 χ2 χ3 χ5 χ10 χ11 -0.0122i χ1 χ3 χ4 χ6 χ7 χ10 +0.0122i χ1 χ2 χ4 χ6 χ7 χ11 -0.01i χ0 χ2 χ3 χ5 χ8 χ9 -0.006i χ1 χ2 χ3 χ4 χ6 χ7 -0.01i χ0 χ5 χ6 χ7 χ8 χ9 +0.00854i χ1 χ4 χ6 χ7 χ10 χ11 -0.0436 χ1 χ4 χ6 χ7 χ8 χ9 χ10 χ11 -0.0107i χ0 χ1 χ3 χ5 χ7 χ9 -0.0107i χ0 χ1 χ2 χ5 χ6 χ9 -0.0107i χ0 χ1 χ2 χ5 χ9 χ10 -0.0107i χ0 χ1 χ3 χ5 χ9 χ11 +0.00854i χ1 χ2 χ3 χ4 χ10 χ11 -0.0436 χ1 χ2 χ3 χ4 χ8 χ9 χ10 χ11 -0.0751 χ1 χ2 χ3 χ4 χ6 χ7 χ10 χ11 +0.0536i χ1 χ2 χ3 χ4 χ6 χ7 χ8 χ9 χ10 χ11 -0.0107i χ0 χ2 χ4 χ5 χ6 χ8 -0.0107i χ0 χ3 χ4 χ5 χ7 χ8 +0.0107i χ0 χ4 χ5 χ7 χ8 χ11 +0.0107i χ0 χ4 χ5 χ6 χ8 χ10 +0.0214i χ0 χ3 χ4 χ5 χ8 χ11 +0.0214i χ0 χ2 χ4 χ5 χ8 χ10 +0.0214i χ0 χ1 χ5 χ6 χ9 χ10 +0.0214i χ0 χ1 χ5 χ7 χ9 χ11 +0.0101i χ0 χ5 -0.112 χ1 χ4 χ5 χ8 +0.112 χ0 χ1 χ4 χ9 -0.0103 χ2 χ5 χ7 χ8 -0.0103 χ0 χ2 χ7 χ9 +0.0103 χ3 χ5 χ6 χ8 +0.0103 χ0 χ3 χ6 χ9 -0.0152i χ0 χ1 χ2 χ3 χ4 χ9 -0.0318 χ5 χ6 χ8 χ11 +0.0318 χ5 χ7 χ8 χ10 -0.0103 χ3 χ5 χ8 χ10 +0.0103 χ2 χ5 χ8 χ11 -0.0983 χ2 χ3 χ5 χ8 -0.099 χ5 χ6 χ7 χ8 -0.099 χ5 χ8 χ10 χ11 +0.0103 χ0 χ6 χ9 χ11 -0.0103 χ0 χ7 χ9 χ10 +0.0152i χ1 χ4 χ5 χ6 χ7 χ8 -0.0318 χ0 χ3 χ9 χ10 +0.0318 χ0 χ2 χ9 χ11 +0.099 χ0 χ2 χ3 χ9 +0.0983 χ0 χ6 χ7 χ9 +0.099 χ0 χ9 χ10 χ11 -0.0101i χ5 χ8 +0.0101i χ0 χ9 -0.0436 χ1 χ2 χ3 χ4 χ5 χ6 χ7 χ8 +0.0436 χ0 χ1 χ2 χ3 χ4 χ6 χ7 χ9 +0.0229 χ1 χ2 χ4 χ5 χ6 χ7 χ8 χ11 -0.0322 χ1 χ2 χ3 χ4 χ5 χ7 χ8 χ10 +0.0322 χ0 χ1 χ2 χ4 χ6 χ7 χ9 χ11 +0.0322 χ1 χ2 χ4 χ6 χ7 χ8 χ9 χ11 +0.0229 χ0 χ1 χ2 χ3 χ4 χ7 χ9 χ10 +0.0322 χ1 χ2 χ3 χ4 χ7 χ8 χ9 χ10 -0.0122i χ1 χ2 χ4 χ5 χ7 χ8 -0.0122i χ0 χ1 χ2 χ4 χ7 χ9 -0.02i χ1 χ2 χ4 χ7 χ10 χ11 -0.02i χ1 χ2 χ4 χ7 χ8 χ9 +0.0229 χ1 χ2 χ4 χ7 χ8 χ9 χ10 χ11 -0.0229 χ1 χ3 χ4 χ5 χ6 χ7 χ8 χ10 +0.0322 χ1 χ2 χ3 χ4 χ5 χ6 χ8 χ11 -0.0322 χ0 χ1 χ3 χ4 χ6 χ7 χ9 χ10 -0.0322 χ1 χ3 χ4 χ6 χ7 χ8 χ9 χ10 -0.0229 χ0 χ1 χ2 χ3 χ4 χ6 χ9 χ11 -0.0322 χ1 χ2 χ3 χ4 χ6 χ8 χ9 χ11 +0.0122i χ1 χ3 χ4 χ5 χ6 χ8 +0.0122i χ0 χ1 χ3 χ4 χ6 χ9 +0.02i χ1 χ3 χ4 χ6 χ10 χ11 +0.02i χ1 χ3 χ4 χ6 χ8 χ9 -0.0229 χ1 χ3 χ4 χ6 χ8 χ9 χ10 χ11 -0.0122i χ0 χ2 χ3 χ6 χ9 χ11 +0.0122i χ0 χ2 χ3 χ7 χ9 χ10 -0.00854i χ0 χ2 χ3 χ6 χ7 χ9 +0.006i χ0 χ2 χ3 χ9 χ10 χ11 +0.01i χ1 χ4 χ5 χ8 χ10 χ11 -0.0436 χ1 χ4 χ5 χ6 χ7 χ8 χ10 χ11 -0.01i χ0 χ1 χ4 χ9 χ10 χ11 -0.0429 χ1 χ2 χ3 χ4 χ5 χ8 χ10 χ11 +0.0122i χ1 χ4 χ5 χ6 χ8 χ11 -0.0122i χ1 χ4 χ5 χ7 χ8 χ10 +0.02i χ1 χ3 χ4 χ5 χ8 χ10 -0.02i χ1 χ2 χ4 χ5 χ8 χ11 +0.01i χ1 χ2 χ3 χ4 χ5 χ8 -0.0122i χ1 χ3 χ4 χ8 χ9 χ10 +0.0322 χ1 χ3 χ4 χ5 χ6 χ8 χ10 χ11 +0.0429 χ0 χ1 χ4 χ6 χ7 χ9 χ10 χ11 +0.02i χ0 χ1 χ4 χ6 χ9 χ11 -0.0122i χ1 χ4 χ6 χ8 χ9 χ11 +0.0122i χ1 χ4 χ7 χ8 χ9 χ10 +0.0122i χ1 χ2 χ4 χ8 χ9 χ11 -0.0322 χ1 χ2 χ4 χ5 χ7 χ8 χ10 χ11 -0.02i χ0 χ1 χ4 χ7 χ9 χ10 +0.0122i χ3 χ5 χ6 χ7 χ8 χ10 -0.0122i χ2 χ5 χ6 χ7 χ8 χ11 +0.00854i χ2 χ3 χ5 χ6 χ7 χ8 +0.0436 χ0 χ1 χ2 χ3 χ4 χ9 χ10 χ11 -0.006i χ5 χ6 χ7 χ8 χ10 χ11 -0.0122i χ0 χ1 χ3 χ4 χ9 χ10 +0.0122i χ0 χ1 χ2 χ4 χ9 χ11 -0.01i χ0 χ1 χ4 χ6 χ7 χ9 -0.0107i χ0 χ1 χ3 χ4 χ7 χ8 -0.0107i χ0 χ1 χ2 χ4 χ6 χ8 -0.0107i χ0 χ1 χ2 χ4 χ8 χ10 -0.0107i χ0 χ1 χ3 χ4 χ8 χ11 -0.0107i χ1 χ2 χ4 χ5 χ6 χ9 -0.0107i χ1 χ3 χ4 χ5 χ7 χ9 +0.0107i χ1 χ4 χ5 χ7 χ9 χ11 +0.0107i χ1 χ4 χ5 χ6 χ9 χ10 +0.0214i χ1 χ3 χ4 χ5 χ9 χ11 +0.0214i χ1 χ2 χ4 χ5 χ9 χ10 +0.0214i χ0 χ1 χ4 χ6 χ8 χ10 +0.0214i χ0 χ1 χ4 χ7 χ8 χ11 +0.099 χ2 χ4 χ5 χ7 -0.099 χ0 χ1 χ3 χ6 -0.099 χ3 χ4 χ5 χ6 +0.125 χ4 χ5 χ8 χ9 +0.0983 χ0 χ1 χ6 χ11 +0.099 χ4 χ5 χ6 χ11 +0.0152i χ0 χ1 χ2 χ3 χ7 χ10 +0.125 χ0 χ1 χ8 χ9 -0.099 χ0 χ1 χ3 χ10 -0.0152i χ2 χ4 χ5 χ6 χ7 χ11 -0.0106i χ0 χ1 -0.0106i χ4 χ5 +0.00887i χ2 χ3 χ4 χ5 χ6 χ7 +0.087 χ0 χ1 χ10 χ11 +0.00887i χ0 χ1 χ8 χ9 χ10 χ11 +0.00887i χ0 χ1 χ2 χ3 χ6 χ7 +0.087 χ4 χ5 χ10 χ11 +0.00887i χ4 χ5 χ8 χ9 χ10 χ11 +0.0647 χ2 χ3 χ4 χ5 χ6 χ7 χ8 χ9 +0.0647 χ0 χ1 χ2 χ3 χ6 χ7 χ8 χ9 -0.0751 χ1 χ2 χ3 χ6 χ7 χ8 χ10 χ11 +0.0751 χ0 χ2 χ3 χ6 χ7 χ9 χ10 χ11 +0.084i χ2 χ3 χ6 χ7 χ10 χ11 +0.00109i χ2 χ3 χ6 χ7 χ8 χ9 +0.0632 χ2 χ3 χ6 χ7 χ8 χ9 χ10 χ11 +0.0632 χ0 χ1 χ2 χ3 χ6 χ7 χ10 χ11 -0.0425i χ0 χ1 χ2 χ3 χ6 χ7 χ8 χ9 χ10 χ11 +0.0632 χ2 χ3 χ4 χ5 χ6 χ7 χ10 χ11 -0.0425i χ2 χ3 χ4 χ5 χ6 χ7 χ8 χ9 χ10 χ11 -0.0122i χ1 χ2 χ7 χ8 χ10 χ11 +0.0436 χ2 χ4 χ5 χ6 χ7 χ8 χ9 χ11 -0.0429 χ2 χ3 χ4 χ5 χ7 χ8 χ9 χ10 +0.0436 χ2 χ4 χ5 χ7 χ8 χ9 χ10 χ11 -0.00854i χ2 χ4 χ5 χ7 χ8 χ9 -0.02i χ2 χ3 χ4 χ7 χ9 χ10 -0.0122i χ2 χ4 χ7 χ9 χ10 χ11 +0.0122i χ2 χ5 χ7 χ8 χ10 χ11 +0.0122i χ0 χ2 χ7 χ9 χ10 χ11 +0.02i χ2 χ3 χ5 χ7 χ8 χ10 +0.01i χ2 χ3 χ7 χ8 χ9 χ10 +0.0751 χ2 χ3 χ4 χ6 χ7 χ9 χ10 χ11 -0.0751 χ2 χ3 χ5 χ6 χ7 χ8 χ10 χ11 +0.099 χ0 χ1 χ2 χ7 +0.01i χ0 χ1 χ3 χ6 χ10 χ11 +0.0429 χ0 χ1 χ2 χ6 χ7 χ8 χ9 χ11 -0.02i χ1 χ2 χ6 χ7 χ8 χ11 +0.02i χ0 χ2 χ6 χ7 χ9 χ11 -0.01i χ0 χ1 χ2 χ6 χ7 χ11 -0.01i χ2 χ6 χ7 χ8 χ9 χ11 -0.006i χ0 χ1 χ3 χ8 χ9 χ10 -0.0436 χ0 χ1 χ2 χ3 χ7 χ8 χ9 χ10 +0.0436 χ0 χ1 χ2 χ7 χ8 χ9 χ10 χ11 -0.00854i χ0 χ1 χ2 χ7 χ8 χ9 +0.01i χ3 χ4 χ5 χ6 χ10 χ11 +0.01i χ2 χ3 χ4 χ5 χ7 χ10 +0.006i χ4 χ5 χ6 χ8 χ9 χ11 -0.01i χ0 χ1 χ2 χ7 χ10 χ11 -0.01i χ2 χ4 χ5 χ7 χ10 χ11 +0.00854i χ3 χ4 χ5 χ6 χ8 χ9 -0.0436 χ3 χ4 χ5 χ6 χ8 χ9 χ10 χ11 +0.0107i χ1 χ2 χ3 χ5 χ7 χ11 +0.0107i χ0 χ2 χ3 χ4 χ7 χ11 +0.0107i χ0 χ2 χ3 χ7 χ8 χ11 +0.0107i χ1 χ2 χ3 χ7 χ9 χ11 +0.00854i χ0 χ1 χ3 χ6 χ8 χ9 -0.0436 χ0 χ1 χ3 χ6 χ8 χ9 χ10 χ11 +0.0107i χ0 χ2 χ4 χ6 χ7 χ10 +0.0107i χ1 χ2 χ5 χ6 χ7 χ10 -0.0107i χ2 χ5 χ6 χ7 χ9 χ10 -0.0107i χ2 χ4 χ6 χ7 χ8 χ10 +0.0214i χ2 χ3 χ4 χ7 χ8 χ11 +0.0214i χ2 χ3 χ5 χ7 χ9 χ11 +0.0214i χ1 χ2 χ6 χ7 χ9 χ10 +0.0214i χ0 χ2 χ6 χ7 χ8 χ10 -0.0152i χ0 χ1 χ2 χ3 χ6 χ11 -0.0983 χ0 χ1 χ7 χ10 -0.099 χ4 χ5 χ7 χ10 +0.0152i χ3 χ4 χ5 χ6 χ7 χ10 +0.099 χ0 χ1 χ2 χ11 +0.0122i χ1 χ3 χ6 χ8 χ10 χ11 -0.0429 χ1 χ2 χ3 χ4 χ6 χ7 χ8 χ9 -0.0436 χ3 χ4 χ5 χ6 χ7 χ8 χ9 χ10 +0.0429 χ2 χ3 χ4 χ5 χ6 χ8 χ9 χ11 +0.02i χ2 χ3 χ4 χ6 χ9 χ11 +0.0122i χ3 χ4 χ6 χ9 χ10 χ11 -0.0122i χ3 χ5 χ6 χ8 χ10 χ11 -0.0122i χ0 χ3 χ6 χ9 χ10 χ11 +0.0429 χ0 χ2 χ3 χ5 χ6 χ7 χ8 χ9 -0.02i χ2 χ3 χ5 χ6 χ8 χ11 +0.006i χ0 χ1 χ2 χ8 χ9 χ11 +0.01i χ3 χ6 χ7 χ8 χ9 χ10 -0.01i χ2 χ3 χ6 χ8 χ9 χ11 -0.0429 χ0 χ1 χ3 χ6 χ7 χ8 χ9 χ10 +0.02i χ1 χ3 χ6 χ7 χ8 χ10 -0.02i χ0 χ3 χ6 χ7 χ9 χ10 +0.01i χ0 χ1 χ3 χ6 χ7 χ10 +0.0436 χ0 χ1 χ2 χ3 χ6 χ8 χ9 χ11 -0.006i χ4 χ5 χ7 χ8 χ9 χ10 -0.01i χ2 χ3 χ4 χ5 χ6 χ11 +0.0107i χ1 χ2 χ3 χ5 χ6 χ10 +0.0107i χ0 χ2 χ3 χ4 χ6 χ10 +0.0107i χ0 χ2 χ3 χ6 χ8 χ10 +0.0107i χ1 χ2 χ3 χ6 χ9 χ10 +0.0107i χ0 χ3 χ4 χ6 χ7 χ11 +0.0107i χ1 χ3 χ5 χ6 χ7 χ11 -0.0107i χ3 χ5 χ6 χ7 χ9 χ11 -0.0107i χ3 χ4 χ6 χ7 χ8 χ11 +0.0214i χ2 χ3 χ4 χ6 χ8 χ10 +0.0214i χ2 χ3 χ5 χ6 χ9 χ10 +0.0214i χ1 χ3 χ6 χ7 χ9 χ11 +0.0214i χ0 χ3 χ6 χ7 χ8 χ11 +0.00887i χ4 χ5 χ6 χ7 χ8 χ9 +0.0597 χ0 χ1 χ2 χ3 +0.087 χ0 χ1 χ6 χ7 +0.00854i χ1 χ6 χ7 χ8 χ10 χ11 +0.00887i χ0 χ1 χ2 χ3 χ10 χ11 +0.0569 χ4 χ5 χ6 χ7 χ8 χ9 χ10 χ11 -0.0536i χ0 χ1 χ2 χ3 χ4 χ5 χ6 χ8 χ9 χ11 +0.0536i χ0 χ1 χ2 χ3 χ4 χ5 χ7 χ8 χ9 χ10 +0.0647 χ2 χ3 χ4 χ5 χ8 χ9 χ10 χ11 +0.00854i χ3 χ4 χ5 χ8 χ9 χ10 -0.00854i χ2 χ4 χ5 χ8 χ9 χ11 +0.00109i χ2 χ3 χ4 χ5 χ8 χ9 -0.0425i χ0 χ1 χ2 χ3 χ4 χ5 χ6 χ7 χ8 χ9 -0.0536i χ0 χ1 χ2 χ3 χ4 χ6 χ7 χ9 χ10 χ11 -0.00854i χ2 χ3 χ4 χ9 χ10 χ11 +0.00854i χ2 χ3 χ5 χ8 χ10 χ11 +0.0214i χ0 χ3 χ4 χ7 χ8 χ9 +0.0214i χ0 χ2 χ4 χ6 χ8 χ9 +0.0107i χ0 χ2 χ4 χ8 χ9 χ10 +0.0107i χ0 χ3 χ4 χ8 χ9 χ11 +0.0536i χ0 χ1 χ2 χ3 χ5 χ6 χ7 χ8 χ10 χ11 +0.0107i χ0 χ4 χ6 χ8 χ9 χ10 +0.0107i χ0 χ4 χ7 χ8 χ9 χ11 -0.00854i χ0 χ6 χ7 χ9 χ10 χ11 +0.0214i χ1 χ3 χ5 χ7 χ8 χ9 +0.0214i χ1 χ2 χ5 χ6 χ8 χ9 +0.0107i χ1 χ2 χ5 χ8 χ9 χ10 +0.0107i χ1 χ3 χ5 χ8 χ9 χ11 +0.0107i χ1 χ5 χ6 χ8 χ9 χ10 +0.0107i χ1 χ5 χ7 χ8 χ9 χ11 -0.0322 χ0 χ1 χ3 χ5 χ6 χ8 χ10 χ11 +0.0322 χ0 χ1 χ3 χ4 χ6 χ9 χ10 χ11 +0.00887i χ4 χ5 χ6 χ7 χ10 χ11 +0.087 χ2 χ3 χ4 χ5 +0.00887i χ0 χ1 χ2 χ3 χ8 χ9 +0.0647 χ0 χ1 χ6 χ7 χ8 χ9 χ10 χ11 +0.00109i χ0 χ1 χ6 χ7 χ10 χ11 -0.0425i χ0 χ1 χ2 χ3 χ4 χ5 χ6 χ7 χ10 χ11 -0.00854i χ0 χ1 χ6 χ8 χ9 χ11 +0.00854i χ0 χ1 χ7 χ8 χ9 χ10 +0.0214i χ1 χ2 χ5 χ6 χ10 χ11 +0.0214i χ0 χ2 χ4 χ6 χ10 χ11 -0.0107i χ0 χ2 χ6 χ8 χ10 χ11 -0.0107i χ1 χ2 χ6 χ9 χ10 χ11 -0.0107i χ2 χ4 χ6 χ8 χ10 χ11 -0.0107i χ2 χ5 χ6 χ9 χ10 χ11 +0.0322 χ0 χ1 χ2 χ5 χ7 χ8 χ10 χ11 -0.0322 χ0 χ1 χ2 χ4 χ7 χ9 χ10 χ11 +0.0214i χ1 χ3 χ5 χ7 χ10 χ11 +0.0214i χ0 χ3 χ4 χ7 χ10 χ11 -0.0107i χ0 χ3 χ7 χ8 χ10 χ11 -0.0107i χ1 χ3 χ7 χ9 χ10 χ11 -0.0107i χ3 χ4 χ7 χ8 χ10 χ11 -0.0107i χ3 χ5 χ7 χ9 χ10 χ11 +0.0597 χ4 χ5 χ6 χ7 +0.0569 χ0 χ1 χ2 χ3 χ8 χ9 χ10 χ11 +0.0536i χ0 χ1 χ3 χ4 χ5 χ6 χ7 χ8 χ9 χ10 -0.0536i χ0 χ1 χ2 χ4 χ5 χ6 χ7 χ8 χ9 χ11 +0.00109i χ0 χ1 χ6 χ7 χ8 χ9 +0.0536i χ1 χ2 χ3 χ4 χ5 χ6 χ7 χ8 χ10 χ11 -0.0536i χ0 χ2 χ3 χ4 χ5 χ6 χ7 χ9 χ10 χ11 -0.0983 χ3 χ4 χ5 χ10 +0.0983 χ2 χ4 χ5 χ11 +0.00109i χ2 χ3 χ4 χ5 χ10 χ11 +0.00618 χ1 χ3 χ5 χ7 +0.00618 χ1 χ2 χ5 χ6 +0.00309 χ1 χ2 χ5 χ10 +0.00309 χ1 χ3 χ5 χ11 +0.00618 χ0 χ3 χ4 χ7 +0.00618 χ0 χ2 χ4 χ6 +0.00309 χ0 χ2 χ4 χ10 +0.00309 χ0 χ3 χ4 χ11 -0.00309 χ0 χ3 χ7 χ8 -0.00309 χ1 χ3 χ7 χ9 -0.00309 χ0 χ2 χ6 χ8 -0.00309 χ1 χ2 χ6 χ9 +0.00618 χ0 χ2 χ8 χ10 +0.00618 χ0 χ3 χ8 χ11 +0.00618 χ1 χ2 χ9 χ10 +0.00618 χ1 χ3 χ9 χ11 -0.0218 χ0 χ1 χ2 χ3 χ4 χ5 χ6 χ7 χ8 χ9 χ10 χ11 +0.00309 χ0 χ4 χ7 χ11 +0.00309 χ0 χ4 χ6 χ10 +0.00309 χ1 χ5 χ7 χ11 +0.00309 χ1 χ5 χ6 χ10 -0.00309 χ2 χ5 χ6 χ9 -0.00309 χ2 χ4 χ6 χ8 -0.00309 χ3 χ5 χ7 χ9 -0.00309 χ3 χ4 χ7 χ8 +0.00618 χ5 χ7 χ9 χ11 +0.00618 χ5 χ6 χ9 χ10 +0.00618 χ4 χ7 χ8 χ11 +0.00618 χ4 χ6 χ8 χ10 -0.00309 χ3 χ4 χ8 χ11 -0.00309 χ2 χ4 χ8 χ10 -0.00309 χ3 χ5 χ9 χ11 -0.00309 χ2 χ5 χ9 χ10 +0.00309 χ1 χ6 χ9 χ10 +0.00309 χ0 χ6 χ8 χ10 +0.00309 χ1 χ7 χ9 χ11 +0.00309 χ0 χ7 χ8 χ11 +0.0214 χ1 χ3 χ5 χ7 χ8 χ9 χ10 χ11 +0.0214 χ1 χ2 χ5 χ6 χ8 χ9 χ10 χ11 +0.0214 χ0 χ3 χ4 χ7 χ8 χ9 χ10 χ11 +0.0214 χ0 χ2 χ4 χ6 χ8 χ9 χ10 χ11 +0.0214 χ0 χ2 χ4 χ5 χ6 χ7 χ8 χ10 +0.0214 χ0 χ3 χ4 χ5 χ6 χ7 χ8 χ11 +0.0214 χ1 χ2 χ4 χ5 χ6 χ7 χ9 χ10 +0.0214 χ1 χ3 χ4 χ5 χ6 χ7 χ9 χ11 +0.0214 χ0 χ1 χ2 χ3 χ5 χ7 χ9 χ11 +0.0214 χ0 χ1 χ2 χ3 χ5 χ6 χ9 χ10 +0.0214 χ0 χ1 χ2 χ3 χ4 χ7 χ8 χ11 +0.0214 χ0 χ1 χ2 χ3 χ4 χ6 χ8 χ10,\n",
       " -0.041i χ1 χ4 +0.041i χ2 χ7 -0.041i χ3 χ6 +0.041i χ4 χ9 +0.041i χ6 χ11 -0.041i χ7 χ10 -0.041i χ1 χ8 -0.041i χ3 χ10 +0.041i χ2 χ11 -0.202i χ2 χ3 -0.202i χ6 χ7 -0.0755 χ8 χ9 χ10 χ11 -0.0173i χ0 χ1 χ2 χ4 χ5 χ7 +0.0173i χ0 χ1 χ3 χ4 χ5 χ6 -0.0219i χ0 χ1 χ4 χ5 χ6 χ11 +0.0219i χ0 χ1 χ4 χ5 χ7 χ10 +0.0219i χ0 χ1 χ3 χ4 χ5 χ10 -0.0219i χ0 χ1 χ2 χ4 χ5 χ11 -0.0928i χ0 χ1 χ2 χ3 χ4 χ5 -0.0928i χ0 χ1 χ4 χ5 χ6 χ7 -0.109i χ0 χ1 χ4 χ5 χ10 χ11 -0.199i χ0 χ1 χ4 χ5 χ8 χ9 -0.0245 χ0 χ1 χ4 χ5 χ8 χ9 χ10 χ11 -0.0173i χ0 χ2 χ3 χ5 χ6 χ7 +0.0362i χ0 χ2 χ4 χ5 χ7 χ9 -0.0362i χ0 χ2 χ5 χ6 χ7 χ11 +0.0362i χ0 χ1 χ2 χ5 χ7 χ8 -0.0362i χ0 χ2 χ3 χ5 χ7 χ10 +0.0114 χ0 χ2 χ5 χ7 χ8 χ9 χ10 χ11 -0.0362i χ0 χ3 χ4 χ5 χ6 χ9 +0.0362i χ0 χ3 χ5 χ6 χ7 χ10 -0.0362i χ0 χ1 χ3 χ5 χ6 χ8 +0.0362i χ0 χ2 χ3 χ5 χ6 χ11 -0.0114 χ0 χ3 χ5 χ6 χ8 χ9 χ10 χ11 -0.0362i χ0 χ4 χ5 χ6 χ9 χ11 +0.0362i χ0 χ4 χ5 χ7 χ9 χ10 +0.036i χ0 χ3 χ4 χ5 χ9 χ10 -0.036i χ0 χ2 χ4 χ5 χ9 χ11 -0.0521i χ0 χ2 χ3 χ4 χ5 χ9 -0.0443i χ0 χ4 χ5 χ6 χ7 χ9 -0.0521i χ0 χ4 χ5 χ9 χ10 χ11 +0.0213 χ1 χ2 χ3 χ8 -0.0219i χ0 χ5 χ6 χ7 χ10 χ11 +0.036i χ0 χ1 χ5 χ6 χ8 χ11 +0.0362i χ0 χ5 χ6 χ8 χ9 χ11 -0.036i χ0 χ1 χ5 χ7 χ8 χ10 -0.0362i χ0 χ5 χ7 χ8 χ9 χ10 +0.0362i χ0 χ1 χ3 χ5 χ8 χ10 -0.0362i χ0 χ1 χ2 χ5 χ8 χ11 +0.0443i χ0 χ1 χ2 χ3 χ5 χ8 +0.0521i χ0 χ1 χ5 χ6 χ7 χ8 +0.0521i χ0 χ1 χ5 χ8 χ10 χ11 -0.0213 χ4 χ6 χ7 χ9 -0.0219i χ0 χ2 χ3 χ5 χ10 χ11 +0.0362i χ0 χ3 χ5 χ8 χ9 χ10 -0.0362i χ0 χ2 χ5 χ8 χ9 χ11 +0.0411 χ0 χ1 χ4 χ5 +0.00546 χ0 χ2 χ5 χ7 -0.00546 χ0 χ3 χ5 χ6 +0.0106 χ0 χ4 χ5 χ9 +0.029 χ0 χ5 χ6 χ11 -0.029 χ0 χ5 χ7 χ10 -0.0106 χ0 χ1 χ5 χ8 +0.029 χ0 χ3 χ5 χ10 -0.029 χ0 χ2 χ5 χ11 -0.0213 χ0 χ2 χ3 χ5 -0.0213 χ0 χ5 χ6 χ7 +0.0188 χ0 χ5 χ10 χ11 +0.0106 χ0 χ5 χ8 χ9 -0.0443i χ0 χ5 χ8 χ9 χ10 χ11 -0.0521i χ0 χ2 χ3 χ5 χ8 χ9 -0.0443 χ0 χ2 χ3 χ5 χ8 χ9 χ10 χ11 +0.0213 χ1 χ4 χ6 χ7 +0.0213 χ1 χ2 χ3 χ4 +0.0173i χ1 χ2 χ3 χ4 χ6 χ7 -0.0521i χ0 χ5 χ6 χ7 χ8 χ9 -0.0443 χ0 χ5 χ6 χ7 χ8 χ9 χ10 χ11 +0.0362i χ1 χ2 χ4 χ6 χ7 χ11 +0.0362i χ1 χ2 χ3 χ4 χ7 χ10 -0.0114 χ1 χ2 χ4 χ7 χ8 χ9 χ10 χ11 -0.0362i χ1 χ3 χ4 χ6 χ7 χ10 -0.0362i χ1 χ2 χ3 χ4 χ6 χ11 +0.0114 χ1 χ3 χ4 χ6 χ8 χ9 χ10 χ11 +0.0219i χ1 χ4 χ6 χ7 χ10 χ11 -0.0362i χ1 χ4 χ6 χ8 χ9 χ11 +0.0362i χ1 χ4 χ7 χ8 χ9 χ10 +0.0219i χ1 χ2 χ3 χ4 χ10 χ11 -0.0362i χ1 χ3 χ4 χ8 χ9 χ10 +0.0362i χ1 χ2 χ4 χ8 χ9 χ11 -0.00546 χ1 χ2 χ4 χ7 +0.00546 χ1 χ3 χ4 χ6 -0.029 χ1 χ4 χ6 χ11 +0.029 χ1 χ4 χ7 χ10 -0.029 χ1 χ3 χ4 χ10 +0.029 χ1 χ2 χ4 χ11 -0.0188 χ1 χ4 χ10 χ11 -0.0106 χ1 χ4 χ8 χ9 +0.0443i χ1 χ4 χ8 χ9 χ10 χ11 +0.0521i χ1 χ2 χ3 χ4 χ8 χ9 +0.0443 χ1 χ2 χ3 χ4 χ8 χ9 χ10 χ11 +0.0521i χ1 χ4 χ6 χ7 χ8 χ9 +0.0443 χ1 χ4 χ6 χ7 χ8 χ9 χ10 χ11 -0.0219i χ2 χ3 χ4 χ6 χ7 χ9 +0.0219i χ1 χ2 χ3 χ6 χ7 χ8 -0.199i χ2 χ3 χ6 χ7 χ10 χ11 -0.0245 χ2 χ3 χ6 χ7 χ8 χ9 χ10 χ11 +0.0362i χ2 χ4 χ6 χ7 χ9 χ11 +0.036i χ2 χ3 χ4 χ7 χ9 χ10 +0.036i χ1 χ2 χ6 χ7 χ8 χ11 -0.0521i χ2 χ6 χ7 χ8 χ9 χ11 -0.0362i χ1 χ2 χ3 χ7 χ8 χ10 +0.0521i χ2 χ3 χ7 χ8 χ9 χ10 +0.0411 χ2 χ3 χ6 χ7 -0.029 χ2 χ4 χ7 χ9 +0.0106 χ2 χ6 χ7 χ11 -0.029 χ1 χ2 χ7 χ8 -0.0106 χ2 χ3 χ7 χ10 +0.0106 χ2 χ7 χ10 χ11 +0.0188 χ2 χ7 χ8 χ9 -0.0443i χ2 χ7 χ8 χ9 χ10 χ11 -0.0362i χ3 χ4 χ6 χ7 χ9 χ10 -0.036i χ2 χ3 χ4 χ6 χ9 χ11 -0.036i χ1 χ3 χ6 χ7 χ8 χ10 +0.0521i χ3 χ6 χ7 χ8 χ9 χ10 +0.0362i χ1 χ2 χ3 χ6 χ8 χ11 -0.0521i χ2 χ3 χ6 χ8 χ9 χ11 +0.029 χ3 χ4 χ6 χ9 -0.0106 χ3 χ6 χ7 χ10 +0.029 χ1 χ3 χ6 χ8 +0.0106 χ2 χ3 χ6 χ11 -0.0106 χ3 χ6 χ10 χ11 -0.0188 χ3 χ6 χ8 χ9 +0.0443i χ3 χ6 χ8 χ9 χ10 χ11 +0.0213 χ1 χ8 χ10 χ11 +0.036i χ1 χ2 χ4 χ7 χ8 χ9 -0.036i χ1 χ3 χ4 χ6 χ8 χ9 -0.202i χ10 χ11 -0.0245 χ0 χ1 χ2 χ3 χ4 χ5 χ8 χ9 -0.0173i χ4 χ6 χ7 χ9 χ10 χ11 -0.0219i χ2 χ3 χ4 χ9 χ10 χ11 +0.00546 χ4 χ6 χ9 χ11 -0.00546 χ4 χ7 χ9 χ10 -0.029 χ3 χ4 χ9 χ10 +0.029 χ2 χ4 χ9 χ11 +0.0188 χ2 χ3 χ4 χ9 -0.0213 χ4 χ9 χ10 χ11 -0.036i χ0 χ2 χ5 χ7 χ8 χ9 +0.036i χ0 χ3 χ5 χ6 χ8 χ9 -0.0114 χ0 χ1 χ2 χ3 χ5 χ6 χ8 χ11 +0.0114 χ0 χ1 χ2 χ3 χ5 χ7 χ8 χ10 +0.0443 χ0 χ1 χ2 χ3 χ5 χ6 χ7 χ8 +0.0443 χ0 χ1 χ2 χ3 χ5 χ8 χ10 χ11 +0.036i χ0 χ3 χ5 χ6 χ10 χ11 -0.036i χ1 χ3 χ4 χ6 χ10 χ11 +0.0213 χ3 χ8 χ9 χ10 +0.0362i χ3 χ4 χ6 χ9 χ10 χ11 -0.202i χ8 χ9 +0.0219i χ1 χ6 χ7 χ8 χ10 χ11 -0.0928i χ6 χ7 χ8 χ9 χ10 χ11 +0.0411 χ6 χ7 χ10 χ11 +0.029 χ1 χ6 χ8 χ11 -0.0213 χ6 χ8 χ9 χ11 -0.0443 χ0 χ1 χ2 χ3 χ4 χ5 χ6 χ11 +0.0213 χ7 χ8 χ9 χ10 -0.036i χ0 χ2 χ5 χ7 χ10 χ11 +0.036i χ1 χ2 χ4 χ7 χ10 χ11 -0.0213 χ2 χ8 χ9 χ11 -0.0362i χ2 χ4 χ7 χ9 χ10 χ11 -0.029 χ1 χ7 χ8 χ10 +0.0443 χ0 χ1 χ2 χ3 χ4 χ5 χ7 χ10 -0.0245 χ0 χ1 χ4 χ5 χ6 χ7 χ8 χ9 +0.0173i χ1 χ2 χ3 χ8 χ10 χ11 +0.00546 χ1 χ3 χ8 χ10 -0.00546 χ1 χ2 χ8 χ11 -0.0188 χ1 χ6 χ7 χ8 -0.0114 χ0 χ3 χ4 χ5 χ6 χ7 χ9 χ10 +0.0114 χ0 χ2 χ4 χ5 χ6 χ7 χ9 χ11 -0.0443 χ0 χ2 χ3 χ4 χ5 χ6 χ7 χ9 -0.0443 χ0 χ4 χ5 χ6 χ7 χ9 χ10 χ11 -0.0928i χ2 χ3 χ8 χ9 χ10 χ11 +0.0411 χ2 χ3 χ10 χ11 +0.0443 χ0 χ1 χ3 χ4 χ5 χ6 χ7 χ10 -0.0443 χ0 χ1 χ2 χ4 χ5 χ6 χ7 χ11 +0.00301 χ2 χ3 χ8 χ9 -0.0734 χ0 χ1 χ2 χ3 χ4 χ5 χ6 χ7 +0.00301 χ6 χ7 χ8 χ9 -0.045 χ0 χ1 χ4 χ5 χ6 χ7 χ10 χ11 -0.0904i χ0 χ1 χ4 χ5 χ6 χ7 χ8 χ9 χ10 χ11 -0.0208 χ1 χ3 χ7 χ9 -0.0208 χ1 χ2 χ6 χ9 +0.0326 χ1 χ2 χ9 χ10 +0.0326 χ1 χ3 χ9 χ11 -0.045 χ0 χ1 χ2 χ3 χ4 χ5 χ10 χ11 -0.0904i χ0 χ1 χ2 χ3 χ4 χ5 χ8 χ9 χ10 χ11 -0.0904i χ0 χ1 χ2 χ3 χ4 χ5 χ6 χ7 χ10 χ11 -0.146 χ0 χ1 χ2 χ3 χ4 χ5 χ6 χ7 χ8 χ9 χ10 χ11 +0.0326 χ4 χ7 χ8 χ11 +0.0326 χ4 χ6 χ8 χ10 -0.0208 χ3 χ4 χ8 χ11 -0.0208 χ2 χ4 χ8 χ10 +0.0208 χ1 χ6 χ9 χ10 +0.0208 χ1 χ7 χ9 χ11 -0.0451i χ0 χ1 χ2 χ4 χ5 χ6 χ7 χ8 χ9 χ11 +0.0451i χ0 χ1 χ2 χ3 χ4 χ5 χ7 χ8 χ9 χ10 -0.0042 χ0 χ1 χ2 χ4 χ5 χ7 χ10 χ11 +0.0124 χ0 χ1 χ2 χ4 χ5 χ7 χ8 χ9 -0.0451i χ0 χ1 χ2 χ4 χ5 χ7 χ8 χ9 χ10 χ11 +0.0451i χ0 χ1 χ3 χ4 χ5 χ6 χ7 χ8 χ9 χ10 -0.0451i χ0 χ1 χ2 χ3 χ4 χ5 χ6 χ8 χ9 χ11 +0.0042 χ0 χ1 χ3 χ4 χ5 χ6 χ10 χ11 -0.0124 χ0 χ1 χ3 χ4 χ5 χ6 χ8 χ9 +0.0451i χ0 χ1 χ3 χ4 χ5 χ6 χ8 χ9 χ10 χ11 -0.0124 χ0 χ1 χ3 χ4 χ5 χ8 χ9 χ10 +0.0124 χ0 χ1 χ4 χ5 χ6 χ8 χ9 χ11 -0.0124 χ0 χ1 χ4 χ5 χ7 χ8 χ9 χ10 +0.0124 χ0 χ1 χ2 χ4 χ5 χ8 χ9 χ11 +0.0451i χ0 χ1 χ2 χ3 χ5 χ6 χ7 χ8 χ10 χ11 +0.0124 χ0 χ2 χ3 χ5 χ6 χ7 χ10 χ11 -0.0042 χ0 χ2 χ3 χ5 χ6 χ7 χ8 χ9 -0.0451i χ0 χ2 χ3 χ5 χ6 χ7 χ8 χ9 χ10 χ11 +0.0241 χ0 χ1 χ2 χ5 χ7 χ8 χ10 χ11 +0.0241 χ0 χ2 χ3 χ4 χ5 χ7 χ9 χ10 +0.0241 χ0 χ2 χ4 χ5 χ7 χ9 χ10 χ11 -0.0241 χ0 χ2 χ3 χ5 χ7 χ8 χ9 χ10 -0.0451i χ0 χ2 χ3 χ4 χ5 χ6 χ7 χ9 χ10 χ11 -0.0241 χ0 χ1 χ2 χ5 χ6 χ7 χ8 χ11 -0.0241 χ0 χ2 χ5 χ6 χ7 χ8 χ9 χ11 +0.00908 χ0 χ1 χ2 χ3 χ5 χ7 χ9 χ11 +0.00908 χ0 χ2 χ4 χ5 χ6 χ7 χ8 χ10 +0.00745 χ0 χ2 χ3 χ4 χ5 χ7 χ8 χ11 -0.00745 χ0 χ1 χ2 χ5 χ6 χ7 χ9 χ10 -0.0241 χ0 χ1 χ3 χ5 χ6 χ8 χ10 χ11 -0.0904i χ0 χ1 χ2 χ3 χ4 χ5 χ6 χ7 χ8 χ9 -0.0241 χ0 χ2 χ3 χ4 χ5 χ6 χ9 χ11 -0.0241 χ0 χ3 χ4 χ5 χ6 χ9 χ10 χ11 -0.109i χ2 χ3 χ6 χ7 χ8 χ9 +0.0241 χ0 χ3 χ5 χ6 χ7 χ8 χ9 χ10 +0.0241 χ0 χ2 χ3 χ5 χ6 χ8 χ9 χ11 +0.0241 χ0 χ1 χ3 χ5 χ6 χ7 χ8 χ10 +0.00908 χ0 χ1 χ2 χ3 χ5 χ6 χ9 χ10 +0.00908 χ0 χ3 χ4 χ5 χ6 χ7 χ8 χ11 +0.00745 χ0 χ2 χ3 χ4 χ5 χ6 χ8 χ10 -0.00745 χ0 χ1 χ3 χ5 χ6 χ7 χ9 χ11 +0.0042 χ0 χ1 χ5 χ6 χ7 χ8 χ10 χ11 -0.0241 χ1 χ2 χ3 χ4 χ6 χ8 χ9 χ11 +0.0241 χ1 χ2 χ3 χ4 χ7 χ8 χ9 χ10 +0.0042 χ1 χ2 χ3 χ4 χ6 χ7 χ8 χ9 -0.0042 χ0 χ2 χ3 χ4 χ5 χ9 χ10 χ11 -0.0124 χ1 χ2 χ3 χ6 χ7 χ8 χ10 χ11 +0.0362i χ1 χ3 χ6 χ8 χ10 χ11 -0.0124 χ1 χ2 χ3 χ4 χ6 χ7 χ10 χ11 -0.00745 χ0 χ2 χ4 χ5 χ6 χ8 χ10 χ11 -0.0362i χ1 χ2 χ7 χ8 χ10 χ11 -0.00745 χ0 χ3 χ4 χ5 χ7 χ8 χ10 χ11 -0.0241 χ1 χ3 χ4 χ6 χ7 χ8 χ9 χ10 +0.0241 χ1 χ2 χ4 χ6 χ7 χ8 χ9 χ11 +0.0124 χ2 χ3 χ4 χ6 χ7 χ9 χ10 χ11 -0.00603i χ0 χ1 χ3 χ5 χ7 χ9 -0.00603i χ0 χ1 χ2 χ5 χ6 χ9 -0.00603i χ0 χ1 χ2 χ5 χ9 χ10 -0.00603i χ0 χ1 χ3 χ5 χ9 χ11 +0.0451i χ1 χ2 χ3 χ4 χ6 χ7 χ8 χ9 χ10 χ11 -0.00603i χ0 χ2 χ4 χ5 χ6 χ8 -0.00603i χ0 χ3 χ4 χ5 χ7 χ8 +0.00603i χ0 χ4 χ5 χ7 χ8 χ11 +0.00603i χ0 χ4 χ5 χ6 χ8 χ10 -0.00881i χ0 χ3 χ4 χ5 χ8 χ11 -0.00881i χ0 χ2 χ4 χ5 χ8 χ10 -0.00881i χ0 χ1 χ5 χ6 χ9 χ10 -0.00881i χ0 χ1 χ5 χ7 χ9 χ11 -0.00603i χ2 χ4 χ6 χ7 χ8 χ10 -0.00603i χ3 χ4 χ6 χ7 χ8 χ11 +0.00603i χ1 χ2 χ3 χ7 χ9 χ11 +0.00603i χ1 χ2 χ3 χ6 χ9 χ10 +0.041i χ0 χ5 -0.041i χ5 χ8 +0.041i χ0 χ9 -0.0362i χ1 χ2 χ4 χ5 χ7 χ8 -0.0362i χ0 χ1 χ2 χ4 χ7 χ9 +0.0362i χ1 χ3 χ4 χ5 χ6 χ8 +0.0362i χ0 χ1 χ3 χ4 χ6 χ9 -0.0213 χ0 χ2 χ3 χ9 +0.0362i χ1 χ4 χ5 χ6 χ8 χ11 -0.0362i χ1 χ4 χ5 χ7 χ8 χ10 -0.036i χ1 χ3 χ4 χ5 χ8 χ10 +0.036i χ1 χ2 χ4 χ5 χ8 χ11 +0.0521i χ1 χ2 χ3 χ4 χ5 χ8 +0.0443i χ1 χ4 χ5 χ6 χ7 χ8 +0.0521i χ1 χ4 χ5 χ8 χ10 χ11 -0.036i χ0 χ1 χ4 χ6 χ9 χ11 +0.036i χ0 χ1 χ4 χ7 χ9 χ10 +0.0213 χ5 χ6 χ7 χ8 -0.0362i χ0 χ1 χ3 χ4 χ9 χ10 +0.0362i χ0 χ1 χ2 χ4 χ9 χ11 -0.0443i χ0 χ1 χ2 χ3 χ4 χ9 -0.0521i χ0 χ1 χ4 χ6 χ7 χ9 -0.0521i χ0 χ1 χ4 χ9 χ10 χ11 -0.0106 χ1 χ4 χ5 χ8 +0.0106 χ0 χ1 χ4 χ9 +0.0219i χ2 χ3 χ5 χ6 χ7 χ8 -0.0219i χ0 χ2 χ3 χ6 χ7 χ9 -0.0362i χ2 χ5 χ6 χ7 χ8 χ11 -0.036i χ2 χ3 χ5 χ7 χ8 χ10 -0.036i χ0 χ2 χ6 χ7 χ9 χ11 +0.0362i χ0 χ2 χ3 χ7 χ9 χ10 +0.029 χ2 χ5 χ7 χ8 +0.029 χ0 χ2 χ7 χ9 +0.0362i χ3 χ5 χ6 χ7 χ8 χ10 +0.036i χ2 χ3 χ5 χ6 χ8 χ11 +0.036i χ0 χ3 χ6 χ7 χ9 χ10 -0.0362i χ0 χ2 χ3 χ6 χ9 χ11 -0.029 χ3 χ5 χ6 χ8 -0.029 χ0 χ3 χ6 χ9 +0.0114 χ0 χ1 χ2 χ3 χ4 χ6 χ9 χ11 -0.0114 χ0 χ1 χ2 χ3 χ4 χ7 χ9 χ10 -0.0443 χ0 χ1 χ2 χ3 χ4 χ6 χ7 χ9 -0.0443 χ0 χ1 χ2 χ3 χ4 χ9 χ10 χ11 +0.0213 χ5 χ8 χ10 χ11 +0.0173i χ5 χ6 χ7 χ8 χ10 χ11 -0.0213 χ0 χ9 χ10 χ11 +0.0219i χ2 χ3 χ5 χ8 χ10 χ11 -0.00546 χ5 χ6 χ8 χ11 +0.00546 χ5 χ7 χ8 χ10 +0.029 χ3 χ5 χ8 χ10 -0.029 χ2 χ5 χ8 χ11 -0.0188 χ2 χ3 χ5 χ8 -0.0362i χ3 χ5 χ6 χ8 χ10 χ11 -0.0219i χ0 χ6 χ7 χ9 χ10 χ11 -0.029 χ0 χ6 χ9 χ11 +0.0362i χ2 χ5 χ7 χ8 χ10 χ11 +0.029 χ0 χ7 χ9 χ10 +0.0114 χ1 χ3 χ4 χ5 χ6 χ7 χ8 χ10 -0.0114 χ1 χ2 χ4 χ5 χ6 χ7 χ8 χ11 +0.0443 χ1 χ2 χ3 χ4 χ5 χ6 χ7 χ8 -0.0173i χ0 χ2 χ3 χ9 χ10 χ11 +0.0443 χ1 χ4 χ5 χ6 χ7 χ8 χ10 χ11 -0.00546 χ0 χ3 χ9 χ10 +0.00546 χ0 χ2 χ9 χ11 +0.0188 χ0 χ6 χ7 χ9 -0.0208 χ0 χ3 χ7 χ8 -0.0208 χ0 χ2 χ6 χ8 +0.0326 χ0 χ2 χ8 χ10 +0.0326 χ0 χ3 χ8 χ11 +0.0326 χ5 χ7 χ9 χ11 +0.0326 χ5 χ6 χ9 χ10 -0.0208 χ3 χ5 χ9 χ11 -0.0208 χ2 χ5 χ9 χ10 +0.0208 χ0 χ6 χ8 χ10 +0.0208 χ0 χ7 χ8 χ11 -0.0451i χ0 χ1 χ2 χ3 χ4 χ6 χ7 χ9 χ10 χ11 -0.0241 χ1 χ2 χ4 χ5 χ7 χ8 χ10 χ11 -0.0241 χ0 χ1 χ2 χ4 χ7 χ9 χ10 χ11 -0.0241 χ1 χ2 χ3 χ4 χ5 χ7 χ8 χ10 +0.0451i χ1 χ2 χ3 χ4 χ5 χ6 χ7 χ8 χ10 χ11 +0.0241 χ0 χ1 χ2 χ4 χ6 χ7 χ9 χ11 +0.00908 χ0 χ1 χ2 χ3 χ4 χ7 χ8 χ11 +0.00908 χ1 χ2 χ4 χ5 χ6 χ7 χ9 χ10 +0.00745 χ1 χ2 χ3 χ4 χ5 χ7 χ9 χ11 -0.00745 χ0 χ1 χ2 χ4 χ6 χ7 χ8 χ10 +0.0241 χ1 χ3 χ4 χ5 χ6 χ8 χ10 χ11 +0.0241 χ0 χ1 χ3 χ4 χ6 χ9 χ10 χ11 +0.0241 χ1 χ2 χ3 χ4 χ5 χ6 χ8 χ11 -0.0241 χ0 χ1 χ3 χ4 χ6 χ7 χ9 χ10 +0.00908 χ0 χ1 χ2 χ3 χ4 χ6 χ8 χ10 +0.00908 χ1 χ3 χ4 χ5 χ6 χ7 χ9 χ11 +0.00745 χ1 χ2 χ3 χ4 χ5 χ6 χ9 χ10 -0.00745 χ0 χ1 χ3 χ4 χ6 χ7 χ8 χ11 +0.0124 χ0 χ2 χ3 χ6 χ7 χ9 χ10 χ11 +0.0042 χ1 χ2 χ3 χ4 χ5 χ8 χ10 χ11 -0.0042 χ0 χ1 χ4 χ6 χ7 χ9 χ10 χ11 -0.0362i χ0 χ3 χ6 χ9 χ10 χ11 -0.00745 χ1 χ2 χ4 χ5 χ6 χ9 χ10 χ11 +0.0362i χ0 χ2 χ7 χ9 χ10 χ11 -0.00745 χ1 χ3 χ4 χ5 χ7 χ9 χ10 χ11 -0.0124 χ2 χ3 χ5 χ6 χ7 χ8 χ10 χ11 -0.00603i χ0 χ1 χ3 χ4 χ7 χ8 -0.00603i χ0 χ1 χ2 χ4 χ6 χ8 -0.00603i χ0 χ1 χ2 χ4 χ8 χ10 -0.00603i χ0 χ1 χ3 χ4 χ8 χ11 -0.00603i χ1 χ2 χ4 χ5 χ6 χ9 -0.00603i χ1 χ3 χ4 χ5 χ7 χ9 +0.00603i χ1 χ4 χ5 χ7 χ9 χ11 +0.00603i χ1 χ4 χ5 χ6 χ9 χ10 -0.00881i χ1 χ3 χ4 χ5 χ9 χ11 -0.00881i χ1 χ2 χ4 χ5 χ9 χ10 -0.00881i χ0 χ1 χ4 χ6 χ8 χ10 -0.00881i χ0 χ1 χ4 χ7 χ8 χ11 -0.00603i χ2 χ5 χ6 χ7 χ9 χ10 -0.00603i χ3 χ5 χ6 χ7 χ9 χ11 +0.00603i χ0 χ2 χ3 χ7 χ8 χ11 +0.00603i χ0 χ2 χ3 χ6 χ8 χ10 -0.202i χ4 χ5 -0.0928i χ0 χ1 χ2 χ3 χ6 χ7 -0.0928i χ2 χ3 χ4 χ5 χ6 χ7 -0.0219i χ2 χ4 χ5 χ7 χ8 χ9 -0.0521i χ0 χ1 χ2 χ6 χ7 χ11 -0.0443i χ2 χ4 χ5 χ6 χ7 χ11 +0.0213 χ0 χ1 χ3 χ10 -0.0219i χ0 χ1 χ2 χ7 χ8 χ9 +0.0443i χ0 χ1 χ2 χ3 χ7 χ10 -0.0213 χ4 χ5 χ6 χ11 -0.0213 χ0 χ1 χ2 χ7 -0.0213 χ2 χ4 χ5 χ7 +0.0213 χ3 χ4 χ5 χ6 -0.0521i χ0 χ1 χ2 χ7 χ10 χ11 -0.0443 χ0 χ1 χ2 χ7 χ8 χ9 χ10 χ11 +0.0213 χ0 χ1 χ3 χ6 -0.0521i χ2 χ4 χ5 χ7 χ10 χ11 -0.0443 χ2 χ4 χ5 χ7 χ8 χ9 χ10 χ11 +0.0219i χ3 χ4 χ5 χ6 χ8 χ9 +0.0219i χ0 χ1 χ3 χ6 χ8 χ9 +0.0521i χ0 χ1 χ3 χ6 χ10 χ11 +0.0443 χ0 χ1 χ3 χ6 χ8 χ9 χ10 χ11 +0.0521i χ3 χ4 χ5 χ6 χ10 χ11 +0.0443 χ3 χ4 χ5 χ6 χ8 χ9 χ10 χ11 -0.0173i χ4 χ5 χ6 χ8 χ9 χ11 +0.0219i χ3 χ4 χ5 χ8 χ9 χ10 -0.0928i χ4 χ5 χ8 χ9 χ10 χ11 +0.0411 χ4 χ5 χ8 χ9 -0.202i χ0 χ1 -0.0245 χ0 χ1 χ2 χ3 χ6 χ7 χ10 χ11 -0.0219i χ0 χ1 χ6 χ8 χ9 χ11 +0.0188 χ0 χ1 χ6 χ11 +0.0443 χ0 χ1 χ2 χ3 χ7 χ8 χ9 χ10 +0.0173i χ0 χ1 χ3 χ8 χ9 χ10 -0.0928i χ0 χ1 χ8 χ9 χ10 χ11 +0.0411 χ0 χ1 χ8 χ9 -0.0245 χ2 χ3 χ4 χ5 χ6 χ7 χ10 χ11 -0.0443 χ2 χ4 χ5 χ6 χ7 χ8 χ9 χ11 +0.00301 χ0 χ1 χ10 χ11 +0.00301 χ4 χ5 χ10 χ11 -0.045 χ2 χ3 χ4 χ5 χ6 χ7 χ8 χ9 -0.0904i χ2 χ3 χ4 χ5 χ6 χ7 χ8 χ9 χ10 χ11 +0.0208 χ1 χ3 χ5 χ11 +0.0208 χ0 χ3 χ4 χ11 -0.045 χ0 χ1 χ2 χ3 χ6 χ7 χ8 χ9 -0.0904i χ0 χ1 χ2 χ3 χ6 χ7 χ8 χ9 χ10 χ11 +0.0042 χ2 χ3 χ4 χ5 χ7 χ8 χ9 χ10 +0.00745 χ0 χ2 χ4 χ6 χ7 χ8 χ9 χ10 +0.00745 χ1 χ2 χ5 χ6 χ7 χ8 χ9 χ10 -0.0042 χ0 χ1 χ2 χ6 χ7 χ8 χ9 χ11 +0.0521i χ2 χ3 χ4 χ5 χ7 χ10 +0.00603i χ1 χ2 χ3 χ5 χ7 χ11 +0.00603i χ0 χ2 χ3 χ4 χ7 χ11 +0.00603i χ0 χ2 χ4 χ6 χ7 χ10 +0.00603i χ1 χ2 χ5 χ6 χ7 χ10 -0.00881i χ2 χ3 χ4 χ7 χ8 χ11 -0.00881i χ2 χ3 χ5 χ7 χ9 χ11 -0.00881i χ1 χ2 χ6 χ7 χ9 χ10 -0.00881i χ0 χ2 χ6 χ7 χ8 χ10 -0.0213 χ0 χ1 χ2 χ11 +0.0521i χ0 χ1 χ3 χ6 χ7 χ10 +0.0443i χ3 χ4 χ5 χ6 χ7 χ10 +0.0213 χ4 χ5 χ7 χ10 -0.0443i χ0 χ1 χ2 χ3 χ6 χ11 +0.0173i χ4 χ5 χ7 χ8 χ9 χ10 -0.0219i χ2 χ4 χ5 χ8 χ9 χ11 -0.0443 χ0 χ1 χ2 χ3 χ6 χ8 χ9 χ11 +0.0219i χ0 χ1 χ7 χ8 χ9 χ10 -0.0188 χ0 χ1 χ7 χ10 -0.0173i χ0 χ1 χ2 χ8 χ9 χ11 +0.0443 χ3 χ4 χ5 χ6 χ7 χ8 χ9 χ10 +0.0208 χ1 χ2 χ5 χ10 +0.0208 χ0 χ2 χ4 χ10 -0.0042 χ2 χ3 χ4 χ5 χ6 χ8 χ9 χ11 +0.00745 χ0 χ3 χ4 χ6 χ7 χ8 χ9 χ11 +0.00745 χ1 χ3 χ5 χ6 χ7 χ8 χ9 χ11 +0.0042 χ0 χ1 χ3 χ6 χ7 χ8 χ9 χ10 -0.0521i χ2 χ3 χ4 χ5 χ6 χ11 +0.00603i χ1 χ2 χ3 χ5 χ6 χ10 +0.00603i χ0 χ2 χ3 χ4 χ6 χ10 +0.00603i χ0 χ3 χ4 χ6 χ7 χ11 +0.00603i χ1 χ3 χ5 χ6 χ7 χ11 -0.00881i χ2 χ3 χ4 χ6 χ8 χ10 -0.00881i χ2 χ3 χ5 χ6 χ9 χ10 -0.00881i χ1 χ3 χ6 χ7 χ9 χ11 -0.00881i χ0 χ3 χ6 χ7 χ8 χ11 -0.0755 χ0 χ1 χ2 χ3 -0.109i χ2 χ3 χ4 χ5 χ8 χ9 -0.0928i χ4 χ5 χ6 χ7 χ8 χ9 -0.109i χ0 χ1 χ6 χ7 χ10 χ11 -0.0928i χ0 χ1 χ2 χ3 χ10 χ11 -0.0734 χ4 χ5 χ6 χ7 χ8 χ9 χ10 χ11 +0.00301 χ0 χ1 χ6 χ7 +0.0326 χ1 χ2 χ5 χ6 +0.0326 χ1 χ3 χ5 χ7 -0.045 χ2 χ3 χ4 χ5 χ8 χ9 χ10 χ11 +0.00908 χ0 χ2 χ4 χ6 χ8 χ9 χ10 χ11 +0.00908 χ0 χ3 χ4 χ7 χ8 χ9 χ10 χ11 -0.00881i χ0 χ3 χ4 χ7 χ8 χ9 -0.00881i χ0 χ2 χ4 χ6 χ8 χ9 +0.00603i χ0 χ2 χ4 χ8 χ9 χ10 +0.00603i χ0 χ3 χ4 χ8 χ9 χ11 +0.00603i χ0 χ4 χ6 χ8 χ9 χ10 +0.00603i χ0 χ4 χ7 χ8 χ9 χ11 -0.00603i χ0 χ3 χ7 χ8 χ10 χ11 -0.00603i χ0 χ2 χ6 χ8 χ10 χ11 +0.0326 χ0 χ2 χ4 χ6 +0.0326 χ0 χ3 χ4 χ7 +0.00908 χ1 χ2 χ5 χ6 χ8 χ9 χ10 χ11 +0.00908 χ1 χ3 χ5 χ7 χ8 χ9 χ10 χ11 -0.00881i χ1 χ3 χ5 χ7 χ8 χ9 -0.00881i χ1 χ2 χ5 χ6 χ8 χ9 +0.00603i χ1 χ2 χ5 χ8 χ9 χ10 +0.00603i χ1 χ3 χ5 χ8 χ9 χ11 +0.00603i χ1 χ5 χ6 χ8 χ9 χ10 +0.00603i χ1 χ5 χ7 χ8 χ9 χ11 -0.00603i χ1 χ3 χ7 χ9 χ10 χ11 -0.00603i χ1 χ2 χ6 χ9 χ10 χ11 -0.0928i χ4 χ5 χ6 χ7 χ10 χ11 -0.0928i χ0 χ1 χ2 χ3 χ8 χ9 +0.00301 χ2 χ3 χ4 χ5 -0.045 χ0 χ1 χ6 χ7 χ8 χ9 χ10 χ11 -0.00881i χ1 χ2 χ5 χ6 χ10 χ11 -0.00881i χ0 χ2 χ4 χ6 χ10 χ11 -0.00603i χ2 χ4 χ6 χ8 χ10 χ11 -0.00603i χ2 χ5 χ6 χ9 χ10 χ11 -0.00881i χ1 χ3 χ5 χ7 χ10 χ11 -0.00881i χ0 χ3 χ4 χ7 χ10 χ11 -0.00603i χ3 χ4 χ7 χ8 χ10 χ11 -0.00603i χ3 χ5 χ7 χ9 χ10 χ11 -0.0755 χ4 χ5 χ6 χ7 -0.109i χ0 χ1 χ6 χ7 χ8 χ9 -0.0734 χ0 χ1 χ2 χ3 χ8 χ9 χ10 χ11 -0.109i χ2 χ3 χ4 χ5 χ10 χ11 -0.0188 χ3 χ4 χ5 χ10 +0.0188 χ2 χ4 χ5 χ11 -0.00745 χ0 χ1 χ3 χ5 χ7 χ9 χ10 χ11 -0.00745 χ0 χ1 χ3 χ4 χ7 χ8 χ10 χ11 -0.0208 χ2 χ4 χ6 χ8 -0.0208 χ2 χ5 χ6 χ9 +0.00745 χ0 χ2 χ3 χ4 χ6 χ8 χ9 χ10 +0.00745 χ1 χ2 χ3 χ5 χ6 χ8 χ9 χ10 +0.0208 χ1 χ5 χ7 χ11 +0.0208 χ0 χ4 χ7 χ11 -0.00745 χ0 χ1 χ2 χ5 χ6 χ9 χ10 χ11 -0.00745 χ0 χ1 χ2 χ4 χ6 χ8 χ10 χ11 -0.0208 χ3 χ4 χ7 χ8 -0.0208 χ3 χ5 χ7 χ9 +0.00745 χ0 χ2 χ3 χ4 χ7 χ8 χ9 χ11 +0.00745 χ1 χ2 χ3 χ5 χ7 χ8 χ9 χ11 +0.0208 χ1 χ5 χ6 χ10 +0.0208 χ0 χ4 χ6 χ10,\n",
       " -0.143 χ0 χ1 χ4 χ5 +0.00122 χ0 χ2 χ5 χ7 -0.00122 χ0 χ3 χ5 χ6 +0.0594 χ0 χ4 χ5 χ9 -0.0263 χ0 χ5 χ6 χ11 +0.0263 χ0 χ5 χ7 χ10 -0.0594 χ0 χ1 χ5 χ8 -0.0263 χ0 χ3 χ5 χ10 +0.0263 χ0 χ2 χ5 χ11 +0.0167 χ0 χ2 χ3 χ5 +0.0167 χ0 χ5 χ6 χ7 +0.0145i χ0 χ5 χ8 χ9 χ10 χ11 -0.00122 χ1 χ2 χ4 χ7 +0.00122 χ1 χ3 χ4 χ6 +0.0263 χ1 χ4 χ6 χ11 -0.0263 χ1 χ4 χ7 χ10 +0.0263 χ1 χ3 χ4 χ10 -0.0263 χ1 χ2 χ4 χ11 -0.0167 χ1 χ2 χ3 χ4 -0.0167 χ1 χ4 χ6 χ7 -0.0214 χ1 χ4 χ10 χ11 -0.0594 χ1 χ4 χ8 χ9 -0.0145i χ1 χ4 χ8 χ9 χ10 χ11 -0.143 χ2 χ3 χ6 χ7 +0.0263 χ2 χ4 χ7 χ9 +0.0594 χ2 χ6 χ7 χ11 +0.0263 χ1 χ2 χ7 χ8 -0.0594 χ2 χ3 χ7 χ10 +0.0145i χ2 χ7 χ8 χ9 χ10 χ11 -0.0263 χ3 χ4 χ6 χ9 -0.0594 χ3 χ6 χ7 χ10 -0.0263 χ1 χ3 χ6 χ8 +0.0594 χ2 χ3 χ6 χ11 -0.0145i χ3 χ6 χ8 χ9 χ10 χ11 +0.00122 χ4 χ6 χ9 χ11 -0.00122 χ4 χ7 χ9 χ10 +0.0263 χ3 χ4 χ9 χ10 -0.0263 χ2 χ4 χ9 χ11 +0.0214 χ2 χ3 χ4 χ9 +0.0167 χ4 χ6 χ7 χ9 +0.0167 χ4 χ9 χ10 χ11 -0.0145i χ0 χ1 χ2 χ3 χ5 χ8 -0.143 χ6 χ7 χ10 χ11 -0.0263 χ1 χ6 χ8 χ11 +0.0167 χ6 χ8 χ9 χ11 +0.0263 χ1 χ7 χ8 χ10 -0.0167 χ7 χ8 χ9 χ10 +0.00122 χ1 χ3 χ8 χ10 -0.00122 χ1 χ2 χ8 χ11 -0.0167 χ1 χ2 χ3 χ8 -0.0214 χ1 χ6 χ7 χ8 -0.0167 χ1 χ8 χ10 χ11 +0.0145i χ0 χ4 χ5 χ6 χ7 χ9 -0.143 χ2 χ3 χ10 χ11 -0.0167 χ3 χ8 χ9 χ10 +0.0167 χ2 χ8 χ9 χ11 +0.0124i χ1 χ4 -0.0124i χ2 χ7 +0.0124i χ3 χ6 -0.0124i χ4 χ9 -0.0124i χ6 χ11 +0.0124i χ7 χ10 +0.0124i χ1 χ8 +0.0124i χ3 χ10 -0.0124i χ2 χ11 +0.0061i χ2 χ3 +0.0061i χ6 χ7 +0.0061i χ10 χ11 +0.0061i χ8 χ9 -0.0868 χ8 χ9 χ10 χ11 -0.127 χ2 χ3 χ8 χ9 +0.0671i χ2 χ3 χ8 χ9 χ10 χ11 +0.0671i χ0 χ1 χ4 χ5 χ6 χ7 +0.0671i χ0 χ1 χ2 χ3 χ4 χ5 -0.0113 χ0 χ1 χ2 χ3 χ4 χ5 χ6 χ7 -0.127 χ6 χ7 χ8 χ9 +0.0671i χ6 χ7 χ8 χ9 χ10 χ11 +0.0279 χ0 χ1 χ2 χ4 χ5 χ6 χ7 χ11 -0.0279 χ0 χ1 χ2 χ3 χ4 χ5 χ7 χ10 -0.0314i χ0 χ1 χ2 χ4 χ5 χ7 χ8 χ9 χ10 χ11 -0.0279 χ0 χ1 χ3 χ4 χ5 χ6 χ7 χ10 +0.0279 χ0 χ1 χ2 χ3 χ4 χ5 χ6 χ11 +0.0314i χ0 χ1 χ3 χ4 χ5 χ6 χ8 χ9 χ10 χ11 -0.0669 χ0 χ1 χ4 χ5 χ6 χ7 χ10 χ11 +0.0927 χ0 χ1 χ4 χ5 χ6 χ8 χ9 χ11 -0.0927 χ0 χ1 χ4 χ5 χ7 χ8 χ9 χ10 -0.0669 χ0 χ1 χ2 χ3 χ4 χ5 χ10 χ11 -0.0927 χ0 χ1 χ3 χ4 χ5 χ8 χ9 χ10 +0.0927 χ0 χ1 χ2 χ4 χ5 χ8 χ9 χ11 -0.038i χ0 χ1 χ2 χ4 χ5 χ7 +0.038i χ0 χ1 χ3 χ4 χ5 χ6 -0.0261i χ0 χ1 χ4 χ5 χ6 χ11 +0.0261i χ0 χ1 χ4 χ5 χ7 χ10 +0.0261i χ0 χ1 χ3 χ4 χ5 χ10 -0.0261i χ0 χ1 χ2 χ4 χ5 χ11 -0.0489i χ0 χ1 χ4 χ5 χ10 χ11 -0.148i χ0 χ1 χ4 χ5 χ8 χ9 -0.146 χ0 χ1 χ4 χ5 χ8 χ9 χ10 χ11 -0.146 χ0 χ1 χ2 χ3 χ4 χ5 χ8 χ9 +0.0875i χ0 χ1 χ2 χ3 χ4 χ5 χ8 χ9 χ10 χ11 -0.146 χ0 χ1 χ4 χ5 χ6 χ7 χ8 χ9 +0.0875i χ0 χ1 χ4 χ5 χ6 χ7 χ8 χ9 χ10 χ11 +0.0279 χ0 χ2 χ3 χ4 χ5 χ6 χ7 χ9 -0.0279 χ0 χ1 χ2 χ3 χ5 χ6 χ7 χ8 +0.0927 χ0 χ2 χ3 χ5 χ6 χ7 χ10 χ11 -0.0314i χ0 χ2 χ3 χ5 χ6 χ7 χ8 χ9 χ10 χ11 -0.0598 χ0 χ2 χ4 χ5 χ6 χ7 χ9 χ11 +0.0538 χ0 χ2 χ3 χ4 χ5 χ7 χ9 χ10 -0.0538 χ0 χ1 χ2 χ5 χ6 χ7 χ8 χ11 -0.0538 χ0 χ2 χ5 χ6 χ7 χ8 χ9 χ11 -0.0598 χ0 χ1 χ2 χ3 χ5 χ7 χ8 χ10 -0.0538 χ0 χ2 χ3 χ5 χ7 χ8 χ9 χ10 -0.038i χ0 χ2 χ3 χ5 χ6 χ7 -0.0241i χ0 χ2 χ4 χ5 χ7 χ9 +0.0241i χ0 χ2 χ5 χ6 χ7 χ11 -0.0241i χ0 χ1 χ2 χ5 χ7 χ8 +0.0241i χ0 χ2 χ3 χ5 χ7 χ10 -0.0324i χ0 χ2 χ5 χ7 χ10 χ11 -0.0324i χ0 χ2 χ5 χ7 χ8 χ9 -0.0598 χ0 χ2 χ5 χ7 χ8 χ9 χ10 χ11 +0.0598 χ0 χ3 χ4 χ5 χ6 χ7 χ9 χ10 -0.0538 χ0 χ2 χ3 χ4 χ5 χ6 χ9 χ11 +0.0538 χ0 χ1 χ3 χ5 χ6 χ7 χ8 χ10 +0.0538 χ0 χ3 χ5 χ6 χ7 χ8 χ9 χ10 +0.0598 χ0 χ1 χ2 χ3 χ5 χ6 χ8 χ11 +0.0538 χ0 χ2 χ3 χ5 χ6 χ8 χ9 χ11 +0.0241i χ0 χ3 χ4 χ5 χ6 χ9 -0.0241i χ0 χ3 χ5 χ6 χ7 χ10 +0.0241i χ0 χ1 χ3 χ5 χ6 χ8 -0.0241i χ0 χ2 χ3 χ5 χ6 χ11 +0.0324i χ0 χ3 χ5 χ6 χ10 χ11 +0.0324i χ0 χ3 χ5 χ6 χ8 χ9 +0.0598 χ0 χ3 χ5 χ6 χ8 χ9 χ10 χ11 +0.00844i χ0 χ1 χ5 χ8 χ10 χ11 +0.0927 χ0 χ1 χ2 χ4 χ5 χ7 χ8 χ9 -0.0927 χ0 χ1 χ3 χ4 χ5 χ6 χ8 χ9 +0.0214 χ0 χ5 χ10 χ11 +0.00844i χ1 χ2 χ3 χ4 χ8 χ9 +0.0279 χ0 χ4 χ5 χ6 χ7 χ9 χ10 χ11 +0.0326 χ0 χ2 χ3 χ4 χ5 χ9 χ10 χ11 +0.0241i χ0 χ4 χ5 χ6 χ9 χ11 -0.0241i χ0 χ4 χ5 χ7 χ9 χ10 +0.0324i χ0 χ3 χ4 χ5 χ9 χ10 -0.0324i χ0 χ2 χ4 χ5 χ9 χ11 -0.00844i χ0 χ2 χ3 χ4 χ5 χ9 -0.00844i χ0 χ4 χ5 χ9 χ10 χ11 +0.0214 χ2 χ7 χ8 χ9 -0.0214 χ3 χ6 χ8 χ9 -0.0241i χ1 χ2 χ3 χ6 χ8 χ11 +0.0241i χ1 χ2 χ3 χ7 χ8 χ10 +0.0261i χ1 χ2 χ3 χ6 χ7 χ8 +0.038i χ1 χ2 χ3 χ8 χ10 χ11 -0.0594 χ3 χ6 χ10 χ11 -0.0326 χ0 χ1 χ3 χ4 χ5 χ6 χ10 χ11 -0.0241i χ0 χ3 χ5 χ8 χ9 χ10 -0.0538 χ0 χ3 χ4 χ5 χ6 χ9 χ10 χ11 +0.0594 χ0 χ5 χ8 χ9 -0.0326 χ0 χ1 χ5 χ6 χ7 χ8 χ10 χ11 +0.0279 χ0 χ5 χ6 χ7 χ8 χ9 χ10 χ11 -0.0261i χ0 χ5 χ6 χ7 χ10 χ11 +0.0324i χ0 χ1 χ5 χ6 χ8 χ11 -0.0241i χ0 χ5 χ6 χ8 χ9 χ11 +0.0241i χ1 χ2 χ3 χ4 χ6 χ11 +0.0241i χ0 χ5 χ7 χ8 χ9 χ10 +0.0594 χ2 χ7 χ10 χ11 +0.0326 χ0 χ1 χ2 χ4 χ5 χ7 χ10 χ11 +0.0241i χ0 χ2 χ5 χ8 χ9 χ11 +0.0538 χ0 χ2 χ4 χ5 χ7 χ9 χ10 χ11 -0.0324i χ0 χ1 χ5 χ7 χ8 χ10 -0.0241i χ1 χ2 χ3 χ4 χ7 χ10 +0.00844i χ1 χ4 χ6 χ7 χ8 χ9 -0.0279 χ0 χ1 χ2 χ3 χ5 χ8 χ10 χ11 -0.0241i χ0 χ1 χ3 χ5 χ8 χ10 +0.0241i χ0 χ1 χ2 χ5 χ8 χ11 +0.00844i χ0 χ1 χ5 χ6 χ7 χ8 +0.0241i χ3 χ4 χ6 χ7 χ9 χ10 -0.0241i χ2 χ4 χ6 χ7 χ9 χ11 -0.0261i χ2 χ3 χ4 χ6 χ7 χ9 -0.038i χ4 χ6 χ7 χ9 χ10 χ11 +0.0279 χ0 χ2 χ3 χ5 χ8 χ9 χ10 χ11 -0.0261i χ0 χ2 χ3 χ5 χ10 χ11 +0.0241i χ1 χ3 χ4 χ6 χ7 χ10 -0.0241i χ1 χ2 χ4 χ6 χ7 χ11 -0.00844i χ0 χ2 χ3 χ5 χ8 χ9 +0.038i χ1 χ2 χ3 χ4 χ6 χ7 -0.00844i χ0 χ5 χ6 χ7 χ8 χ9 +0.0261i χ1 χ4 χ6 χ7 χ10 χ11 -0.0279 χ1 χ4 χ6 χ7 χ8 χ9 χ10 χ11 +0.00643i χ0 χ1 χ3 χ5 χ7 χ9 +0.00643i χ0 χ1 χ2 χ5 χ6 χ9 +0.00643i χ0 χ1 χ2 χ5 χ9 χ10 +0.00643i χ0 χ1 χ3 χ5 χ9 χ11 +0.0261i χ1 χ2 χ3 χ4 χ10 χ11 -0.0279 χ1 χ2 χ3 χ4 χ8 χ9 χ10 χ11 -0.0927 χ1 χ2 χ3 χ4 χ6 χ7 χ10 χ11 +0.0314i χ1 χ2 χ3 χ4 χ6 χ7 χ8 χ9 χ10 χ11 -0.00643i χ0 χ4 χ5 χ7 χ8 χ11 -0.00643i χ0 χ4 χ5 χ6 χ8 χ10 -0.0171i χ0 χ3 χ4 χ5 χ8 χ11 -0.0171i χ0 χ2 χ4 χ5 χ8 χ10 -0.0171i χ0 χ1 χ5 χ6 χ9 χ10 -0.0171i χ0 χ1 χ5 χ7 χ9 χ11 +0.0538 χ1 χ2 χ4 χ6 χ7 χ8 χ9 χ11 +0.0538 χ1 χ2 χ3 χ4 χ7 χ8 χ9 χ10 +0.0324i χ1 χ2 χ4 χ7 χ10 χ11 +0.0324i χ1 χ2 χ4 χ7 χ8 χ9 +0.0598 χ1 χ2 χ4 χ7 χ8 χ9 χ10 χ11 -0.0538 χ1 χ3 χ4 χ6 χ7 χ8 χ9 χ10 -0.0538 χ1 χ2 χ3 χ4 χ6 χ8 χ9 χ11 -0.0324i χ1 χ3 χ4 χ6 χ10 χ11 -0.0324i χ1 χ3 χ4 χ6 χ8 χ9 -0.0598 χ1 χ3 χ4 χ6 χ8 χ9 χ10 χ11 +0.0241i χ1 χ3 χ4 χ8 χ9 χ10 +0.0241i χ1 χ4 χ6 χ8 χ9 χ11 -0.0241i χ1 χ4 χ7 χ8 χ9 χ10 -0.0241i χ1 χ2 χ4 χ8 χ9 χ11 -0.0927 χ1 χ2 χ3 χ6 χ7 χ8 χ10 χ11 -0.148i χ2 χ3 χ6 χ7 χ10 χ11 -0.0489i χ2 χ3 χ6 χ7 χ8 χ9 -0.146 χ2 χ3 χ6 χ7 χ8 χ9 χ10 χ11 +0.0241i χ1 χ2 χ7 χ8 χ10 χ11 +0.0324i χ2 χ3 χ4 χ7 χ9 χ10 +0.0241i χ2 χ4 χ7 χ9 χ10 χ11 +0.00844i χ2 χ3 χ7 χ8 χ9 χ10 +0.0927 χ2 χ3 χ4 χ6 χ7 χ9 χ10 χ11 +0.0324i χ1 χ2 χ6 χ7 χ8 χ11 -0.00844i χ2 χ6 χ7 χ8 χ9 χ11 -0.00643i χ1 χ2 χ3 χ7 χ9 χ11 +0.00643i χ2 χ4 χ6 χ7 χ8 χ10 -0.0171i χ2 χ3 χ4 χ7 χ8 χ11 -0.0171i χ1 χ2 χ6 χ7 χ9 χ10 -0.0241i χ1 χ3 χ6 χ8 χ10 χ11 -0.0326 χ1 χ2 χ3 χ4 χ6 χ7 χ8 χ9 -0.0324i χ2 χ3 χ4 χ6 χ9 χ11 -0.0241i χ3 χ4 χ6 χ9 χ10 χ11 +0.0326 χ0 χ2 χ3 χ5 χ6 χ7 χ8 χ9 +0.00844i χ3 χ6 χ7 χ8 χ9 χ10 -0.00844i χ2 χ3 χ6 χ8 χ9 χ11 -0.0324i χ1 χ3 χ6 χ7 χ8 χ10 -0.00643i χ1 χ2 χ3 χ6 χ9 χ10 +0.00643i χ3 χ4 χ6 χ7 χ8 χ11 -0.0171i χ2 χ3 χ4 χ6 χ8 χ10 -0.0171i χ1 χ3 χ6 χ7 χ9 χ11 +0.0261i χ1 χ6 χ7 χ8 χ10 χ11 -0.0314i χ0 χ1 χ2 χ3 χ4 χ5 χ6 χ8 χ9 χ11 +0.0314i χ0 χ1 χ2 χ3 χ4 χ5 χ7 χ8 χ9 χ10 +0.0875i χ0 χ1 χ2 χ3 χ4 χ5 χ6 χ7 χ8 χ9 -0.0261i χ2 χ3 χ4 χ9 χ10 χ11 +0.0314i χ0 χ1 χ2 χ3 χ5 χ6 χ7 χ8 χ10 χ11 -0.0538 χ0 χ1 χ3 χ5 χ6 χ8 χ10 χ11 +0.0875i χ0 χ1 χ2 χ3 χ4 χ5 χ6 χ7 χ10 χ11 +0.00643i χ2 χ4 χ6 χ8 χ10 χ11 +0.0538 χ0 χ1 χ2 χ5 χ7 χ8 χ10 χ11 +0.00643i χ3 χ4 χ7 χ8 χ10 χ11 +0.0314i χ0 χ1 χ3 χ4 χ5 χ6 χ7 χ8 χ9 χ10 -0.0314i χ0 χ1 χ2 χ4 χ5 χ6 χ7 χ8 χ9 χ11 -0.0314i χ0 χ2 χ3 χ4 χ5 χ6 χ7 χ9 χ10 χ11 -0.0116 χ1 χ3 χ7 χ9 -0.0116 χ1 χ2 χ6 χ9 -0.0168 χ1 χ2 χ9 χ10 -0.0168 χ1 χ3 χ9 χ11 -0.0281 χ0 χ1 χ2 χ3 χ4 χ5 χ6 χ7 χ8 χ9 χ10 χ11 -0.0116 χ2 χ4 χ6 χ8 -0.0116 χ3 χ4 χ7 χ8 -0.0168 χ4 χ7 χ8 χ11 -0.0168 χ4 χ6 χ8 χ10 -0.0116 χ3 χ4 χ8 χ11 -0.0116 χ2 χ4 χ8 χ10 +0.0116 χ1 χ6 χ9 χ10 +0.0116 χ1 χ7 χ9 χ11 -0.0196 χ0 χ2 χ4 χ5 χ6 χ7 χ8 χ10 -0.0196 χ0 χ3 χ4 χ5 χ6 χ7 χ8 χ11 -0.0196 χ0 χ1 χ2 χ3 χ5 χ7 χ9 χ11 -0.0196 χ0 χ1 χ2 χ3 χ5 χ6 χ9 χ10 -0.00629 χ0 χ2 χ3 χ4 χ5 χ7 χ8 χ11 +0.00629 χ0 χ1 χ2 χ5 χ6 χ7 χ9 χ10 -0.00629 χ0 χ2 χ3 χ4 χ5 χ6 χ8 χ10 +0.00629 χ0 χ1 χ3 χ5 χ6 χ7 χ9 χ11 +0.00629 χ0 χ1 χ3 χ5 χ7 χ9 χ10 χ11 +0.00629 χ0 χ1 χ2 χ5 χ6 χ9 χ10 χ11 +0.00629 χ0 χ2 χ4 χ5 χ6 χ8 χ10 χ11 +0.00629 χ0 χ3 χ4 χ5 χ7 χ8 χ10 χ11 +0.00643i χ1 χ3 χ7 χ9 χ10 χ11 +0.00643i χ0 χ2 χ4 χ5 χ6 χ8 +0.00643i χ1 χ2 χ6 χ9 χ10 χ11 +0.00643i χ0 χ3 χ4 χ5 χ7 χ8 -0.0124i χ0 χ5 -0.0594 χ1 χ4 χ5 χ8 +0.0594 χ0 χ1 χ4 χ9 -0.0263 χ2 χ5 χ7 χ8 -0.0263 χ0 χ2 χ7 χ9 +0.0263 χ3 χ5 χ6 χ8 +0.0263 χ0 χ3 χ6 χ9 +0.0145i χ0 χ1 χ2 χ3 χ4 χ9 -0.00122 χ5 χ6 χ8 χ11 +0.00122 χ5 χ7 χ8 χ10 -0.0263 χ3 χ5 χ8 χ10 +0.0263 χ2 χ5 χ8 χ11 -0.0214 χ2 χ3 χ5 χ8 -0.0167 χ5 χ6 χ7 χ8 -0.0167 χ5 χ8 χ10 χ11 +0.0263 χ0 χ6 χ9 χ11 -0.0263 χ0 χ7 χ9 χ10 -0.0145i χ1 χ4 χ5 χ6 χ7 χ8 -0.00122 χ0 χ3 χ9 χ10 +0.00122 χ0 χ2 χ9 χ11 +0.0167 χ0 χ2 χ3 χ9 +0.0214 χ0 χ6 χ7 χ9 +0.0167 χ0 χ9 χ10 χ11 +0.0124i χ5 χ8 -0.0124i χ0 χ9 -0.0279 χ1 χ2 χ3 χ4 χ5 χ6 χ7 χ8 +0.0279 χ0 χ1 χ2 χ3 χ4 χ6 χ7 χ9 +0.0598 χ1 χ2 χ4 χ5 χ6 χ7 χ8 χ11 -0.0538 χ1 χ2 χ3 χ4 χ5 χ7 χ8 χ10 +0.0538 χ0 χ1 χ2 χ4 χ6 χ7 χ9 χ11 +0.0598 χ0 χ1 χ2 χ3 χ4 χ7 χ9 χ10 +0.0241i χ1 χ2 χ4 χ5 χ7 χ8 +0.0241i χ0 χ1 χ2 χ4 χ7 χ9 -0.0598 χ1 χ3 χ4 χ5 χ6 χ7 χ8 χ10 +0.0538 χ1 χ2 χ3 χ4 χ5 χ6 χ8 χ11 -0.0538 χ0 χ1 χ3 χ4 χ6 χ7 χ9 χ10 -0.0598 χ0 χ1 χ2 χ3 χ4 χ6 χ9 χ11 -0.0241i χ1 χ3 χ4 χ5 χ6 χ8 -0.0241i χ0 χ1 χ3 χ4 χ6 χ9 +0.0241i χ0 χ2 χ3 χ6 χ9 χ11 -0.0241i χ0 χ2 χ3 χ7 χ9 χ10 -0.0261i χ0 χ2 χ3 χ6 χ7 χ9 -0.038i χ0 χ2 χ3 χ9 χ10 χ11 +0.00844i χ1 χ4 χ5 χ8 χ10 χ11 -0.0279 χ1 χ4 χ5 χ6 χ7 χ8 χ10 χ11 -0.00844i χ0 χ1 χ4 χ9 χ10 χ11 -0.0326 χ1 χ2 χ3 χ4 χ5 χ8 χ10 χ11 -0.0241i χ1 χ4 χ5 χ6 χ8 χ11 +0.0241i χ1 χ4 χ5 χ7 χ8 χ10 -0.0324i χ1 χ3 χ4 χ5 χ8 χ10 +0.0324i χ1 χ2 χ4 χ5 χ8 χ11 +0.00844i χ1 χ2 χ3 χ4 χ5 χ8 +0.0538 χ1 χ3 χ4 χ5 χ6 χ8 χ10 χ11 +0.0326 χ0 χ1 χ4 χ6 χ7 χ9 χ10 χ11 -0.0324i χ0 χ1 χ4 χ6 χ9 χ11 -0.0538 χ1 χ2 χ4 χ5 χ7 χ8 χ10 χ11 +0.0324i χ0 χ1 χ4 χ7 χ9 χ10 -0.0241i χ3 χ5 χ6 χ7 χ8 χ10 +0.0241i χ2 χ5 χ6 χ7 χ8 χ11 +0.0261i χ2 χ3 χ5 χ6 χ7 χ8 +0.0279 χ0 χ1 χ2 χ3 χ4 χ9 χ10 χ11 +0.038i χ5 χ6 χ7 χ8 χ10 χ11 +0.0241i χ0 χ1 χ3 χ4 χ9 χ10 -0.0241i χ0 χ1 χ2 χ4 χ9 χ11 -0.00844i χ0 χ1 χ4 χ6 χ7 χ9 +0.00643i χ0 χ1 χ3 χ4 χ7 χ8 +0.00643i χ0 χ1 χ2 χ4 χ6 χ8 +0.00643i χ0 χ1 χ2 χ4 χ8 χ10 +0.00643i χ0 χ1 χ3 χ4 χ8 χ11 -0.00643i χ1 χ4 χ5 χ7 χ9 χ11 -0.00643i χ1 χ4 χ5 χ6 χ9 χ10 -0.0171i χ1 χ3 χ4 χ5 χ9 χ11 -0.0171i χ1 χ2 χ4 χ5 χ9 χ10 -0.0171i χ0 χ1 χ4 χ6 χ8 χ10 -0.0171i χ0 χ1 χ4 χ7 χ8 χ11 +0.0927 χ0 χ2 χ3 χ6 χ7 χ9 χ10 χ11 -0.0241i χ2 χ5 χ7 χ8 χ10 χ11 -0.0241i χ0 χ2 χ7 χ9 χ10 χ11 -0.0324i χ2 χ3 χ5 χ7 χ8 χ10 -0.0927 χ2 χ3 χ5 χ6 χ7 χ8 χ10 χ11 -0.0324i χ0 χ2 χ6 χ7 χ9 χ11 -0.00643i χ0 χ2 χ3 χ7 χ8 χ11 +0.00643i χ2 χ5 χ6 χ7 χ9 χ10 -0.0171i χ2 χ3 χ5 χ7 χ9 χ11 -0.0171i χ0 χ2 χ6 χ7 χ8 χ10 +0.0241i χ3 χ5 χ6 χ8 χ10 χ11 +0.0241i χ0 χ3 χ6 χ9 χ10 χ11 +0.0324i χ2 χ3 χ5 χ6 χ8 χ11 +0.0324i χ0 χ3 χ6 χ7 χ9 χ10 -0.00643i χ0 χ2 χ3 χ6 χ8 χ10 +0.00643i χ3 χ5 χ6 χ7 χ9 χ11 -0.0171i χ2 χ3 χ5 χ6 χ9 χ10 -0.0171i χ0 χ3 χ6 χ7 χ8 χ11 -0.0314i χ0 χ1 χ2 χ3 χ4 χ6 χ7 χ9 χ10 χ11 +0.0261i χ2 χ3 χ5 χ8 χ10 χ11 -0.0261i χ0 χ6 χ7 χ9 χ10 χ11 +0.0538 χ0 χ1 χ3 χ4 χ6 χ9 χ10 χ11 +0.00643i χ2 χ5 χ6 χ9 χ10 χ11 -0.0538 χ0 χ1 χ2 χ4 χ7 χ9 χ10 χ11 +0.00643i χ3 χ5 χ7 χ9 χ10 χ11 +0.0314i χ1 χ2 χ3 χ4 χ5 χ6 χ7 χ8 χ10 χ11 -0.0116 χ0 χ3 χ7 χ8 -0.0116 χ0 χ2 χ6 χ8 -0.0168 χ0 χ2 χ8 χ10 -0.0168 χ0 χ3 χ8 χ11 -0.0116 χ2 χ5 χ6 χ9 -0.0116 χ3 χ5 χ7 χ9 -0.0168 χ5 χ7 χ9 χ11 -0.0168 χ5 χ6 χ9 χ10 -0.0116 χ3 χ5 χ9 χ11 -0.0116 χ2 χ5 χ9 χ10 +0.0116 χ0 χ6 χ8 χ10 +0.0116 χ0 χ7 χ8 χ11 -0.0196 χ1 χ2 χ4 χ5 χ6 χ7 χ9 χ10 -0.0196 χ1 χ3 χ4 χ5 χ6 χ7 χ9 χ11 -0.0196 χ0 χ1 χ2 χ3 χ4 χ7 χ8 χ11 -0.0196 χ0 χ1 χ2 χ3 χ4 χ6 χ8 χ10 -0.00629 χ1 χ2 χ3 χ4 χ5 χ7 χ9 χ11 +0.00629 χ0 χ1 χ2 χ4 χ6 χ7 χ8 χ10 -0.00629 χ1 χ2 χ3 χ4 χ5 χ6 χ9 χ10 +0.00629 χ0 χ1 χ3 χ4 χ6 χ7 χ8 χ11 +0.00629 χ0 χ1 χ3 χ4 χ7 χ8 χ10 χ11 +0.00629 χ0 χ1 χ2 χ4 χ6 χ8 χ10 χ11 +0.00629 χ1 χ2 χ4 χ5 χ6 χ9 χ10 χ11 +0.00629 χ1 χ3 χ4 χ5 χ7 χ9 χ10 χ11 +0.00643i χ0 χ3 χ7 χ8 χ10 χ11 +0.00643i χ1 χ2 χ4 χ5 χ6 χ9 +0.00643i χ0 χ2 χ6 χ8 χ10 χ11 +0.00643i χ1 χ3 χ4 χ5 χ7 χ9 +0.0167 χ2 χ4 χ5 χ7 -0.0167 χ0 χ1 χ3 χ6 -0.0167 χ3 χ4 χ5 χ6 -0.143 χ4 χ5 χ8 χ9 +0.0214 χ0 χ1 χ6 χ11 +0.0167 χ4 χ5 χ6 χ11 -0.0145i χ0 χ1 χ2 χ3 χ7 χ10 -0.143 χ0 χ1 χ8 χ9 -0.0167 χ0 χ1 χ3 χ10 +0.0145i χ2 χ4 χ5 χ6 χ7 χ11 +0.0061i χ0 χ1 +0.0061i χ4 χ5 +0.0671i χ2 χ3 χ4 χ5 χ6 χ7 -0.127 χ0 χ1 χ10 χ11 +0.0671i χ0 χ1 χ8 χ9 χ10 χ11 +0.0671i χ0 χ1 χ2 χ3 χ6 χ7 -0.127 χ4 χ5 χ10 χ11 +0.0671i χ4 χ5 χ8 χ9 χ10 χ11 -0.0669 χ2 χ3 χ4 χ5 χ6 χ7 χ8 χ9 -0.0669 χ0 χ1 χ2 χ3 χ6 χ7 χ8 χ9 -0.146 χ0 χ1 χ2 χ3 χ6 χ7 χ10 χ11 +0.0875i χ0 χ1 χ2 χ3 χ6 χ7 χ8 χ9 χ10 χ11 -0.146 χ2 χ3 χ4 χ5 χ6 χ7 χ10 χ11 +0.0875i χ2 χ3 χ4 χ5 χ6 χ7 χ8 χ9 χ10 χ11 +0.0279 χ2 χ4 χ5 χ6 χ7 χ8 χ9 χ11 -0.0326 χ2 χ3 χ4 χ5 χ7 χ8 χ9 χ10 +0.0279 χ2 χ4 χ5 χ7 χ8 χ9 χ10 χ11 -0.0261i χ2 χ4 χ5 χ7 χ8 χ9 +0.0167 χ0 χ1 χ2 χ7 +0.00844i χ0 χ1 χ3 χ6 χ10 χ11 +0.0326 χ0 χ1 χ2 χ6 χ7 χ8 χ9 χ11 -0.00844i χ0 χ1 χ2 χ6 χ7 χ11 +0.038i χ0 χ1 χ3 χ8 χ9 χ10 -0.0279 χ0 χ1 χ2 χ3 χ7 χ8 χ9 χ10 +0.0279 χ0 χ1 χ2 χ7 χ8 χ9 χ10 χ11 -0.0261i χ0 χ1 χ2 χ7 χ8 χ9 +0.00844i χ3 χ4 χ5 χ6 χ10 χ11 -0.038i χ4 χ5 χ6 χ8 χ9 χ11 -0.00844i χ0 χ1 χ2 χ7 χ10 χ11 -0.00844i χ2 χ4 χ5 χ7 χ10 χ11 +0.0261i χ3 χ4 χ5 χ6 χ8 χ9 -0.0279 χ3 χ4 χ5 χ6 χ8 χ9 χ10 χ11 -0.00643i χ1 χ2 χ3 χ5 χ7 χ11 -0.00643i χ0 χ2 χ3 χ4 χ7 χ11 +0.0261i χ0 χ1 χ3 χ6 χ8 χ9 -0.0279 χ0 χ1 χ3 χ6 χ8 χ9 χ10 χ11 +0.0261i χ3 χ4 χ5 χ8 χ9 χ10 -0.00643i χ0 χ4 χ6 χ8 χ9 χ10 -0.00643i χ1 χ5 χ6 χ8 χ9 χ10 -0.0261i χ0 χ1 χ6 χ8 χ9 χ11 -0.0214 χ3 χ4 χ5 χ10 +0.0116 χ1 χ3 χ5 χ11 +0.0116 χ0 χ3 χ4 χ11 +0.0116 χ0 χ4 χ6 χ10 +0.0116 χ1 χ5 χ6 χ10 -0.00629 χ0 χ2 χ3 χ4 χ7 χ8 χ9 χ11 -0.00629 χ0 χ2 χ4 χ6 χ7 χ8 χ9 χ10 -0.00629 χ1 χ2 χ3 χ5 χ7 χ8 χ9 χ11 -0.00629 χ1 χ2 χ5 χ6 χ7 χ8 χ9 χ10 +0.00844i χ2 χ3 χ4 χ5 χ7 χ10 -0.00643i χ0 χ3 χ4 χ8 χ9 χ11 -0.00643i χ1 χ3 χ5 χ8 χ9 χ11 -0.00643i χ1 χ2 χ5 χ6 χ7 χ10 -0.00643i χ0 χ2 χ4 χ6 χ7 χ10 +0.0145i χ0 χ1 χ2 χ3 χ6 χ11 -0.0214 χ0 χ1 χ7 χ10 -0.0167 χ4 χ5 χ7 χ10 -0.0145i χ3 χ4 χ5 χ6 χ7 χ10 +0.0167 χ0 χ1 χ2 χ11 -0.0279 χ3 χ4 χ5 χ6 χ7 χ8 χ9 χ10 +0.0326 χ2 χ3 χ4 χ5 χ6 χ8 χ9 χ11 -0.038i χ0 χ1 χ2 χ8 χ9 χ11 -0.0326 χ0 χ1 χ3 χ6 χ7 χ8 χ9 χ10 +0.00844i χ0 χ1 χ3 χ6 χ7 χ10 +0.0279 χ0 χ1 χ2 χ3 χ6 χ8 χ9 χ11 +0.038i χ4 χ5 χ7 χ8 χ9 χ10 -0.00643i χ1 χ2 χ3 χ5 χ6 χ10 -0.00643i χ0 χ2 χ3 χ4 χ6 χ10 -0.0261i χ2 χ4 χ5 χ8 χ9 χ11 -0.00643i χ0 χ4 χ7 χ8 χ9 χ11 -0.00643i χ1 χ5 χ7 χ8 χ9 χ11 +0.0261i χ0 χ1 χ7 χ8 χ9 χ10 +0.0214 χ2 χ4 χ5 χ11 +0.0116 χ1 χ2 χ5 χ10 +0.0116 χ0 χ2 χ4 χ10 +0.0116 χ0 χ4 χ7 χ11 +0.0116 χ1 χ5 χ7 χ11 -0.00629 χ0 χ2 χ3 χ4 χ6 χ8 χ9 χ10 -0.00629 χ0 χ3 χ4 χ6 χ7 χ8 χ9 χ11 -0.00629 χ1 χ2 χ3 χ5 χ6 χ8 χ9 χ10 -0.00629 χ1 χ3 χ5 χ6 χ7 χ8 χ9 χ11 -0.00844i χ2 χ3 χ4 χ5 χ6 χ11 -0.00643i χ0 χ2 χ4 χ8 χ9 χ10 -0.00643i χ1 χ2 χ5 χ8 χ9 χ10 -0.00643i χ1 χ3 χ5 χ6 χ7 χ11 -0.00643i χ0 χ3 χ4 χ6 χ7 χ11 +0.0671i χ4 χ5 χ6 χ7 χ8 χ9 -0.0868 χ0 χ1 χ2 χ3 -0.127 χ0 χ1 χ6 χ7 +0.0671i χ0 χ1 χ2 χ3 χ10 χ11 -0.0113 χ4 χ5 χ6 χ7 χ8 χ9 χ10 χ11 -0.0669 χ2 χ3 χ4 χ5 χ8 χ9 χ10 χ11 -0.0489i χ2 χ3 χ4 χ5 χ8 χ9 -0.0171i χ0 χ3 χ4 χ7 χ8 χ9 -0.0171i χ0 χ2 χ4 χ6 χ8 χ9 -0.0489i χ0 χ1 χ6 χ7 χ10 χ11 -0.0171i χ1 χ2 χ5 χ6 χ10 χ11 -0.0171i χ1 χ3 χ5 χ7 χ10 χ11 -0.0168 χ1 χ2 χ5 χ6 -0.0168 χ1 χ3 χ5 χ7 -0.0196 χ0 χ3 χ4 χ7 χ8 χ9 χ10 χ11 -0.0196 χ0 χ2 χ4 χ6 χ8 χ9 χ10 χ11 -0.0171i χ1 χ3 χ5 χ7 χ8 χ9 -0.0171i χ1 χ2 χ5 χ6 χ8 χ9 -0.0171i χ0 χ2 χ4 χ6 χ10 χ11 -0.0171i χ0 χ3 χ4 χ7 χ10 χ11 -0.0168 χ0 χ2 χ4 χ6 -0.0168 χ0 χ3 χ4 χ7 -0.0196 χ1 χ3 χ5 χ7 χ8 χ9 χ10 χ11 -0.0196 χ1 χ2 χ5 χ6 χ8 χ9 χ10 χ11 +0.0671i χ4 χ5 χ6 χ7 χ10 χ11 +0.0671i χ0 χ1 χ2 χ3 χ8 χ9 -0.0669 χ0 χ1 χ6 χ7 χ8 χ9 χ10 χ11 -0.127 χ2 χ3 χ4 χ5 -0.0868 χ4 χ5 χ6 χ7 -0.0113 χ0 χ1 χ2 χ3 χ8 χ9 χ10 χ11 -0.0489i χ0 χ1 χ6 χ7 χ8 χ9 -0.0489i χ2 χ3 χ4 χ5 χ10 χ11,\n",
       " 0.0316i χ1 χ4 -0.0316i χ2 χ7 +0.0316i χ3 χ6 -0.0316i χ4 χ9 -0.0316i χ6 χ11 +0.0316i χ7 χ10 +0.0316i χ1 χ8 +0.0316i χ3 χ10 -0.0316i χ2 χ11 +0.195i χ2 χ3 +0.195i χ6 χ7 +0.137 χ8 χ9 χ10 χ11 -0.0107i χ0 χ1 χ2 χ4 χ5 χ7 +0.0107i χ0 χ1 χ3 χ4 χ5 χ6 -0.0124i χ0 χ1 χ4 χ5 χ6 χ11 +0.0124i χ0 χ1 χ4 χ5 χ7 χ10 +0.0124i χ0 χ1 χ3 χ4 χ5 χ10 -0.0124i χ0 χ1 χ2 χ4 χ5 χ11 +0.0329i χ0 χ1 χ2 χ3 χ4 χ5 +0.0329i χ0 χ1 χ4 χ5 χ6 χ7 +0.035i χ0 χ1 χ4 χ5 χ10 χ11 -0.0459i χ0 χ1 χ4 χ5 χ8 χ9 +0.0607 χ0 χ1 χ4 χ5 χ8 χ9 χ10 χ11 -0.0107i χ0 χ2 χ3 χ5 χ6 χ7 +0.0468i χ0 χ2 χ4 χ5 χ7 χ9 -0.0468i χ0 χ2 χ5 χ6 χ7 χ11 +0.0468i χ0 χ1 χ2 χ5 χ7 χ8 -0.0468i χ0 χ2 χ3 χ5 χ7 χ10 +0.0284 χ0 χ2 χ5 χ7 χ8 χ9 χ10 χ11 -0.0468i χ0 χ3 χ4 χ5 χ6 χ9 +0.0468i χ0 χ3 χ5 χ6 χ7 χ10 -0.0468i χ0 χ1 χ3 χ5 χ6 χ8 +0.0468i χ0 χ2 χ3 χ5 χ6 χ11 -0.0284 χ0 χ3 χ5 χ6 χ8 χ9 χ10 χ11 -0.0468i χ0 χ4 χ5 χ6 χ9 χ11 +0.0468i χ0 χ4 χ5 χ7 χ9 χ10 +0.0487i χ0 χ3 χ4 χ5 χ9 χ10 -0.0487i χ0 χ2 χ4 χ5 χ9 χ11 -0.0607i χ0 χ2 χ3 χ4 χ5 χ9 -0.0568i χ0 χ4 χ5 χ6 χ7 χ9 -0.0607i χ0 χ4 χ5 χ9 χ10 χ11 +0.0275 χ1 χ2 χ3 χ8 -0.0124i χ0 χ5 χ6 χ7 χ10 χ11 +0.0487i χ0 χ1 χ5 χ6 χ8 χ11 +0.0468i χ0 χ5 χ6 χ8 χ9 χ11 -0.0487i χ0 χ1 χ5 χ7 χ8 χ10 -0.0468i χ0 χ5 χ7 χ8 χ9 χ10 +0.0468i χ0 χ1 χ3 χ5 χ8 χ10 -0.0468i χ0 χ1 χ2 χ5 χ8 χ11 +0.0568i χ0 χ1 χ2 χ3 χ5 χ8 +0.0607i χ0 χ1 χ5 χ6 χ7 χ8 +0.0607i χ0 χ1 χ5 χ8 χ10 χ11 -0.0275 χ4 χ6 χ7 χ9 -0.0124i χ0 χ2 χ3 χ5 χ10 χ11 +0.0468i χ0 χ3 χ5 χ8 χ9 χ10 -0.0468i χ0 χ2 χ5 χ8 χ9 χ11 -0.0941 χ0 χ1 χ4 χ5 -0.0532 χ0 χ2 χ5 χ7 +0.0532 χ0 χ3 χ5 χ6 +0.0073 χ0 χ4 χ5 χ9 -0.0122 χ0 χ5 χ6 χ11 +0.0122 χ0 χ5 χ7 χ10 -0.0073 χ0 χ1 χ5 χ8 -0.0122 χ0 χ3 χ5 χ10 +0.0122 χ0 χ2 χ5 χ11 -0.0275 χ0 χ2 χ3 χ5 -0.0275 χ0 χ5 χ6 χ7 +0.016 χ0 χ5 χ10 χ11 +0.0073 χ0 χ5 χ8 χ9 -0.0568i χ0 χ5 χ8 χ9 χ10 χ11 -0.0607i χ0 χ2 χ3 χ5 χ8 χ9 -0.0362 χ0 χ2 χ3 χ5 χ8 χ9 χ10 χ11 +0.0275 χ1 χ4 χ6 χ7 +0.0275 χ1 χ2 χ3 χ4 +0.0107i χ1 χ2 χ3 χ4 χ6 χ7 -0.0607i χ0 χ5 χ6 χ7 χ8 χ9 -0.0362 χ0 χ5 χ6 χ7 χ8 χ9 χ10 χ11 +0.0468i χ1 χ2 χ4 χ6 χ7 χ11 +0.0468i χ1 χ2 χ3 χ4 χ7 χ10 -0.0284 χ1 χ2 χ4 χ7 χ8 χ9 χ10 χ11 -0.0468i χ1 χ3 χ4 χ6 χ7 χ10 -0.0468i χ1 χ2 χ3 χ4 χ6 χ11 +0.0284 χ1 χ3 χ4 χ6 χ8 χ9 χ10 χ11 +0.0124i χ1 χ4 χ6 χ7 χ10 χ11 -0.0468i χ1 χ4 χ6 χ8 χ9 χ11 +0.0468i χ1 χ4 χ7 χ8 χ9 χ10 +0.0124i χ1 χ2 χ3 χ4 χ10 χ11 -0.0468i χ1 χ3 χ4 χ8 χ9 χ10 +0.0468i χ1 χ2 χ4 χ8 χ9 χ11 +0.0532 χ1 χ2 χ4 χ7 -0.0532 χ1 χ3 χ4 χ6 +0.0122 χ1 χ4 χ6 χ11 -0.0122 χ1 χ4 χ7 χ10 +0.0122 χ1 χ3 χ4 χ10 -0.0122 χ1 χ2 χ4 χ11 -0.016 χ1 χ4 χ10 χ11 -0.0073 χ1 χ4 χ8 χ9 +0.0568i χ1 χ4 χ8 χ9 χ10 χ11 +0.0607i χ1 χ2 χ3 χ4 χ8 χ9 +0.0362 χ1 χ2 χ3 χ4 χ8 χ9 χ10 χ11 +0.0607i χ1 χ4 χ6 χ7 χ8 χ9 +0.0362 χ1 χ4 χ6 χ7 χ8 χ9 χ10 χ11 -0.0124i χ2 χ3 χ4 χ6 χ7 χ9 +0.0124i χ1 χ2 χ3 χ6 χ7 χ8 -0.0459i χ2 χ3 χ6 χ7 χ10 χ11 +0.0607 χ2 χ3 χ6 χ7 χ8 χ9 χ10 χ11 +0.0468i χ2 χ4 χ6 χ7 χ9 χ11 +0.0487i χ2 χ3 χ4 χ7 χ9 χ10 +0.0487i χ1 χ2 χ6 χ7 χ8 χ11 -0.0607i χ2 χ6 χ7 χ8 χ9 χ11 -0.0468i χ1 χ2 χ3 χ7 χ8 χ10 +0.0607i χ2 χ3 χ7 χ8 χ9 χ10 -0.0941 χ2 χ3 χ6 χ7 +0.0122 χ2 χ4 χ7 χ9 +0.0073 χ2 χ6 χ7 χ11 +0.0122 χ1 χ2 χ7 χ8 -0.0073 χ2 χ3 χ7 χ10 +0.0073 χ2 χ7 χ10 χ11 +0.016 χ2 χ7 χ8 χ9 -0.0568i χ2 χ7 χ8 χ9 χ10 χ11 -0.0468i χ3 χ4 χ6 χ7 χ9 χ10 -0.0487i χ2 χ3 χ4 χ6 χ9 χ11 -0.0487i χ1 χ3 χ6 χ7 χ8 χ10 +0.0607i χ3 χ6 χ7 χ8 χ9 χ10 +0.0468i χ1 χ2 χ3 χ6 χ8 χ11 -0.0607i χ2 χ3 χ6 χ8 χ9 χ11 -0.0122 χ3 χ4 χ6 χ9 -0.0073 χ3 χ6 χ7 χ10 -0.0122 χ1 χ3 χ6 χ8 +0.0073 χ2 χ3 χ6 χ11 -0.0073 χ3 χ6 χ10 χ11 -0.016 χ3 χ6 χ8 χ9 +0.0568i χ3 χ6 χ8 χ9 χ10 χ11 +0.0275 χ1 χ8 χ10 χ11 +0.0487i χ1 χ2 χ4 χ7 χ8 χ9 -0.0487i χ1 χ3 χ4 χ6 χ8 χ9 +0.195i χ10 χ11 +0.0607 χ0 χ1 χ2 χ3 χ4 χ5 χ8 χ9 -0.0107i χ4 χ6 χ7 χ9 χ10 χ11 -0.0124i χ2 χ3 χ4 χ9 χ10 χ11 -0.0532 χ4 χ6 χ9 χ11 +0.0532 χ4 χ7 χ9 χ10 +0.0122 χ3 χ4 χ9 χ10 -0.0122 χ2 χ4 χ9 χ11 +0.016 χ2 χ3 χ4 χ9 -0.0275 χ4 χ9 χ10 χ11 -0.0487i χ0 χ2 χ5 χ7 χ8 χ9 +0.0487i χ0 χ3 χ5 χ6 χ8 χ9 -0.0284 χ0 χ1 χ2 χ3 χ5 χ6 χ8 χ11 +0.0284 χ0 χ1 χ2 χ3 χ5 χ7 χ8 χ10 +0.0362 χ0 χ1 χ2 χ3 χ5 χ6 χ7 χ8 +0.0362 χ0 χ1 χ2 χ3 χ5 χ8 χ10 χ11 +0.0487i χ0 χ3 χ5 χ6 χ10 χ11 -0.0487i χ1 χ3 χ4 χ6 χ10 χ11 +0.0275 χ3 χ8 χ9 χ10 +0.0468i χ3 χ4 χ6 χ9 χ10 χ11 +0.195i χ8 χ9 +0.0124i χ1 χ6 χ7 χ8 χ10 χ11 +0.0329i χ6 χ7 χ8 χ9 χ10 χ11 -0.0941 χ6 χ7 χ10 χ11 -0.0122 χ1 χ6 χ8 χ11 -0.0275 χ6 χ8 χ9 χ11 -0.0362 χ0 χ1 χ2 χ3 χ4 χ5 χ6 χ11 +0.0275 χ7 χ8 χ9 χ10 -0.0487i χ0 χ2 χ5 χ7 χ10 χ11 +0.0487i χ1 χ2 χ4 χ7 χ10 χ11 -0.0275 χ2 χ8 χ9 χ11 -0.0468i χ2 χ4 χ7 χ9 χ10 χ11 +0.0122 χ1 χ7 χ8 χ10 +0.0362 χ0 χ1 χ2 χ3 χ4 χ5 χ7 χ10 +0.0607 χ0 χ1 χ4 χ5 χ6 χ7 χ8 χ9 +0.0107i χ1 χ2 χ3 χ8 χ10 χ11 -0.0532 χ1 χ3 χ8 χ10 +0.0532 χ1 χ2 χ8 χ11 -0.016 χ1 χ6 χ7 χ8 -0.0284 χ0 χ3 χ4 χ5 χ6 χ7 χ9 χ10 +0.0284 χ0 χ2 χ4 χ5 χ6 χ7 χ9 χ11 -0.0362 χ0 χ2 χ3 χ4 χ5 χ6 χ7 χ9 -0.0362 χ0 χ4 χ5 χ6 χ7 χ9 χ10 χ11 +0.0329i χ2 χ3 χ8 χ9 χ10 χ11 -0.0941 χ2 χ3 χ10 χ11 +0.0362 χ0 χ1 χ3 χ4 χ5 χ6 χ7 χ10 -0.0362 χ0 χ1 χ2 χ4 χ5 χ6 χ7 χ11 -0.0173 χ2 χ3 χ8 χ9 +0.0455 χ0 χ1 χ2 χ3 χ4 χ5 χ6 χ7 -0.0173 χ6 χ7 χ8 χ9 +0.0221 χ0 χ1 χ4 χ5 χ6 χ7 χ10 χ11 -0.0831i χ0 χ1 χ4 χ5 χ6 χ7 χ8 χ9 χ10 χ11 +0.021 χ1 χ3 χ7 χ9 +0.021 χ1 χ2 χ6 χ9 -0.0236 χ1 χ2 χ9 χ10 -0.0236 χ1 χ3 χ9 χ11 +0.0221 χ0 χ1 χ2 χ3 χ4 χ5 χ10 χ11 -0.0831i χ0 χ1 χ2 χ3 χ4 χ5 χ8 χ9 χ10 χ11 -0.0831i χ0 χ1 χ2 χ3 χ4 χ5 χ6 χ7 χ10 χ11 -0.0213 χ0 χ1 χ2 χ3 χ4 χ5 χ6 χ7 χ8 χ9 χ10 χ11 -0.0236 χ4 χ7 χ8 χ11 -0.0236 χ4 χ6 χ8 χ10 +0.021 χ3 χ4 χ8 χ11 +0.021 χ2 χ4 χ8 χ10 -0.021 χ1 χ6 χ9 χ10 -0.021 χ1 χ7 χ9 χ11 -0.106i χ0 χ1 χ2 χ4 χ5 χ6 χ7 χ8 χ9 χ11 +0.106i χ0 χ1 χ2 χ3 χ4 χ5 χ7 χ8 χ9 χ10 +0.00731 χ0 χ1 χ2 χ4 χ5 χ7 χ10 χ11 +0.00986 χ0 χ1 χ2 χ4 χ5 χ7 χ8 χ9 -0.106i χ0 χ1 χ2 χ4 χ5 χ7 χ8 χ9 χ10 χ11 +0.106i χ0 χ1 χ3 χ4 χ5 χ6 χ7 χ8 χ9 χ10 -0.106i χ0 χ1 χ2 χ3 χ4 χ5 χ6 χ8 χ9 χ11 -0.00731 χ0 χ1 χ3 χ4 χ5 χ6 χ10 χ11 -0.00986 χ0 χ1 χ3 χ4 χ5 χ6 χ8 χ9 +0.106i χ0 χ1 χ3 χ4 χ5 χ6 χ8 χ9 χ10 χ11 -0.00986 χ0 χ1 χ3 χ4 χ5 χ8 χ9 χ10 +0.00986 χ0 χ1 χ4 χ5 χ6 χ8 χ9 χ11 -0.00986 χ0 χ1 χ4 χ5 χ7 χ8 χ9 χ10 +0.00986 χ0 χ1 χ2 χ4 χ5 χ8 χ9 χ11 +0.106i χ0 χ1 χ2 χ3 χ5 χ6 χ7 χ8 χ10 χ11 +0.00986 χ0 χ2 χ3 χ5 χ6 χ7 χ10 χ11 +0.00731 χ0 χ2 χ3 χ5 χ6 χ7 χ8 χ9 -0.106i χ0 χ2 χ3 χ5 χ6 χ7 χ8 χ9 χ10 χ11 -0.00037 χ0 χ1 χ2 χ5 χ7 χ8 χ10 χ11 -0.00037 χ0 χ2 χ3 χ4 χ5 χ7 χ9 χ10 -0.00037 χ0 χ2 χ4 χ5 χ7 χ9 χ10 χ11 +0.00037 χ0 χ2 χ3 χ5 χ7 χ8 χ9 χ10 -0.106i χ0 χ2 χ3 χ4 χ5 χ6 χ7 χ9 χ10 χ11 +0.00037 χ0 χ1 χ2 χ5 χ6 χ7 χ8 χ11 +0.00037 χ0 χ2 χ5 χ6 χ7 χ8 χ9 χ11 +0.0101 χ0 χ1 χ2 χ3 χ5 χ7 χ9 χ11 +0.0101 χ0 χ2 χ4 χ5 χ6 χ7 χ8 χ10 -0.00292 χ0 χ2 χ3 χ4 χ5 χ7 χ8 χ11 +0.00292 χ0 χ1 χ2 χ5 χ6 χ7 χ9 χ10 +0.00037 χ0 χ1 χ3 χ5 χ6 χ8 χ10 χ11 -0.0831i χ0 χ1 χ2 χ3 χ4 χ5 χ6 χ7 χ8 χ9 +0.00037 χ0 χ2 χ3 χ4 χ5 χ6 χ9 χ11 +0.00037 χ0 χ3 χ4 χ5 χ6 χ9 χ10 χ11 +0.035i χ2 χ3 χ6 χ7 χ8 χ9 -0.00037 χ0 χ3 χ5 χ6 χ7 χ8 χ9 χ10 -0.00037 χ0 χ2 χ3 χ5 χ6 χ8 χ9 χ11 -0.00037 χ0 χ1 χ3 χ5 χ6 χ7 χ8 χ10 +0.0101 χ0 χ1 χ2 χ3 χ5 χ6 χ9 χ10 +0.0101 χ0 χ3 χ4 χ5 χ6 χ7 χ8 χ11 -0.00292 χ0 χ2 χ3 χ4 χ5 χ6 χ8 χ10 +0.00292 χ0 χ1 χ3 χ5 χ6 χ7 χ9 χ11 -0.00731 χ0 χ1 χ5 χ6 χ7 χ8 χ10 χ11 +0.00037 χ1 χ2 χ3 χ4 χ6 χ8 χ9 χ11 -0.00037 χ1 χ2 χ3 χ4 χ7 χ8 χ9 χ10 -0.00731 χ1 χ2 χ3 χ4 χ6 χ7 χ8 χ9 +0.00731 χ0 χ2 χ3 χ4 χ5 χ9 χ10 χ11 -0.00986 χ1 χ2 χ3 χ6 χ7 χ8 χ10 χ11 +0.0468i χ1 χ3 χ6 χ8 χ10 χ11 -0.00986 χ1 χ2 χ3 χ4 χ6 χ7 χ10 χ11 +0.00292 χ0 χ2 χ4 χ5 χ6 χ8 χ10 χ11 -0.0468i χ1 χ2 χ7 χ8 χ10 χ11 +0.00292 χ0 χ3 χ4 χ5 χ7 χ8 χ10 χ11 +0.00037 χ1 χ3 χ4 χ6 χ7 χ8 χ9 χ10 -0.00037 χ1 χ2 χ4 χ6 χ7 χ8 χ9 χ11 +0.00986 χ2 χ3 χ4 χ6 χ7 χ9 χ10 χ11 +0.00152i χ0 χ1 χ3 χ5 χ7 χ9 +0.00152i χ0 χ1 χ2 χ5 χ6 χ9 +0.00152i χ0 χ1 χ2 χ5 χ9 χ10 +0.00152i χ0 χ1 χ3 χ5 χ9 χ11 +0.106i χ1 χ2 χ3 χ4 χ6 χ7 χ8 χ9 χ10 χ11 +0.00152i χ0 χ2 χ4 χ5 χ6 χ8 +0.00152i χ0 χ3 χ4 χ5 χ7 χ8 -0.00152i χ0 χ4 χ5 χ7 χ8 χ11 -0.00152i χ0 χ4 χ5 χ6 χ8 χ10 +0.00822i χ0 χ3 χ4 χ5 χ8 χ11 +0.00822i χ0 χ2 χ4 χ5 χ8 χ10 +0.00822i χ0 χ1 χ5 χ6 χ9 χ10 +0.00822i χ0 χ1 χ5 χ7 χ9 χ11 +0.00152i χ2 χ4 χ6 χ7 χ8 χ10 +0.00152i χ3 χ4 χ6 χ7 χ8 χ11 -0.00152i χ1 χ2 χ3 χ7 χ9 χ11 -0.00152i χ1 χ2 χ3 χ6 χ9 χ10 +0.00822i χ2 χ3 χ4 χ7 χ8 χ11 +0.00822i χ1 χ2 χ6 χ7 χ9 χ10 +0.00822i χ2 χ3 χ4 χ6 χ8 χ10 +0.00822i χ1 χ3 χ6 χ7 χ9 χ11 +0.00152i χ1 χ3 χ7 χ9 χ10 χ11 +0.00152i χ1 χ2 χ6 χ9 χ10 χ11 +0.00152i χ2 χ4 χ6 χ8 χ10 χ11 +0.00152i χ3 χ4 χ7 χ8 χ10 χ11 +0.00292 χ0 χ1 χ3 χ5 χ7 χ9 χ10 χ11 +0.021 χ2 χ4 χ6 χ8 +0.00292 χ0 χ1 χ2 χ5 χ6 χ9 χ10 χ11 +0.021 χ3 χ4 χ7 χ8 -0.0316i χ0 χ5 +0.0316i χ5 χ8 -0.0316i χ0 χ9 -0.0468i χ1 χ2 χ4 χ5 χ7 χ8 -0.0468i χ0 χ1 χ2 χ4 χ7 χ9 +0.0468i χ1 χ3 χ4 χ5 χ6 χ8 +0.0468i χ0 χ1 χ3 χ4 χ6 χ9 -0.0275 χ0 χ2 χ3 χ9 +0.0468i χ1 χ4 χ5 χ6 χ8 χ11 -0.0468i χ1 χ4 χ5 χ7 χ8 χ10 -0.0487i χ1 χ3 χ4 χ5 χ8 χ10 +0.0487i χ1 χ2 χ4 χ5 χ8 χ11 +0.0607i χ1 χ2 χ3 χ4 χ5 χ8 +0.0568i χ1 χ4 χ5 χ6 χ7 χ8 +0.0607i χ1 χ4 χ5 χ8 χ10 χ11 -0.0487i χ0 χ1 χ4 χ6 χ9 χ11 +0.0487i χ0 χ1 χ4 χ7 χ9 χ10 +0.0275 χ5 χ6 χ7 χ8 -0.0468i χ0 χ1 χ3 χ4 χ9 χ10 +0.0468i χ0 χ1 χ2 χ4 χ9 χ11 -0.0568i χ0 χ1 χ2 χ3 χ4 χ9 -0.0607i χ0 χ1 χ4 χ6 χ7 χ9 -0.0607i χ0 χ1 χ4 χ9 χ10 χ11 -0.0073 χ1 χ4 χ5 χ8 +0.0073 χ0 χ1 χ4 χ9 +0.0124i χ2 χ3 χ5 χ6 χ7 χ8 -0.0124i χ0 χ2 χ3 χ6 χ7 χ9 -0.0468i χ2 χ5 χ6 χ7 χ8 χ11 -0.0487i χ2 χ3 χ5 χ7 χ8 χ10 -0.0487i χ0 χ2 χ6 χ7 χ9 χ11 +0.0468i χ0 χ2 χ3 χ7 χ9 χ10 -0.0122 χ2 χ5 χ7 χ8 -0.0122 χ0 χ2 χ7 χ9 +0.0468i χ3 χ5 χ6 χ7 χ8 χ10 +0.0487i χ2 χ3 χ5 χ6 χ8 χ11 +0.0487i χ0 χ3 χ6 χ7 χ9 χ10 -0.0468i χ0 χ2 χ3 χ6 χ9 χ11 +0.0122 χ3 χ5 χ6 χ8 +0.0122 χ0 χ3 χ6 χ9 +0.0284 χ0 χ1 χ2 χ3 χ4 χ6 χ9 χ11 -0.0284 χ0 χ1 χ2 χ3 χ4 χ7 χ9 χ10 -0.0362 χ0 χ1 χ2 χ3 χ4 χ6 χ7 χ9 -0.0362 χ0 χ1 χ2 χ3 χ4 χ9 χ10 χ11 +0.0275 χ5 χ8 χ10 χ11 +0.0107i χ5 χ6 χ7 χ8 χ10 χ11 -0.0275 χ0 χ9 χ10 χ11 +0.0124i χ2 χ3 χ5 χ8 χ10 χ11 +0.0532 χ5 χ6 χ8 χ11 -0.0532 χ5 χ7 χ8 χ10 -0.0122 χ3 χ5 χ8 χ10 +0.0122 χ2 χ5 χ8 χ11 -0.016 χ2 χ3 χ5 χ8 -0.0468i χ3 χ5 χ6 χ8 χ10 χ11 -0.0124i χ0 χ6 χ7 χ9 χ10 χ11 +0.0122 χ0 χ6 χ9 χ11 +0.0468i χ2 χ5 χ7 χ8 χ10 χ11 -0.0122 χ0 χ7 χ9 χ10 +0.0284 χ1 χ3 χ4 χ5 χ6 χ7 χ8 χ10 -0.0284 χ1 χ2 χ4 χ5 χ6 χ7 χ8 χ11 +0.0362 χ1 χ2 χ3 χ4 χ5 χ6 χ7 χ8 -0.0107i χ0 χ2 χ3 χ9 χ10 χ11 +0.0362 χ1 χ4 χ5 χ6 χ7 χ8 χ10 χ11 +0.0532 χ0 χ3 χ9 χ10 -0.0532 χ0 χ2 χ9 χ11 +0.016 χ0 χ6 χ7 χ9 +0.021 χ0 χ3 χ7 χ8 +0.021 χ0 χ2 χ6 χ8 -0.0236 χ0 χ2 χ8 χ10 -0.0236 χ0 χ3 χ8 χ11 -0.0236 χ5 χ7 χ9 χ11 -0.0236 χ5 χ6 χ9 χ10 +0.021 χ3 χ5 χ9 χ11 +0.021 χ2 χ5 χ9 χ10 -0.021 χ0 χ6 χ8 χ10 -0.021 χ0 χ7 χ8 χ11 -0.106i χ0 χ1 χ2 χ3 χ4 χ6 χ7 χ9 χ10 χ11 +0.00037 χ1 χ2 χ4 χ5 χ7 χ8 χ10 χ11 +0.00037 χ0 χ1 χ2 χ4 χ7 χ9 χ10 χ11 +0.00037 χ1 χ2 χ3 χ4 χ5 χ7 χ8 χ10 +0.106i χ1 χ2 χ3 χ4 χ5 χ6 χ7 χ8 χ10 χ11 -0.00037 χ0 χ1 χ2 χ4 χ6 χ7 χ9 χ11 +0.0101 χ0 χ1 χ2 χ3 χ4 χ7 χ8 χ11 +0.0101 χ1 χ2 χ4 χ5 χ6 χ7 χ9 χ10 -0.00292 χ1 χ2 χ3 χ4 χ5 χ7 χ9 χ11 +0.00292 χ0 χ1 χ2 χ4 χ6 χ7 χ8 χ10 -0.00037 χ1 χ3 χ4 χ5 χ6 χ8 χ10 χ11 -0.00037 χ0 χ1 χ3 χ4 χ6 χ9 χ10 χ11 -0.00037 χ1 χ2 χ3 χ4 χ5 χ6 χ8 χ11 +0.00037 χ0 χ1 χ3 χ4 χ6 χ7 χ9 χ10 +0.0101 χ0 χ1 χ2 χ3 χ4 χ6 χ8 χ10 +0.0101 χ1 χ3 χ4 χ5 χ6 χ7 χ9 χ11 -0.00292 χ1 χ2 χ3 χ4 χ5 χ6 χ9 χ10 +0.00292 χ0 χ1 χ3 χ4 χ6 χ7 χ8 χ11 +0.00986 χ0 χ2 χ3 χ6 χ7 χ9 χ10 χ11 -0.00731 χ1 χ2 χ3 χ4 χ5 χ8 χ10 χ11 +0.00731 χ0 χ1 χ4 χ6 χ7 χ9 χ10 χ11 -0.0468i χ0 χ3 χ6 χ9 χ10 χ11 +0.00292 χ1 χ2 χ4 χ5 χ6 χ9 χ10 χ11 +0.0468i χ0 χ2 χ7 χ9 χ10 χ11 +0.00292 χ1 χ3 χ4 χ5 χ7 χ9 χ10 χ11 -0.00986 χ2 χ3 χ5 χ6 χ7 χ8 χ10 χ11 +0.00152i χ0 χ1 χ3 χ4 χ7 χ8 +0.00152i χ0 χ1 χ2 χ4 χ6 χ8 +0.00152i χ0 χ1 χ2 χ4 χ8 χ10 +0.00152i χ0 χ1 χ3 χ4 χ8 χ11 +0.00152i χ1 χ2 χ4 χ5 χ6 χ9 +0.00152i χ1 χ3 χ4 χ5 χ7 χ9 -0.00152i χ1 χ4 χ5 χ7 χ9 χ11 -0.00152i χ1 χ4 χ5 χ6 χ9 χ10 +0.00822i χ1 χ3 χ4 χ5 χ9 χ11 +0.00822i χ1 χ2 χ4 χ5 χ9 χ10 +0.00822i χ0 χ1 χ4 χ6 χ8 χ10 +0.00822i χ0 χ1 χ4 χ7 χ8 χ11 +0.00152i χ2 χ5 χ6 χ7 χ9 χ10 +0.00152i χ3 χ5 χ6 χ7 χ9 χ11 -0.00152i χ0 χ2 χ3 χ7 χ8 χ11 -0.00152i χ0 χ2 χ3 χ6 χ8 χ10 +0.00822i χ2 χ3 χ5 χ7 χ9 χ11 +0.00822i χ0 χ2 χ6 χ7 χ8 χ10 +0.00822i χ2 χ3 χ5 χ6 χ9 χ10 +0.00822i χ0 χ3 χ6 χ7 χ8 χ11 +0.00152i χ0 χ3 χ7 χ8 χ10 χ11 +0.00152i χ0 χ2 χ6 χ8 χ10 χ11 +0.00152i χ2 χ5 χ6 χ9 χ10 χ11 +0.00152i χ3 χ5 χ7 χ9 χ10 χ11 +0.00292 χ0 χ1 χ3 χ4 χ7 χ8 χ10 χ11 +0.021 χ2 χ5 χ6 χ9 +0.00292 χ0 χ1 χ2 χ4 χ6 χ8 χ10 χ11 +0.021 χ3 χ5 χ7 χ9 +0.195i χ4 χ5 +0.0329i χ0 χ1 χ2 χ3 χ6 χ7 +0.0329i χ2 χ3 χ4 χ5 χ6 χ7 -0.0124i χ2 χ4 χ5 χ7 χ8 χ9 -0.0607i χ0 χ1 χ2 χ6 χ7 χ11 -0.0568i χ2 χ4 χ5 χ6 χ7 χ11 +0.0275 χ0 χ1 χ3 χ10 -0.0124i χ0 χ1 χ2 χ7 χ8 χ9 +0.0568i χ0 χ1 χ2 χ3 χ7 χ10 -0.0275 χ4 χ5 χ6 χ11 -0.0275 χ0 χ1 χ2 χ7 -0.0275 χ2 χ4 χ5 χ7 +0.0275 χ3 χ4 χ5 χ6 -0.0607i χ0 χ1 χ2 χ7 χ10 χ11 -0.0362 χ0 χ1 χ2 χ7 χ8 χ9 χ10 χ11 +0.0275 χ0 χ1 χ3 χ6 -0.0607i χ2 χ4 χ5 χ7 χ10 χ11 -0.0362 χ2 χ4 χ5 χ7 χ8 χ9 χ10 χ11 +0.0124i χ3 χ4 χ5 χ6 χ8 χ9 +0.0124i χ0 χ1 χ3 χ6 χ8 χ9 +0.0607i χ0 χ1 χ3 χ6 χ10 χ11 +0.0362 χ0 χ1 χ3 χ6 χ8 χ9 χ10 χ11 +0.0607i χ3 χ4 χ5 χ6 χ10 χ11 +0.0362 χ3 χ4 χ5 χ6 χ8 χ9 χ10 χ11 -0.0107i χ4 χ5 χ6 χ8 χ9 χ11 +0.0124i χ3 χ4 χ5 χ8 χ9 χ10 +0.0329i χ4 χ5 χ8 χ9 χ10 χ11 -0.0941 χ4 χ5 χ8 χ9 +0.195i χ0 χ1 +0.0607 χ0 χ1 χ2 χ3 χ6 χ7 χ10 χ11 -0.0124i χ0 χ1 χ6 χ8 χ9 χ11 +0.016 χ0 χ1 χ6 χ11 +0.0362 χ0 χ1 χ2 χ3 χ7 χ8 χ9 χ10 +0.0107i χ0 χ1 χ3 χ8 χ9 χ10 +0.0329i χ0 χ1 χ8 χ9 χ10 χ11 -0.0941 χ0 χ1 χ8 χ9 +0.0607 χ2 χ3 χ4 χ5 χ6 χ7 χ10 χ11 -0.0362 χ2 χ4 χ5 χ6 χ7 χ8 χ9 χ11 -0.0173 χ0 χ1 χ10 χ11 -0.0173 χ4 χ5 χ10 χ11 +0.0221 χ2 χ3 χ4 χ5 χ6 χ7 χ8 χ9 -0.0831i χ2 χ3 χ4 χ5 χ6 χ7 χ8 χ9 χ10 χ11 -0.021 χ1 χ3 χ5 χ11 -0.021 χ0 χ3 χ4 χ11 +0.0221 χ0 χ1 χ2 χ3 χ6 χ7 χ8 χ9 -0.0831i χ0 χ1 χ2 χ3 χ6 χ7 χ8 χ9 χ10 χ11 -0.00731 χ2 χ3 χ4 χ5 χ7 χ8 χ9 χ10 -0.00292 χ0 χ2 χ4 χ6 χ7 χ8 χ9 χ10 -0.00292 χ1 χ2 χ5 χ6 χ7 χ8 χ9 χ10 +0.00731 χ0 χ1 χ2 χ6 χ7 χ8 χ9 χ11 +0.0607i χ2 χ3 χ4 χ5 χ7 χ10 -0.00152i χ1 χ2 χ3 χ5 χ7 χ11 -0.00152i χ0 χ2 χ3 χ4 χ7 χ11 -0.00152i χ0 χ2 χ4 χ6 χ7 χ10 -0.00152i χ1 χ2 χ5 χ6 χ7 χ10 -0.00152i χ0 χ3 χ4 χ8 χ9 χ11 -0.00152i χ0 χ4 χ6 χ8 χ9 χ10 -0.00152i χ1 χ3 χ5 χ8 χ9 χ11 -0.00152i χ1 χ5 χ6 χ8 χ9 χ10 -0.016 χ3 χ4 χ5 χ10 -0.00292 χ0 χ2 χ3 χ4 χ7 χ8 χ9 χ11 -0.00292 χ1 χ2 χ3 χ5 χ7 χ8 χ9 χ11 -0.021 χ1 χ5 χ6 χ10 -0.021 χ0 χ4 χ6 χ10 -0.0275 χ0 χ1 χ2 χ11 +0.0607i χ0 χ1 χ3 χ6 χ7 χ10 +0.0568i χ3 χ4 χ5 χ6 χ7 χ10 +0.0275 χ4 χ5 χ7 χ10 -0.0568i χ0 χ1 χ2 χ3 χ6 χ11 +0.0107i χ4 χ5 χ7 χ8 χ9 χ10 -0.0124i χ2 χ4 χ5 χ8 χ9 χ11 -0.0362 χ0 χ1 χ2 χ3 χ6 χ8 χ9 χ11 +0.0124i χ0 χ1 χ7 χ8 χ9 χ10 -0.016 χ0 χ1 χ7 χ10 -0.0107i χ0 χ1 χ2 χ8 χ9 χ11 +0.0362 χ3 χ4 χ5 χ6 χ7 χ8 χ9 χ10 -0.021 χ1 χ2 χ5 χ10 -0.021 χ0 χ2 χ4 χ10 +0.00731 χ2 χ3 χ4 χ5 χ6 χ8 χ9 χ11 -0.00292 χ0 χ3 χ4 χ6 χ7 χ8 χ9 χ11 -0.00292 χ1 χ3 χ5 χ6 χ7 χ8 χ9 χ11 -0.00731 χ0 χ1 χ3 χ6 χ7 χ8 χ9 χ10 -0.0607i χ2 χ3 χ4 χ5 χ6 χ11 -0.00152i χ1 χ2 χ3 χ5 χ6 χ10 -0.00152i χ0 χ2 χ3 χ4 χ6 χ10 -0.00152i χ0 χ3 χ4 χ6 χ7 χ11 -0.00152i χ1 χ3 χ5 χ6 χ7 χ11 -0.00152i χ0 χ2 χ4 χ8 χ9 χ10 -0.00152i χ0 χ4 χ7 χ8 χ9 χ11 -0.00152i χ1 χ2 χ5 χ8 χ9 χ10 -0.00152i χ1 χ5 χ7 χ8 χ9 χ11 +0.016 χ2 χ4 χ5 χ11 -0.00292 χ0 χ2 χ3 χ4 χ6 χ8 χ9 χ10 -0.00292 χ1 χ2 χ3 χ5 χ6 χ8 χ9 χ10 -0.021 χ1 χ5 χ7 χ11 -0.021 χ0 χ4 χ7 χ11 +0.137 χ0 χ1 χ2 χ3 +0.035i χ2 χ3 χ4 χ5 χ8 χ9 +0.0329i χ4 χ5 χ6 χ7 χ8 χ9 +0.035i χ0 χ1 χ6 χ7 χ10 χ11 +0.0329i χ0 χ1 χ2 χ3 χ10 χ11 +0.0455 χ4 χ5 χ6 χ7 χ8 χ9 χ10 χ11 -0.0173 χ0 χ1 χ6 χ7 +0.0221 χ2 χ3 χ4 χ5 χ8 χ9 χ10 χ11 +0.00822i χ0 χ3 χ4 χ7 χ8 χ9 +0.00822i χ0 χ2 χ4 χ6 χ8 χ9 +0.00822i χ1 χ2 χ5 χ6 χ10 χ11 +0.00822i χ1 χ3 χ5 χ7 χ10 χ11 +0.0101 χ0 χ3 χ4 χ7 χ8 χ9 χ10 χ11 -0.0236 χ1 χ2 χ5 χ6 +0.0101 χ0 χ2 χ4 χ6 χ8 χ9 χ10 χ11 -0.0236 χ1 χ3 χ5 χ7 +0.00822i χ1 χ3 χ5 χ7 χ8 χ9 +0.00822i χ1 χ2 χ5 χ6 χ8 χ9 +0.00822i χ0 χ2 χ4 χ6 χ10 χ11 +0.00822i χ0 χ3 χ4 χ7 χ10 χ11 +0.0101 χ1 χ3 χ5 χ7 χ8 χ9 χ10 χ11 -0.0236 χ0 χ2 χ4 χ6 +0.0101 χ1 χ2 χ5 χ6 χ8 χ9 χ10 χ11 -0.0236 χ0 χ3 χ4 χ7 +0.0329i χ4 χ5 χ6 χ7 χ10 χ11 +0.0329i χ0 χ1 χ2 χ3 χ8 χ9 +0.0221 χ0 χ1 χ6 χ7 χ8 χ9 χ10 χ11 -0.0173 χ2 χ3 χ4 χ5 +0.137 χ4 χ5 χ6 χ7 +0.035i χ0 χ1 χ6 χ7 χ8 χ9 +0.0455 χ0 χ1 χ2 χ3 χ8 χ9 χ10 χ11 +0.035i χ2 χ3 χ4 χ5 χ10 χ11,\n",
       " 0.0433 χ0 χ1 χ4 χ5 +0.00736 χ0 χ2 χ5 χ7 -0.00736 χ0 χ3 χ5 χ6 -0.0712 χ0 χ4 χ5 χ9 +0.00849 χ0 χ5 χ6 χ11 -0.00849 χ0 χ5 χ7 χ10 +0.0712 χ0 χ1 χ5 χ8 +0.00849 χ0 χ3 χ5 χ10 -0.00849 χ0 χ2 χ5 χ11 -0.0356 χ0 χ2 χ3 χ5 -0.0356 χ0 χ5 χ6 χ7 +0.0925i χ0 χ5 χ8 χ9 χ10 χ11 -0.00736 χ1 χ2 χ4 χ7 +0.00736 χ1 χ3 χ4 χ6 -0.00849 χ1 χ4 χ6 χ11 +0.00849 χ1 χ4 χ7 χ10 -0.00849 χ1 χ3 χ4 χ10 +0.00849 χ1 χ2 χ4 χ11 +0.0356 χ1 χ2 χ3 χ4 +0.0356 χ1 χ4 χ6 χ7 +0.0342 χ1 χ4 χ10 χ11 +0.0712 χ1 χ4 χ8 χ9 -0.0925i χ1 χ4 χ8 χ9 χ10 χ11 +0.0433 χ2 χ3 χ6 χ7 -0.00849 χ2 χ4 χ7 χ9 -0.0712 χ2 χ6 χ7 χ11 -0.00849 χ1 χ2 χ7 χ8 +0.0712 χ2 χ3 χ7 χ10 +0.0925i χ2 χ7 χ8 χ9 χ10 χ11 +0.00849 χ3 χ4 χ6 χ9 +0.0712 χ3 χ6 χ7 χ10 +0.00849 χ1 χ3 χ6 χ8 -0.0712 χ2 χ3 χ6 χ11 -0.0925i χ3 χ6 χ8 χ9 χ10 χ11 +0.00736 χ4 χ6 χ9 χ11 -0.00736 χ4 χ7 χ9 χ10 -0.00849 χ3 χ4 χ9 χ10 +0.00849 χ2 χ4 χ9 χ11 -0.0342 χ2 χ3 χ4 χ9 -0.0356 χ4 χ6 χ7 χ9 -0.0356 χ4 χ9 χ10 χ11 -0.0925i χ0 χ1 χ2 χ3 χ5 χ8 +0.0433 χ6 χ7 χ10 χ11 +0.00849 χ1 χ6 χ8 χ11 -0.0356 χ6 χ8 χ9 χ11 -0.00849 χ1 χ7 χ8 χ10 +0.0356 χ7 χ8 χ9 χ10 +0.00736 χ1 χ3 χ8 χ10 -0.00736 χ1 χ2 χ8 χ11 +0.0356 χ1 χ2 χ3 χ8 +0.0342 χ1 χ6 χ7 χ8 +0.0356 χ1 χ8 χ10 χ11 +0.0925i χ0 χ4 χ5 χ6 χ7 χ9 +0.0433 χ2 χ3 χ10 χ11 +0.0356 χ3 χ8 χ9 χ10 -0.0356 χ2 χ8 χ9 χ11 +0.0223i χ1 χ4 -0.0223i χ2 χ7 +0.0223i χ3 χ6 -0.0223i χ4 χ9 -0.0223i χ6 χ11 +0.0223i χ7 χ10 +0.0223i χ1 χ8 +0.0223i χ3 χ10 -0.0223i χ2 χ11 +0.0929i χ2 χ3 +0.0929i χ6 χ7 +0.0929i χ10 χ11 +0.0929i χ8 χ9 +0.00746 χ8 χ9 χ10 χ11 -0.000727 χ2 χ3 χ8 χ9 -0.0655i χ2 χ3 χ8 χ9 χ10 χ11 -0.0655i χ0 χ1 χ4 χ5 χ6 χ7 -0.0655i χ0 χ1 χ2 χ3 χ4 χ5 -0.0809 χ0 χ1 χ2 χ3 χ4 χ5 χ6 χ7 -0.000727 χ6 χ7 χ8 χ9 -0.0655i χ6 χ7 χ8 χ9 χ10 χ11 +0.00507 χ0 χ1 χ2 χ4 χ5 χ6 χ7 χ11 -0.00507 χ0 χ1 χ2 χ3 χ4 χ5 χ7 χ10 +0.0344i χ0 χ1 χ2 χ4 χ5 χ7 χ8 χ9 χ10 χ11 -0.00507 χ0 χ1 χ3 χ4 χ5 χ6 χ7 χ10 +0.00507 χ0 χ1 χ2 χ3 χ4 χ5 χ6 χ11 -0.0344i χ0 χ1 χ3 χ4 χ5 χ6 χ8 χ9 χ10 χ11 +0.046 χ0 χ1 χ4 χ5 χ6 χ7 χ10 χ11 +0.082 χ0 χ1 χ4 χ5 χ6 χ8 χ9 χ11 -0.082 χ0 χ1 χ4 χ5 χ7 χ8 χ9 χ10 +0.046 χ0 χ1 χ2 χ3 χ4 χ5 χ10 χ11 -0.082 χ0 χ1 χ3 χ4 χ5 χ8 χ9 χ10 +0.082 χ0 χ1 χ2 χ4 χ5 χ8 χ9 χ11 -0.0242i χ0 χ1 χ2 χ4 χ5 χ7 +0.0242i χ0 χ1 χ3 χ4 χ5 χ6 -0.00277i χ0 χ1 χ4 χ5 χ6 χ11 +0.00277i χ0 χ1 χ4 χ5 χ7 χ10 +0.00277i χ0 χ1 χ3 χ4 χ5 χ10 -0.00277i χ0 χ1 χ2 χ4 χ5 χ11 +0.0196i χ0 χ1 χ4 χ5 χ10 χ11 +0.0833i χ0 χ1 χ4 χ5 χ8 χ9 -0.00342 χ0 χ1 χ4 χ5 χ8 χ9 χ10 χ11 -0.00342 χ0 χ1 χ2 χ3 χ4 χ5 χ8 χ9 -0.0791i χ0 χ1 χ2 χ3 χ4 χ5 χ8 χ9 χ10 χ11 -0.00342 χ0 χ1 χ4 χ5 χ6 χ7 χ8 χ9 -0.0791i χ0 χ1 χ4 χ5 χ6 χ7 χ8 χ9 χ10 χ11 +0.00507 χ0 χ2 χ3 χ4 χ5 χ6 χ7 χ9 -0.00507 χ0 χ1 χ2 χ3 χ5 χ6 χ7 χ8 +0.082 χ0 χ2 χ3 χ5 χ6 χ7 χ10 χ11 +0.0344i χ0 χ2 χ3 χ5 χ6 χ7 χ8 χ9 χ10 χ11 -0.0663 χ0 χ2 χ4 χ5 χ6 χ7 χ9 χ11 +0.0897 χ0 χ2 χ3 χ4 χ5 χ7 χ9 χ10 -0.0897 χ0 χ1 χ2 χ5 χ6 χ7 χ8 χ11 -0.0897 χ0 χ2 χ5 χ6 χ7 χ8 χ9 χ11 -0.0663 χ0 χ1 χ2 χ3 χ5 χ7 χ8 χ10 -0.0897 χ0 χ2 χ3 χ5 χ7 χ8 χ9 χ10 -0.0242i χ0 χ2 χ3 χ5 χ6 χ7 +0.00021i χ0 χ2 χ4 χ5 χ7 χ9 -0.00021i χ0 χ2 χ5 χ6 χ7 χ11 +0.00021i χ0 χ1 χ2 χ5 χ7 χ8 -0.00021i χ0 χ2 χ3 χ5 χ7 χ10 -0.0156i χ0 χ2 χ5 χ7 χ10 χ11 -0.0156i χ0 χ2 χ5 χ7 χ8 χ9 -0.0663 χ0 χ2 χ5 χ7 χ8 χ9 χ10 χ11 +0.0663 χ0 χ3 χ4 χ5 χ6 χ7 χ9 χ10 -0.0897 χ0 χ2 χ3 χ4 χ5 χ6 χ9 χ11 +0.0897 χ0 χ1 χ3 χ5 χ6 χ7 χ8 χ10 +0.0897 χ0 χ3 χ5 χ6 χ7 χ8 χ9 χ10 +0.0663 χ0 χ1 χ2 χ3 χ5 χ6 χ8 χ11 +0.0897 χ0 χ2 χ3 χ5 χ6 χ8 χ9 χ11 -0.00021i χ0 χ3 χ4 χ5 χ6 χ9 +0.00021i χ0 χ3 χ5 χ6 χ7 χ10 -0.00021i χ0 χ1 χ3 χ5 χ6 χ8 +0.00021i χ0 χ2 χ3 χ5 χ6 χ11 +0.0156i χ0 χ3 χ5 χ6 χ10 χ11 +0.0156i χ0 χ3 χ5 χ6 χ8 χ9 +0.0663 χ0 χ3 χ5 χ6 χ8 χ9 χ10 χ11 -0.0148i χ0 χ1 χ5 χ8 χ10 χ11 +0.082 χ0 χ1 χ2 χ4 χ5 χ7 χ8 χ9 -0.082 χ0 χ1 χ3 χ4 χ5 χ6 χ8 χ9 -0.0342 χ0 χ5 χ10 χ11 -0.0148i χ1 χ2 χ3 χ4 χ8 χ9 +0.00507 χ0 χ4 χ5 χ6 χ7 χ9 χ10 χ11 +0.00643 χ0 χ2 χ3 χ4 χ5 χ9 χ10 χ11 -0.00021i χ0 χ4 χ5 χ6 χ9 χ11 +0.00021i χ0 χ4 χ5 χ7 χ9 χ10 +0.0156i χ0 χ3 χ4 χ5 χ9 χ10 -0.0156i χ0 χ2 χ4 χ5 χ9 χ11 +0.0148i χ0 χ2 χ3 χ4 χ5 χ9 +0.0148i χ0 χ4 χ5 χ9 χ10 χ11 -0.0342 χ2 χ7 χ8 χ9 +0.0342 χ3 χ6 χ8 χ9 +0.00021i χ1 χ2 χ3 χ6 χ8 χ11 -0.00021i χ1 χ2 χ3 χ7 χ8 χ10 +0.00277i χ1 χ2 χ3 χ6 χ7 χ8 +0.0242i χ1 χ2 χ3 χ8 χ10 χ11 +0.0712 χ3 χ6 χ10 χ11 -0.00643 χ0 χ1 χ3 χ4 χ5 χ6 χ10 χ11 +0.00021i χ0 χ3 χ5 χ8 χ9 χ10 -0.0897 χ0 χ3 χ4 χ5 χ6 χ9 χ10 χ11 -0.0712 χ0 χ5 χ8 χ9 -0.00643 χ0 χ1 χ5 χ6 χ7 χ8 χ10 χ11 +0.00507 χ0 χ5 χ6 χ7 χ8 χ9 χ10 χ11 -0.00277i χ0 χ5 χ6 χ7 χ10 χ11 +0.0156i χ0 χ1 χ5 χ6 χ8 χ11 +0.00021i χ0 χ5 χ6 χ8 χ9 χ11 -0.00021i χ1 χ2 χ3 χ4 χ6 χ11 -0.00021i χ0 χ5 χ7 χ8 χ9 χ10 -0.0712 χ2 χ7 χ10 χ11 +0.00643 χ0 χ1 χ2 χ4 χ5 χ7 χ10 χ11 -0.00021i χ0 χ2 χ5 χ8 χ9 χ11 +0.0897 χ0 χ2 χ4 χ5 χ7 χ9 χ10 χ11 -0.0156i χ0 χ1 χ5 χ7 χ8 χ10 +0.00021i χ1 χ2 χ3 χ4 χ7 χ10 -0.0148i χ1 χ4 χ6 χ7 χ8 χ9 -0.00507 χ0 χ1 χ2 χ3 χ5 χ8 χ10 χ11 +0.00021i χ0 χ1 χ3 χ5 χ8 χ10 -0.00021i χ0 χ1 χ2 χ5 χ8 χ11 -0.0148i χ0 χ1 χ5 χ6 χ7 χ8 -0.00021i χ3 χ4 χ6 χ7 χ9 χ10 +0.00021i χ2 χ4 χ6 χ7 χ9 χ11 -0.00277i χ2 χ3 χ4 χ6 χ7 χ9 -0.0242i χ4 χ6 χ7 χ9 χ10 χ11 +0.00507 χ0 χ2 χ3 χ5 χ8 χ9 χ10 χ11 -0.00277i χ0 χ2 χ3 χ5 χ10 χ11 -0.00021i χ1 χ3 χ4 χ6 χ7 χ10 +0.00021i χ1 χ2 χ4 χ6 χ7 χ11 +0.0148i χ0 χ2 χ3 χ5 χ8 χ9 +0.0242i χ1 χ2 χ3 χ4 χ6 χ7 +0.0148i χ0 χ5 χ6 χ7 χ8 χ9 +0.00277i χ1 χ4 χ6 χ7 χ10 χ11 -0.00507 χ1 χ4 χ6 χ7 χ8 χ9 χ10 χ11 -0.0178i χ0 χ1 χ3 χ5 χ7 χ9 -0.0178i χ0 χ1 χ2 χ5 χ6 χ9 -0.0178i χ0 χ1 χ2 χ5 χ9 χ10 -0.0178i χ0 χ1 χ3 χ5 χ9 χ11 +0.00277i χ1 χ2 χ3 χ4 χ10 χ11 -0.00507 χ1 χ2 χ3 χ4 χ8 χ9 χ10 χ11 -0.082 χ1 χ2 χ3 χ4 χ6 χ7 χ10 χ11 -0.0344i χ1 χ2 χ3 χ4 χ6 χ7 χ8 χ9 χ10 χ11 +0.0178i χ0 χ4 χ5 χ7 χ8 χ11 +0.0178i χ0 χ4 χ5 χ6 χ8 χ10 +0.0474i χ0 χ3 χ4 χ5 χ8 χ11 +0.0474i χ0 χ2 χ4 χ5 χ8 χ10 +0.0474i χ0 χ1 χ5 χ6 χ9 χ10 +0.0474i χ0 χ1 χ5 χ7 χ9 χ11 +0.0897 χ1 χ2 χ4 χ6 χ7 χ8 χ9 χ11 +0.0897 χ1 χ2 χ3 χ4 χ7 χ8 χ9 χ10 +0.0156i χ1 χ2 χ4 χ7 χ10 χ11 +0.0156i χ1 χ2 χ4 χ7 χ8 χ9 +0.0663 χ1 χ2 χ4 χ7 χ8 χ9 χ10 χ11 -0.0897 χ1 χ3 χ4 χ6 χ7 χ8 χ9 χ10 -0.0897 χ1 χ2 χ3 χ4 χ6 χ8 χ9 χ11 -0.0156i χ1 χ3 χ4 χ6 χ10 χ11 -0.0156i χ1 χ3 χ4 χ6 χ8 χ9 -0.0663 χ1 χ3 χ4 χ6 χ8 χ9 χ10 χ11 -0.00021i χ1 χ3 χ4 χ8 χ9 χ10 -0.00021i χ1 χ4 χ6 χ8 χ9 χ11 +0.00021i χ1 χ4 χ7 χ8 χ9 χ10 +0.00021i χ1 χ2 χ4 χ8 χ9 χ11 -0.082 χ1 χ2 χ3 χ6 χ7 χ8 χ10 χ11 +0.0833i χ2 χ3 χ6 χ7 χ10 χ11 +0.0196i χ2 χ3 χ6 χ7 χ8 χ9 -0.00342 χ2 χ3 χ6 χ7 χ8 χ9 χ10 χ11 -0.00021i χ1 χ2 χ7 χ8 χ10 χ11 +0.0156i χ2 χ3 χ4 χ7 χ9 χ10 -0.00021i χ2 χ4 χ7 χ9 χ10 χ11 -0.0148i χ2 χ3 χ7 χ8 χ9 χ10 +0.082 χ2 χ3 χ4 χ6 χ7 χ9 χ10 χ11 +0.0156i χ1 χ2 χ6 χ7 χ8 χ11 +0.0148i χ2 χ6 χ7 χ8 χ9 χ11 +0.0178i χ1 χ2 χ3 χ7 χ9 χ11 -0.0178i χ2 χ4 χ6 χ7 χ8 χ10 +0.0474i χ2 χ3 χ4 χ7 χ8 χ11 +0.0474i χ1 χ2 χ6 χ7 χ9 χ10 +0.00021i χ1 χ3 χ6 χ8 χ10 χ11 -0.00643 χ1 χ2 χ3 χ4 χ6 χ7 χ8 χ9 -0.0156i χ2 χ3 χ4 χ6 χ9 χ11 +0.00021i χ3 χ4 χ6 χ9 χ10 χ11 +0.00643 χ0 χ2 χ3 χ5 χ6 χ7 χ8 χ9 -0.0148i χ3 χ6 χ7 χ8 χ9 χ10 +0.0148i χ2 χ3 χ6 χ8 χ9 χ11 -0.0156i χ1 χ3 χ6 χ7 χ8 χ10 +0.0178i χ1 χ2 χ3 χ6 χ9 χ10 -0.0178i χ3 χ4 χ6 χ7 χ8 χ11 +0.0474i χ2 χ3 χ4 χ6 χ8 χ10 +0.0474i χ1 χ3 χ6 χ7 χ9 χ11 +0.00277i χ1 χ6 χ7 χ8 χ10 χ11 +0.0344i χ0 χ1 χ2 χ3 χ4 χ5 χ6 χ8 χ9 χ11 -0.0344i χ0 χ1 χ2 χ3 χ4 χ5 χ7 χ8 χ9 χ10 -0.0791i χ0 χ1 χ2 χ3 χ4 χ5 χ6 χ7 χ8 χ9 -0.00277i χ2 χ3 χ4 χ9 χ10 χ11 -0.0344i χ0 χ1 χ2 χ3 χ5 χ6 χ7 χ8 χ10 χ11 -0.0897 χ0 χ1 χ3 χ5 χ6 χ8 χ10 χ11 -0.0791i χ0 χ1 χ2 χ3 χ4 χ5 χ6 χ7 χ10 χ11 -0.0178i χ2 χ4 χ6 χ8 χ10 χ11 +0.0897 χ0 χ1 χ2 χ5 χ7 χ8 χ10 χ11 -0.0178i χ3 χ4 χ7 χ8 χ10 χ11 -0.0344i χ0 χ1 χ3 χ4 χ5 χ6 χ7 χ8 χ9 χ10 +0.0344i χ0 χ1 χ2 χ4 χ5 χ6 χ7 χ8 χ9 χ11 +0.0344i χ0 χ2 χ3 χ4 χ5 χ6 χ7 χ9 χ10 χ11 +0.0285 χ1 χ3 χ7 χ9 +0.0285 χ1 χ2 χ6 χ9 +0.0367 χ1 χ2 χ9 χ10 +0.0367 χ1 χ3 χ9 χ11 -0.331 χ0 χ1 χ2 χ3 χ4 χ5 χ6 χ7 χ8 χ9 χ10 χ11 +0.0285 χ2 χ4 χ6 χ8 +0.0285 χ3 χ4 χ7 χ8 +0.0367 χ4 χ7 χ8 χ11 +0.0367 χ4 χ6 χ8 χ10 +0.0285 χ3 χ4 χ8 χ11 +0.0285 χ2 χ4 χ8 χ10 -0.0285 χ1 χ6 χ9 χ10 -0.0285 χ1 χ7 χ9 χ11 +0.0169 χ0 χ2 χ4 χ5 χ6 χ7 χ8 χ10 +0.0169 χ0 χ3 χ4 χ5 χ6 χ7 χ8 χ11 +0.0169 χ0 χ1 χ2 χ3 χ5 χ7 χ9 χ11 +0.0169 χ0 χ1 χ2 χ3 χ5 χ6 χ9 χ10 +0.0142 χ0 χ2 χ3 χ4 χ5 χ7 χ8 χ11 -0.0142 χ0 χ1 χ2 χ5 χ6 χ7 χ9 χ10 +0.0142 χ0 χ2 χ3 χ4 χ5 χ6 χ8 χ10 -0.0142 χ0 χ1 χ3 χ5 χ6 χ7 χ9 χ11 -0.0142 χ0 χ1 χ3 χ5 χ7 χ9 χ10 χ11 -0.0142 χ0 χ1 χ2 χ5 χ6 χ9 χ10 χ11 -0.0142 χ0 χ2 χ4 χ5 χ6 χ8 χ10 χ11 -0.0142 χ0 χ3 χ4 χ5 χ7 χ8 χ10 χ11 -0.0178i χ1 χ3 χ7 χ9 χ10 χ11 -0.0178i χ0 χ2 χ4 χ5 χ6 χ8 -0.0178i χ1 χ2 χ6 χ9 χ10 χ11 -0.0178i χ0 χ3 χ4 χ5 χ7 χ8 -0.0223i χ0 χ5 +0.0712 χ1 χ4 χ5 χ8 -0.0712 χ0 χ1 χ4 χ9 +0.00849 χ2 χ5 χ7 χ8 +0.00849 χ0 χ2 χ7 χ9 -0.00849 χ3 χ5 χ6 χ8 -0.00849 χ0 χ3 χ6 χ9 +0.0925i χ0 χ1 χ2 χ3 χ4 χ9 -0.00736 χ5 χ6 χ8 χ11 +0.00736 χ5 χ7 χ8 χ10 +0.00849 χ3 χ5 χ8 χ10 -0.00849 χ2 χ5 χ8 χ11 +0.0342 χ2 χ3 χ5 χ8 +0.0356 χ5 χ6 χ7 χ8 +0.0356 χ5 χ8 χ10 χ11 -0.00849 χ0 χ6 χ9 χ11 +0.00849 χ0 χ7 χ9 χ10 -0.0925i χ1 χ4 χ5 χ6 χ7 χ8 -0.00736 χ0 χ3 χ9 χ10 +0.00736 χ0 χ2 χ9 χ11 -0.0356 χ0 χ2 χ3 χ9 -0.0342 χ0 χ6 χ7 χ9 -0.0356 χ0 χ9 χ10 χ11 +0.0223i χ5 χ8 -0.0223i χ0 χ9 -0.00507 χ1 χ2 χ3 χ4 χ5 χ6 χ7 χ8 +0.00507 χ0 χ1 χ2 χ3 χ4 χ6 χ7 χ9 +0.0663 χ1 χ2 χ4 χ5 χ6 χ7 χ8 χ11 -0.0897 χ1 χ2 χ3 χ4 χ5 χ7 χ8 χ10 +0.0897 χ0 χ1 χ2 χ4 χ6 χ7 χ9 χ11 +0.0663 χ0 χ1 χ2 χ3 χ4 χ7 χ9 χ10 -0.00021i χ1 χ2 χ4 χ5 χ7 χ8 -0.00021i χ0 χ1 χ2 χ4 χ7 χ9 -0.0663 χ1 χ3 χ4 χ5 χ6 χ7 χ8 χ10 +0.0897 χ1 χ2 χ3 χ4 χ5 χ6 χ8 χ11 -0.0897 χ0 χ1 χ3 χ4 χ6 χ7 χ9 χ10 -0.0663 χ0 χ1 χ2 χ3 χ4 χ6 χ9 χ11 +0.00021i χ1 χ3 χ4 χ5 χ6 χ8 +0.00021i χ0 χ1 χ3 χ4 χ6 χ9 -0.00021i χ0 χ2 χ3 χ6 χ9 χ11 +0.00021i χ0 χ2 χ3 χ7 χ9 χ10 -0.00277i χ0 χ2 χ3 χ6 χ7 χ9 -0.0242i χ0 χ2 χ3 χ9 χ10 χ11 -0.0148i χ1 χ4 χ5 χ8 χ10 χ11 -0.00507 χ1 χ4 χ5 χ6 χ7 χ8 χ10 χ11 +0.0148i χ0 χ1 χ4 χ9 χ10 χ11 -0.00643 χ1 χ2 χ3 χ4 χ5 χ8 χ10 χ11 +0.00021i χ1 χ4 χ5 χ6 χ8 χ11 -0.00021i χ1 χ4 χ5 χ7 χ8 χ10 -0.0156i χ1 χ3 χ4 χ5 χ8 χ10 +0.0156i χ1 χ2 χ4 χ5 χ8 χ11 -0.0148i χ1 χ2 χ3 χ4 χ5 χ8 +0.0897 χ1 χ3 χ4 χ5 χ6 χ8 χ10 χ11 +0.00643 χ0 χ1 χ4 χ6 χ7 χ9 χ10 χ11 -0.0156i χ0 χ1 χ4 χ6 χ9 χ11 -0.0897 χ1 χ2 χ4 χ5 χ7 χ8 χ10 χ11 +0.0156i χ0 χ1 χ4 χ7 χ9 χ10 +0.00021i χ3 χ5 χ6 χ7 χ8 χ10 -0.00021i χ2 χ5 χ6 χ7 χ8 χ11 +0.00277i χ2 χ3 χ5 χ6 χ7 χ8 +0.00507 χ0 χ1 χ2 χ3 χ4 χ9 χ10 χ11 +0.0242i χ5 χ6 χ7 χ8 χ10 χ11 -0.00021i χ0 χ1 χ3 χ4 χ9 χ10 +0.00021i χ0 χ1 χ2 χ4 χ9 χ11 +0.0148i χ0 χ1 χ4 χ6 χ7 χ9 -0.0178i χ0 χ1 χ3 χ4 χ7 χ8 -0.0178i χ0 χ1 χ2 χ4 χ6 χ8 -0.0178i χ0 χ1 χ2 χ4 χ8 χ10 -0.0178i χ0 χ1 χ3 χ4 χ8 χ11 +0.0178i χ1 χ4 χ5 χ7 χ9 χ11 +0.0178i χ1 χ4 χ5 χ6 χ9 χ10 +0.0474i χ1 χ3 χ4 χ5 χ9 χ11 +0.0474i χ1 χ2 χ4 χ5 χ9 χ10 +0.0474i χ0 χ1 χ4 χ6 χ8 χ10 +0.0474i χ0 χ1 χ4 χ7 χ8 χ11 +0.082 χ0 χ2 χ3 χ6 χ7 χ9 χ10 χ11 +0.00021i χ2 χ5 χ7 χ8 χ10 χ11 +0.00021i χ0 χ2 χ7 χ9 χ10 χ11 -0.0156i χ2 χ3 χ5 χ7 χ8 χ10 -0.082 χ2 χ3 χ5 χ6 χ7 χ8 χ10 χ11 -0.0156i χ0 χ2 χ6 χ7 χ9 χ11 +0.0178i χ0 χ2 χ3 χ7 χ8 χ11 -0.0178i χ2 χ5 χ6 χ7 χ9 χ10 +0.0474i χ2 χ3 χ5 χ7 χ9 χ11 +0.0474i χ0 χ2 χ6 χ7 χ8 χ10 -0.00021i χ3 χ5 χ6 χ8 χ10 χ11 -0.00021i χ0 χ3 χ6 χ9 χ10 χ11 +0.0156i χ2 χ3 χ5 χ6 χ8 χ11 +0.0156i χ0 χ3 χ6 χ7 χ9 χ10 +0.0178i χ0 χ2 χ3 χ6 χ8 χ10 -0.0178i χ3 χ5 χ6 χ7 χ9 χ11 +0.0474i χ2 χ3 χ5 χ6 χ9 χ10 +0.0474i χ0 χ3 χ6 χ7 χ8 χ11 +0.0344i χ0 χ1 χ2 χ3 χ4 χ6 χ7 χ9 χ10 χ11 +0.00277i χ2 χ3 χ5 χ8 χ10 χ11 -0.00277i χ0 χ6 χ7 χ9 χ10 χ11 +0.0897 χ0 χ1 χ3 χ4 χ6 χ9 χ10 χ11 -0.0178i χ2 χ5 χ6 χ9 χ10 χ11 -0.0897 χ0 χ1 χ2 χ4 χ7 χ9 χ10 χ11 -0.0178i χ3 χ5 χ7 χ9 χ10 χ11 -0.0344i χ1 χ2 χ3 χ4 χ5 χ6 χ7 χ8 χ10 χ11 +0.0285 χ0 χ3 χ7 χ8 +0.0285 χ0 χ2 χ6 χ8 +0.0367 χ0 χ2 χ8 χ10 +0.0367 χ0 χ3 χ8 χ11 +0.0285 χ2 χ5 χ6 χ9 +0.0285 χ3 χ5 χ7 χ9 +0.0367 χ5 χ7 χ9 χ11 +0.0367 χ5 χ6 χ9 χ10 +0.0285 χ3 χ5 χ9 χ11 +0.0285 χ2 χ5 χ9 χ10 -0.0285 χ0 χ6 χ8 χ10 -0.0285 χ0 χ7 χ8 χ11 +0.0169 χ1 χ2 χ4 χ5 χ6 χ7 χ9 χ10 +0.0169 χ1 χ3 χ4 χ5 χ6 χ7 χ9 χ11 +0.0169 χ0 χ1 χ2 χ3 χ4 χ7 χ8 χ11 +0.0169 χ0 χ1 χ2 χ3 χ4 χ6 χ8 χ10 +0.0142 χ1 χ2 χ3 χ4 χ5 χ7 χ9 χ11 -0.0142 χ0 χ1 χ2 χ4 χ6 χ7 χ8 χ10 +0.0142 χ1 χ2 χ3 χ4 χ5 χ6 χ9 χ10 -0.0142 χ0 χ1 χ3 χ4 χ6 χ7 χ8 χ11 -0.0142 χ0 χ1 χ3 χ4 χ7 χ8 χ10 χ11 -0.0142 χ0 χ1 χ2 χ4 χ6 χ8 χ10 χ11 -0.0142 χ1 χ2 χ4 χ5 χ6 χ9 χ10 χ11 -0.0142 χ1 χ3 χ4 χ5 χ7 χ9 χ10 χ11 -0.0178i χ0 χ3 χ7 χ8 χ10 χ11 -0.0178i χ1 χ2 χ4 χ5 χ6 χ9 -0.0178i χ0 χ2 χ6 χ8 χ10 χ11 -0.0178i χ1 χ3 χ4 χ5 χ7 χ9 -0.0356 χ2 χ4 χ5 χ7 +0.0356 χ0 χ1 χ3 χ6 +0.0356 χ3 χ4 χ5 χ6 +0.0433 χ4 χ5 χ8 χ9 -0.0342 χ0 χ1 χ6 χ11 -0.0356 χ4 χ5 χ6 χ11 -0.0925i χ0 χ1 χ2 χ3 χ7 χ10 +0.0433 χ0 χ1 χ8 χ9 +0.0356 χ0 χ1 χ3 χ10 +0.0925i χ2 χ4 χ5 χ6 χ7 χ11 +0.0929i χ0 χ1 +0.0929i χ4 χ5 -0.0655i χ2 χ3 χ4 χ5 χ6 χ7 -0.000727 χ0 χ1 χ10 χ11 -0.0655i χ0 χ1 χ8 χ9 χ10 χ11 -0.0655i χ0 χ1 χ2 χ3 χ6 χ7 -0.000727 χ4 χ5 χ10 χ11 -0.0655i χ4 χ5 χ8 χ9 χ10 χ11 +0.046 χ2 χ3 χ4 χ5 χ6 χ7 χ8 χ9 +0.046 χ0 χ1 χ2 χ3 χ6 χ7 χ8 χ9 -0.00342 χ0 χ1 χ2 χ3 χ6 χ7 χ10 χ11 -0.0791i χ0 χ1 χ2 χ3 χ6 χ7 χ8 χ9 χ10 χ11 -0.00342 χ2 χ3 χ4 χ5 χ6 χ7 χ10 χ11 -0.0791i χ2 χ3 χ4 χ5 χ6 χ7 χ8 χ9 χ10 χ11 +0.00507 χ2 χ4 χ5 χ6 χ7 χ8 χ9 χ11 -0.00643 χ2 χ3 χ4 χ5 χ7 χ8 χ9 χ10 +0.00507 χ2 χ4 χ5 χ7 χ8 χ9 χ10 χ11 -0.00277i χ2 χ4 χ5 χ7 χ8 χ9 -0.0356 χ0 χ1 χ2 χ7 -0.0148i χ0 χ1 χ3 χ6 χ10 χ11 +0.00643 χ0 χ1 χ2 χ6 χ7 χ8 χ9 χ11 +0.0148i χ0 χ1 χ2 χ6 χ7 χ11 +0.0242i χ0 χ1 χ3 χ8 χ9 χ10 -0.00507 χ0 χ1 χ2 χ3 χ7 χ8 χ9 χ10 +0.00507 χ0 χ1 χ2 χ7 χ8 χ9 χ10 χ11 -0.00277i χ0 χ1 χ2 χ7 χ8 χ9 -0.0148i χ3 χ4 χ5 χ6 χ10 χ11 -0.0242i χ4 χ5 χ6 χ8 χ9 χ11 +0.0148i χ0 χ1 χ2 χ7 χ10 χ11 +0.0148i χ2 χ4 χ5 χ7 χ10 χ11 +0.00277i χ3 χ4 χ5 χ6 χ8 χ9 -0.00507 χ3 χ4 χ5 χ6 χ8 χ9 χ10 χ11 +0.0178i χ1 χ2 χ3 χ5 χ7 χ11 +0.0178i χ0 χ2 χ3 χ4 χ7 χ11 +0.00277i χ0 χ1 χ3 χ6 χ8 χ9 -0.00507 χ0 χ1 χ3 χ6 χ8 χ9 χ10 χ11 +0.00277i χ3 χ4 χ5 χ8 χ9 χ10 +0.0178i χ0 χ4 χ6 χ8 χ9 χ10 +0.0178i χ1 χ5 χ6 χ8 χ9 χ10 -0.00277i χ0 χ1 χ6 χ8 χ9 χ11 +0.0342 χ3 χ4 χ5 χ10 -0.0285 χ1 χ3 χ5 χ11 -0.0285 χ0 χ3 χ4 χ11 -0.0285 χ0 χ4 χ6 χ10 -0.0285 χ1 χ5 χ6 χ10 +0.0142 χ0 χ2 χ3 χ4 χ7 χ8 χ9 χ11 +0.0142 χ0 χ2 χ4 χ6 χ7 χ8 χ9 χ10 +0.0142 χ1 χ2 χ3 χ5 χ7 χ8 χ9 χ11 +0.0142 χ1 χ2 χ5 χ6 χ7 χ8 χ9 χ10 -0.0148i χ2 χ3 χ4 χ5 χ7 χ10 +0.0178i χ0 χ3 χ4 χ8 χ9 χ11 +0.0178i χ1 χ3 χ5 χ8 χ9 χ11 +0.0178i χ1 χ2 χ5 χ6 χ7 χ10 +0.0178i χ0 χ2 χ4 χ6 χ7 χ10 +0.0925i χ0 χ1 χ2 χ3 χ6 χ11 +0.0342 χ0 χ1 χ7 χ10 +0.0356 χ4 χ5 χ7 χ10 -0.0925i χ3 χ4 χ5 χ6 χ7 χ10 -0.0356 χ0 χ1 χ2 χ11 -0.00507 χ3 χ4 χ5 χ6 χ7 χ8 χ9 χ10 +0.00643 χ2 χ3 χ4 χ5 χ6 χ8 χ9 χ11 -0.0242i χ0 χ1 χ2 χ8 χ9 χ11 -0.00643 χ0 χ1 χ3 χ6 χ7 χ8 χ9 χ10 -0.0148i χ0 χ1 χ3 χ6 χ7 χ10 +0.00507 χ0 χ1 χ2 χ3 χ6 χ8 χ9 χ11 +0.0242i χ4 χ5 χ7 χ8 χ9 χ10 +0.0178i χ1 χ2 χ3 χ5 χ6 χ10 +0.0178i χ0 χ2 χ3 χ4 χ6 χ10 -0.00277i χ2 χ4 χ5 χ8 χ9 χ11 +0.0178i χ0 χ4 χ7 χ8 χ9 χ11 +0.0178i χ1 χ5 χ7 χ8 χ9 χ11 +0.00277i χ0 χ1 χ7 χ8 χ9 χ10 -0.0342 χ2 χ4 χ5 χ11 -0.0285 χ1 χ2 χ5 χ10 -0.0285 χ0 χ2 χ4 χ10 -0.0285 χ0 χ4 χ7 χ11 -0.0285 χ1 χ5 χ7 χ11 +0.0142 χ0 χ2 χ3 χ4 χ6 χ8 χ9 χ10 +0.0142 χ0 χ3 χ4 χ6 χ7 χ8 χ9 χ11 +0.0142 χ1 χ2 χ3 χ5 χ6 χ8 χ9 χ10 +0.0142 χ1 χ3 χ5 χ6 χ7 χ8 χ9 χ11 +0.0148i χ2 χ3 χ4 χ5 χ6 χ11 +0.0178i χ0 χ2 χ4 χ8 χ9 χ10 +0.0178i χ1 χ2 χ5 χ8 χ9 χ10 +0.0178i χ1 χ3 χ5 χ6 χ7 χ11 +0.0178i χ0 χ3 χ4 χ6 χ7 χ11 -0.0655i χ4 χ5 χ6 χ7 χ8 χ9 +0.00746 χ0 χ1 χ2 χ3 -0.000727 χ0 χ1 χ6 χ7 -0.0655i χ0 χ1 χ2 χ3 χ10 χ11 -0.0809 χ4 χ5 χ6 χ7 χ8 χ9 χ10 χ11 +0.046 χ2 χ3 χ4 χ5 χ8 χ9 χ10 χ11 +0.0196i χ2 χ3 χ4 χ5 χ8 χ9 +0.0474i χ0 χ3 χ4 χ7 χ8 χ9 +0.0474i χ0 χ2 χ4 χ6 χ8 χ9 +0.0196i χ0 χ1 χ6 χ7 χ10 χ11 +0.0474i χ1 χ2 χ5 χ6 χ10 χ11 +0.0474i χ1 χ3 χ5 χ7 χ10 χ11 +0.0367 χ1 χ2 χ5 χ6 +0.0367 χ1 χ3 χ5 χ7 +0.0169 χ0 χ3 χ4 χ7 χ8 χ9 χ10 χ11 +0.0169 χ0 χ2 χ4 χ6 χ8 χ9 χ10 χ11 +0.0474i χ1 χ3 χ5 χ7 χ8 χ9 +0.0474i χ1 χ2 χ5 χ6 χ8 χ9 +0.0474i χ0 χ2 χ4 χ6 χ10 χ11 +0.0474i χ0 χ3 χ4 χ7 χ10 χ11 +0.0367 χ0 χ2 χ4 χ6 +0.0367 χ0 χ3 χ4 χ7 +0.0169 χ1 χ3 χ5 χ7 χ8 χ9 χ10 χ11 +0.0169 χ1 χ2 χ5 χ6 χ8 χ9 χ10 χ11 -0.0655i χ4 χ5 χ6 χ7 χ10 χ11 -0.0655i χ0 χ1 χ2 χ3 χ8 χ9 +0.046 χ0 χ1 χ6 χ7 χ8 χ9 χ10 χ11 -0.000727 χ2 χ3 χ4 χ5 +0.00746 χ4 χ5 χ6 χ7 -0.0809 χ0 χ1 χ2 χ3 χ8 χ9 χ10 χ11 +0.0196i χ0 χ1 χ6 χ7 χ8 χ9 +0.0196i χ2 χ3 χ4 χ5 χ10 χ11,\n",
       " -0.0025i χ1 χ4 +0.0025i χ2 χ7 -0.0025i χ3 χ6 +0.0025i χ4 χ9 +0.0025i χ6 χ11 -0.0025i χ7 χ10 -0.0025i χ1 χ8 -0.0025i χ3 χ10 +0.0025i χ2 χ11 -0.0398i χ2 χ3 -0.0398i χ6 χ7 -0.0596 χ8 χ9 χ10 χ11 -0.0296i χ0 χ1 χ2 χ4 χ5 χ7 +0.0296i χ0 χ1 χ3 χ4 χ5 χ6 +0.0161i χ0 χ1 χ4 χ5 χ6 χ11 -0.0161i χ0 χ1 χ4 χ5 χ7 χ10 -0.0161i χ0 χ1 χ3 χ4 χ5 χ10 +0.0161i χ0 χ1 χ2 χ4 χ5 χ11 -0.0222i χ0 χ1 χ2 χ3 χ4 χ5 -0.0222i χ0 χ1 χ4 χ5 χ6 χ7 -0.000634i χ0 χ1 χ4 χ5 χ10 χ11 +0.0714i χ0 χ1 χ4 χ5 χ8 χ9 +0.029 χ0 χ1 χ4 χ5 χ8 χ9 χ10 χ11 -0.0296i χ0 χ2 χ3 χ5 χ6 χ7 -0.0123i χ0 χ2 χ4 χ5 χ7 χ9 +0.0123i χ0 χ2 χ5 χ6 χ7 χ11 -0.0123i χ0 χ1 χ2 χ5 χ7 χ8 +0.0123i χ0 χ2 χ3 χ5 χ7 χ10 +0.0423 χ0 χ2 χ5 χ7 χ8 χ9 χ10 χ11 +0.0123i χ0 χ3 χ4 χ5 χ6 χ9 -0.0123i χ0 χ3 χ5 χ6 χ7 χ10 +0.0123i χ0 χ1 χ3 χ5 χ6 χ8 -0.0123i χ0 χ2 χ3 χ5 χ6 χ11 -0.0423 χ0 χ3 χ5 χ6 χ8 χ9 χ10 χ11 +0.0123i χ0 χ4 χ5 χ6 χ9 χ11 -0.0123i χ0 χ4 χ5 χ7 χ9 χ10 +0.00832i χ0 χ3 χ4 χ5 χ9 χ10 -0.00832i χ0 χ2 χ4 χ5 χ9 χ11 +0.00536i χ0 χ2 χ3 χ4 χ5 χ9 +0.0379i χ0 χ4 χ5 χ6 χ7 χ9 +0.00536i χ0 χ4 χ5 χ9 χ10 χ11 +0.0223 χ1 χ2 χ3 χ8 +0.0161i χ0 χ5 χ6 χ7 χ10 χ11 +0.00832i χ0 χ1 χ5 χ6 χ8 χ11 -0.0123i χ0 χ5 χ6 χ8 χ9 χ11 -0.00832i χ0 χ1 χ5 χ7 χ8 χ10 +0.0123i χ0 χ5 χ7 χ8 χ9 χ10 -0.0123i χ0 χ1 χ3 χ5 χ8 χ10 +0.0123i χ0 χ1 χ2 χ5 χ8 χ11 -0.0379i χ0 χ1 χ2 χ3 χ5 χ8 -0.00536i χ0 χ1 χ5 χ6 χ7 χ8 -0.00536i χ0 χ1 χ5 χ8 χ10 χ11 -0.0223 χ4 χ6 χ7 χ9 +0.0161i χ0 χ2 χ3 χ5 χ10 χ11 -0.0123i χ0 χ3 χ5 χ8 χ9 χ10 +0.0123i χ0 χ2 χ5 χ8 χ9 χ11 +0.0317 χ0 χ1 χ4 χ5 +0.0174 χ0 χ2 χ5 χ7 -0.0174 χ0 χ3 χ5 χ6 -0.0635 χ0 χ4 χ5 χ9 +0.0151 χ0 χ5 χ6 χ11 -0.0151 χ0 χ5 χ7 χ10 +0.0635 χ0 χ1 χ5 χ8 +0.0151 χ0 χ3 χ5 χ10 -0.0151 χ0 χ2 χ5 χ11 -0.0223 χ0 χ2 χ3 χ5 -0.0223 χ0 χ5 χ6 χ7 -0.0521 χ0 χ5 χ10 χ11 -0.0635 χ0 χ5 χ8 χ9 +0.0379i χ0 χ5 χ8 χ9 χ10 χ11 +0.00536i χ0 χ2 χ3 χ5 χ8 χ9 +0.0701 χ0 χ2 χ3 χ5 χ8 χ9 χ10 χ11 +0.0223 χ1 χ4 χ6 χ7 +0.0223 χ1 χ2 χ3 χ4 +0.0296i χ1 χ2 χ3 χ4 χ6 χ7 +0.00536i χ0 χ5 χ6 χ7 χ8 χ9 +0.0701 χ0 χ5 χ6 χ7 χ8 χ9 χ10 χ11 -0.0123i χ1 χ2 χ4 χ6 χ7 χ11 -0.0123i χ1 χ2 χ3 χ4 χ7 χ10 -0.0423 χ1 χ2 χ4 χ7 χ8 χ9 χ10 χ11 +0.0123i χ1 χ3 χ4 χ6 χ7 χ10 +0.0123i χ1 χ2 χ3 χ4 χ6 χ11 +0.0423 χ1 χ3 χ4 χ6 χ8 χ9 χ10 χ11 -0.0161i χ1 χ4 χ6 χ7 χ10 χ11 +0.0123i χ1 χ4 χ6 χ8 χ9 χ11 -0.0123i χ1 χ4 χ7 χ8 χ9 χ10 -0.0161i χ1 χ2 χ3 χ4 χ10 χ11 +0.0123i χ1 χ3 χ4 χ8 χ9 χ10 -0.0123i χ1 χ2 χ4 χ8 χ9 χ11 -0.0174 χ1 χ2 χ4 χ7 +0.0174 χ1 χ3 χ4 χ6 -0.0151 χ1 χ4 χ6 χ11 +0.0151 χ1 χ4 χ7 χ10 -0.0151 χ1 χ3 χ4 χ10 +0.0151 χ1 χ2 χ4 χ11 +0.0521 χ1 χ4 χ10 χ11 +0.0635 χ1 χ4 χ8 χ9 -0.0379i χ1 χ4 χ8 χ9 χ10 χ11 -0.00536i χ1 χ2 χ3 χ4 χ8 χ9 -0.0701 χ1 χ2 χ3 χ4 χ8 χ9 χ10 χ11 -0.00536i χ1 χ4 χ6 χ7 χ8 χ9 -0.0701 χ1 χ4 χ6 χ7 χ8 χ9 χ10 χ11 +0.0161i χ2 χ3 χ4 χ6 χ7 χ9 -0.0161i χ1 χ2 χ3 χ6 χ7 χ8 +0.0714i χ2 χ3 χ6 χ7 χ10 χ11 +0.029 χ2 χ3 χ6 χ7 χ8 χ9 χ10 χ11 -0.0123i χ2 χ4 χ6 χ7 χ9 χ11 +0.00832i χ2 χ3 χ4 χ7 χ9 χ10 +0.00832i χ1 χ2 χ6 χ7 χ8 χ11 +0.00536i χ2 χ6 χ7 χ8 χ9 χ11 +0.0123i χ1 χ2 χ3 χ7 χ8 χ10 -0.00536i χ2 χ3 χ7 χ8 χ9 χ10 +0.0317 χ2 χ3 χ6 χ7 -0.0151 χ2 χ4 χ7 χ9 -0.0635 χ2 χ6 χ7 χ11 -0.0151 χ1 χ2 χ7 χ8 +0.0635 χ2 χ3 χ7 χ10 -0.0635 χ2 χ7 χ10 χ11 -0.0521 χ2 χ7 χ8 χ9 +0.0379i χ2 χ7 χ8 χ9 χ10 χ11 +0.0123i χ3 χ4 χ6 χ7 χ9 χ10 -0.00832i χ2 χ3 χ4 χ6 χ9 χ11 -0.00832i χ1 χ3 χ6 χ7 χ8 χ10 -0.00536i χ3 χ6 χ7 χ8 χ9 χ10 -0.0123i χ1 χ2 χ3 χ6 χ8 χ11 +0.00536i χ2 χ3 χ6 χ8 χ9 χ11 +0.0151 χ3 χ4 χ6 χ9 +0.0635 χ3 χ6 χ7 χ10 +0.0151 χ1 χ3 χ6 χ8 -0.0635 χ2 χ3 χ6 χ11 +0.0635 χ3 χ6 χ10 χ11 +0.0521 χ3 χ6 χ8 χ9 -0.0379i χ3 χ6 χ8 χ9 χ10 χ11 +0.0223 χ1 χ8 χ10 χ11 +0.00832i χ1 χ2 χ4 χ7 χ8 χ9 -0.00832i χ1 χ3 χ4 χ6 χ8 χ9 -0.0398i χ10 χ11 +0.029 χ0 χ1 χ2 χ3 χ4 χ5 χ8 χ9 -0.0296i χ4 χ6 χ7 χ9 χ10 χ11 +0.0161i χ2 χ3 χ4 χ9 χ10 χ11 +0.0174 χ4 χ6 χ9 χ11 -0.0174 χ4 χ7 χ9 χ10 -0.0151 χ3 χ4 χ9 χ10 +0.0151 χ2 χ4 χ9 χ11 -0.0521 χ2 χ3 χ4 χ9 -0.0223 χ4 χ9 χ10 χ11 -0.00832i χ0 χ2 χ5 χ7 χ8 χ9 +0.00832i χ0 χ3 χ5 χ6 χ8 χ9 -0.0423 χ0 χ1 χ2 χ3 χ5 χ6 χ8 χ11 +0.0423 χ0 χ1 χ2 χ3 χ5 χ7 χ8 χ10 -0.0701 χ0 χ1 χ2 χ3 χ5 χ6 χ7 χ8 -0.0701 χ0 χ1 χ2 χ3 χ5 χ8 χ10 χ11 +0.00832i χ0 χ3 χ5 χ6 χ10 χ11 -0.00832i χ1 χ3 χ4 χ6 χ10 χ11 +0.0223 χ3 χ8 χ9 χ10 -0.0123i χ3 χ4 χ6 χ9 χ10 χ11 -0.0398i χ8 χ9 -0.0161i χ1 χ6 χ7 χ8 χ10 χ11 -0.0222i χ6 χ7 χ8 χ9 χ10 χ11 +0.0317 χ6 χ7 χ10 χ11 +0.0151 χ1 χ6 χ8 χ11 -0.0223 χ6 χ8 χ9 χ11 +0.0701 χ0 χ1 χ2 χ3 χ4 χ5 χ6 χ11 +0.0223 χ7 χ8 χ9 χ10 -0.00832i χ0 χ2 χ5 χ7 χ10 χ11 +0.00832i χ1 χ2 χ4 χ7 χ10 χ11 -0.0223 χ2 χ8 χ9 χ11 +0.0123i χ2 χ4 χ7 χ9 χ10 χ11 -0.0151 χ1 χ7 χ8 χ10 -0.0701 χ0 χ1 χ2 χ3 χ4 χ5 χ7 χ10 +0.029 χ0 χ1 χ4 χ5 χ6 χ7 χ8 χ9 +0.0296i χ1 χ2 χ3 χ8 χ10 χ11 +0.0174 χ1 χ3 χ8 χ10 -0.0174 χ1 χ2 χ8 χ11 +0.0521 χ1 χ6 χ7 χ8 -0.0423 χ0 χ3 χ4 χ5 χ6 χ7 χ9 χ10 +0.0423 χ0 χ2 χ4 χ5 χ6 χ7 χ9 χ11 +0.0701 χ0 χ2 χ3 χ4 χ5 χ6 χ7 χ9 +0.0701 χ0 χ4 χ5 χ6 χ7 χ9 χ10 χ11 -0.0222i χ2 χ3 χ8 χ9 χ10 χ11 +0.0317 χ2 χ3 χ10 χ11 -0.0701 χ0 χ1 χ3 χ4 χ5 χ6 χ7 χ10 +0.0701 χ0 χ1 χ2 χ4 χ5 χ6 χ7 χ11 -0.0025 χ2 χ3 χ8 χ9 -0.0218 χ0 χ1 χ2 χ3 χ4 χ5 χ6 χ7 -0.0025 χ6 χ7 χ8 χ9 -0.0298 χ0 χ1 χ4 χ5 χ6 χ7 χ10 χ11 +0.068i χ0 χ1 χ4 χ5 χ6 χ7 χ8 χ9 χ10 χ11 -0.0037 χ1 χ3 χ7 χ9 -0.0037 χ1 χ2 χ6 χ9 +0.0167 χ1 χ2 χ9 χ10 +0.0167 χ1 χ3 χ9 χ11 -0.0298 χ0 χ1 χ2 χ3 χ4 χ5 χ10 χ11 +0.068i χ0 χ1 χ2 χ3 χ4 χ5 χ8 χ9 χ10 χ11 +0.068i χ0 χ1 χ2 χ3 χ4 χ5 χ6 χ7 χ10 χ11 +0.219 χ0 χ1 χ2 χ3 χ4 χ5 χ6 χ7 χ8 χ9 χ10 χ11 +0.0167 χ4 χ7 χ8 χ11 +0.0167 χ4 χ6 χ8 χ10 -0.0037 χ3 χ4 χ8 χ11 -0.0037 χ2 χ4 χ8 χ10 +0.0037 χ1 χ6 χ9 χ10 +0.0037 χ1 χ7 χ9 χ11 -0.195i χ0 χ1 χ2 χ4 χ5 χ6 χ7 χ8 χ9 χ11 +0.195i χ0 χ1 χ2 χ3 χ4 χ5 χ7 χ8 χ9 χ10 +0.0402 χ0 χ1 χ2 χ4 χ5 χ7 χ10 χ11 +0.00227 χ0 χ1 χ2 χ4 χ5 χ7 χ8 χ9 -0.195i χ0 χ1 χ2 χ4 χ5 χ7 χ8 χ9 χ10 χ11 +0.195i χ0 χ1 χ3 χ4 χ5 χ6 χ7 χ8 χ9 χ10 -0.195i χ0 χ1 χ2 χ3 χ4 χ5 χ6 χ8 χ9 χ11 -0.0402 χ0 χ1 χ3 χ4 χ5 χ6 χ10 χ11 -0.00227 χ0 χ1 χ3 χ4 χ5 χ6 χ8 χ9 +0.195i χ0 χ1 χ3 χ4 χ5 χ6 χ8 χ9 χ10 χ11 -0.00227 χ0 χ1 χ3 χ4 χ5 χ8 χ9 χ10 +0.00227 χ0 χ1 χ4 χ5 χ6 χ8 χ9 χ11 -0.00227 χ0 χ1 χ4 χ5 χ7 χ8 χ9 χ10 +0.00227 χ0 χ1 χ2 χ4 χ5 χ8 χ9 χ11 +0.195i χ0 χ1 χ2 χ3 χ5 χ6 χ7 χ8 χ10 χ11 +0.00227 χ0 χ2 χ3 χ5 χ6 χ7 χ10 χ11 +0.0402 χ0 χ2 χ3 χ5 χ6 χ7 χ8 χ9 -0.195i χ0 χ2 χ3 χ5 χ6 χ7 χ8 χ9 χ10 χ11 -0.00411 χ0 χ1 χ2 χ5 χ7 χ8 χ10 χ11 -0.00411 χ0 χ2 χ3 χ4 χ5 χ7 χ9 χ10 -0.00411 χ0 χ2 χ4 χ5 χ7 χ9 χ10 χ11 +0.00411 χ0 χ2 χ3 χ5 χ7 χ8 χ9 χ10 -0.195i χ0 χ2 χ3 χ4 χ5 χ6 χ7 χ9 χ10 χ11 +0.00411 χ0 χ1 χ2 χ5 χ6 χ7 χ8 χ11 +0.00411 χ0 χ2 χ5 χ6 χ7 χ8 χ9 χ11 +0.0164 χ0 χ1 χ2 χ3 χ5 χ7 χ9 χ11 +0.0164 χ0 χ2 χ4 χ5 χ6 χ7 χ8 χ10 +0.0338 χ0 χ2 χ3 χ4 χ5 χ7 χ8 χ11 -0.0338 χ0 χ1 χ2 χ5 χ6 χ7 χ9 χ10 +0.00411 χ0 χ1 χ3 χ5 χ6 χ8 χ10 χ11 +0.068i χ0 χ1 χ2 χ3 χ4 χ5 χ6 χ7 χ8 χ9 +0.00411 χ0 χ2 χ3 χ4 χ5 χ6 χ9 χ11 +0.00411 χ0 χ3 χ4 χ5 χ6 χ9 χ10 χ11 -0.000634i χ2 χ3 χ6 χ7 χ8 χ9 -0.00411 χ0 χ3 χ5 χ6 χ7 χ8 χ9 χ10 -0.00411 χ0 χ2 χ3 χ5 χ6 χ8 χ9 χ11 -0.00411 χ0 χ1 χ3 χ5 χ6 χ7 χ8 χ10 +0.0164 χ0 χ1 χ2 χ3 χ5 χ6 χ9 χ10 +0.0164 χ0 χ3 χ4 χ5 χ6 χ7 χ8 χ11 +0.0338 χ0 χ2 χ3 χ4 χ5 χ6 χ8 χ10 -0.0338 χ0 χ1 χ3 χ5 χ6 χ7 χ9 χ11 -0.0402 χ0 χ1 χ5 χ6 χ7 χ8 χ10 χ11 +0.00411 χ1 χ2 χ3 χ4 χ6 χ8 χ9 χ11 -0.00411 χ1 χ2 χ3 χ4 χ7 χ8 χ9 χ10 -0.0402 χ1 χ2 χ3 χ4 χ6 χ7 χ8 χ9 +0.0402 χ0 χ2 χ3 χ4 χ5 χ9 χ10 χ11 -0.00227 χ1 χ2 χ3 χ6 χ7 χ8 χ10 χ11 -0.0123i χ1 χ3 χ6 χ8 χ10 χ11 -0.00227 χ1 χ2 χ3 χ4 χ6 χ7 χ10 χ11 -0.0338 χ0 χ2 χ4 χ5 χ6 χ8 χ10 χ11 +0.0123i χ1 χ2 χ7 χ8 χ10 χ11 -0.0338 χ0 χ3 χ4 χ5 χ7 χ8 χ10 χ11 +0.00411 χ1 χ3 χ4 χ6 χ7 χ8 χ9 χ10 -0.00411 χ1 χ2 χ4 χ6 χ7 χ8 χ9 χ11 +0.00227 χ2 χ3 χ4 χ6 χ7 χ9 χ10 χ11 +0.0231i χ0 χ1 χ3 χ5 χ7 χ9 +0.0231i χ0 χ1 χ2 χ5 χ6 χ9 +0.0231i χ0 χ1 χ2 χ5 χ9 χ10 +0.0231i χ0 χ1 χ3 χ5 χ9 χ11 +0.195i χ1 χ2 χ3 χ4 χ6 χ7 χ8 χ9 χ10 χ11 +0.0231i χ0 χ2 χ4 χ5 χ6 χ8 +0.0231i χ0 χ3 χ4 χ5 χ7 χ8 -0.0231i χ0 χ4 χ5 χ7 χ8 χ11 -0.0231i χ0 χ4 χ5 χ6 χ8 χ10 +0.0443i χ0 χ3 χ4 χ5 χ8 χ11 +0.0443i χ0 χ2 χ4 χ5 χ8 χ10 +0.0443i χ0 χ1 χ5 χ6 χ9 χ10 +0.0443i χ0 χ1 χ5 χ7 χ9 χ11 +0.0231i χ2 χ4 χ6 χ7 χ8 χ10 +0.0231i χ3 χ4 χ6 χ7 χ8 χ11 -0.0231i χ1 χ2 χ3 χ7 χ9 χ11 -0.0231i χ1 χ2 χ3 χ6 χ9 χ10 +0.0443i χ2 χ3 χ4 χ7 χ8 χ11 +0.0443i χ1 χ2 χ6 χ7 χ9 χ10 +0.0443i χ2 χ3 χ4 χ6 χ8 χ10 +0.0443i χ1 χ3 χ6 χ7 χ9 χ11 +0.0231i χ1 χ3 χ7 χ9 χ10 χ11 +0.0231i χ1 χ2 χ6 χ9 χ10 χ11 +0.0231i χ2 χ4 χ6 χ8 χ10 χ11 +0.0231i χ3 χ4 χ7 χ8 χ10 χ11 -0.0338 χ0 χ1 χ3 χ5 χ7 χ9 χ10 χ11 -0.0037 χ2 χ4 χ6 χ8 -0.0338 χ0 χ1 χ2 χ5 χ6 χ9 χ10 χ11 -0.0037 χ3 χ4 χ7 χ8 +0.0025i χ0 χ5 -0.0025i χ5 χ8 +0.0025i χ0 χ9 +0.0123i χ1 χ2 χ4 χ5 χ7 χ8 +0.0123i χ0 χ1 χ2 χ4 χ7 χ9 -0.0123i χ1 χ3 χ4 χ5 χ6 χ8 -0.0123i χ0 χ1 χ3 χ4 χ6 χ9 -0.0223 χ0 χ2 χ3 χ9 -0.0123i χ1 χ4 χ5 χ6 χ8 χ11 +0.0123i χ1 χ4 χ5 χ7 χ8 χ10 -0.00832i χ1 χ3 χ4 χ5 χ8 χ10 +0.00832i χ1 χ2 χ4 χ5 χ8 χ11 -0.00536i χ1 χ2 χ3 χ4 χ5 χ8 -0.0379i χ1 χ4 χ5 χ6 χ7 χ8 -0.00536i χ1 χ4 χ5 χ8 χ10 χ11 -0.00832i χ0 χ1 χ4 χ6 χ9 χ11 +0.00832i χ0 χ1 χ4 χ7 χ9 χ10 +0.0223 χ5 χ6 χ7 χ8 +0.0123i χ0 χ1 χ3 χ4 χ9 χ10 -0.0123i χ0 χ1 χ2 χ4 χ9 χ11 +0.0379i χ0 χ1 χ2 χ3 χ4 χ9 +0.00536i χ0 χ1 χ4 χ6 χ7 χ9 +0.00536i χ0 χ1 χ4 χ9 χ10 χ11 +0.0635 χ1 χ4 χ5 χ8 -0.0635 χ0 χ1 χ4 χ9 -0.0161i χ2 χ3 χ5 χ6 χ7 χ8 +0.0161i χ0 χ2 χ3 χ6 χ7 χ9 +0.0123i χ2 χ5 χ6 χ7 χ8 χ11 -0.00832i χ2 χ3 χ5 χ7 χ8 χ10 -0.00832i χ0 χ2 χ6 χ7 χ9 χ11 -0.0123i χ0 χ2 χ3 χ7 χ9 χ10 +0.0151 χ2 χ5 χ7 χ8 +0.0151 χ0 χ2 χ7 χ9 -0.0123i χ3 χ5 χ6 χ7 χ8 χ10 +0.00832i χ2 χ3 χ5 χ6 χ8 χ11 +0.00832i χ0 χ3 χ6 χ7 χ9 χ10 +0.0123i χ0 χ2 χ3 χ6 χ9 χ11 -0.0151 χ3 χ5 χ6 χ8 -0.0151 χ0 χ3 χ6 χ9 +0.0423 χ0 χ1 χ2 χ3 χ4 χ6 χ9 χ11 -0.0423 χ0 χ1 χ2 χ3 χ4 χ7 χ9 χ10 +0.0701 χ0 χ1 χ2 χ3 χ4 χ6 χ7 χ9 +0.0701 χ0 χ1 χ2 χ3 χ4 χ9 χ10 χ11 +0.0223 χ5 χ8 χ10 χ11 +0.0296i χ5 χ6 χ7 χ8 χ10 χ11 -0.0223 χ0 χ9 χ10 χ11 -0.0161i χ2 χ3 χ5 χ8 χ10 χ11 -0.0174 χ5 χ6 χ8 χ11 +0.0174 χ5 χ7 χ8 χ10 +0.0151 χ3 χ5 χ8 χ10 -0.0151 χ2 χ5 χ8 χ11 +0.0521 χ2 χ3 χ5 χ8 +0.0123i χ3 χ5 χ6 χ8 χ10 χ11 +0.0161i χ0 χ6 χ7 χ9 χ10 χ11 -0.0151 χ0 χ6 χ9 χ11 -0.0123i χ2 χ5 χ7 χ8 χ10 χ11 +0.0151 χ0 χ7 χ9 χ10 +0.0423 χ1 χ3 χ4 χ5 χ6 χ7 χ8 χ10 -0.0423 χ1 χ2 χ4 χ5 χ6 χ7 χ8 χ11 -0.0701 χ1 χ2 χ3 χ4 χ5 χ6 χ7 χ8 -0.0296i χ0 χ2 χ3 χ9 χ10 χ11 -0.0701 χ1 χ4 χ5 χ6 χ7 χ8 χ10 χ11 -0.0174 χ0 χ3 χ9 χ10 +0.0174 χ0 χ2 χ9 χ11 -0.0521 χ0 χ6 χ7 χ9 -0.0037 χ0 χ3 χ7 χ8 -0.0037 χ0 χ2 χ6 χ8 +0.0167 χ0 χ2 χ8 χ10 +0.0167 χ0 χ3 χ8 χ11 +0.0167 χ5 χ7 χ9 χ11 +0.0167 χ5 χ6 χ9 χ10 -0.0037 χ3 χ5 χ9 χ11 -0.0037 χ2 χ5 χ9 χ10 +0.0037 χ0 χ6 χ8 χ10 +0.0037 χ0 χ7 χ8 χ11 -0.195i χ0 χ1 χ2 χ3 χ4 χ6 χ7 χ9 χ10 χ11 +0.00411 χ1 χ2 χ4 χ5 χ7 χ8 χ10 χ11 +0.00411 χ0 χ1 χ2 χ4 χ7 χ9 χ10 χ11 +0.00411 χ1 χ2 χ3 χ4 χ5 χ7 χ8 χ10 +0.195i χ1 χ2 χ3 χ4 χ5 χ6 χ7 χ8 χ10 χ11 -0.00411 χ0 χ1 χ2 χ4 χ6 χ7 χ9 χ11 +0.0164 χ0 χ1 χ2 χ3 χ4 χ7 χ8 χ11 +0.0164 χ1 χ2 χ4 χ5 χ6 χ7 χ9 χ10 +0.0338 χ1 χ2 χ3 χ4 χ5 χ7 χ9 χ11 -0.0338 χ0 χ1 χ2 χ4 χ6 χ7 χ8 χ10 -0.00411 χ1 χ3 χ4 χ5 χ6 χ8 χ10 χ11 -0.00411 χ0 χ1 χ3 χ4 χ6 χ9 χ10 χ11 -0.00411 χ1 χ2 χ3 χ4 χ5 χ6 χ8 χ11 +0.00411 χ0 χ1 χ3 χ4 χ6 χ7 χ9 χ10 +0.0164 χ0 χ1 χ2 χ3 χ4 χ6 χ8 χ10 +0.0164 χ1 χ3 χ4 χ5 χ6 χ7 χ9 χ11 +0.0338 χ1 χ2 χ3 χ4 χ5 χ6 χ9 χ10 -0.0338 χ0 χ1 χ3 χ4 χ6 χ7 χ8 χ11 +0.00227 χ0 χ2 χ3 χ6 χ7 χ9 χ10 χ11 -0.0402 χ1 χ2 χ3 χ4 χ5 χ8 χ10 χ11 +0.0402 χ0 χ1 χ4 χ6 χ7 χ9 χ10 χ11 +0.0123i χ0 χ3 χ6 χ9 χ10 χ11 -0.0338 χ1 χ2 χ4 χ5 χ6 χ9 χ10 χ11 -0.0123i χ0 χ2 χ7 χ9 χ10 χ11 -0.0338 χ1 χ3 χ4 χ5 χ7 χ9 χ10 χ11 -0.00227 χ2 χ3 χ5 χ6 χ7 χ8 χ10 χ11 +0.0231i χ0 χ1 χ3 χ4 χ7 χ8 +0.0231i χ0 χ1 χ2 χ4 χ6 χ8 +0.0231i χ0 χ1 χ2 χ4 χ8 χ10 +0.0231i χ0 χ1 χ3 χ4 χ8 χ11 +0.0231i χ1 χ2 χ4 χ5 χ6 χ9 +0.0231i χ1 χ3 χ4 χ5 χ7 χ9 -0.0231i χ1 χ4 χ5 χ7 χ9 χ11 -0.0231i χ1 χ4 χ5 χ6 χ9 χ10 +0.0443i χ1 χ3 χ4 χ5 χ9 χ11 +0.0443i χ1 χ2 χ4 χ5 χ9 χ10 +0.0443i χ0 χ1 χ4 χ6 χ8 χ10 +0.0443i χ0 χ1 χ4 χ7 χ8 χ11 +0.0231i χ2 χ5 χ6 χ7 χ9 χ10 +0.0231i χ3 χ5 χ6 χ7 χ9 χ11 -0.0231i χ0 χ2 χ3 χ7 χ8 χ11 -0.0231i χ0 χ2 χ3 χ6 χ8 χ10 +0.0443i χ2 χ3 χ5 χ7 χ9 χ11 +0.0443i χ0 χ2 χ6 χ7 χ8 χ10 +0.0443i χ2 χ3 χ5 χ6 χ9 χ10 +0.0443i χ0 χ3 χ6 χ7 χ8 χ11 +0.0231i χ0 χ3 χ7 χ8 χ10 χ11 +0.0231i χ0 χ2 χ6 χ8 χ10 χ11 +0.0231i χ2 χ5 χ6 χ9 χ10 χ11 +0.0231i χ3 χ5 χ7 χ9 χ10 χ11 -0.0338 χ0 χ1 χ3 χ4 χ7 χ8 χ10 χ11 -0.0037 χ2 χ5 χ6 χ9 -0.0338 χ0 χ1 χ2 χ4 χ6 χ8 χ10 χ11 -0.0037 χ3 χ5 χ7 χ9 -0.0398i χ4 χ5 -0.0222i χ0 χ1 χ2 χ3 χ6 χ7 -0.0222i χ2 χ3 χ4 χ5 χ6 χ7 +0.0161i χ2 χ4 χ5 χ7 χ8 χ9 +0.00536i χ0 χ1 χ2 χ6 χ7 χ11 +0.0379i χ2 χ4 χ5 χ6 χ7 χ11 +0.0223 χ0 χ1 χ3 χ10 +0.0161i χ0 χ1 χ2 χ7 χ8 χ9 -0.0379i χ0 χ1 χ2 χ3 χ7 χ10 -0.0223 χ4 χ5 χ6 χ11 -0.0223 χ0 χ1 χ2 χ7 -0.0223 χ2 χ4 χ5 χ7 +0.0223 χ3 χ4 χ5 χ6 +0.00536i χ0 χ1 χ2 χ7 χ10 χ11 +0.0701 χ0 χ1 χ2 χ7 χ8 χ9 χ10 χ11 +0.0223 χ0 χ1 χ3 χ6 +0.00536i χ2 χ4 χ5 χ7 χ10 χ11 +0.0701 χ2 χ4 χ5 χ7 χ8 χ9 χ10 χ11 -0.0161i χ3 χ4 χ5 χ6 χ8 χ9 -0.0161i χ0 χ1 χ3 χ6 χ8 χ9 -0.00536i χ0 χ1 χ3 χ6 χ10 χ11 -0.0701 χ0 χ1 χ3 χ6 χ8 χ9 χ10 χ11 -0.00536i χ3 χ4 χ5 χ6 χ10 χ11 -0.0701 χ3 χ4 χ5 χ6 χ8 χ9 χ10 χ11 -0.0296i χ4 χ5 χ6 χ8 χ9 χ11 -0.0161i χ3 χ4 χ5 χ8 χ9 χ10 -0.0222i χ4 χ5 χ8 χ9 χ10 χ11 +0.0317 χ4 χ5 χ8 χ9 -0.0398i χ0 χ1 +0.029 χ0 χ1 χ2 χ3 χ6 χ7 χ10 χ11 +0.0161i χ0 χ1 χ6 χ8 χ9 χ11 -0.0521 χ0 χ1 χ6 χ11 -0.0701 χ0 χ1 χ2 χ3 χ7 χ8 χ9 χ10 +0.0296i χ0 χ1 χ3 χ8 χ9 χ10 -0.0222i χ0 χ1 χ8 χ9 χ10 χ11 +0.0317 χ0 χ1 χ8 χ9 +0.029 χ2 χ3 χ4 χ5 χ6 χ7 χ10 χ11 +0.0701 χ2 χ4 χ5 χ6 χ7 χ8 χ9 χ11 -0.0025 χ0 χ1 χ10 χ11 -0.0025 χ4 χ5 χ10 χ11 -0.0298 χ2 χ3 χ4 χ5 χ6 χ7 χ8 χ9 +0.068i χ2 χ3 χ4 χ5 χ6 χ7 χ8 χ9 χ10 χ11 +0.0037 χ1 χ3 χ5 χ11 +0.0037 χ0 χ3 χ4 χ11 -0.0298 χ0 χ1 χ2 χ3 χ6 χ7 χ8 χ9 +0.068i χ0 χ1 χ2 χ3 χ6 χ7 χ8 χ9 χ10 χ11 -0.0402 χ2 χ3 χ4 χ5 χ7 χ8 χ9 χ10 +0.0338 χ0 χ2 χ4 χ6 χ7 χ8 χ9 χ10 +0.0338 χ1 χ2 χ5 χ6 χ7 χ8 χ9 χ10 +0.0402 χ0 χ1 χ2 χ6 χ7 χ8 χ9 χ11 -0.00536i χ2 χ3 χ4 χ5 χ7 χ10 -0.0231i χ1 χ2 χ3 χ5 χ7 χ11 -0.0231i χ0 χ2 χ3 χ4 χ7 χ11 -0.0231i χ0 χ2 χ4 χ6 χ7 χ10 -0.0231i χ1 χ2 χ5 χ6 χ7 χ10 -0.0231i χ0 χ3 χ4 χ8 χ9 χ11 -0.0231i χ0 χ4 χ6 χ8 χ9 χ10 -0.0231i χ1 χ3 χ5 χ8 χ9 χ11 -0.0231i χ1 χ5 χ6 χ8 χ9 χ10 +0.0521 χ3 χ4 χ5 χ10 +0.0338 χ0 χ2 χ3 χ4 χ7 χ8 χ9 χ11 +0.0338 χ1 χ2 χ3 χ5 χ7 χ8 χ9 χ11 +0.0037 χ1 χ5 χ6 χ10 +0.0037 χ0 χ4 χ6 χ10 -0.0223 χ0 χ1 χ2 χ11 -0.00536i χ0 χ1 χ3 χ6 χ7 χ10 -0.0379i χ3 χ4 χ5 χ6 χ7 χ10 +0.0223 χ4 χ5 χ7 χ10 +0.0379i χ0 χ1 χ2 χ3 χ6 χ11 +0.0296i χ4 χ5 χ7 χ8 χ9 χ10 +0.0161i χ2 χ4 χ5 χ8 χ9 χ11 +0.0701 χ0 χ1 χ2 χ3 χ6 χ8 χ9 χ11 -0.0161i χ0 χ1 χ7 χ8 χ9 χ10 +0.0521 χ0 χ1 χ7 χ10 -0.0296i χ0 χ1 χ2 χ8 χ9 χ11 -0.0701 χ3 χ4 χ5 χ6 χ7 χ8 χ9 χ10 +0.0037 χ1 χ2 χ5 χ10 +0.0037 χ0 χ2 χ4 χ10 +0.0402 χ2 χ3 χ4 χ5 χ6 χ8 χ9 χ11 +0.0338 χ0 χ3 χ4 χ6 χ7 χ8 χ9 χ11 +0.0338 χ1 χ3 χ5 χ6 χ7 χ8 χ9 χ11 -0.0402 χ0 χ1 χ3 χ6 χ7 χ8 χ9 χ10 +0.00536i χ2 χ3 χ4 χ5 χ6 χ11 -0.0231i χ1 χ2 χ3 χ5 χ6 χ10 -0.0231i χ0 χ2 χ3 χ4 χ6 χ10 -0.0231i χ0 χ3 χ4 χ6 χ7 χ11 -0.0231i χ1 χ3 χ5 χ6 χ7 χ11 -0.0231i χ0 χ2 χ4 χ8 χ9 χ10 -0.0231i χ0 χ4 χ7 χ8 χ9 χ11 -0.0231i χ1 χ2 χ5 χ8 χ9 χ10 -0.0231i χ1 χ5 χ7 χ8 χ9 χ11 -0.0521 χ2 χ4 χ5 χ11 +0.0338 χ0 χ2 χ3 χ4 χ6 χ8 χ9 χ10 +0.0338 χ1 χ2 χ3 χ5 χ6 χ8 χ9 χ10 +0.0037 χ1 χ5 χ7 χ11 +0.0037 χ0 χ4 χ7 χ11 -0.0596 χ0 χ1 χ2 χ3 -0.000634i χ2 χ3 χ4 χ5 χ8 χ9 -0.0222i χ4 χ5 χ6 χ7 χ8 χ9 -0.000634i χ0 χ1 χ6 χ7 χ10 χ11 -0.0222i χ0 χ1 χ2 χ3 χ10 χ11 -0.0218 χ4 χ5 χ6 χ7 χ8 χ9 χ10 χ11 -0.0025 χ0 χ1 χ6 χ7 -0.0298 χ2 χ3 χ4 χ5 χ8 χ9 χ10 χ11 +0.0443i χ0 χ3 χ4 χ7 χ8 χ9 +0.0443i χ0 χ2 χ4 χ6 χ8 χ9 +0.0443i χ1 χ2 χ5 χ6 χ10 χ11 +0.0443i χ1 χ3 χ5 χ7 χ10 χ11 +0.0164 χ0 χ3 χ4 χ7 χ8 χ9 χ10 χ11 +0.0167 χ1 χ2 χ5 χ6 +0.0164 χ0 χ2 χ4 χ6 χ8 χ9 χ10 χ11 +0.0167 χ1 χ3 χ5 χ7 +0.0443i χ1 χ3 χ5 χ7 χ8 χ9 +0.0443i χ1 χ2 χ5 χ6 χ8 χ9 +0.0443i χ0 χ2 χ4 χ6 χ10 χ11 +0.0443i χ0 χ3 χ4 χ7 χ10 χ11 +0.0164 χ1 χ3 χ5 χ7 χ8 χ9 χ10 χ11 +0.0167 χ0 χ2 χ4 χ6 +0.0164 χ1 χ2 χ5 χ6 χ8 χ9 χ10 χ11 +0.0167 χ0 χ3 χ4 χ7 -0.0222i χ4 χ5 χ6 χ7 χ10 χ11 -0.0222i χ0 χ1 χ2 χ3 χ8 χ9 -0.0298 χ0 χ1 χ6 χ7 χ8 χ9 χ10 χ11 -0.0025 χ2 χ3 χ4 χ5 -0.0596 χ4 χ5 χ6 χ7 -0.000634i χ0 χ1 χ6 χ7 χ8 χ9 -0.0218 χ0 χ1 χ2 χ3 χ8 χ9 χ10 χ11 -0.000634i χ2 χ3 χ4 χ5 χ10 χ11]"
      ]
     },
     "execution_count": 241,
     "metadata": {},
     "output_type": "execute_result"
    }
   ],
   "source": [
    "Ks = Krylov_simple(H, 10)\n",
    "Ks"
   ]
  },
  {
   "cell_type": "code",
   "execution_count": 243,
   "metadata": {},
   "outputs": [
    {
     "name": "stdout",
     "output_type": "stream",
     "text": [
      "835 ms ± 4.9 ms per loop (mean ± std. dev. of 7 runs, 1 loop each)\n"
     ]
    }
   ],
   "source": [
    "%timeit Krylov_simple(H, 10)"
   ]
  },
  {
   "cell_type": "code",
   "execution_count": 242,
   "metadata": {},
   "outputs": [
    {
     "name": "stdout",
     "output_type": "stream",
     "text": [
      " "
     ]
    },
    {
     "data": {
      "text/plain": [
       "         1815110 function calls in 1.246 seconds\n",
       "\n",
       "   Ordered by: internal time\n",
       "\n",
       "   ncalls  tottime  percall  cumtime  percall filename:lineno(function)\n",
       "       10    0.255    0.025    1.230    0.123 qboot.py:133(__matmul__)\n",
       "    83050    0.223    0.000    0.476    0.000 qboot.py:294(term_mul)\n",
       "    83069    0.207    0.000    0.207    0.000 {method 'copy' of 'dict' objects}\n",
       "    83069    0.133    0.000    0.387    0.000 qboot.py:104(__add__)\n",
       "   158508    0.121    0.000    0.121    0.000 {built-in method numpy.array}\n",
       "    79254    0.073    0.000    0.095    0.000 qboot.py:391(maj_term_mul)\n",
       "    83078    0.061    0.000    0.097    0.000 qboot.py:89(__mul__)\n",
       "   249227    0.035    0.000    0.035    0.000 qboot.py:49(__init__)\n",
       "    79254    0.021    0.000    0.021    0.000 serialize.py:29(_numba_unpickle)\n",
       "    83078    0.019    0.000    0.019    0.000 qboot.py:92(<dictcomp>)\n",
       "    83069    0.019    0.000    0.116    0.000 qboot.py:94(__rmul__)\n",
       "   328501    0.018    0.000    0.018    0.000 {built-in method builtins.len}\n",
       "    79254    0.016    0.000    0.016    0.000 {method 'tolist' of 'numpy.ndarray' objects}\n",
       "   166159    0.014    0.000    0.014    0.000 {built-in method builtins.isinstance}\n",
       "    83275    0.010    0.000    0.010    0.000 {built-in method builtins.abs}\n",
       "       19    0.009    0.000    0.009    0.000 qboot.py:186(inner)\n",
       "    83097    0.006    0.000    0.006    0.000 {method 'items' of 'dict' objects}\n",
       "     6239    0.001    0.000    0.001    0.000 {method 'pop' of 'dict' objects}\n",
       "       19    0.001    0.000    0.001    0.000 qboot.py:102(<dictcomp>)\n",
       "     3783    0.001    0.000    0.001    0.000 qboot.py:204(<genexpr>)\n",
       "        1    0.001    0.001    1.246    1.246 1160947155.py:1(Krylov_simple)\n",
       "        9    0.000    0.000    0.001    0.000 {built-in method builtins.sum}\n",
       "        1    0.000    0.000    1.246    1.246 <string>:1(<module>)\n",
       "       19    0.000    0.000    0.004    0.000 qboot.py:129(__sub__)\n",
       "        9    0.000    0.000    0.001    0.000 qboot.py:203(norm)\n",
       "        1    0.000    0.000    1.246    1.246 {built-in method builtins.exec}\n",
       "       19    0.000    0.000    0.001    0.000 qboot.py:101(__neg__)\n",
       "        9    0.000    0.000    0.000    0.000 qboot.py:98(__truediv__)\n",
       "       10    0.000    0.000    0.000    0.000 qboot.py:260(zero)\n",
       "        1    0.000    0.000    0.000    0.000 qboot.py:268(one)\n",
       "        9    0.000    0.000    0.000    0.000 {method 'values' of 'dict' objects}\n",
       "        9    0.000    0.000    0.000    0.000 {method 'append' of 'list' objects}\n",
       "        1    0.000    0.000    0.000    0.000 {method 'disable' of '_lsprof.Profiler' objects}"
      ]
     },
     "metadata": {},
     "output_type": "display_data"
    }
   ],
   "source": [
    "%prun Krylov_simple(H, 10)"
   ]
  },
  {
   "cell_type": "code",
   "execution_count": null,
   "metadata": {},
   "outputs": [],
   "source": []
  }
 ],
 "metadata": {
  "kernelspec": {
   "display_name": "PyPy 3 (ipykernel)",
   "language": "python",
   "name": "python3"
  },
  "language_info": {
   "codemirror_mode": {
    "name": "ipython",
    "version": 3
   },
   "file_extension": ".py",
   "mimetype": "text/x-python",
   "name": "python",
   "nbconvert_exporter": "python",
   "pygments_lexer": "ipython3",
   "version": "3.8.13"
  }
 },
 "nbformat": 4,
 "nbformat_minor": 4
}
