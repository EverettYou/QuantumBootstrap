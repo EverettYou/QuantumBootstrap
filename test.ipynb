{
 "cells": [
  {
   "cell_type": "code",
   "execution_count": 54,
   "id": "5f54bfbb-da17-447f-80d9-f74aa354e881",
   "metadata": {},
   "outputs": [],
   "source": [
    "%run \"qboot.py\""
   ]
  },
  {
   "cell_type": "code",
   "execution_count": 77,
   "id": "cc7030da-921d-4007-bbad-11b4d02683b4",
   "metadata": {},
   "outputs": [
    {
     "data": {
      "text/plain": [
       "i χ0 χ1 +i χ1 χ2 +i χ2 χ3 +i χ3 χ4 +i χ4 χ5 -i χ0 χ5"
      ]
     },
     "execution_count": 77,
     "metadata": {},
     "output_type": "execute_result"
    }
   ],
   "source": [
    "L = 6\n",
    "H = sum(1j* maj(i) @ maj((i+1)%L) for i in range(L))\n",
    "H"
   ]
  },
  {
   "cell_type": "code",
   "execution_count": 82,
   "id": "cbbcc4a0-f151-4166-bcd1-e4a7d140a43e",
   "metadata": {},
   "outputs": [
    {
     "name": "stdout",
     "output_type": "stream",
     "text": [
      "    terms weight\n",
      " 0:     1    0.0\n",
      " 1:     6    2.0\n",
      " 2:     9    4.0\n"
     ]
    }
   ],
   "source": [
    "K = H.krylov(show_progress=True)"
   ]
  },
  {
   "cell_type": "code",
   "execution_count": 83,
   "id": "51fd4cb3-d46a-4e3a-90e8-c1bde55f3049",
   "metadata": {},
   "outputs": [
    {
     "name": "stdout",
     "output_type": "stream",
     "text": [
      "    terms weight\n",
      " 0:     1    0.0\n",
      " 1:     6    2.0\n"
     ]
    }
   ],
   "source": [
    "with limit(len, 2):\n",
    "    K = H.krylov(show_progress=True)"
   ]
  },
  {
   "cell_type": "code",
   "execution_count": 79,
   "id": "e8124ed5-f3d4-40c6-bd29-a8f98293be65",
   "metadata": {},
   "outputs": [
    {
     "data": {
      "text/plain": [
       "array([0.        +0.j, 2.44948974+0.j, 0.        +0.j])"
      ]
     },
     "execution_count": 79,
     "metadata": {},
     "output_type": "execute_result"
    }
   ],
   "source": [
    "K.represent(H)"
   ]
  },
  {
   "cell_type": "code",
   "execution_count": 80,
   "id": "8b352897-f0f9-4241-9976-8ad65d035abc",
   "metadata": {},
   "outputs": [
    {
     "data": {
      "text/plain": [
       "0.408i χ0 χ1 +0.408i χ1 χ2 +0.408i χ2 χ3 +0.408i χ3 χ4 +0.408i χ4 χ5 -0.408i χ0 χ5"
      ]
     },
     "execution_count": 80,
     "metadata": {},
     "output_type": "execute_result"
    }
   ],
   "source": [
    "K[1]"
   ]
  },
  {
   "cell_type": "code",
   "execution_count": 81,
   "id": "84e3d4a6-2e7f-478e-ba56-9a3184d03bfa",
   "metadata": {},
   "outputs": [
    {
     "data": {
      "text/plain": [
       "OperatorSpace([I,\n",
       "               0.408i χ0 χ1 +0.408i χ1 χ2 +0.408i χ2 χ3 +0.408i χ3 χ4 +0.408i χ4 χ5 -0.408i χ0 χ5,\n",
       "               -0.333 χ0 χ1 χ2 χ3 -0.333 χ0 χ1 χ3 χ4 -0.333 χ0 χ1 χ4 χ5 -0.333 χ1 χ2 χ3 χ4 -0.333 χ1 χ2 χ4 χ5 +0.333 χ0 χ1 χ2 χ5 -0.333 χ2 χ3 χ4 χ5 +0.333 χ0 χ2 χ3 χ5 +0.333 χ0 χ3 χ4 χ5])"
      ]
     },
     "execution_count": 81,
     "metadata": {},
     "output_type": "execute_result"
    }
   ],
   "source": [
    "K"
   ]
  },
  {
   "cell_type": "code",
   "execution_count": null,
   "id": "d143d8f2-df57-4138-957f-5d9fd59f8b9b",
   "metadata": {},
   "outputs": [],
   "source": []
  }
 ],
 "metadata": {
  "kernelspec": {
   "display_name": "Python 3 (ipykernel)",
   "language": "python",
   "name": "python3"
  },
  "language_info": {
   "codemirror_mode": {
    "name": "ipython",
    "version": 3
   },
   "file_extension": ".py",
   "mimetype": "text/x-python",
   "name": "python",
   "nbconvert_exporter": "python",
   "pygments_lexer": "ipython3",
   "version": "3.9.12"
  }
 },
 "nbformat": 4,
 "nbformat_minor": 5
}
