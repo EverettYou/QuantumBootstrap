{
 "cells": [
  {
   "cell_type": "code",
   "execution_count": 1,
   "metadata": {},
   "outputs": [
    {
     "data": {
      "text/plain": [
       "'CPython'"
      ]
     },
     "execution_count": 1,
     "metadata": {},
     "output_type": "execute_result"
    }
   ],
   "source": [
    "import platform\n",
    "platform.python_implementation()"
   ]
  },
  {
   "cell_type": "code",
   "execution_count": 2,
   "metadata": {},
   "outputs": [],
   "source": [
    "from qboot import maj, qboot"
   ]
  },
  {
   "cell_type": "markdown",
   "metadata": {},
   "source": [
    "### Quantum Bootstrap"
   ]
  },
  {
   "cell_type": "markdown",
   "metadata": {},
   "source": [
    "Define fermion creation/annihilation/number operators."
   ]
  },
  {
   "cell_type": "code",
   "execution_count": 3,
   "metadata": {},
   "outputs": [],
   "source": [
    "def c(i,s):\n",
    "    return (maj(4*i+2*s) + 1j * maj(4*i+2*s+1))/2\n",
    "def cd(i,s):\n",
    "    return (maj(4*i+2*s) - 1j * maj(4*i+2*s+1))/2\n",
    "def n(i,s):\n",
    "    return cd(i,s) @ c(i,s)"
   ]
  },
  {
   "cell_type": "markdown",
   "metadata": {},
   "source": [
    "Construct 1D Hubbard model Hamiltonian."
   ]
  },
  {
   "cell_type": "code",
   "execution_count": 4,
   "metadata": {},
   "outputs": [
    {
     "data": {
      "text/plain": [
       "-0.5i χ0 χ5 +0.5i χ1 χ4 -0.5i χ2 χ7 +0.5i χ3 χ6 -0.5i χ4 χ9 +0.5i χ5 χ8 -0.5i χ6 χ11 +0.5i χ7 χ10 +0.5i χ1 χ8 -0.5i χ0 χ9 +0.5i χ3 χ10 -0.5i χ2 χ11 +0.75 I +0.25i χ2 χ3 +0.25i χ0 χ1 -0.25 χ0 χ1 χ2 χ3 +0.25i χ6 χ7 +0.25i χ4 χ5 -0.25 χ4 χ5 χ6 χ7 +0.25i χ10 χ11 +0.25i χ8 χ9 -0.25 χ8 χ9 χ10 χ11"
      ]
     },
     "execution_count": 4,
     "metadata": {},
     "output_type": "execute_result"
    }
   ],
   "source": [
    "L = 3\n",
    "t, U = 1., 1.\n",
    "H = - t * sum(sum(cd(i,s) @ c((i+1)%L,s)+cd((i+1)%L,s) @ c(i,s) for s in [0,1]) for i in range(L)) \\\n",
    "    + U * sum(n(i,0) @ n(i,1) for i in range(L))\n",
    "H"
   ]
  },
  {
   "cell_type": "markdown",
   "metadata": {},
   "source": [
    "Perform quantum bootstrap."
   ]
  },
  {
   "cell_type": "code",
   "execution_count": 5,
   "metadata": {},
   "outputs": [
    {
     "name": "stdout",
     "output_type": "stream",
     "text": [
      "     len  weight\n",
      " 0:    1    0.0\n",
      " 1:   21    2.1\n",
      " 2:  144    4.1\n",
      " 3:  375    6.0\n",
      " 4:  519    7.8\n",
      " 5:  543    9.7\n",
      " 6:  543   11.0\n",
      " 7:  543    7.6\n",
      " 8:  543    6.9\n",
      " 9:  543    6.6\n",
      "10:  543    5.6\n",
      "11:  543    5.3\n",
      "Krylov space constructed.\n",
      "     pcost       dcost       gap    pres   dres   k/t\n",
      " 0: -5.3620e-02 -1.5356e+01  1e+01  2e-16  8e+00  1e+00\n",
      " 1: -3.7664e-01 -3.1636e+00  2e+00  2e-15  1e+00  2e-01\n",
      " 2: -1.4266e+00 -2.7157e+00  1e+00  1e-15  7e-01  1e-01\n",
      " 3: -2.5492e+00 -3.0958e+00  7e-01  4e-15  3e-01  5e-02\n",
      " 4: -2.8435e+00 -3.1361e+00  4e-01  2e-15  2e-01  3e-02\n",
      " 5: -2.9509e+00 -3.3954e+00  2e+00  2e-14  3e-01  9e-02\n",
      " 6: -4.1930e+00 -4.2441e+00  4e-01  2e-14  4e-02  3e-02\n",
      " 7: -4.4479e+00 -4.4486e+00  6e-03  7e-15  6e-04  5e-04\n",
      " 8: -4.4515e+00 -4.4515e+00  6e-05  1e-14  6e-06  5e-06\n",
      " 9: -4.4516e+00 -4.4516e+00  6e-07  1e-14  6e-08  5e-08\n",
      "Optimal solution found.\n"
     ]
    },
    {
     "data": {
      "text/plain": [
       "-0.661i χ1 χ4 +0.661i χ2 χ7 -0.661i χ3 χ6 +0.661i χ4 χ9 +0.661i χ6 χ11 -0.661i χ7 χ10 -0.661i χ1 χ8 -0.661i χ3 χ10 +0.661i χ2 χ11 -0.333i χ2 χ3 -0.333i χ6 χ7 -0.333i χ10 χ11 -0.333i χ8 χ9 -0.0208 χ8 χ9 χ10 χ11 +0.172i χ0 χ1 χ2 χ4 χ5 χ7 -0.172i χ0 χ1 χ3 χ4 χ5 χ6 +0.245i χ0 χ1 χ4 χ5 χ6 χ11 -0.245i χ0 χ1 χ4 χ5 χ7 χ10 -0.245i χ0 χ1 χ3 χ4 χ5 χ10 +0.245i χ0 χ1 χ2 χ4 χ5 χ11 -0.156i χ0 χ1 χ2 χ3 χ4 χ5 -0.156i χ0 χ1 χ4 χ5 χ6 χ7 -0.021i χ0 χ1 χ4 χ5 χ10 χ11 -1i χ0 χ1 χ4 χ5 χ8 χ9 -0.333 χ0 χ1 χ4 χ5 χ8 χ9 χ10 χ11 +0.172i χ0 χ2 χ3 χ5 χ6 χ7 +0.453i χ0 χ2 χ4 χ5 χ7 χ9 -0.453i χ0 χ2 χ5 χ6 χ7 χ11 +0.453i χ0 χ1 χ2 χ5 χ7 χ8 -0.453i χ0 χ2 χ3 χ5 χ7 χ10 -0.422i χ0 χ2 χ5 χ7 χ10 χ11 -0.422i χ0 χ2 χ5 χ7 χ8 χ9 -0.422 χ0 χ2 χ5 χ7 χ8 χ9 χ10 χ11 ..."
      ]
     },
     "execution_count": 5,
     "metadata": {},
     "output_type": "execute_result"
    }
   ],
   "source": [
    "rho = qboot(H, n=11, show_progress=True)\n",
    "rho"
   ]
  },
  {
   "cell_type": "markdown",
   "metadata": {},
   "source": [
    "Evaluate energy expectation value (**Ground truth**: -3.70156)"
   ]
  },
  {
   "cell_type": "code",
   "execution_count": 6,
   "metadata": {},
   "outputs": [
    {
     "data": {
      "text/plain": [
       "-3.7015615921117098"
      ]
     },
     "execution_count": 6,
     "metadata": {},
     "output_type": "execute_result"
    }
   ],
   "source": [
    "rho.inner(H).real"
   ]
  },
  {
   "cell_type": "markdown",
   "metadata": {},
   "source": [
    "**Comment**: the Hamiltonian invloves 12 Majorana oeprators. If all the even fermion parity operators are to be considered, the operator space dimension would be $2^{12-1}=2048$ and the OPE tensor would be infeasible to construct. Using the Krylov space method, the operator space dimension can be reduce to of the order 10 and still solves the problem accurately."
   ]
  },
  {
   "cell_type": "markdown",
   "metadata": {},
   "source": [
    "Timing"
   ]
  },
  {
   "cell_type": "code",
   "execution_count": 7,
   "metadata": {},
   "outputs": [
    {
     "name": "stdout",
     "output_type": "stream",
     "text": [
      "355 ms ± 1.13 ms per loop (mean ± std. dev. of 7 runs, 1 loop each)\n"
     ]
    }
   ],
   "source": [
    "%timeit H.krylov(11)"
   ]
  },
  {
   "cell_type": "code",
   "execution_count": 8,
   "metadata": {},
   "outputs": [
    {
     "name": "stdout",
     "output_type": "stream",
     "text": [
      " "
     ]
    },
    {
     "data": {
      "text/plain": [
       "         2261121 function calls (2261120 primitive calls) in 0.653 seconds\n",
       "\n",
       "   Ordered by: internal time\n",
       "\n",
       "   ncalls  tottime  percall  cumtime  percall filename:lineno(function)\n",
       "   106942    0.206    0.000    0.244    0.000 qboot.py:465(term_mul)\n",
       "   106942    0.096    0.000    0.291    0.000 qboot.py:179(__iadd__)\n",
       "       12    0.085    0.007    0.637    0.053 qboot.py:227(__matmul__)\n",
       "   106976    0.057    0.000    0.152    0.000 qboot.py:326(norm)\n",
       "   227957    0.036    0.000    0.047    0.000 qboot.py:328(<genexpr>)\n",
       "   106976    0.031    0.000    0.078    0.000 {built-in method builtins.sum}\n",
       "   106965    0.028    0.000    0.179    0.000 qboot.py:92(__eq__)\n",
       "   237105    0.023    0.000    0.023    0.000 {built-in method builtins.abs}\n",
       "   402706    0.020    0.000    0.020    0.000 {method 'append' of 'list' objects}\n",
       "   413252    0.018    0.000    0.018    0.000 {built-in method builtins.len}\n",
       "   107024    0.017    0.000    0.017    0.000 qboot.py:25(__init__)\n",
       "   106976    0.011    0.000    0.011    0.000 {built-in method math.sqrt}\n",
       "   106976    0.007    0.000    0.007    0.000 {method 'values' of 'dict' objects}\n",
       "   107001    0.007    0.000    0.007    0.000 {built-in method builtins.isinstance}\n",
       "       23    0.004    0.000    0.007    0.000 qboot.py:148(__add__)\n",
       "       23    0.003    0.000    0.003    0.000 qboot.py:297(inner)\n",
       "     7800    0.001    0.000    0.001    0.000 {method 'pop' of 'dict' objects}\n",
       "       23    0.001    0.000    0.001    0.000 qboot.py:111(<dictcomp>)\n",
       "       23    0.001    0.000    0.001    0.000 qboot.py:146(<dictcomp>)\n",
       "       11    0.001    0.000    0.001    0.000 qboot.py:136(__itruediv__)\n",
       "        1    0.001    0.001    0.653    0.653 qboot.py:368(krylov)\n",
       "     9177    0.000    0.000    0.000    0.000 {method 'conjugate' of 'complex' objects}\n",
       "       23    0.000    0.000    0.000    0.000 {method 'copy' of 'dict' objects}\n",
       "        1    0.000    0.000    0.653    0.653 <string>:1(<module>)\n",
       "       23    0.000    0.000    0.008    0.000 qboot.py:199(__sub__)\n",
       "       23    0.000    0.000    0.001    0.000 qboot.py:103(__mul__)\n",
       "        1    0.000    0.000    0.653    0.653 {built-in method builtins.exec}\n",
       "       23    0.000    0.000    0.001    0.000 qboot.py:144(__neg__)\n",
       "      5/4    0.000    0.000    0.000    0.000 {built-in method numpy.core._multiarray_umath.implement_array_function}\n",
       "        1    0.000    0.000    0.000    0.000 {built-in method numpy.asarray}\n",
       "        3    0.000    0.000    0.000    0.000 twodim_base.py:234(diag)\n",
       "       15    0.000    0.000    0.000    0.000 {built-in method numpy.asanyarray}\n",
       "       23    0.000    0.000    0.001    0.000 qboot.py:113(__rmul__)\n",
       "       12    0.000    0.000    0.000    0.000 qboot.py:419(zero)\n",
       "        1    0.000    0.000    0.000    0.000 shape_base.py:357(stack)\n",
       "        5    0.000    0.000    0.000    0.000 {built-in method numpy.zeros}\n",
       "        1    0.000    0.000    0.000    0.000 qboot.py:432(unit)\n",
       "        1    0.000    0.000    0.000    0.000 {method 'conjugate' of 'numpy.ndarray' objects}\n",
       "        3    0.000    0.000    0.000    0.000 <__array_function__ internals>:2(diag)\n",
       "       46    0.000    0.000    0.000    0.000 {method 'items' of 'dict' objects}\n",
       "        1    0.000    0.000    0.000    0.000 qboot.py:912(__new__)\n",
       "        1    0.000    0.000    0.000    0.000 shape_base.py:432(<listcomp>)\n",
       "        1    0.000    0.000    0.000    0.000 twodim_base.py:161(eye)\n",
       "        1    0.000    0.000    0.000    0.000 {method 'disable' of '_lsprof.Profiler' objects}\n",
       "        1    0.000    0.000    0.000    0.000 shape_base.py:424(<setcomp>)\n",
       "        1    0.000    0.000    0.000    0.000 shape_base.py:420(<listcomp>)\n",
       "        1    0.000    0.000    0.000    0.000 <__array_function__ internals>:2(concatenate)\n",
       "        1    0.000    0.000    0.000    0.000 <__array_function__ internals>:2(stack)\n",
       "        1    0.000    0.000    0.000    0.000 shape_base.py:207(_arrays_for_stack_dispatcher)\n",
       "        1    0.000    0.000    0.000    0.000 {method 'view' of 'numpy.ndarray' objects}\n",
       "        1    0.000    0.000    0.000    0.000 shape_base.py:348(_stack_dispatcher)\n",
       "        2    0.000    0.000    0.000    0.000 {method 'conjugate' of 'int' objects}\n",
       "        1    0.000    0.000    0.000    0.000 qboot.py:925(squeeze)\n",
       "        1    0.000    0.000    0.000    0.000 {built-in method builtins.hasattr}\n",
       "        1    0.000    0.000    0.000    0.000 {built-in method numpy.core._multiarray_umath.normalize_axis_index}\n",
       "        3    0.000    0.000    0.000    0.000 twodim_base.py:230(_diag_dispatcher)\n",
       "        1    0.000    0.000    0.000    0.000 multiarray.py:148(concatenate)"
      ]
     },
     "metadata": {},
     "output_type": "display_data"
    }
   ],
   "source": [
    "%prun H.krylov(11)"
   ]
  },
  {
   "cell_type": "code",
   "execution_count": null,
   "metadata": {},
   "outputs": [],
   "source": []
  }
 ],
 "metadata": {
  "kernelspec": {
   "display_name": "Python 3 (ipykernel)",
   "language": "python",
   "name": "python3"
  },
  "language_info": {
   "codemirror_mode": {
    "name": "ipython",
    "version": 3
   },
   "file_extension": ".py",
   "mimetype": "text/x-python",
   "name": "python",
   "nbconvert_exporter": "python",
   "pygments_lexer": "ipython3",
   "version": "3.9.12"
  }
 },
 "nbformat": 4,
 "nbformat_minor": 4
}
