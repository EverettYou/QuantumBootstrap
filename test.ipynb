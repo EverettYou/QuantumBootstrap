{
 "cells": [
  {
   "cell_type": "code",
   "execution_count": 3,
   "metadata": {},
   "outputs": [
    {
     "data": {
      "text/plain": [
       "'CPython'"
      ]
     },
     "execution_count": 3,
     "metadata": {},
     "output_type": "execute_result"
    }
   ],
   "source": [
    "import platform\n",
    "platform.python_implementation()"
   ]
  },
  {
   "cell_type": "code",
   "execution_count": 190,
   "metadata": {},
   "outputs": [],
   "source": [
    "%run 'qboot.py'"
   ]
  },
  {
   "cell_type": "markdown",
   "metadata": {
    "tags": []
   },
   "source": [
    "### Numba Test"
   ]
  },
  {
   "cell_type": "code",
   "execution_count": 191,
   "metadata": {},
   "outputs": [
    {
     "data": {
      "text/plain": [
       "2i Y0"
      ]
     },
     "execution_count": 191,
     "metadata": {},
     "output_type": "execute_result"
    }
   ],
   "source": [
    "pauli(3).commutate(pauli(1))"
   ]
  },
  {
   "cell_type": "code",
   "execution_count": 192,
   "metadata": {},
   "outputs": [
    {
     "data": {
      "text/plain": [
       "χ0 χ1"
      ]
     },
     "execution_count": 192,
     "metadata": {},
     "output_type": "execute_result"
    }
   ],
   "source": [
    "maj(0) @ maj(1)"
   ]
  },
  {
   "cell_type": "code",
   "execution_count": 188,
   "metadata": {},
   "outputs": [],
   "source": [
    "from numba import njit\n",
    "from numba.typed import List\n",
    "class A:\n",
    "    def do(self):\n",
    "        return self.term_mul(List(((0,1),)),List(((0,2),)))\n",
    "    \n",
    "    @staticmethod\n",
    "    @njit\n",
    "    def term_mul(term1, term2):\n",
    "        ''' redefine term-level multiplication rule '''\n",
    "        if len(term1) == 0: # term1 is identity operator\n",
    "            return term2, 1\n",
    "        if len(term2) == 0: # term2 is identity operator\n",
    "            return term1, 1\n",
    "        n1 = len(term1) # length of term1\n",
    "        n2 = len(term2) # length of term2\n",
    "        i1 = 0 # term1 pointer\n",
    "        i2 = 0 # term2 pointer\n",
    "        term = [(0,0)][:0] # to collect indices in the resulting term\n",
    "        phase = 1 # to track the phase factor\n",
    "        pauli_rule = [0,1,2,3,1,0,3,2,2,3,0,1,3,2,1,0]\n",
    "        phase_rule = [1,1,1,1,1,1,1j,-1j,1,-1j,1,1j,1,1j,-1j,1]\n",
    "        while i1 < n1 and i2 < n2:\n",
    "            ind1, mu1 = term1[i1]\n",
    "            ind2, mu2 = term2[i2]\n",
    "            if ind1 == ind2: # indices collide\n",
    "                mu12 = 4 * mu1 + mu2\n",
    "                mu = pauli_rule[mu12]\n",
    "                # if mu == 0: identity operator ignored\n",
    "                if mu != 0:\n",
    "                    phase *= phase_rule[mu12]\n",
    "                    term.append((ind1, mu))\n",
    "                i1 += 1\n",
    "                i2 += 1\n",
    "            else:\n",
    "                if ind1 < ind2:\n",
    "                    term.append((ind1, mu1))\n",
    "                    i1 += 1\n",
    "                else: # ind1 > ind2\n",
    "                    term.append((ind2, mu2))\n",
    "                    i2 += 1\n",
    "        for i in range(i1, n1): # if term1 not exhausted\n",
    "            term.append(term1[i]) # dump the rest\n",
    "        for i in range(i2, n2): # if term2 not exhausted\n",
    "            term.append(term2[i]) # dump the rest\n",
    "        return term, phase"
   ]
  },
  {
   "cell_type": "code",
   "execution_count": 189,
   "metadata": {},
   "outputs": [
    {
     "ename": "TypingError",
     "evalue": "Failed in nopython mode pipeline (step: nopython frontend)\n\u001b[1mCan't unify return type from the following types: Tuple(ListType[UniTuple(int64 x 2)], Literal[int](1)), Tuple(list(UniTuple(int64 x 2))<iv=None>, complex128)\n\u001b[1mReturn of: IR name '$350return_value.3', type 'Tuple(list(UniTuple(int64 x 2))<iv=None>, complex128)', location: \u001b[1m\nFile \"../../../../../../var/folders/_g/zrwr7jps6q75r7vyx6kg_ms40000gn/T/ipykernel_34567/3322329341.py\", line 46:\u001b[0m\n\u001b[1m<source missing, REPL/exec in use?>\u001b[0m\u001b[0m\n\u001b[1mReturn of: IR name '$20return_value.3', type 'Tuple(ListType[UniTuple(int64 x 2)], Literal[int](1))', location: \u001b[1m\nFile \"../../../../../../var/folders/_g/zrwr7jps6q75r7vyx6kg_ms40000gn/T/ipykernel_34567/3322329341.py\", line 12:\u001b[0m\n\u001b[1m<source missing, REPL/exec in use?>\u001b[0m\u001b[0m\u001b[0m",
     "output_type": "error",
     "traceback": [
      "\u001b[0;31m---------------------------------------------------------------------------\u001b[0m",
      "\u001b[0;31mTypingError\u001b[0m                               Traceback (most recent call last)",
      "Input \u001b[0;32mIn [189]\u001b[0m, in \u001b[0;36m<cell line: 2>\u001b[0;34m()\u001b[0m\n\u001b[1;32m      1\u001b[0m a\u001b[38;5;241m=\u001b[39mA()\n\u001b[0;32m----> 2\u001b[0m \u001b[43ma\u001b[49m\u001b[38;5;241;43m.\u001b[39;49m\u001b[43mdo\u001b[49m\u001b[43m(\u001b[49m\u001b[43m)\u001b[49m\n",
      "Input \u001b[0;32mIn [188]\u001b[0m, in \u001b[0;36mA.do\u001b[0;34m(self)\u001b[0m\n\u001b[1;32m      4\u001b[0m \u001b[38;5;28;01mdef\u001b[39;00m \u001b[38;5;21mdo\u001b[39m(\u001b[38;5;28mself\u001b[39m):\n\u001b[0;32m----> 5\u001b[0m     \u001b[38;5;28;01mreturn\u001b[39;00m \u001b[38;5;28;43mself\u001b[39;49m\u001b[38;5;241;43m.\u001b[39;49m\u001b[43mterm_mul\u001b[49m\u001b[43m(\u001b[49m\u001b[43mList\u001b[49m\u001b[43m(\u001b[49m\u001b[43m(\u001b[49m\u001b[43m(\u001b[49m\u001b[38;5;241;43m0\u001b[39;49m\u001b[43m,\u001b[49m\u001b[38;5;241;43m1\u001b[39;49m\u001b[43m)\u001b[49m\u001b[43m,\u001b[49m\u001b[43m)\u001b[49m\u001b[43m)\u001b[49m\u001b[43m,\u001b[49m\u001b[43mList\u001b[49m\u001b[43m(\u001b[49m\u001b[43m(\u001b[49m\u001b[43m(\u001b[49m\u001b[38;5;241;43m0\u001b[39;49m\u001b[43m,\u001b[49m\u001b[38;5;241;43m2\u001b[39;49m\u001b[43m)\u001b[49m\u001b[43m,\u001b[49m\u001b[43m)\u001b[49m\u001b[43m)\u001b[49m\u001b[43m)\u001b[49m\n",
      "File \u001b[0;32m~/opt/anaconda3/lib/python3.9/site-packages/numba/core/dispatcher.py:468\u001b[0m, in \u001b[0;36m_DispatcherBase._compile_for_args\u001b[0;34m(self, *args, **kws)\u001b[0m\n\u001b[1;32m    464\u001b[0m         msg \u001b[38;5;241m=\u001b[39m (\u001b[38;5;124mf\u001b[39m\u001b[38;5;124m\"\u001b[39m\u001b[38;5;132;01m{\u001b[39;00m\u001b[38;5;28mstr\u001b[39m(e)\u001b[38;5;241m.\u001b[39mrstrip()\u001b[38;5;132;01m}\u001b[39;00m\u001b[38;5;124m \u001b[39m\u001b[38;5;130;01m\\n\u001b[39;00m\u001b[38;5;130;01m\\n\u001b[39;00m\u001b[38;5;124mThis error may have been caused \u001b[39m\u001b[38;5;124m\"\u001b[39m\n\u001b[1;32m    465\u001b[0m                \u001b[38;5;124mf\u001b[39m\u001b[38;5;124m\"\u001b[39m\u001b[38;5;124mby the following argument(s):\u001b[39m\u001b[38;5;130;01m\\n\u001b[39;00m\u001b[38;5;132;01m{\u001b[39;00margs_str\u001b[38;5;132;01m}\u001b[39;00m\u001b[38;5;130;01m\\n\u001b[39;00m\u001b[38;5;124m\"\u001b[39m)\n\u001b[1;32m    466\u001b[0m         e\u001b[38;5;241m.\u001b[39mpatch_message(msg)\n\u001b[0;32m--> 468\u001b[0m     \u001b[43merror_rewrite\u001b[49m\u001b[43m(\u001b[49m\u001b[43me\u001b[49m\u001b[43m,\u001b[49m\u001b[43m \u001b[49m\u001b[38;5;124;43m'\u001b[39;49m\u001b[38;5;124;43mtyping\u001b[39;49m\u001b[38;5;124;43m'\u001b[39;49m\u001b[43m)\u001b[49m\n\u001b[1;32m    469\u001b[0m \u001b[38;5;28;01mexcept\u001b[39;00m errors\u001b[38;5;241m.\u001b[39mUnsupportedError \u001b[38;5;28;01mas\u001b[39;00m e:\n\u001b[1;32m    470\u001b[0m     \u001b[38;5;66;03m# Something unsupported is present in the user code, add help info\u001b[39;00m\n\u001b[1;32m    471\u001b[0m     error_rewrite(e, \u001b[38;5;124m'\u001b[39m\u001b[38;5;124munsupported_error\u001b[39m\u001b[38;5;124m'\u001b[39m)\n",
      "File \u001b[0;32m~/opt/anaconda3/lib/python3.9/site-packages/numba/core/dispatcher.py:409\u001b[0m, in \u001b[0;36m_DispatcherBase._compile_for_args.<locals>.error_rewrite\u001b[0;34m(e, issue_type)\u001b[0m\n\u001b[1;32m    407\u001b[0m     \u001b[38;5;28;01mraise\u001b[39;00m e\n\u001b[1;32m    408\u001b[0m \u001b[38;5;28;01melse\u001b[39;00m:\n\u001b[0;32m--> 409\u001b[0m     \u001b[38;5;28;01mraise\u001b[39;00m e\u001b[38;5;241m.\u001b[39mwith_traceback(\u001b[38;5;28;01mNone\u001b[39;00m)\n",
      "\u001b[0;31mTypingError\u001b[0m: Failed in nopython mode pipeline (step: nopython frontend)\n\u001b[1mCan't unify return type from the following types: Tuple(ListType[UniTuple(int64 x 2)], Literal[int](1)), Tuple(list(UniTuple(int64 x 2))<iv=None>, complex128)\n\u001b[1mReturn of: IR name '$350return_value.3', type 'Tuple(list(UniTuple(int64 x 2))<iv=None>, complex128)', location: \u001b[1m\nFile \"../../../../../../var/folders/_g/zrwr7jps6q75r7vyx6kg_ms40000gn/T/ipykernel_34567/3322329341.py\", line 46:\u001b[0m\n\u001b[1m<source missing, REPL/exec in use?>\u001b[0m\u001b[0m\n\u001b[1mReturn of: IR name '$20return_value.3', type 'Tuple(ListType[UniTuple(int64 x 2)], Literal[int](1))', location: \u001b[1m\nFile \"../../../../../../var/folders/_g/zrwr7jps6q75r7vyx6kg_ms40000gn/T/ipykernel_34567/3322329341.py\", line 12:\u001b[0m\n\u001b[1m<source missing, REPL/exec in use?>\u001b[0m\u001b[0m\u001b[0m"
     ]
    }
   ],
   "source": [
    "a=A()\n",
    "a.do()"
   ]
  },
  {
   "cell_type": "code",
   "execution_count": 54,
   "metadata": {},
   "outputs": [
    {
     "data": {
      "text/plain": [
       "([0, 1], 1)"
      ]
     },
     "execution_count": 54,
     "metadata": {},
     "output_type": "execute_result"
    }
   ],
   "source": [
    "A.term_mul((0,),(1,))"
   ]
  },
  {
   "cell_type": "code",
   "execution_count": 94,
   "metadata": {},
   "outputs": [],
   "source": [
    "@njit\n",
    "def empty():\n",
    "    return (), 1"
   ]
  },
  {
   "cell_type": "code",
   "execution_count": 161,
   "metadata": {},
   "outputs": [
    {
     "data": {
      "text/plain": [
       "(1, 2)"
      ]
     },
     "execution_count": 161,
     "metadata": {},
     "output_type": "execute_result"
    }
   ],
   "source": [
    "a,b = numpy.array([1,2])\n",
    "(a,b)"
   ]
  },
  {
   "cell_type": "code",
   "execution_count": 185,
   "metadata": {},
   "outputs": [
    {
     "data": {
      "text/plain": [
       "ListType[int64]([1, 1, ...])"
      ]
     },
     "execution_count": 185,
     "metadata": {},
     "output_type": "execute_result"
    }
   ],
   "source": [
    "from numba.typed import List\n",
    "List((1,1))"
   ]
  },
  {
   "cell_type": "markdown",
   "metadata": {},
   "source": [
    "### Quantum Bootstrap"
   ]
  },
  {
   "cell_type": "markdown",
   "metadata": {},
   "source": [
    "Define fermion creation/annihilation/number operators."
   ]
  },
  {
   "cell_type": "code",
   "execution_count": 154,
   "metadata": {},
   "outputs": [],
   "source": [
    "def c(i,s):\n",
    "    return (maj(4*i+2*s) + 1j * maj(4*i+2*s+1))/2\n",
    "def cd(i,s):\n",
    "    return (maj(4*i+2*s) - 1j * maj(4*i+2*s+1))/2\n",
    "def n(i,s):\n",
    "    return cd(i,s) @ c(i,s)"
   ]
  },
  {
   "cell_type": "markdown",
   "metadata": {},
   "source": [
    "Construct 1D Hubbard model Hamiltonian."
   ]
  },
  {
   "cell_type": "code",
   "execution_count": 157,
   "metadata": {},
   "outputs": [
    {
     "ename": "ValueError",
     "evalue": "cannot compute fingerprint of empty list",
     "output_type": "error",
     "traceback": [
      "\u001b[0;31m---------------------------------------------------------------------------\u001b[0m",
      "\u001b[0;31mValueError\u001b[0m                                Traceback (most recent call last)",
      "Input \u001b[0;32mIn [157]\u001b[0m, in \u001b[0;36m<cell line: 3>\u001b[0;34m()\u001b[0m\n\u001b[1;32m      1\u001b[0m L \u001b[38;5;241m=\u001b[39m \u001b[38;5;241m3\u001b[39m\n\u001b[1;32m      2\u001b[0m t, U \u001b[38;5;241m=\u001b[39m \u001b[38;5;241m1.\u001b[39m, \u001b[38;5;241m1.\u001b[39m\n\u001b[1;32m      3\u001b[0m H \u001b[38;5;241m=\u001b[39m \u001b[38;5;241m-\u001b[39m t \u001b[38;5;241m*\u001b[39m \u001b[38;5;28msum\u001b[39m(\u001b[38;5;28msum\u001b[39m(cd(i,s) \u001b[38;5;241m@\u001b[39m c((i\u001b[38;5;241m+\u001b[39m\u001b[38;5;241m1\u001b[39m)\u001b[38;5;241m%\u001b[39mL,s)\u001b[38;5;241m+\u001b[39mcd((i\u001b[38;5;241m+\u001b[39m\u001b[38;5;241m1\u001b[39m)\u001b[38;5;241m%\u001b[39mL,s) \u001b[38;5;241m@\u001b[39m c(i,s) \u001b[38;5;28;01mfor\u001b[39;00m s \u001b[38;5;129;01min\u001b[39;00m [\u001b[38;5;241m0\u001b[39m,\u001b[38;5;241m1\u001b[39m]) \u001b[38;5;28;01mfor\u001b[39;00m i \u001b[38;5;129;01min\u001b[39;00m \u001b[38;5;28mrange\u001b[39m(L)) \\\n\u001b[0;32m----> 4\u001b[0m     \u001b[38;5;241m+\u001b[39m U \u001b[38;5;241m*\u001b[39m \u001b[38;5;28;43msum\u001b[39;49m\u001b[43m(\u001b[49m\u001b[43mn\u001b[49m\u001b[43m(\u001b[49m\u001b[43mi\u001b[49m\u001b[43m,\u001b[49m\u001b[38;5;241;43m0\u001b[39;49m\u001b[43m)\u001b[49m\u001b[43m \u001b[49m\u001b[38;5;241;43m@\u001b[39;49m\u001b[43m \u001b[49m\u001b[43mn\u001b[49m\u001b[43m(\u001b[49m\u001b[43mi\u001b[49m\u001b[43m,\u001b[49m\u001b[38;5;241;43m1\u001b[39;49m\u001b[43m)\u001b[49m\u001b[43m \u001b[49m\u001b[38;5;28;43;01mfor\u001b[39;49;00m\u001b[43m \u001b[49m\u001b[43mi\u001b[49m\u001b[43m \u001b[49m\u001b[38;5;129;43;01min\u001b[39;49;00m\u001b[43m \u001b[49m\u001b[38;5;28;43mrange\u001b[39;49m\u001b[43m(\u001b[49m\u001b[43mL\u001b[49m\u001b[43m)\u001b[49m\u001b[43m)\u001b[49m\n\u001b[1;32m      5\u001b[0m H\n",
      "Input \u001b[0;32mIn [157]\u001b[0m, in \u001b[0;36m<genexpr>\u001b[0;34m(.0)\u001b[0m\n\u001b[1;32m      1\u001b[0m L \u001b[38;5;241m=\u001b[39m \u001b[38;5;241m3\u001b[39m\n\u001b[1;32m      2\u001b[0m t, U \u001b[38;5;241m=\u001b[39m \u001b[38;5;241m1.\u001b[39m, \u001b[38;5;241m1.\u001b[39m\n\u001b[1;32m      3\u001b[0m H \u001b[38;5;241m=\u001b[39m \u001b[38;5;241m-\u001b[39m t \u001b[38;5;241m*\u001b[39m \u001b[38;5;28msum\u001b[39m(\u001b[38;5;28msum\u001b[39m(cd(i,s) \u001b[38;5;241m@\u001b[39m c((i\u001b[38;5;241m+\u001b[39m\u001b[38;5;241m1\u001b[39m)\u001b[38;5;241m%\u001b[39mL,s)\u001b[38;5;241m+\u001b[39mcd((i\u001b[38;5;241m+\u001b[39m\u001b[38;5;241m1\u001b[39m)\u001b[38;5;241m%\u001b[39mL,s) \u001b[38;5;241m@\u001b[39m c(i,s) \u001b[38;5;28;01mfor\u001b[39;00m s \u001b[38;5;129;01min\u001b[39;00m [\u001b[38;5;241m0\u001b[39m,\u001b[38;5;241m1\u001b[39m]) \u001b[38;5;28;01mfor\u001b[39;00m i \u001b[38;5;129;01min\u001b[39;00m \u001b[38;5;28mrange\u001b[39m(L)) \\\n\u001b[0;32m----> 4\u001b[0m     \u001b[38;5;241m+\u001b[39m U \u001b[38;5;241m*\u001b[39m \u001b[38;5;28msum\u001b[39m(\u001b[43mn\u001b[49m\u001b[43m(\u001b[49m\u001b[43mi\u001b[49m\u001b[43m,\u001b[49m\u001b[38;5;241;43m0\u001b[39;49m\u001b[43m)\u001b[49m\u001b[43m \u001b[49m\u001b[38;5;241;43m@\u001b[39;49m\u001b[43m \u001b[49m\u001b[43mn\u001b[49m\u001b[43m(\u001b[49m\u001b[43mi\u001b[49m\u001b[43m,\u001b[49m\u001b[38;5;241;43m1\u001b[39;49m\u001b[43m)\u001b[49m \u001b[38;5;28;01mfor\u001b[39;00m i \u001b[38;5;129;01min\u001b[39;00m \u001b[38;5;28mrange\u001b[39m(L))\n\u001b[1;32m      5\u001b[0m H\n",
      "File \u001b[0;32m~/Dropbox (Personal)/Projects/[You]Bootstrap/QuantumBootstrap/qboot.py:462\u001b[0m, in \u001b[0;36mMajoranaOperator.__matmul__\u001b[0;34m(self, other)\u001b[0m\n\u001b[1;32m    460\u001b[0m \u001b[38;5;28;01mfor\u001b[39;00m term_self \u001b[38;5;129;01min\u001b[39;00m \u001b[38;5;28mself\u001b[39m\u001b[38;5;241m.\u001b[39mterms:\n\u001b[1;32m    461\u001b[0m     \u001b[38;5;28;01mfor\u001b[39;00m term_other \u001b[38;5;129;01min\u001b[39;00m other\u001b[38;5;241m.\u001b[39mterms:\n\u001b[0;32m--> 462\u001b[0m         term, coef \u001b[38;5;241m=\u001b[39m \u001b[43mmaj_term_mul\u001b[49m\u001b[43m(\u001b[49m\u001b[38;5;28;43mlist\u001b[39;49m\u001b[43m(\u001b[49m\u001b[43mterm_self\u001b[49m\u001b[43m)\u001b[49m\u001b[43m,\u001b[49m\u001b[43m \u001b[49m\u001b[38;5;28;43mlist\u001b[39;49m\u001b[43m(\u001b[49m\u001b[43mterm_other\u001b[49m\u001b[43m)\u001b[49m\u001b[43m)\u001b[49m\n\u001b[1;32m    463\u001b[0m         coef \u001b[38;5;241m*\u001b[39m\u001b[38;5;241m=\u001b[39m \u001b[38;5;28mself\u001b[39m\u001b[38;5;241m.\u001b[39mterms[term_self] \u001b[38;5;241m*\u001b[39m other\u001b[38;5;241m.\u001b[39mterms[term_other]\n\u001b[1;32m    464\u001b[0m         result \u001b[38;5;241m+\u001b[39m\u001b[38;5;241m=\u001b[39m \u001b[38;5;28mtype\u001b[39m(\u001b[38;5;28mself\u001b[39m)({\u001b[38;5;28mtuple\u001b[39m(term):coef})\n",
      "\u001b[0;31mValueError\u001b[0m: cannot compute fingerprint of empty list"
     ]
    }
   ],
   "source": [
    "L = 3\n",
    "t, U = 1., 1.\n",
    "H = - t * sum(sum(cd(i,s) @ c((i+1)%L,s)+cd((i+1)%L,s) @ c(i,s) for s in [0,1]) for i in range(L)) \\\n",
    "    + U * sum(n(i,0) @ n(i,1) for i in range(L))\n",
    "H"
   ]
  },
  {
   "cell_type": "markdown",
   "metadata": {},
   "source": [
    "Perform quantum bootstrap."
   ]
  },
  {
   "cell_type": "code",
   "execution_count": 145,
   "metadata": {},
   "outputs": [
    {
     "name": "stdout",
     "output_type": "stream",
     "text": [
      "     len  weight\n",
      " 0:    1    0.0\n",
      " 1:   21    2.1\n",
      " 2:  144    4.1\n",
      " 3:  375    6.0\n",
      " 4:  519    7.8\n",
      " 5:  543    9.7\n",
      " 6:  543   11.0\n",
      " 7:  543    7.6\n",
      " 8:  543    6.9\n",
      " 9:  543    6.6\n",
      "10:  543    5.6\n",
      "11:  543    5.3\n",
      "Krylov space constructed.\n",
      "     pcost       dcost       gap    pres   dres   k/t\n",
      " 0: -5.3620e-02 -1.5356e+01  1e+01  2e-16  8e+00  1e+00\n",
      " 1: -3.7664e-01 -3.1636e+00  2e+00  2e-15  1e+00  2e-01\n",
      " 2: -1.4266e+00 -2.7157e+00  1e+00  1e-15  7e-01  1e-01\n",
      " 3: -2.5492e+00 -3.0958e+00  7e-01  4e-15  3e-01  5e-02\n",
      " 4: -2.8435e+00 -3.1361e+00  4e-01  2e-15  2e-01  3e-02\n",
      " 5: -2.9509e+00 -3.3954e+00  2e+00  2e-14  3e-01  9e-02\n",
      " 6: -4.1930e+00 -4.2441e+00  4e-01  2e-14  4e-02  3e-02\n",
      " 7: -4.4479e+00 -4.4486e+00  6e-03  7e-15  6e-04  5e-04\n",
      " 8: -4.4515e+00 -4.4515e+00  6e-05  1e-14  6e-06  5e-06\n",
      " 9: -4.4516e+00 -4.4516e+00  6e-07  1e-14  6e-08  5e-08\n",
      "Optimal solution found.\n"
     ]
    },
    {
     "data": {
      "text/plain": [
       "-0.661i χ1 χ4 +0.661i χ2 χ7 -0.661i χ3 χ6 +0.661i χ4 χ9 +0.661i χ6 χ11 -0.661i χ7 χ10 -0.661i χ1 χ8 -0.661i χ3 χ10 +0.661i χ2 χ11 -0.333i χ2 χ3 -0.333i χ6 χ7 -0.333i χ10 χ11 -0.333i χ8 χ9 -0.0208 χ8 χ9 χ10 χ11 +0.172i χ0 χ1 χ2 χ4 χ5 χ7 -0.172i χ0 χ1 χ3 χ4 χ5 χ6 +0.245i χ0 χ1 χ4 χ5 χ6 χ11 -0.245i χ0 χ1 χ4 χ5 χ7 χ10 -0.245i χ0 χ1 χ3 χ4 χ5 χ10 +0.245i χ0 χ1 χ2 χ4 χ5 χ11 -0.156i χ0 χ1 χ2 χ3 χ4 χ5 -0.156i χ0 χ1 χ4 χ5 χ6 χ7 -0.021i χ0 χ1 χ4 χ5 χ10 χ11 -1i χ0 χ1 χ4 χ5 χ8 χ9 -0.333 χ0 χ1 χ4 χ5 χ8 χ9 χ10 χ11 +0.172i χ0 χ2 χ3 χ5 χ6 χ7 +0.453i χ0 χ2 χ4 χ5 χ7 χ9 -0.453i χ0 χ2 χ5 χ6 χ7 χ11 +0.453i χ0 χ1 χ2 χ5 χ7 χ8 -0.453i χ0 χ2 χ3 χ5 χ7 χ10 -0.422i χ0 χ2 χ5 χ7 χ10 χ11 -0.422i χ0 χ2 χ5 χ7 χ8 χ9 -0.422 χ0 χ2 χ5 χ7 χ8 χ9 χ10 χ11 ..."
      ]
     },
     "execution_count": 145,
     "metadata": {},
     "output_type": "execute_result"
    }
   ],
   "source": [
    "rho = qboot(H, n=11, show_progress=True)\n",
    "rho"
   ]
  },
  {
   "cell_type": "markdown",
   "metadata": {},
   "source": [
    "Evaluate energy expectation value (Ground truth: -3.70156)"
   ]
  },
  {
   "cell_type": "code",
   "execution_count": 146,
   "metadata": {},
   "outputs": [
    {
     "data": {
      "text/plain": [
       "-3.7015615921117098"
      ]
     },
     "execution_count": 146,
     "metadata": {},
     "output_type": "execute_result"
    }
   ],
   "source": [
    "rho.inner(H).real"
   ]
  },
  {
   "cell_type": "markdown",
   "metadata": {},
   "source": [
    "Timing"
   ]
  },
  {
   "cell_type": "code",
   "execution_count": 147,
   "metadata": {},
   "outputs": [
    {
     "name": "stdout",
     "output_type": "stream",
     "text": [
      "252 ms ± 953 µs per loop (mean ± std. dev. of 7 runs, 1 loop each)\n"
     ]
    }
   ],
   "source": [
    "%timeit H.krylov(11)"
   ]
  },
  {
   "cell_type": "code",
   "execution_count": 148,
   "metadata": {},
   "outputs": [
    {
     "name": "stdout",
     "output_type": "stream",
     "text": [
      " "
     ]
    },
    {
     "data": {
      "text/plain": [
       "         571286 function calls (571285 primitive calls) in 0.476 seconds\n",
       "\n",
       "   Ordered by: internal time\n",
       "\n",
       "   ncalls  tottime  percall  cumtime  percall filename:lineno(function)\n",
       "       12    0.283    0.024    0.463    0.039 qboot.py:455(__matmul__)\n",
       "   106942    0.076    0.000    0.090    0.000 qboot.py:179(__iadd__)\n",
       "   106942    0.075    0.000    0.075    0.000 qboot.py:547(maj_term_mul)\n",
       "   107024    0.016    0.000    0.016    0.000 qboot.py:25(__init__)\n",
       "   120984    0.009    0.000    0.009    0.000 {built-in method builtins.abs}\n",
       "   107001    0.005    0.000    0.005    0.000 {built-in method builtins.isinstance}\n",
       "       23    0.004    0.000    0.004    0.000 qboot.py:148(__add__)\n",
       "       23    0.003    0.000    0.004    0.000 qboot.py:287(inner)\n",
       "     7800    0.001    0.000    0.001    0.000 {method 'pop' of 'dict' objects}\n",
       "       23    0.001    0.000    0.001    0.000 qboot.py:111(<dictcomp>)\n",
       "     4871    0.001    0.000    0.001    0.000 qboot.py:318(<genexpr>)\n",
       "       23    0.001    0.000    0.001    0.000 qboot.py:146(<dictcomp>)\n",
       "       11    0.001    0.000    0.001    0.000 qboot.py:136(__itruediv__)\n",
       "        1    0.001    0.001    0.476    0.476 qboot.py:358(krylov)\n",
       "     9177    0.000    0.000    0.000    0.000 {method 'conjugate' of 'complex' objects}\n",
       "       11    0.000    0.000    0.002    0.000 {built-in method builtins.sum}\n",
       "        1    0.000    0.000    0.476    0.476 <string>:1(<module>)\n",
       "       23    0.000    0.000    0.000    0.000 {method 'copy' of 'dict' objects}\n",
       "       23    0.000    0.000    0.005    0.000 qboot.py:199(__sub__)\n",
       "       23    0.000    0.000    0.001    0.000 qboot.py:103(__mul__)\n",
       "       11    0.000    0.000    0.002    0.000 qboot.py:316(norm)\n",
       "        1    0.000    0.000    0.476    0.476 {built-in method builtins.exec}\n",
       "       23    0.000    0.000    0.001    0.000 qboot.py:144(__neg__)\n",
       "      5/4    0.000    0.000    0.000    0.000 {built-in method numpy.core._multiarray_umath.implement_array_function}\n",
       "        3    0.000    0.000    0.000    0.000 twodim_base.py:234(diag)\n",
       "       23    0.000    0.000    0.001    0.000 qboot.py:113(__rmul__)\n",
       "        1    0.000    0.000    0.000    0.000 {built-in method numpy.asarray}\n",
       "       15    0.000    0.000    0.000    0.000 {built-in method numpy.asanyarray}\n",
       "       11    0.000    0.000    0.000    0.000 {built-in method math.sqrt}\n",
       "       12    0.000    0.000    0.000    0.000 qboot.py:409(zero)\n",
       "      109    0.000    0.000    0.000    0.000 {built-in method builtins.len}\n",
       "        1    0.000    0.000    0.000    0.000 shape_base.py:357(stack)\n",
       "        5    0.000    0.000    0.000    0.000 {built-in method numpy.zeros}\n",
       "       46    0.000    0.000    0.000    0.000 {method 'append' of 'list' objects}\n",
       "        1    0.000    0.000    0.000    0.000 qboot.py:422(identity)\n",
       "        3    0.000    0.000    0.000    0.000 <__array_function__ internals>:2(diag)\n",
       "        1    0.000    0.000    0.000    0.000 {method 'conjugate' of 'numpy.ndarray' objects}\n",
       "       46    0.000    0.000    0.000    0.000 {method 'items' of 'dict' objects}\n",
       "        1    0.000    0.000    0.000    0.000 twodim_base.py:161(eye)\n",
       "        1    0.000    0.000    0.000    0.000 qboot.py:928(__new__)\n",
       "       11    0.000    0.000    0.000    0.000 {method 'values' of 'dict' objects}\n",
       "        1    0.000    0.000    0.000    0.000 shape_base.py:432(<listcomp>)\n",
       "        1    0.000    0.000    0.000    0.000 shape_base.py:420(<listcomp>)\n",
       "        1    0.000    0.000    0.000    0.000 shape_base.py:424(<setcomp>)\n",
       "        1    0.000    0.000    0.000    0.000 <__array_function__ internals>:2(concatenate)\n",
       "        1    0.000    0.000    0.000    0.000 <__array_function__ internals>:2(stack)\n",
       "        1    0.000    0.000    0.000    0.000 {method 'view' of 'numpy.ndarray' objects}\n",
       "        2    0.000    0.000    0.000    0.000 {method 'conjugate' of 'int' objects}\n",
       "        1    0.000    0.000    0.000    0.000 shape_base.py:207(_arrays_for_stack_dispatcher)\n",
       "        1    0.000    0.000    0.000    0.000 shape_base.py:348(_stack_dispatcher)\n",
       "        1    0.000    0.000    0.000    0.000 {method 'disable' of '_lsprof.Profiler' objects}\n",
       "        1    0.000    0.000    0.000    0.000 qboot.py:941(squeeze)\n",
       "        1    0.000    0.000    0.000    0.000 {built-in method builtins.hasattr}\n",
       "        1    0.000    0.000    0.000    0.000 {built-in method numpy.core._multiarray_umath.normalize_axis_index}\n",
       "        3    0.000    0.000    0.000    0.000 twodim_base.py:230(_diag_dispatcher)\n",
       "        1    0.000    0.000    0.000    0.000 multiarray.py:148(concatenate)"
      ]
     },
     "metadata": {},
     "output_type": "display_data"
    }
   ],
   "source": [
    "%prun H.krylov(11)"
   ]
  },
  {
   "cell_type": "code",
   "execution_count": null,
   "metadata": {},
   "outputs": [],
   "source": []
  }
 ],
 "metadata": {
  "kernelspec": {
   "display_name": "Python 3 (ipykernel)",
   "language": "python",
   "name": "python3"
  },
  "language_info": {
   "codemirror_mode": {
    "name": "ipython",
    "version": 3
   },
   "file_extension": ".py",
   "mimetype": "text/x-python",
   "name": "python",
   "nbconvert_exporter": "python",
   "pygments_lexer": "ipython3",
   "version": "3.9.12"
  }
 },
 "nbformat": 4,
 "nbformat_minor": 4
}
