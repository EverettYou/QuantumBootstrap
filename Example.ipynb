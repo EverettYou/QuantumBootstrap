{
 "cells": [
  {
   "cell_type": "code",
   "execution_count": 40,
   "metadata": {},
   "outputs": [],
   "source": [
    "%run qboot"
   ]
  },
  {
   "cell_type": "markdown",
   "metadata": {},
   "source": [
    "## Majorana Chain"
   ]
  },
  {
   "cell_type": "code",
   "execution_count": 41,
   "metadata": {},
   "outputs": [
    {
     "data": {
      "text/plain": [
       "i χ0 χ1 +i χ1 χ2 +i χ2 χ3 -i χ0 χ3"
      ]
     },
     "execution_count": 41,
     "metadata": {},
     "output_type": "execute_result"
    }
   ],
   "source": [
    "L = 4\n",
    "H = sum(1j*maj(i)@maj((i+1)%L) for i in range(L))\n",
    "H"
   ]
  },
  {
   "cell_type": "code",
   "execution_count": 42,
   "metadata": {},
   "outputs": [
    {
     "data": {
      "text/plain": [
       "OperatorSpace([I, χ0, χ1, χ2, χ3])"
      ]
     },
     "execution_count": 42,
     "metadata": {},
     "output_type": "execute_result"
    }
   ],
   "source": [
    "base = OperatorSpace([maj()]+[maj(i) for i in range(L)])\n",
    "base"
   ]
  },
  {
   "cell_type": "code",
   "execution_count": 43,
   "metadata": {},
   "outputs": [
    {
     "data": {
      "text/plain": [
       "OperatorSpace([[I, χ0, χ1, χ2, χ3],\n",
       "               [χ0, I, χ0 χ1, χ0 χ2, χ0 χ3],\n",
       "               [χ1, - χ0 χ1, I, χ1 χ2, χ1 χ3],\n",
       "               [χ2, - χ0 χ2, - χ1 χ2, I, χ2 χ3],\n",
       "               [χ3, - χ0 χ3, - χ1 χ3, - χ2 χ3, I]])"
      ]
     },
     "execution_count": 43,
     "metadata": {},
     "output_type": "execute_result"
    }
   ],
   "source": [
    "ope = base.ope()\n",
    "ope"
   ]
  },
  {
   "cell_type": "code",
   "execution_count": 44,
   "metadata": {},
   "outputs": [
    {
     "data": {
      "text/plain": [
       "OperatorSpace([I, χ0, χ1, χ2, χ3, i χ0 χ1, i χ0 χ2, i χ0 χ3, i χ1 χ2,\n",
       "               i χ1 χ3, i χ2 χ3])"
      ]
     },
     "execution_count": 44,
     "metadata": {},
     "output_type": "execute_result"
    }
   ],
   "source": [
    "full = base.extend(ope).hermitianize()\n",
    "full"
   ]
  },
  {
   "cell_type": "code",
   "execution_count": 45,
   "metadata": {},
   "outputs": [
    {
     "data": {
      "text/plain": [
       "Operators([0, 2 χ1 -2 χ3, -2 χ0 +2 χ2, -2 χ1 +2 χ3, 2 χ0 -2 χ2,\n",
       "           2i χ1 χ3 +2i χ0 χ2, 2i χ1 χ2 +2i χ2 χ3 +2i χ0 χ3 -2i χ0 χ1,\n",
       "           2i χ1 χ3 -2i χ0 χ2, -2i χ0 χ2 +2i χ1 χ3,\n",
       "           -2i χ0 χ3 -2i χ0 χ1 -2i χ1 χ2 +2i χ2 χ3, -2i χ1 χ3 -2i χ0 χ2])"
      ]
     },
     "execution_count": 45,
     "metadata": {},
     "output_type": "execute_result"
    }
   ],
   "source": [
    "eqs = full.adjoint(H)\n",
    "eqs"
   ]
  },
  {
   "cell_type": "code",
   "execution_count": 46,
   "metadata": {},
   "outputs": [
    {
     "data": {
      "text/plain": [
       "OperatorSpace([0.71i χ0 χ3 -0.71i χ1 χ2, -0.71 χ0 -0.71 χ2,\n",
       "               -0.71 χ1 -0.71 χ3, -0.71i χ0 χ1 -0.71i χ2 χ3])"
      ]
     },
     "execution_count": 46,
     "metadata": {},
     "output_type": "execute_result"
    }
   ],
   "source": [
    "null = full.solve(eqs.append(maj())).round(10)\n",
    "null"
   ]
  },
  {
   "cell_type": "code",
   "execution_count": 47,
   "metadata": {},
   "outputs": [],
   "source": [
    "b = null.represent(H)\n",
    "C = OperatorSpace([maj()]).represent(ope, axis=0)[0]\n",
    "As = null.represent(ope, axis=0)"
   ]
  },
  {
   "cell_type": "code",
   "execution_count": 48,
   "metadata": {},
   "outputs": [
    {
     "data": {
      "text/plain": [
       "(-1.999999999966929,\n",
       " array([ 7.07106781e-01, -3.38952795e-33, -8.47576470e-33,  7.07106781e-01]))"
      ]
     },
     "execution_count": 48,
     "metadata": {},
     "output_type": "execute_result"
    }
   ],
   "source": [
    "E, x = SDP(b, C, As)\n",
    "E, x"
   ]
  },
  {
   "cell_type": "code",
   "execution_count": 49,
   "metadata": {},
   "outputs": [
    {
     "data": {
      "text/plain": [
       "array([ 1.0000000e+00,  2.3967582e-33,  5.9932707e-33,  2.3967582e-33,\n",
       "        5.9932707e-33, -5.0000000e-01,  0.0000000e+00,  5.0000000e-01,\n",
       "       -5.0000000e-01,  0.0000000e+00, -5.0000000e-01])"
      ]
     },
     "execution_count": 49,
     "metadata": {},
     "output_type": "execute_result"
    }
   ],
   "source": [
    "full.represent(maj()) + x @ full.represent(null) "
   ]
  },
  {
   "cell_type": "markdown",
   "metadata": {},
   "source": [
    "## Single-Site Interaction"
   ]
  },
  {
   "cell_type": "markdown",
   "metadata": {},
   "source": [
    "Consider $H=-(c_1 c_2 c_3 c_4+\\text{h.c.})$, where\n",
    "$$c_a=\\frac{1}{2}(\\chi_{2a}+\\mathrm{i}\\chi_{2a+1})$$"
   ]
  },
  {
   "cell_type": "code",
   "execution_count": 1,
   "metadata": {},
   "outputs": [],
   "source": [
    "%run qboot"
   ]
  },
  {
   "cell_type": "code",
   "execution_count": 2,
   "metadata": {},
   "outputs": [],
   "source": [
    "def c(a):\n",
    "    return (maj(2*a) + 1j*maj(2*a+1))/2"
   ]
  },
  {
   "cell_type": "code",
   "execution_count": 3,
   "metadata": {},
   "outputs": [
    {
     "data": {
      "text/plain": [
       "-0.06 χ0 χ2 χ4 χ6 +0.06 χ0 χ2 χ5 χ7 +0.06 χ0 χ3 χ4 χ7 +0.06 χ0 χ3 χ5 χ6 +0.06 χ1 χ2 χ4 χ7 +0.06 χ1 χ2 χ5 χ6 +0.06 χ1 χ3 χ4 χ6 -0.06 χ1 χ3 χ5 χ7"
      ]
     },
     "execution_count": 3,
     "metadata": {},
     "output_type": "execute_result"
    }
   ],
   "source": [
    "H = -(c(0)@c(1)@c(2)@c(3)).real\n",
    "H"
   ]
  },
  {
   "cell_type": "code",
   "execution_count": 514,
   "metadata": {},
   "outputs": [
    {
     "data": {
      "text/plain": [
       "93"
      ]
     },
     "execution_count": 514,
     "metadata": {},
     "output_type": "execute_result"
    }
   ],
   "source": [
    "base = OperatorSpace([maj()]).extend(Operators(H.generators()),3)\n",
    "base = base.real - base.imag\n",
    "base.size"
   ]
  },
  {
   "cell_type": "code",
   "execution_count": 466,
   "metadata": {},
   "outputs": [
    {
     "data": {
      "text/plain": [
       "(93, 93)"
      ]
     },
     "execution_count": 466,
     "metadata": {},
     "output_type": "execute_result"
    }
   ],
   "source": [
    "ope = base.ope()\n",
    "ope.shape"
   ]
  },
  {
   "cell_type": "code",
   "execution_count": 469,
   "metadata": {},
   "outputs": [
    {
     "data": {
      "text/plain": [
       "247"
      ]
     },
     "execution_count": 469,
     "metadata": {},
     "output_type": "execute_result"
    }
   ],
   "source": [
    "full = OperatorSpace(ope.basis())\n",
    "full = full.real - full.imag\n",
    "full.size"
   ]
  },
  {
   "cell_type": "code",
   "execution_count": 470,
   "metadata": {},
   "outputs": [
    {
     "data": {
      "text/plain": [
       "1729"
      ]
     },
     "execution_count": 470,
     "metadata": {},
     "output_type": "execute_result"
    }
   ],
   "source": [
    "from itertools import combinations\n",
    "SU4 = [(c(a).H@c(b)).real for (a,b) in combinations(range(4),2)]\n",
    "eqs = numpy.concatenate([full.adjoint(g) for g in SU4]+[full.adjoint(H)])\n",
    "eqs = Operators(eqs)\n",
    "eqs.size"
   ]
  },
  {
   "cell_type": "code",
   "execution_count": 471,
   "metadata": {},
   "outputs": [
    {
     "data": {
      "text/plain": [
       "3"
      ]
     },
     "execution_count": 471,
     "metadata": {},
     "output_type": "execute_result"
    }
   ],
   "source": [
    "null = full.solve(eqs.append(maj())).round(10)\n",
    "null.size"
   ]
  },
  {
   "cell_type": "code",
   "execution_count": 472,
   "metadata": {},
   "outputs": [
    {
     "data": {
      "text/plain": [
       "((3,), (93, 93), (3, 93, 93))"
      ]
     },
     "execution_count": 472,
     "metadata": {},
     "output_type": "execute_result"
    }
   ],
   "source": [
    "b = null.represent(H)\n",
    "C = OperatorSpace([maj()]).represent(ope, axis=0)[0]\n",
    "As = null.represent(ope, axis=0)\n",
    "b.shape, C.shape, As.shape"
   ]
  },
  {
   "cell_type": "code",
   "execution_count": 473,
   "metadata": {},
   "outputs": [
    {
     "data": {
      "text/plain": [
       "(-0.49999999990523736, array([0.96346322, 3.23568875, 1.61308925]))"
      ]
     },
     "execution_count": 473,
     "metadata": {},
     "output_type": "execute_result"
    }
   ],
   "source": [
    "E, x = SDP(b, C, As)\n",
    "E, x"
   ]
  },
  {
   "cell_type": "markdown",
   "metadata": {},
   "source": [
    "The $x.A$ matrix has no null space. It seems not possible to further reduce the base space dimension."
   ]
  },
  {
   "cell_type": "code",
   "execution_count": 504,
   "metadata": {},
   "outputs": [
    {
     "data": {
      "text/plain": [
       "array([], shape=(93, 0), dtype=complex128)"
      ]
     },
     "execution_count": 504,
     "metadata": {},
     "output_type": "execute_result"
    }
   ],
   "source": [
    "rndx = numpy.random.randn(3)\n",
    "A = numpy.tensordot(rndx, As, axes=([0],[0]))\n",
    "scipy.linalg.null_space(A)"
   ]
  },
  {
   "cell_type": "code",
   "execution_count": 505,
   "metadata": {},
   "outputs": [],
   "source": [
    "import matplotlib.pyplot as plt"
   ]
  },
  {
   "cell_type": "code",
   "execution_count": 506,
   "metadata": {},
   "outputs": [
    {
     "data": {
      "text/plain": [
       "<matplotlib.image.AxesImage at 0x7ffa10f60d10>"
      ]
     },
     "execution_count": 506,
     "metadata": {},
     "output_type": "execute_result"
    },
    {
     "data": {
      "image/png": "[encoded data removed]",
      "text/plain": [
       "<Figure size 432x288 with 1 Axes>"
      ]
     },
     "metadata": {
      "needs_background": "light"
     },
     "output_type": "display_data"
    }
   ],
   "source": [
    "plt.imshow(A.real)"
   ]
  },
  {
   "cell_type": "code",
   "execution_count": 507,
   "metadata": {},
   "outputs": [
    {
     "data": {
      "text/plain": [
       "<matplotlib.image.AxesImage at 0x7ffa0f43c890>"
      ]
     },
     "execution_count": 507,
     "metadata": {},
     "output_type": "execute_result"
    },
    {
     "data": {
      "image/png": "[encoded data removed]",
      "text/plain": [
       "<Figure size 432x288 with 1 Axes>"
      ]
     },
     "metadata": {
      "needs_background": "light"
     },
     "output_type": "display_data"
    }
   ],
   "source": [
    "plt.imshow(A.imag)"
   ]
  },
  {
   "cell_type": "markdown",
   "metadata": {},
   "source": [
    "If base space is reduced, the result can be off."
   ]
  },
  {
   "cell_type": "code",
   "execution_count": 328,
   "metadata": {},
   "outputs": [
    {
     "data": {
      "text/plain": [
       "31"
      ]
     },
     "execution_count": 328,
     "metadata": {},
     "output_type": "execute_result"
    }
   ],
   "source": [
    "base = OperatorSpace([maj()]+list(H.generators())+list(null.basis()))\n",
    "base = base.hermitianize()\n",
    "base.size"
   ]
  },
  {
   "cell_type": "code",
   "execution_count": 329,
   "metadata": {},
   "outputs": [
    {
     "data": {
      "text/plain": [
       "(31, 31)"
      ]
     },
     "execution_count": 329,
     "metadata": {},
     "output_type": "execute_result"
    }
   ],
   "source": [
    "ope = base.ope()\n",
    "ope.shape"
   ]
  },
  {
   "cell_type": "code",
   "execution_count": 330,
   "metadata": {},
   "outputs": [
    {
     "data": {
      "text/plain": [
       "((3,), (31, 31), (3, 31, 31))"
      ]
     },
     "execution_count": 330,
     "metadata": {},
     "output_type": "execute_result"
    }
   ],
   "source": [
    "b = null.represent(H)\n",
    "C = OperatorSpace([maj()]).represent(ope, axis=0)[0]\n",
    "As = null.represent(ope, axis=0)\n",
    "b.shape, C.shape, As.shape"
   ]
  },
  {
   "cell_type": "code",
   "execution_count": 331,
   "metadata": {},
   "outputs": [
    {
     "data": {
      "text/plain": [
       "(-0.24999999755562052, array([-1.30719106, -0.69755212,  1.14222943]))"
      ]
     },
     "execution_count": 331,
     "metadata": {},
     "output_type": "execute_result"
    }
   ],
   "source": [
    "E, x = SDP(b, C, As)\n",
    "E, x"
   ]
  },
  {
   "cell_type": "markdown",
   "metadata": {},
   "source": [
    "Manually asign a set of base operators"
   ]
  },
  {
   "cell_type": "code",
   "execution_count": 34,
   "metadata": {},
   "outputs": [
    {
     "data": {
      "text/plain": [
       "31"
      ]
     },
     "execution_count": 34,
     "metadata": {},
     "output_type": "execute_result"
    }
   ],
   "source": [
    "from itertools import combinations\n",
    "ops = [maj()]\n",
    "for n in range(1,5):\n",
    "    for comb in combinations(range(4),n):\n",
    "        op = opprod([c(i) for i in comb])\n",
    "        ops.append(op.real)\n",
    "        ops.append(op.imag)\n",
    "base = OperatorSpace(ops).orth()\n",
    "base.size"
   ]
  },
  {
   "cell_type": "code",
   "execution_count": 35,
   "metadata": {},
   "outputs": [
    {
     "data": {
      "text/plain": [
       "(31, 31)"
      ]
     },
     "execution_count": 35,
     "metadata": {},
     "output_type": "execute_result"
    }
   ],
   "source": [
    "ope = base.ope()\n",
    "ope.shape"
   ]
  },
  {
   "cell_type": "code",
   "execution_count": 36,
   "metadata": {},
   "outputs": [
    {
     "data": {
      "text/plain": [
       "256"
      ]
     },
     "execution_count": 36,
     "metadata": {},
     "output_type": "execute_result"
    }
   ],
   "source": [
    "full = OperatorSpace(ope.basis())\n",
    "full = full.real - full.imag\n",
    "full.size"
   ]
  },
  {
   "cell_type": "code",
   "execution_count": 37,
   "metadata": {},
   "outputs": [
    {
     "data": {
      "text/plain": [
       "1792"
      ]
     },
     "execution_count": 37,
     "metadata": {},
     "output_type": "execute_result"
    }
   ],
   "source": [
    "from itertools import combinations\n",
    "SU4 = [(c(a).H@c(b)).real for (a,b) in combinations(range(4),2)]\n",
    "eqs = numpy.concatenate([full.adjoint(g) for g in SU4]+[full.adjoint(H)])\n",
    "eqs = Operators(eqs)\n",
    "eqs.size"
   ]
  },
  {
   "cell_type": "code",
   "execution_count": 38,
   "metadata": {},
   "outputs": [
    {
     "data": {
      "text/plain": [
       "4"
      ]
     },
     "execution_count": 38,
     "metadata": {},
     "output_type": "execute_result"
    }
   ],
   "source": [
    "null = full.solve(eqs.append(maj())).round(10)\n",
    "null.size"
   ]
  },
  {
   "cell_type": "code",
   "execution_count": 39,
   "metadata": {},
   "outputs": [
    {
     "data": {
      "text/plain": [
       "((4,), (31, 31), (4, 31, 31))"
      ]
     },
     "execution_count": 39,
     "metadata": {},
     "output_type": "execute_result"
    }
   ],
   "source": [
    "b = null.represent(H)\n",
    "C = OperatorSpace([maj()]).represent(ope, axis=0)[0]\n",
    "As = null.represent(ope, axis=0)\n",
    "b.shape, C.shape, As.shape"
   ]
  },
  {
   "cell_type": "code",
   "execution_count": 40,
   "metadata": {},
   "outputs": [
    {
     "data": {
      "text/plain": [
       "(-1129.7706545119186,\n",
       " array([-14949605.3280426 ,  -6701351.25922313,  -3187726.56749587,\n",
       "          -196494.56809162]))"
      ]
     },
     "execution_count": 40,
     "metadata": {},
     "output_type": "execute_result"
    }
   ],
   "source": [
    "E, x = SDP(b, C, As)\n",
    "E, x"
   ]
  },
  {
   "cell_type": "markdown",
   "metadata": {},
   "source": [
    "## Two-Fermion Model"
   ]
  },
  {
   "cell_type": "markdown",
   "metadata": {},
   "source": [
    "Consider a two-site system with four complex fermion modes per site. Define complex fermion operator ($i=0,1$, $a=0,1,2,3$)\n",
    "$$c_{i,a}=\\frac{1}{2}(\\chi_{8i+2a} + \\mathrm{i}\\chi_{8i+2a+1})$$"
   ]
  },
  {
   "cell_type": "code",
   "execution_count": 515,
   "metadata": {},
   "outputs": [],
   "source": [
    "%run qboot"
   ]
  },
  {
   "cell_type": "code",
   "execution_count": 516,
   "metadata": {},
   "outputs": [],
   "source": [
    "def c(i, a):\n",
    "    return (maj(8*i+2*a) + 1j*maj(8*i+2*a+1))/2"
   ]
  },
  {
   "cell_type": "code",
   "execution_count": 517,
   "metadata": {},
   "outputs": [
    {
     "data": {
      "text/plain": [
       "-0.25i χ1 χ8 +0.25i χ0 χ9 -0.25i χ3 χ10 +0.25i χ2 χ11 -0.25i χ5 χ12 +0.25i χ4 χ13 -0.25i χ7 χ14 +0.25i χ6 χ15 -0.06 χ0 χ2 χ4 χ6 +0.06 χ0 χ2 χ5 χ7 +0.06 χ0 χ3 χ4 χ7 +0.06 χ0 χ3 χ5 χ6 +0.06 χ1 χ2 χ4 χ7 +0.06 χ1 χ2 χ5 χ6 +0.06 χ1 χ3 χ4 χ6 -0.06 χ1 χ3 χ5 χ7 -0.06 χ8 χ10 χ12 χ14 +0.06 χ8 χ10 χ13 χ15 +0.06 χ8 χ11 χ12 χ15 +0.06 χ8 χ11 χ13 χ14 +0.06 χ9 χ10 χ12 χ15 +0.06 χ9 χ10 χ13 χ14 +0.06 χ9 χ11 χ12 χ14 -0.06 χ9 χ11 χ13 χ15"
      ]
     },
     "execution_count": 517,
     "metadata": {},
     "output_type": "execute_result"
    }
   ],
   "source": [
    "H0 = sum(c(1,a).H@c(0,a) for a in range(4)).real\n",
    "Hint = -sum(c(i,0)@c(i,1)@c(i,2)@c(i,3) for i in range(2)).real\n",
    "H = H0 + Hint\n",
    "H"
   ]
  },
  {
   "cell_type": "code",
   "execution_count": 521,
   "metadata": {},
   "outputs": [
    {
     "data": {
      "text/plain": [
       "697"
      ]
     },
     "execution_count": 521,
     "metadata": {},
     "output_type": "execute_result"
    }
   ],
   "source": [
    "base = OperatorSpace([maj()]).extend(Operators(H.generators()),3)\n",
    "base = base.real - base.imag\n",
    "base.size"
   ]
  },
  {
   "cell_type": "code",
   "execution_count": 522,
   "metadata": {},
   "outputs": [
    {
     "data": {
      "text/plain": [
       "(697, 697)"
      ]
     },
     "execution_count": 522,
     "metadata": {},
     "output_type": "execute_result"
    }
   ],
   "source": [
    "ope = base.ope()\n",
    "ope.shape"
   ]
  },
  {
   "cell_type": "code",
   "execution_count": 523,
   "metadata": {},
   "outputs": [
    {
     "data": {
      "text/plain": [
       "14893"
      ]
     },
     "execution_count": 523,
     "metadata": {},
     "output_type": "execute_result"
    }
   ],
   "source": [
    "full = OperatorSpace(ope.basis())\n",
    "full = full.real - full.imag\n",
    "full.size"
   ]
  },
  {
   "cell_type": "code",
   "execution_count": 526,
   "metadata": {},
   "outputs": [
    {
     "data": {
      "text/plain": [
       "104251"
      ]
     },
     "execution_count": 526,
     "metadata": {},
     "output_type": "execute_result"
    }
   ],
   "source": [
    "from itertools import combinations\n",
    "SU4 = [sum(c(i,a).H@c(i,b) for i in range(2)).real for (a,b) in combinations(range(4),2)]\n",
    "eqs = numpy.concatenate([full.adjoint(g) for g in SU4]+[full.adjoint(H)])\n",
    "eqs = Operators(eqs)\n",
    "eqs.size"
   ]
  },
  {
   "cell_type": "code",
   "execution_count": null,
   "metadata": {},
   "outputs": [],
   "source": [
    "null = full.solve(eqs.append(maj())).round(10)\n",
    "null.size"
   ]
  },
  {
   "cell_type": "code",
   "execution_count": 230,
   "metadata": {},
   "outputs": [
    {
     "data": {
      "text/plain": [
       "array([[ 0.        ,  0.        ,  0.        ,  0.        ,  0.        ,\n",
       "         0.        ,  0.        ,  0.        ,  0.        ,  0.        ,\n",
       "         0.        ,  0.        ,  0.        ,  0.        ,  0.        ,\n",
       "         0.        ,  0.        ,  0.35354482,  0.        ,  0.        ,\n",
       "         0.        ,  0.        ,  0.        ,  0.        ,  0.        ,\n",
       "         0.0024613 ,  0.        ,  0.        ,  0.        ,  0.        ,\n",
       "         0.        ,  0.        ,  0.        ,  0.        ,  0.        ,\n",
       "         0.        ,  0.        ,  0.        , -0.0024613 ,  0.        ,\n",
       "         0.        ,  0.        ,  0.        ,  0.        ,  0.        ,\n",
       "         0.        ,  0.35354482,  0.        ,  0.        ,  0.        ,\n",
       "         0.        ,  0.        ,  0.        ,  0.        ,  0.0024613 ,\n",
       "         0.        ,  0.        ,  0.        ,  0.        ,  0.        ,\n",
       "         0.        ,  0.        ,  0.        ,  0.        ,  0.        ,\n",
       "        -0.0024613 ,  0.        ,  0.        ,  0.        ,  0.        ,\n",
       "         0.        ,  0.35354482,  0.        ,  0.        ,  0.        ,\n",
       "         0.        ,  0.        ,  0.        ,  0.        ,  0.0024613 ,\n",
       "         0.        ,  0.        ,  0.        ,  0.        ,  0.        ,\n",
       "         0.        ,  0.        ,  0.        , -0.0024613 ,  0.        ,\n",
       "         0.        ,  0.        ,  0.35354482,  0.        ,  0.        ,\n",
       "         0.        ,  0.        ,  0.        ,  0.        ,  0.        ,\n",
       "         0.0024613 ,  0.        ,  0.        ,  0.        ,  0.        ,\n",
       "         0.        ,  0.        , -0.0024613 ,  0.        ,  0.35354482,\n",
       "         0.        ,  0.        ,  0.        ,  0.        ,  0.        ,\n",
       "         0.        ,  0.        ,  0.        ,  0.        ,  0.        ,\n",
       "         0.        ,  0.        ,  0.35354482,  0.        ,  0.        ,\n",
       "         0.        ,  0.        ,  0.        ,  0.        ,  0.        ,\n",
       "         0.        ,  0.35354482,  0.        ,  0.        ,  0.        ,\n",
       "         0.        ,  0.35354482],\n",
       "       [ 0.        ,  0.        ,  0.        ,  0.        ,  0.        ,\n",
       "         0.        ,  0.        ,  0.        ,  0.        ,  0.        ,\n",
       "         0.        ,  0.        ,  0.        ,  0.        ,  0.        ,\n",
       "         0.        ,  0.        , -0.0024613 ,  0.        ,  0.        ,\n",
       "         0.        ,  0.        ,  0.        ,  0.        ,  0.        ,\n",
       "         0.35354482,  0.        ,  0.        ,  0.        ,  0.        ,\n",
       "         0.        ,  0.        ,  0.        ,  0.        ,  0.        ,\n",
       "         0.        ,  0.        ,  0.        , -0.35354482,  0.        ,\n",
       "         0.        ,  0.        ,  0.        ,  0.        ,  0.        ,\n",
       "         0.        , -0.0024613 ,  0.        ,  0.        ,  0.        ,\n",
       "         0.        ,  0.        ,  0.        ,  0.        ,  0.35354482,\n",
       "         0.        ,  0.        ,  0.        ,  0.        ,  0.        ,\n",
       "         0.        ,  0.        ,  0.        ,  0.        ,  0.        ,\n",
       "        -0.35354482,  0.        ,  0.        ,  0.        ,  0.        ,\n",
       "         0.        , -0.0024613 ,  0.        ,  0.        ,  0.        ,\n",
       "         0.        ,  0.        ,  0.        ,  0.        ,  0.35354482,\n",
       "         0.        ,  0.        ,  0.        ,  0.        ,  0.        ,\n",
       "         0.        ,  0.        ,  0.        , -0.35354482,  0.        ,\n",
       "         0.        ,  0.        , -0.0024613 ,  0.        ,  0.        ,\n",
       "         0.        ,  0.        ,  0.        ,  0.        ,  0.        ,\n",
       "         0.35354482,  0.        ,  0.        ,  0.        ,  0.        ,\n",
       "         0.        ,  0.        , -0.35354482,  0.        , -0.0024613 ,\n",
       "         0.        ,  0.        ,  0.        ,  0.        ,  0.        ,\n",
       "         0.        ,  0.        ,  0.        ,  0.        ,  0.        ,\n",
       "         0.        ,  0.        , -0.0024613 ,  0.        ,  0.        ,\n",
       "         0.        ,  0.        ,  0.        ,  0.        ,  0.        ,\n",
       "         0.        , -0.0024613 ,  0.        ,  0.        ,  0.        ,\n",
       "         0.        , -0.0024613 ],\n",
       "       [-1.        ,  0.        ,  0.        ,  0.        ,  0.        ,\n",
       "         0.        ,  0.        ,  0.        ,  0.        ,  0.        ,\n",
       "         0.        ,  0.        ,  0.        ,  0.        ,  0.        ,\n",
       "         0.        ,  0.        ,  0.        ,  0.        ,  0.        ,\n",
       "         0.        ,  0.        ,  0.        ,  0.        ,  0.        ,\n",
       "         0.        ,  0.        ,  0.        ,  0.        ,  0.        ,\n",
       "         0.        ,  0.        ,  0.        ,  0.        ,  0.        ,\n",
       "         0.        ,  0.        ,  0.        ,  0.        ,  0.        ,\n",
       "         0.        ,  0.        ,  0.        ,  0.        ,  0.        ,\n",
       "         0.        ,  0.        ,  0.        ,  0.        ,  0.        ,\n",
       "         0.        ,  0.        ,  0.        ,  0.        ,  0.        ,\n",
       "         0.        ,  0.        ,  0.        ,  0.        ,  0.        ,\n",
       "         0.        ,  0.        ,  0.        ,  0.        ,  0.        ,\n",
       "         0.        ,  0.        ,  0.        ,  0.        ,  0.        ,\n",
       "         0.        ,  0.        ,  0.        ,  0.        ,  0.        ,\n",
       "         0.        ,  0.        ,  0.        ,  0.        ,  0.        ,\n",
       "         0.        ,  0.        ,  0.        ,  0.        ,  0.        ,\n",
       "         0.        ,  0.        ,  0.        ,  0.        ,  0.        ,\n",
       "         0.        ,  0.        ,  0.        ,  0.        ,  0.        ,\n",
       "         0.        ,  0.        ,  0.        ,  0.        ,  0.        ,\n",
       "         0.        ,  0.        ,  0.        ,  0.        ,  0.        ,\n",
       "         0.        ,  0.        ,  0.        ,  0.        ,  0.        ,\n",
       "         0.        ,  0.        ,  0.        ,  0.        ,  0.        ,\n",
       "         0.        ,  0.        ,  0.        ,  0.        ,  0.        ,\n",
       "         0.        ,  0.        ,  0.        ,  0.        ,  0.        ,\n",
       "         0.        ,  0.        ,  0.        ,  0.        ,  0.        ,\n",
       "         0.        ,  0.        ,  0.        ,  0.        ,  0.        ,\n",
       "         0.        ,  0.        ]])"
      ]
     },
     "execution_count": 230,
     "metadata": {},
     "output_type": "execute_result"
    }
   ],
   "source": [
    "b = null.represent(H)\n",
    "C = OperatorSpace([maj()]).represent(ope, axis=0)[0]\n",
    "As = null.represent(ope, axis=0)\n",
    "b.shape, C.shape, As.shape"
   ]
  },
  {
   "cell_type": "code",
   "execution_count": null,
   "metadata": {},
   "outputs": [],
   "source": [
    "E, x = SDP(b, C, As)\n",
    "E, x"
   ]
  }
 ],
 "metadata": {
  "kernelspec": {
   "display_name": "Python 3",
   "language": "python",
   "name": "python3"
  },
  "language_info": {
   "codemirror_mode": {
    "name": "ipython",
    "version": 3
   },
   "file_extension": ".py",
   "mimetype": "text/x-python",
   "name": "python",
   "nbconvert_exporter": "python",
   "pygments_lexer": "ipython3",
   "version": "3.7.4"
  }
 },
 "nbformat": 4,
 "nbformat_minor": 4
}
