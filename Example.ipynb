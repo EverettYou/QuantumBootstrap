{
 "cells": [
  {
   "cell_type": "code",
   "execution_count": 41,
   "metadata": {},
   "outputs": [],
   "source": [
    "%run qboot"
   ]
  },
  {
   "cell_type": "markdown",
   "metadata": {},
   "source": [
    "## Majorana Chain"
   ]
  },
  {
   "cell_type": "code",
   "execution_count": 42,
   "metadata": {},
   "outputs": [
    {
     "data": {
      "text/plain": [
       "i χ0 χ1 +i χ1 χ2 +i χ2 χ3 -i χ0 χ3"
      ]
     },
     "execution_count": 42,
     "metadata": {},
     "output_type": "execute_result"
    }
   ],
   "source": [
    "L = 4\n",
    "H = sum(1j*maj(i)@maj((i+1)%L) for i in range(L))\n",
    "H"
   ]
  },
  {
   "cell_type": "code",
   "execution_count": 43,
   "metadata": {},
   "outputs": [
    {
     "data": {
      "text/plain": [
       "OperatorSpace([I, χ0, χ1, χ2, χ3])"
      ]
     },
     "execution_count": 43,
     "metadata": {},
     "output_type": "execute_result"
    }
   ],
   "source": [
    "base = OperatorSpace([maj()]+[maj(i) for i in range(L)])\n",
    "base"
   ]
  },
  {
   "cell_type": "code",
   "execution_count": 44,
   "metadata": {},
   "outputs": [
    {
     "data": {
      "text/plain": [
       "Operators([[I, χ0, χ1, χ2, χ3],\n",
       "           [χ0, I, χ0 χ1, χ0 χ2, χ0 χ3],\n",
       "           [χ1, - χ0 χ1, I, χ1 χ2, χ1 χ3],\n",
       "           [χ2, - χ0 χ2, - χ1 χ2, I, χ2 χ3],\n",
       "           [χ3, - χ0 χ3, - χ1 χ3, - χ2 χ3, I]])"
      ]
     },
     "execution_count": 44,
     "metadata": {},
     "output_type": "execute_result"
    }
   ],
   "source": [
    "ope = base.outer(base)\n",
    "ope"
   ]
  },
  {
   "cell_type": "code",
   "execution_count": 47,
   "metadata": {},
   "outputs": [
    {
     "data": {
      "text/plain": [
       "OperatorSpace([I, χ0, χ1, χ2, χ3, i χ0 χ2, i χ0 χ3, i χ1 χ2, i χ1 χ3,\n",
       "               i χ2 χ3, i χ0 χ1])"
      ]
     },
     "execution_count": 47,
     "metadata": {},
     "output_type": "execute_result"
    }
   ],
   "source": [
    "full = base.append(list(ope.orth().solve(base).basis()))\n",
    "full"
   ]
  },
  {
   "cell_type": "code",
   "execution_count": 48,
   "metadata": {},
   "outputs": [
    {
     "data": {
      "text/plain": [
       "OperatorSpace([0, 2 χ1 -2 χ3, -2 χ0 +2 χ2, -2 χ1 +2 χ3, 2 χ0 -2 χ2,\n",
       "               2i χ1 χ2 +2i χ2 χ3 +2i χ0 χ3 -2i χ0 χ1, 2i χ1 χ3 -2i χ0 χ2,\n",
       "               -2i χ0 χ2 +2i χ1 χ3,\n",
       "               -2i χ0 χ3 -2i χ0 χ1 -2i χ1 χ2 +2i χ2 χ3,\n",
       "               -2i χ1 χ3 -2i χ0 χ2, 2i χ1 χ3 +2i χ0 χ2])"
      ]
     },
     "execution_count": 48,
     "metadata": {},
     "output_type": "execute_result"
    }
   ],
   "source": [
    "eqs = full.adjoint(H)\n",
    "eqs"
   ]
  },
  {
   "cell_type": "code",
   "execution_count": 49,
   "metadata": {},
   "outputs": [
    {
     "data": {
      "text/plain": [
       "OperatorSpace([0.71i χ2 χ3 +0.71i χ0 χ1, -0.71i χ0 χ3 +0.71i χ1 χ2,\n",
       "               -0.71 χ0 -0.71 χ2, -0.71 χ1 -0.71 χ3])"
      ]
     },
     "execution_count": 49,
     "metadata": {},
     "output_type": "execute_result"
    }
   ],
   "source": [
    "null = full.solve(eqs.append(maj())).round(10)\n",
    "null"
   ]
  },
  {
   "cell_type": "code",
   "execution_count": 50,
   "metadata": {},
   "outputs": [],
   "source": [
    "b = null.represent(H).real\n",
    "C = OperatorSpace([maj()]).represent(ope, axis=0)[0]\n",
    "As = null.represent(ope, axis=0)"
   ]
  },
  {
   "cell_type": "code",
   "execution_count": 51,
   "metadata": {},
   "outputs": [
    {
     "data": {
      "text/plain": [
       "(-1.9999999999859985,\n",
       " array([-7.07106781e-01, -7.07106781e-01,  7.62755857e-33, -2.46835709e-32]))"
      ]
     },
     "execution_count": 51,
     "metadata": {},
     "output_type": "execute_result"
    }
   ],
   "source": [
    "E, x = SDP(b, C, As)\n",
    "E, x"
   ]
  },
  {
   "cell_type": "code",
   "execution_count": 52,
   "metadata": {},
   "outputs": [
    {
     "data": {
      "text/plain": [
       "array([ 1.00000000e+00, -5.39349839e-33,  1.74539204e-32, -5.39349839e-33,\n",
       "        1.74539204e-32,  0.00000000e+00,  5.00000000e-01, -5.00000000e-01,\n",
       "        0.00000000e+00, -5.00000000e-01, -5.00000000e-01])"
      ]
     },
     "execution_count": 52,
     "metadata": {},
     "output_type": "execute_result"
    }
   ],
   "source": [
    "(full.represent(maj()) + x @ full.represent(null)).real"
   ]
  },
  {
   "cell_type": "markdown",
   "metadata": {},
   "source": [
    "## Single-Site Interaction"
   ]
  },
  {
   "cell_type": "markdown",
   "metadata": {},
   "source": [
    "Consider $H=-(c_1 c_2 c_3 c_4+\\text{h.c.})$, where\n",
    "$$c_a=\\frac{1}{2}(\\chi_{2a}+\\mathrm{i}\\chi_{2a+1})$$"
   ]
  },
  {
   "cell_type": "code",
   "execution_count": 90,
   "metadata": {},
   "outputs": [],
   "source": [
    "%run qboot"
   ]
  },
  {
   "cell_type": "code",
   "execution_count": 91,
   "metadata": {},
   "outputs": [],
   "source": [
    "def c(a):\n",
    "    return (maj(2*a) + 1j*maj(2*a+1))/2"
   ]
  },
  {
   "cell_type": "code",
   "execution_count": 92,
   "metadata": {},
   "outputs": [
    {
     "data": {
      "text/plain": [
       "-0.06 χ0 χ2 χ4 χ6 +0.06 χ0 χ2 χ5 χ7 +0.06 χ0 χ3 χ4 χ7 +0.06 χ0 χ3 χ5 χ6 +0.06 χ1 χ2 χ4 χ7 +0.06 χ1 χ2 χ5 χ6 +0.06 χ1 χ3 χ4 χ6 -0.06 χ1 χ3 χ5 χ7"
      ]
     },
     "execution_count": 92,
     "metadata": {},
     "output_type": "execute_result"
    }
   ],
   "source": [
    "H = -(c(0)@c(1)@c(2)@c(3)).real\n",
    "H"
   ]
  },
  {
   "cell_type": "code",
   "execution_count": 95,
   "metadata": {},
   "outputs": [
    {
     "data": {
      "text/plain": [
       "73"
      ]
     },
     "execution_count": 95,
     "metadata": {},
     "output_type": "execute_result"
    }
   ],
   "source": [
    "base = OperatorSpace(list(H.factors()))\n",
    "base.size"
   ]
  },
  {
   "cell_type": "code",
   "execution_count": 97,
   "metadata": {},
   "outputs": [
    {
     "data": {
      "text/plain": [
       "(73, 73)"
      ]
     },
     "execution_count": 97,
     "metadata": {},
     "output_type": "execute_result"
    }
   ],
   "source": [
    "ope = base.outer(base)\n",
    "ope.shape"
   ]
  },
  {
   "cell_type": "code",
   "execution_count": 98,
   "metadata": {},
   "outputs": [
    {
     "data": {
      "text/plain": [
       "256"
      ]
     },
     "execution_count": 98,
     "metadata": {},
     "output_type": "execute_result"
    }
   ],
   "source": [
    "full = OperatorSpace(list(ope.basis()))\n",
    "full.size"
   ]
  },
  {
   "cell_type": "code",
   "execution_count": 100,
   "metadata": {},
   "outputs": [
    {
     "data": {
      "text/plain": [
       "1792"
      ]
     },
     "execution_count": 100,
     "metadata": {},
     "output_type": "execute_result"
    }
   ],
   "source": [
    "from itertools import combinations\n",
    "SU4 = [(c(a).H@c(b)).real for (a,b) in combinations(range(4),2)]\n",
    "eqs = numpy.concatenate([full.adjoint(g) for g in SU4]+[full.adjoint(H)])\n",
    "eqs = Operators(eqs)\n",
    "eqs.size"
   ]
  },
  {
   "cell_type": "code",
   "execution_count": 101,
   "metadata": {},
   "outputs": [
    {
     "data": {
      "text/plain": [
       "4"
      ]
     },
     "execution_count": 101,
     "metadata": {},
     "output_type": "execute_result"
    }
   ],
   "source": [
    "null = full.solve(eqs.append(maj())).round(10)\n",
    "null.size"
   ]
  },
  {
   "cell_type": "code",
   "execution_count": 104,
   "metadata": {},
   "outputs": [
    {
     "data": {
      "text/plain": [
       "((4,), (73, 73), (4, 73, 73))"
      ]
     },
     "execution_count": 104,
     "metadata": {},
     "output_type": "execute_result"
    }
   ],
   "source": [
    "b = null.represent(H).real\n",
    "C = OperatorSpace([maj()]).represent(ope, axis=0)[0]\n",
    "As = null.represent(ope, axis=0)\n",
    "b.shape, C.shape, As.shape"
   ]
  },
  {
   "cell_type": "code",
   "execution_count": 105,
   "metadata": {},
   "outputs": [
    {
     "data": {
      "text/plain": [
       "(-0.4999999992376596,\n",
       " array([ 2.66561068, -2.61709801,  0.21287978,  1.        ]))"
      ]
     },
     "execution_count": 105,
     "metadata": {},
     "output_type": "execute_result"
    }
   ],
   "source": [
    "E, x = SDP(b, C, As)\n",
    "E, x"
   ]
  },
  {
   "cell_type": "markdown",
   "metadata": {},
   "source": [
    "The $x.A$ matrix has no null space. It seems not possible to further reduce the base space dimension."
   ]
  },
  {
   "cell_type": "code",
   "execution_count": 112,
   "metadata": {},
   "outputs": [
    {
     "data": {
      "text/plain": [
       "array([], shape=(73, 0), dtype=complex128)"
      ]
     },
     "execution_count": 112,
     "metadata": {},
     "output_type": "execute_result"
    }
   ],
   "source": [
    "rndx = numpy.random.randn(4)\n",
    "A = numpy.tensordot(rndx, As, axes=([0],[0]))\n",
    "scipy.linalg.null_space(A)"
   ]
  },
  {
   "cell_type": "code",
   "execution_count": 109,
   "metadata": {},
   "outputs": [],
   "source": [
    "import matplotlib.pyplot as plt"
   ]
  },
  {
   "cell_type": "code",
   "execution_count": 113,
   "metadata": {},
   "outputs": [
    {
     "data": {
      "text/plain": [
       "<matplotlib.image.AxesImage at 0x7fb476280a10>"
      ]
     },
     "execution_count": 113,
     "metadata": {},
     "output_type": "execute_result"
    },
    {
     "data": {
      "image/png": "[encoded data removed]",
      "text/plain": [
       "<Figure size 432x288 with 1 Axes>"
      ]
     },
     "metadata": {
      "needs_background": "light"
     },
     "output_type": "display_data"
    }
   ],
   "source": [
    "plt.imshow(A.real)"
   ]
  },
  {
   "cell_type": "code",
   "execution_count": 114,
   "metadata": {},
   "outputs": [
    {
     "data": {
      "text/plain": [
       "<matplotlib.image.AxesImage at 0x7fb476582f10>"
      ]
     },
     "execution_count": 114,
     "metadata": {},
     "output_type": "execute_result"
    },
    {
     "data": {
      "image/png": "[encoded data removed]",
      "text/plain": [
       "<Figure size 432x288 with 1 Axes>"
      ]
     },
     "metadata": {
      "needs_background": "light"
     },
     "output_type": "display_data"
    }
   ],
   "source": [
    "plt.imshow(A.imag)"
   ]
  },
  {
   "cell_type": "markdown",
   "metadata": {},
   "source": [
    "The base space size can be reduce by setting a cutoff on factors. Sometimes the result may not be affected."
   ]
  },
  {
   "cell_type": "code",
   "execution_count": 126,
   "metadata": {},
   "outputs": [
    {
     "data": {
      "text/plain": [
       "33"
      ]
     },
     "execution_count": 126,
     "metadata": {},
     "output_type": "execute_result"
    }
   ],
   "source": [
    "base = OperatorSpace(list(H.factors(2)))\n",
    "base.size"
   ]
  },
  {
   "cell_type": "code",
   "execution_count": 127,
   "metadata": {},
   "outputs": [
    {
     "data": {
      "text/plain": [
       "(33, 33)"
      ]
     },
     "execution_count": 127,
     "metadata": {},
     "output_type": "execute_result"
    }
   ],
   "source": [
    "ope = base.outer(base)\n",
    "ope.shape"
   ]
  },
  {
   "cell_type": "code",
   "execution_count": 128,
   "metadata": {},
   "outputs": [
    {
     "data": {
      "text/plain": [
       "163"
      ]
     },
     "execution_count": 128,
     "metadata": {},
     "output_type": "execute_result"
    }
   ],
   "source": [
    "full = OperatorSpace(list(ope.basis()))\n",
    "full.size"
   ]
  },
  {
   "cell_type": "code",
   "execution_count": 129,
   "metadata": {},
   "outputs": [
    {
     "data": {
      "text/plain": [
       "1141"
      ]
     },
     "execution_count": 129,
     "metadata": {},
     "output_type": "execute_result"
    }
   ],
   "source": [
    "from itertools import combinations\n",
    "SU4 = [(c(a).H@c(b)).real for (a,b) in combinations(range(4),2)]\n",
    "eqs = numpy.concatenate([full.adjoint(g) for g in SU4]+[full.adjoint(H)])\n",
    "eqs = Operators(eqs)\n",
    "eqs.size"
   ]
  },
  {
   "cell_type": "code",
   "execution_count": 130,
   "metadata": {},
   "outputs": [
    {
     "data": {
      "text/plain": [
       "2"
      ]
     },
     "execution_count": 130,
     "metadata": {},
     "output_type": "execute_result"
    }
   ],
   "source": [
    "null = full.solve(eqs.append(maj())).round(10)\n",
    "null.size"
   ]
  },
  {
   "cell_type": "code",
   "execution_count": 131,
   "metadata": {},
   "outputs": [
    {
     "data": {
      "text/plain": [
       "((2,), (33, 33), (2, 33, 33))"
      ]
     },
     "execution_count": 131,
     "metadata": {},
     "output_type": "execute_result"
    }
   ],
   "source": [
    "b = null.represent(H).real\n",
    "C = OperatorSpace([maj()]).represent(ope, axis=0)[0]\n",
    "As = null.represent(ope, axis=0)\n",
    "b.shape, C.shape, As.shape"
   ]
  },
  {
   "cell_type": "code",
   "execution_count": 132,
   "metadata": {},
   "outputs": [
    {
     "data": {
      "text/plain": [
       "(-0.4999999998572637, array([ 3.0675167 , -2.14250818]))"
      ]
     },
     "execution_count": 132,
     "metadata": {},
     "output_type": "execute_result"
    }
   ],
   "source": [
    "E, x = SDP(b, C, As)\n",
    "E, x"
   ]
  },
  {
   "cell_type": "markdown",
   "metadata": {},
   "source": [
    "## Two-Fermion Model"
   ]
  },
  {
   "cell_type": "markdown",
   "metadata": {},
   "source": [
    "Consider a two-site system with four complex fermion modes per site. Define complex fermion operator ($i=0,1$, $a=0,1,2,3$)\n",
    "$$c_{i,a}=\\frac{1}{2}(\\chi_{8i+2a} + \\mathrm{i}\\chi_{8i+2a+1})$$"
   ]
  },
  {
   "cell_type": "code",
   "execution_count": 134,
   "metadata": {},
   "outputs": [],
   "source": [
    "%run qboot"
   ]
  },
  {
   "cell_type": "code",
   "execution_count": 194,
   "metadata": {},
   "outputs": [],
   "source": [
    "def c(i, a):\n",
    "    return (maj(8*i+2*a) + 1j*maj(8*i+2*a+1))/2"
   ]
  },
  {
   "cell_type": "code",
   "execution_count": 195,
   "metadata": {},
   "outputs": [
    {
     "data": {
      "text/plain": [
       "-0.06 χ0 χ2 χ4 χ6 +0.06 χ0 χ2 χ5 χ7 +0.06 χ0 χ3 χ4 χ7 +0.06 χ0 χ3 χ5 χ6 +0.06 χ1 χ2 χ4 χ7 +0.06 χ1 χ2 χ5 χ6 +0.06 χ1 χ3 χ4 χ6 -0.06 χ1 χ3 χ5 χ7 -0.06 χ8 χ10 χ12 χ14 +0.06 χ8 χ10 χ13 χ15 +0.06 χ8 χ11 χ12 χ15 +0.06 χ8 χ11 χ13 χ14 +0.06 χ9 χ10 χ12 χ15 +0.06 χ9 χ10 χ13 χ14 +0.06 χ9 χ11 χ12 χ14 -0.06 χ9 χ11 χ13 χ15"
      ]
     },
     "execution_count": 195,
     "metadata": {},
     "output_type": "execute_result"
    }
   ],
   "source": [
    "H0 = -sum(c(1,a).H@c(0,a) for a in range(4)).real\n",
    "Hint = -sum(c(i,0)@c(i,1)@c(i,2)@c(i,3) for i in range(2)).real\n",
    "H = Hint\n",
    "H"
   ]
  },
  {
   "cell_type": "code",
   "execution_count": 197,
   "metadata": {},
   "outputs": [
    {
     "data": {
      "text/plain": [
       "65"
      ]
     },
     "execution_count": 197,
     "metadata": {},
     "output_type": "execute_result"
    }
   ],
   "source": [
    "base = OperatorSpace(list(H.factors(2)))\n",
    "base.size"
   ]
  },
  {
   "cell_type": "code",
   "execution_count": 198,
   "metadata": {},
   "outputs": [
    {
     "data": {
      "text/plain": [
       "(65, 65)"
      ]
     },
     "execution_count": 198,
     "metadata": {},
     "output_type": "execute_result"
    }
   ],
   "source": [
    "ope = base.outer(base)\n",
    "ope.shape"
   ]
  },
  {
   "cell_type": "code",
   "execution_count": 199,
   "metadata": {},
   "outputs": [
    {
     "data": {
      "text/plain": [
       "1349"
      ]
     },
     "execution_count": 199,
     "metadata": {},
     "output_type": "execute_result"
    }
   ],
   "source": [
    "full = OperatorSpace(list(ope.basis()))\n",
    "full.size"
   ]
  },
  {
   "cell_type": "code",
   "execution_count": 193,
   "metadata": {},
   "outputs": [
    {
     "data": {
      "text/plain": [
       "137"
      ]
     },
     "execution_count": 193,
     "metadata": {},
     "output_type": "execute_result"
    }
   ],
   "source": [
    "SU4 = sum(c(i,1).H@c(i,2) for i in range(2)).real\n",
    "eqs = full.adjoint(SU4)\n",
    "eqs.size"
   ]
  },
  {
   "cell_type": "code",
   "execution_count": 159,
   "metadata": {},
   "outputs": [],
   "source": [
    "%load_ext snakeviz"
   ]
  },
  {
   "cell_type": "code",
   "execution_count": 161,
   "metadata": {},
   "outputs": [
    {
     "name": "stdout",
     "output_type": "stream",
     "text": [
      " \n",
      "*** Profile stats marshalled to file '/var/folders/1m/3nz1kxmj2mgb2s2gwq2ndxqh0000gn/T/tmp01w5y5vq'. \n",
      "Embedding SnakeViz in this document...\n"
     ]
    },
    {
     "data": {
      "text/html": [
       "\n",
       "<iframe id='snakeviz-94530286-9f1b-11ec-8510-f40f242280ab' frameborder=0 seamless width='100%' height='1000'></iframe>\n",
       "<script>document.getElementById(\"snakeviz-94530286-9f1b-11ec-8510-f40f242280ab\").setAttribute(\"src\", \"http://\" + document.location.hostname + \":8080/snakeviz/%2Fvar%2Ffolders%2F1m%2F3nz1kxmj2mgb2s2gwq2ndxqh0000gn%2FT%2Ftmp01w5y5vq\")</script>\n"
      ],
      "text/plain": [
       "<IPython.core.display.HTML object>"
      ]
     },
     "metadata": {},
     "output_type": "display_data"
    }
   ],
   "source": [
    "%snakeviz (full.solve(eqs));"
   ]
  },
  {
   "cell_type": "code",
   "execution_count": 200,
   "metadata": {},
   "outputs": [
    {
     "data": {
      "text/plain": [
       "9443"
      ]
     },
     "execution_count": 200,
     "metadata": {},
     "output_type": "execute_result"
    }
   ],
   "source": [
    "from itertools import combinations\n",
    "SU4 = [sum(c(i,a).H@c(i,b) for i in range(2)).real for (a,b) in combinations(range(4),2)]\n",
    "eqs = numpy.concatenate([full.adjoint(g) for g in SU4]+[full.adjoint(H)])\n",
    "eqs = Operators(eqs)\n",
    "eqs.size"
   ]
  },
  {
   "cell_type": "code",
   "execution_count": 201,
   "metadata": {},
   "outputs": [
    {
     "data": {
      "text/plain": [
       "(9443, 1349)"
      ]
     },
     "execution_count": 201,
     "metadata": {},
     "output_type": "execute_result"
    }
   ],
   "source": [
    "full.represent(eqs).shape"
   ]
  },
  {
   "cell_type": "code",
   "execution_count": 202,
   "metadata": {},
   "outputs": [
    {
     "data": {
      "text/plain": [
       "11"
      ]
     },
     "execution_count": 202,
     "metadata": {},
     "output_type": "execute_result"
    }
   ],
   "source": [
    "null = full.solve(eqs.append(maj())).round(10)\n",
    "null.size"
   ]
  },
  {
   "cell_type": "code",
   "execution_count": 203,
   "metadata": {},
   "outputs": [
    {
     "data": {
      "text/plain": [
       "((11,), (65, 65), (11, 65, 65))"
      ]
     },
     "execution_count": 203,
     "metadata": {},
     "output_type": "execute_result"
    }
   ],
   "source": [
    "b = null.represent(H).real\n",
    "C = OperatorSpace([maj()]).represent(ope, axis=0)[0]\n",
    "As = null.represent(ope, axis=0)\n",
    "b.shape, C.shape, As.shape"
   ]
  },
  {
   "cell_type": "code",
   "execution_count": 204,
   "metadata": {},
   "outputs": [
    {
     "data": {
      "text/plain": [
       "(-1.0000003560744346,\n",
       " array([-2.49684118,  0.02097096,  0.55262396,  0.09308987, -0.02043605,\n",
       "        -2.59080461, -1.64200248, -0.17430355,  0.01927475, -3.46580678,\n",
       "         0.00609439]))"
      ]
     },
     "execution_count": 204,
     "metadata": {},
     "output_type": "execute_result"
    }
   ],
   "source": [
    "E, x = SDP(b, C, As)\n",
    "E, x"
   ]
  },
  {
   "cell_type": "markdown",
   "metadata": {},
   "source": [
    "It becomes slow to solve as the problem size gets larger."
   ]
  },
  {
   "cell_type": "markdown",
   "metadata": {},
   "source": [
    "## Two-Site Hubbard Model"
   ]
  },
  {
   "cell_type": "code",
   "execution_count": 1,
   "metadata": {},
   "outputs": [],
   "source": [
    "%run qboot"
   ]
  },
  {
   "cell_type": "code",
   "execution_count": 36,
   "metadata": {},
   "outputs": [],
   "source": [
    "def c(i,a):\n",
    "    return (maj(4*i+2*a+1)+1j*maj(4*i+2*a+2))/2"
   ]
  },
  {
   "cell_type": "code",
   "execution_count": 99,
   "metadata": {},
   "outputs": [
    {
     "data": {
      "text/plain": [
       "0.25i χ1 χ6 -0.25i χ2 χ5 +0.25i χ3 χ8 -0.25i χ4 χ7 -0.50 χ1 χ2 χ3 χ4 -0.50 χ5 χ6 χ7 χ8"
      ]
     },
     "execution_count": 99,
     "metadata": {},
     "output_type": "execute_result"
    }
   ],
   "source": [
    "t, U = 1., 2.\n",
    "H = (1j*t/4)*(maj(1,6)-maj(2,5)+maj(3,8)-maj(4,7))-(U/4)*(maj(1,2,3,4)+maj(5,6,7,8))\n",
    "H"
   ]
  },
  {
   "cell_type": "code",
   "execution_count": 114,
   "metadata": {},
   "outputs": [
    {
     "data": {
      "text/plain": [
       "OperatorSpace([I, χ1, χ2, χ3, χ4, χ5, χ6, χ7, χ8, i χ1 χ2, i χ1 χ3,\n",
       "               i χ1 χ4, i χ1 χ5, i χ1 χ6, i χ1 χ7, i χ1 χ8, i χ2 χ3,\n",
       "               i χ2 χ4, i χ2 χ5, i χ2 χ6, i χ2 χ7, i χ2 χ8, i χ3 χ4,\n",
       "               i χ3 χ5, i χ3 χ6, i χ3 χ7, i χ3 χ8, i χ4 χ5, i χ4 χ6,\n",
       "               i χ4 χ7, i χ4 χ8, i χ5 χ6, i χ5 χ7, i χ5 χ8, i χ6 χ7,\n",
       "               i χ6 χ8, i χ7 χ8, i χ1 χ2 χ3, i χ1 χ2 χ4, i χ1 χ2 χ5,\n",
       "               i χ1 χ2 χ6, i χ1 χ2 χ7, i χ1 χ2 χ8, i χ1 χ3 χ4, i χ1 χ3 χ5,\n",
       "               i χ1 χ3 χ6, i χ1 χ3 χ7, i χ1 χ3 χ8, i χ1 χ4 χ5, i χ1 χ4 χ6,\n",
       "               i χ1 χ4 χ7, i χ1 χ4 χ8, i χ1 χ5 χ6, i χ1 χ5 χ7, i χ1 χ5 χ8,\n",
       "               i χ1 χ6 χ7, i χ1 χ6 χ8, i χ1 χ7 χ8, i χ2 χ3 χ4, i χ2 χ3 χ5,\n",
       "               i χ2 χ3 χ6, i χ2 χ3 χ7, i χ2 χ3 χ8, i χ2 χ4 χ5, i χ2 χ4 χ6,\n",
       "               i χ2 χ4 χ7, i χ2 χ4 χ8, i χ2 χ5 χ6, i χ2 χ5 χ7, i χ2 χ5 χ8,\n",
       "               i χ2 χ6 χ7, i χ2 χ6 χ8, i χ2 χ7 χ8, i χ3 χ4 χ5, i χ3 χ4 χ6,\n",
       "               i χ3 χ4 χ7, i χ3 χ4 χ8, i χ3 χ5 χ6, i χ3 χ5 χ7, i χ3 χ5 χ8,\n",
       "               i χ3 χ6 χ7, i χ3 χ6 χ8, i χ3 χ7 χ8, i χ4 χ5 χ6, i χ4 χ5 χ7,\n",
       "               i χ4 χ5 χ8, i χ4 χ6 χ7, i χ4 χ6 χ8, i χ4 χ7 χ8, i χ5 χ6 χ7,\n",
       "               i χ5 χ6 χ8, i χ5 χ7 χ8, i χ6 χ7 χ8, χ1 χ2 χ3 χ4,\n",
       "               χ5 χ6 χ7 χ8])"
      ]
     },
     "execution_count": 114,
     "metadata": {},
     "output_type": "execute_result"
    }
   ],
   "source": [
    "base = OperatorSpace([maj()])\n",
    "base = base.append([maj(i) for i in range(1,9)])\n",
    "base = base.append([1j*maj(i,j) for i,j in combinations(range(1,9),2)])\n",
    "base = base.append([1j*maj(i,j,k) for i,j,k in combinations(range(1,9),3)])\n",
    "base = base.append([maj(1,2,3,4), maj(5,6,7,8)])\n",
    "base"
   ]
  },
  {
   "cell_type": "code",
   "execution_count": 115,
   "metadata": {},
   "outputs": [
    {
     "data": {
      "text/plain": [
       "(95, 95)"
      ]
     },
     "execution_count": 115,
     "metadata": {},
     "output_type": "execute_result"
    }
   ],
   "source": [
    "ope = base.outer(base)\n",
    "ope.shape"
   ]
  },
  {
   "cell_type": "code",
   "execution_count": 116,
   "metadata": {},
   "outputs": [
    {
     "data": {
      "text/plain": [
       "(256,)"
      ]
     },
     "execution_count": 116,
     "metadata": {},
     "output_type": "execute_result"
    }
   ],
   "source": [
    "full = OperatorSpace(list(ope.basis()))\n",
    "full.shape"
   ]
  },
  {
   "cell_type": "code",
   "execution_count": 117,
   "metadata": {},
   "outputs": [],
   "source": [
    "Sx = sum(c(i,0).H@c(i,1)+c(i,1).H@c(i,0) for i in [0,1])\n",
    "Sy = sum(1j*c(i,1).H@c(i,0)-1j*c(i,0).H@c(i,1) for i in [0,1])\n",
    "Sz = sum(c(i,0).H@c(i,0)-c(i,1).H@c(i,1) for i in [0,1])"
   ]
  },
  {
   "cell_type": "code",
   "execution_count": 118,
   "metadata": {},
   "outputs": [],
   "source": [
    "eqs = Operators([])\n",
    "eqs = eqs.append(full.adjoint(Sx))\n",
    "eqs = eqs.append(full.adjoint(Sy))\n",
    "eqs = eqs.append(full.adjoint(Sz))\n",
    "eqs = eqs.append(full.adjoint(H))\n",
    "eqs = eqs.append(maj())"
   ]
  },
  {
   "cell_type": "code",
   "execution_count": 119,
   "metadata": {},
   "outputs": [
    {
     "data": {
      "text/plain": [
       "(19,)"
      ]
     },
     "execution_count": 119,
     "metadata": {},
     "output_type": "execute_result"
    }
   ],
   "source": [
    "null = full.solve(eqs).round(10)\n",
    "null.shape"
   ]
  },
  {
   "cell_type": "code",
   "execution_count": 120,
   "metadata": {},
   "outputs": [
    {
     "data": {
      "text/plain": [
       "((19,), (95, 95), (19, 95, 95))"
      ]
     },
     "execution_count": 120,
     "metadata": {},
     "output_type": "execute_result"
    }
   ],
   "source": [
    "b = null.represent(H).real\n",
    "C = OperatorSpace([maj()]).represent(ope, axis=0)[0]\n",
    "As = null.represent(ope, axis=0)\n",
    "b.shape, C.shape, As.shape"
   ]
  },
  {
   "cell_type": "code",
   "execution_count": 121,
   "metadata": {},
   "outputs": [
    {
     "data": {
      "text/plain": [
       "(-1.4142135581381816,\n",
       " array([ 0.02102448,  2.21638554,  0.62337845, -0.40162149,  1.15983436,\n",
       "         1.47321549,  0.81489182,  1.10047373, -0.03102191, -0.24188749,\n",
       "        -0.2375874 ,  0.31023381,  0.30132283,  0.07138884,  1.22330699,\n",
       "         0.99999996, -0.33345277,  1.10684379,  0.07609874]))"
      ]
     },
     "execution_count": 121,
     "metadata": {},
     "output_type": "execute_result"
    }
   ],
   "source": [
    "E, x = SDP(b, C, As)\n",
    "E, x"
   ]
  },
  {
   "cell_type": "code",
   "execution_count": null,
   "metadata": {},
   "outputs": [],
   "source": []
  }
 ],
 "metadata": {
  "kernelspec": {
   "display_name": "Python 3 (ipykernel)",
   "language": "python",
   "name": "python3"
  },
  "language_info": {
   "codemirror_mode": {
    "name": "ipython",
    "version": 3
   },
   "file_extension": ".py",
   "mimetype": "text/x-python",
   "name": "python",
   "nbconvert_exporter": "python",
   "pygments_lexer": "ipython3",
   "version": "3.9.12"
  }
 },
 "nbformat": 4,
 "nbformat_minor": 4
}
