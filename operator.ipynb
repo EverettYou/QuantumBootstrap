{
 "cells": [
  {
   "cell_type": "code",
   "execution_count": 66,
   "metadata": {},
   "outputs": [],
   "source": [
    "%run qboot"
   ]
  },
  {
   "cell_type": "markdown",
   "metadata": {},
   "source": [
    "# Operator Algebra"
   ]
  },
  {
   "cell_type": "markdown",
   "metadata": {},
   "source": [
    "## Majorana Operator"
   ]
  },
  {
   "cell_type": "markdown",
   "metadata": {},
   "source": [
    "Create Majorana operator by"
   ]
  },
  {
   "cell_type": "code",
   "execution_count": 2,
   "metadata": {},
   "outputs": [
    {
     "data": {
      "text/plain": [
       "I"
      ]
     },
     "execution_count": 2,
     "metadata": {},
     "output_type": "execute_result"
    }
   ],
   "source": [
    "maj()"
   ]
  },
  {
   "cell_type": "code",
   "execution_count": 3,
   "metadata": {},
   "outputs": [
    {
     "data": {
      "text/plain": [
       "χ1"
      ]
     },
     "execution_count": 3,
     "metadata": {},
     "output_type": "execute_result"
    }
   ],
   "source": [
    "maj(1)"
   ]
  },
  {
   "cell_type": "markdown",
   "metadata": {},
   "source": [
    "Product of Majorana operators"
   ]
  },
  {
   "cell_type": "code",
   "execution_count": 4,
   "metadata": {},
   "outputs": [
    {
     "data": {
      "text/plain": [
       "(I, χ1 χ2, - χ1 χ2)"
      ]
     },
     "execution_count": 4,
     "metadata": {},
     "output_type": "execute_result"
    }
   ],
   "source": [
    "(maj(1)@maj(1), maj(1)@maj(2), maj(2)@maj(1))"
   ]
  },
  {
   "cell_type": "markdown",
   "metadata": {},
   "source": [
    "Majorana operator product can be simply created as"
   ]
  },
  {
   "cell_type": "code",
   "execution_count": 5,
   "metadata": {},
   "outputs": [
    {
     "data": {
      "text/plain": [
       "χ1 χ2 χ3 χ4"
      ]
     },
     "execution_count": 5,
     "metadata": {},
     "output_type": "execute_result"
    }
   ],
   "source": [
    "maj(1,2,3,4)"
   ]
  },
  {
   "cell_type": "code",
   "execution_count": 6,
   "metadata": {},
   "outputs": [
    {
     "data": {
      "text/plain": [
       "- χ1 χ2 χ3 χ5 χ6 χ7"
      ]
     },
     "execution_count": 6,
     "metadata": {},
     "output_type": "execute_result"
    }
   ],
   "source": [
    "maj(1,2,4,5)@maj(3,4,6,7)"
   ]
  },
  {
   "cell_type": "markdown",
   "metadata": {},
   "source": [
    "Scalar multiplication"
   ]
  },
  {
   "cell_type": "code",
   "execution_count": 7,
   "metadata": {},
   "outputs": [
    {
     "data": {
      "text/plain": [
       "(2.50 χ1, 0.50 χ1, i χ1 χ2)"
      ]
     },
     "execution_count": 7,
     "metadata": {},
     "output_type": "execute_result"
    }
   ],
   "source": [
    "2.5*maj(1), maj(1)/2, 1j*maj(1)@maj(2)"
   ]
  },
  {
   "cell_type": "markdown",
   "metadata": {},
   "source": [
    "More general linear combination of Majorana operators"
   ]
  },
  {
   "cell_type": "code",
   "execution_count": 26,
   "metadata": {},
   "outputs": [
    {
     "data": {
      "text/plain": [
       "(0.50 χ1 χ2 χ3 χ4 +0.20 χ5 χ6 χ7 χ8 -0.10 χ1 χ2 χ5 χ6,\n",
       " 0.30 χ3 χ4 χ5 χ6 -0.60 χ1 χ2 χ5 χ6)"
      ]
     },
     "execution_count": 26,
     "metadata": {},
     "output_type": "execute_result"
    }
   ],
   "source": [
    "A = 0.5*maj(1,2,3,4) + 0.2*maj(5,6,7,8) - 0.1*maj(1,2,5,6)\n",
    "B = 0.3*maj(3,4,5,6) - 0.6*maj(1,2,5,6)\n",
    "A, B"
   ]
  },
  {
   "cell_type": "code",
   "execution_count": 27,
   "metadata": {},
   "outputs": [
    {
     "data": {
      "text/plain": [
       "-0.15 χ1 χ2 χ5 χ6 +0.30 χ3 χ4 χ5 χ6 -0.06 χ3 χ4 χ7 χ8 +0.12 χ1 χ2 χ7 χ8 +0.03 χ1 χ2 χ3 χ4 +0.06 I"
      ]
     },
     "execution_count": 27,
     "metadata": {},
     "output_type": "execute_result"
    }
   ],
   "source": [
    "A@B"
   ]
  },
  {
   "cell_type": "markdown",
   "metadata": {},
   "source": [
    "Inner product and trace"
   ]
  },
  {
   "cell_type": "code",
   "execution_count": 28,
   "metadata": {},
   "outputs": [
    {
     "data": {
      "text/plain": [
       "0.06"
      ]
     },
     "execution_count": 28,
     "metadata": {},
     "output_type": "execute_result"
    }
   ],
   "source": [
    "A.inner(B)"
   ]
  },
  {
   "cell_type": "code",
   "execution_count": 29,
   "metadata": {},
   "outputs": [
    {
     "data": {
      "text/plain": [
       "0.06"
      ]
     },
     "execution_count": 29,
     "metadata": {},
     "output_type": "execute_result"
    }
   ],
   "source": [
    "(A.H@B).trace()"
   ]
  },
  {
   "cell_type": "markdown",
   "metadata": {},
   "source": [
    "Terms cancle out under subtraction."
   ]
  },
  {
   "cell_type": "code",
   "execution_count": 30,
   "metadata": {},
   "outputs": [
    {
     "data": {
      "text/plain": [
       "0"
      ]
     },
     "execution_count": 30,
     "metadata": {},
     "output_type": "execute_result"
    }
   ],
   "source": [
    "A - A"
   ]
  },
  {
   "cell_type": "markdown",
   "metadata": {},
   "source": [
    "Compare operator: operators are equal if their difference is zero"
   ]
  },
  {
   "cell_type": "code",
   "execution_count": 31,
   "metadata": {},
   "outputs": [
    {
     "data": {
      "text/plain": [
       "(True, True, True)"
      ]
     },
     "execution_count": 31,
     "metadata": {},
     "output_type": "execute_result"
    }
   ],
   "source": [
    "(A == A, A - A == 0, A != B)"
   ]
  },
  {
   "cell_type": "markdown",
   "metadata": {},
   "source": [
    "A scalar is treated as the scalar times identity operator"
   ]
  },
  {
   "cell_type": "code",
   "execution_count": 32,
   "metadata": {},
   "outputs": [
    {
     "data": {
      "text/plain": [
       "χ1 + I"
      ]
     },
     "execution_count": 32,
     "metadata": {},
     "output_type": "execute_result"
    }
   ],
   "source": [
    "maj(1) + 1"
   ]
  },
  {
   "cell_type": "code",
   "execution_count": 35,
   "metadata": {},
   "outputs": [
    {
     "data": {
      "text/plain": [
       "True"
      ]
     },
     "execution_count": 35,
     "metadata": {},
     "output_type": "execute_result"
    }
   ],
   "source": [
    "maj() == 1"
   ]
  },
  {
   "cell_type": "markdown",
   "metadata": {},
   "source": [
    "Round off small terms: `.round(decimals)` round to the specific number of decimal places (default: 0). "
   ]
  },
  {
   "cell_type": "code",
   "execution_count": 36,
   "metadata": {},
   "outputs": [
    {
     "data": {
      "text/plain": [
       "χ2"
      ]
     },
     "execution_count": 36,
     "metadata": {},
     "output_type": "execute_result"
    }
   ],
   "source": [
    "(1.e-15*maj(1)+maj(2)).round(10)"
   ]
  },
  {
   "cell_type": "markdown",
   "metadata": {},
   "source": [
    "Hermitian conjugation of operators"
   ]
  },
  {
   "cell_type": "code",
   "execution_count": 37,
   "metadata": {},
   "outputs": [
    {
     "data": {
      "text/plain": [
       "(χ1 χ2, - χ1 χ2, 0, -i χ1 χ2)"
      ]
     },
     "execution_count": 37,
     "metadata": {},
     "output_type": "execute_result"
    }
   ],
   "source": [
    "(maj(1,2), maj(1,2).H, maj(1,2).real, maj(1,2).imag)"
   ]
  },
  {
   "cell_type": "markdown",
   "metadata": {},
   "source": [
    "### Fermion Parity"
   ]
  },
  {
   "cell_type": "markdown",
   "metadata": {},
   "source": [
    "`.parity` returns the Fermion parity of the operator:\n",
    "* +1: even\n",
    "* -1: odd\n",
    "* 0: mixed"
   ]
  },
  {
   "cell_type": "code",
   "execution_count": 38,
   "metadata": {},
   "outputs": [
    {
     "data": {
      "text/plain": [
       "(-1, 1, -1)"
      ]
     },
     "execution_count": 38,
     "metadata": {},
     "output_type": "execute_result"
    }
   ],
   "source": [
    "maj(1).parity, maj(1,2).parity, (maj(1)@maj(2)@maj(3)).parity"
   ]
  },
  {
   "cell_type": "code",
   "execution_count": 39,
   "metadata": {},
   "outputs": [
    {
     "data": {
      "text/plain": [
       "0"
      ]
     },
     "execution_count": 39,
     "metadata": {},
     "output_type": "execute_result"
    }
   ],
   "source": [
    "(maj(1)+1).parity"
   ]
  },
  {
   "cell_type": "markdown",
   "metadata": {},
   "source": [
    "A cache variable `._parity` is introduced to keep the parity result"
   ]
  },
  {
   "cell_type": "code",
   "execution_count": 40,
   "metadata": {},
   "outputs": [
    {
     "data": {
      "text/plain": [
       "(None, -1, -1)"
      ]
     },
     "execution_count": 40,
     "metadata": {},
     "output_type": "execute_result"
    }
   ],
   "source": [
    "x = maj(1)\n",
    "x._parity, x.parity, x._parity"
   ]
  },
  {
   "cell_type": "markdown",
   "metadata": {},
   "source": [
    "The cache is cleared if the operator is modified."
   ]
  },
  {
   "cell_type": "code",
   "execution_count": 41,
   "metadata": {},
   "outputs": [
    {
     "data": {
      "text/plain": [
       "(None, 0, 0)"
      ]
     },
     "execution_count": 41,
     "metadata": {},
     "output_type": "execute_result"
    }
   ],
   "source": [
    "x += 1\n",
    "x._parity, x.parity, x._parity"
   ]
  },
  {
   "cell_type": "markdown",
   "metadata": {},
   "source": [
    "### Locality and Commutator"
   ]
  },
  {
   "cell_type": "code",
   "execution_count": 64,
   "metadata": {},
   "outputs": [
    {
     "data": {
      "text/plain": [
       "i χ0 χ1 +i χ1 χ2 +i χ2 χ3 -i χ0 χ3"
      ]
     },
     "execution_count": 64,
     "metadata": {},
     "output_type": "execute_result"
    }
   ],
   "source": [
    "H=sum(1j*maj(i)@maj((i+1)%4) for i in range(4))\n",
    "H"
   ]
  },
  {
   "cell_type": "markdown",
   "metadata": {},
   "source": [
    "`.loc_terms` (local terms) hosts lists of terms for each location. This can be useful in calculating the commutator, as non-overlapping operators (with even fermion parity) always commute."
   ]
  },
  {
   "cell_type": "code",
   "execution_count": 48,
   "metadata": {},
   "outputs": [
    {
     "data": {
      "text/plain": [
       "{0: {(0, 1), (0, 3)},\n",
       " 1: {(0, 1), (1, 2)},\n",
       " 2: {(1, 2), (2, 3)},\n",
       " 3: {(0, 3), (2, 3)}}"
      ]
     },
     "execution_count": 48,
     "metadata": {},
     "output_type": "execute_result"
    }
   ],
   "source": [
    "H.loc_terms"
   ]
  },
  {
   "cell_type": "markdown",
   "metadata": {},
   "source": [
    "Commutator"
   ]
  },
  {
   "cell_type": "code",
   "execution_count": 61,
   "metadata": {},
   "outputs": [
    {
     "data": {
      "text/plain": [
       "(0, 2 χ1 χ2, 0)"
      ]
     },
     "execution_count": 61,
     "metadata": {},
     "output_type": "execute_result"
    }
   ],
   "source": [
    "maj(1).commutate(maj(1)), maj(1).commutate(maj(2)), maj(1,2).commutate(maj(3))"
   ]
  },
  {
   "cell_type": "code",
   "execution_count": 65,
   "metadata": {},
   "outputs": [
    {
     "data": {
      "text/plain": [
       "2i χ0 χ2 -2i χ1 χ3"
      ]
     },
     "execution_count": 65,
     "metadata": {},
     "output_type": "execute_result"
    }
   ],
   "source": [
    "H.commutate(maj(1,2))"
   ]
  },
  {
   "cell_type": "markdown",
   "metadata": {},
   "source": [
    "cache variables are populated after computing the commutator"
   ]
  },
  {
   "cell_type": "code",
   "execution_count": 51,
   "metadata": {},
   "outputs": [
    {
     "data": {
      "text/plain": [
       "{'terms': {(0, 1): 1j, (1, 2): 1j, (2, 3): 1j, (0, 3): (-0-1j)},\n",
       " '_loc_terms': {0: {(0, 1), (0, 3)},\n",
       "  1: {(0, 1), (1, 2)},\n",
       "  2: {(1, 2), (2, 3)},\n",
       "  3: {(0, 3), (2, 3)}},\n",
       " '_parity': 1}"
      ]
     },
     "execution_count": 51,
     "metadata": {},
     "output_type": "execute_result"
    }
   ],
   "source": [
    "H.__dict__"
   ]
  },
  {
   "cell_type": "markdown",
   "metadata": {},
   "source": [
    "## Pauli Operator"
   ]
  },
  {
   "cell_type": "markdown",
   "metadata": {},
   "source": [
    "Pauli operator can be created in multiple ways"
   ]
  },
  {
   "cell_type": "code",
   "execution_count": 52,
   "metadata": {},
   "outputs": [
    {
     "data": {
      "text/plain": [
       "(I, X0, Y0, Z0)"
      ]
     },
     "execution_count": 52,
     "metadata": {},
     "output_type": "execute_result"
    }
   ],
   "source": [
    "pauli(0), pauli(1), pauli(2), pauli(3)"
   ]
  },
  {
   "cell_type": "code",
   "execution_count": 53,
   "metadata": {},
   "outputs": [
    {
     "data": {
      "text/plain": [
       "(I, X0, Y0, Z0)"
      ]
     },
     "execution_count": 53,
     "metadata": {},
     "output_type": "execute_result"
    }
   ],
   "source": [
    "pauli('I'), pauli('X'), pauli('Y'), pauli('Z') "
   ]
  },
  {
   "cell_type": "code",
   "execution_count": 54,
   "metadata": {},
   "outputs": [
    {
     "data": {
      "text/plain": [
       "(X1 Z2, - X1 Z2, X1 Y2 Z6 Z7 Z9)"
      ]
     },
     "execution_count": 54,
     "metadata": {},
     "output_type": "execute_result"
    }
   ],
   "source": [
    "pauli('X1 Z2'), pauli('- IXZI'), pauli('I5ZZIZX1Y')"
   ]
  },
  {
   "cell_type": "code",
   "execution_count": 55,
   "metadata": {},
   "outputs": [
    {
     "data": {
      "text/plain": [
       "(Z1 Y5, Z1 Y5, Z1 Y5, Z1 Y5)"
      ]
     },
     "execution_count": 55,
     "metadata": {},
     "output_type": "execute_result"
    }
   ],
   "source": [
    "pauli({1:'Z',5:'Y'}), pauli({1:3,5:2}), pauli((1,3),(5,2)), pauli(('Z',1),('Y',5))"
   ]
  },
  {
   "cell_type": "code",
   "execution_count": 56,
   "metadata": {},
   "outputs": [
    {
     "data": {
      "text/plain": [
       "(Z1 X2 Y4, Z1 X2 Y4, Z1 X2 Y4)"
      ]
     },
     "execution_count": 56,
     "metadata": {},
     "output_type": "execute_result"
    }
   ],
   "source": [
    "pauli('I','Z','X','I','Y','I'), pauli(0,3,1,0,2,0), pauli('Z',1,'X','Y',4),"
   ]
  },
  {
   "cell_type": "code",
   "execution_count": 57,
   "metadata": {},
   "outputs": [
    {
     "data": {
      "text/plain": [
       "I"
      ]
     },
     "execution_count": 57,
     "metadata": {},
     "output_type": "execute_result"
    }
   ],
   "source": [
    "pauli()"
   ]
  },
  {
   "cell_type": "markdown",
   "metadata": {},
   "source": [
    "Product of Pauli operators"
   ]
  },
  {
   "cell_type": "code",
   "execution_count": 67,
   "metadata": {},
   "outputs": [
    {
     "data": {
      "text/plain": [
       "(i Z0, - Z0 Z1, Z0 Y2)"
      ]
     },
     "execution_count": 67,
     "metadata": {},
     "output_type": "execute_result"
    }
   ],
   "source": [
    "pauli('X')@pauli('Y'), pauli('XX')@pauli('YY'), pauli('X1Y2')@pauli('Z0X1')"
   ]
  },
  {
   "cell_type": "markdown",
   "metadata": {},
   "source": [
    "Scalar multiplication"
   ]
  },
  {
   "cell_type": "code",
   "execution_count": 68,
   "metadata": {},
   "outputs": [
    {
     "data": {
      "text/plain": [
       "(2.50 X0, 0.50 Y0)"
      ]
     },
     "execution_count": 68,
     "metadata": {},
     "output_type": "execute_result"
    }
   ],
   "source": [
    "2.5*pauli('X'), pauli('Y')/2"
   ]
  },
  {
   "cell_type": "markdown",
   "metadata": {},
   "source": [
    "More general linear combinations of Pauli operators"
   ]
  },
  {
   "cell_type": "code",
   "execution_count": 69,
   "metadata": {},
   "outputs": [
    {
     "data": {
      "text/plain": [
       "(0.50 Z0 +0.20 Z1 -0.10 Z2, 0.30 X0 X1 -0.60 X1 X2)"
      ]
     },
     "execution_count": 69,
     "metadata": {},
     "output_type": "execute_result"
    }
   ],
   "source": [
    "A = 0.5*pauli('Z0') + 0.2*pauli('Z1') - 0.1*pauli('Z2')\n",
    "B = 0.3*pauli('X0X1') - 0.6*pauli('X1X2')\n",
    "A, B"
   ]
  },
  {
   "cell_type": "code",
   "execution_count": 70,
   "metadata": {},
   "outputs": [
    {
     "data": {
      "text/plain": [
       "0.15i Y0 X1 -0.30 Z0 X1 X2 +0.06i X0 Y1 -0.12i Y1 X2 -0.03 X0 X1 Z2 +0.06i X1 Y2"
      ]
     },
     "execution_count": 70,
     "metadata": {},
     "output_type": "execute_result"
    }
   ],
   "source": [
    "A@B"
   ]
  },
  {
   "cell_type": "code",
   "execution_count": 71,
   "metadata": {},
   "outputs": [
    {
     "data": {
      "text/plain": [
       "-0.30 Y0 X1 -0.12 X0 Y1 +0.24 Y1 X2 -0.12 X1 Y2"
      ]
     },
     "execution_count": 71,
     "metadata": {},
     "output_type": "execute_result"
    }
   ],
   "source": [
    "1j*(A@B - B@A)"
   ]
  },
  {
   "cell_type": "code",
   "execution_count": 72,
   "metadata": {},
   "outputs": [
    {
     "data": {
      "text/plain": [
       "(0.30000000000000004, 0)"
      ]
     },
     "execution_count": 72,
     "metadata": {},
     "output_type": "execute_result"
    }
   ],
   "source": [
    "A.inner(A), A.inner(B)"
   ]
  },
  {
   "cell_type": "code",
   "execution_count": 73,
   "metadata": {},
   "outputs": [
    {
     "data": {
      "text/plain": [
       "0"
      ]
     },
     "execution_count": 73,
     "metadata": {},
     "output_type": "execute_result"
    }
   ],
   "source": [
    "A.trace()"
   ]
  },
  {
   "cell_type": "markdown",
   "metadata": {},
   "source": [
    "Hermitian conjugate of operators"
   ]
  },
  {
   "cell_type": "code",
   "execution_count": 74,
   "metadata": {},
   "outputs": [
    {
     "data": {
      "text/plain": [
       "(-0.15i Y0 X1 -0.30 Z0 X1 X2 -0.06i X0 Y1 +0.12i Y1 X2 -0.03 X0 X1 Z2 -0.06i X1 Y2,\n",
       " -0.30 Z0 X1 X2 -0.03 X0 X1 Z2,\n",
       " 0.15 Y0 X1 +0.06 X0 Y1 -0.12 Y1 X2 +0.06 X1 Y2)"
      ]
     },
     "execution_count": 74,
     "metadata": {},
     "output_type": "execute_result"
    }
   ],
   "source": [
    "(A@B).H, (A@B).real, (A@B).imag"
   ]
  },
  {
   "cell_type": "markdown",
   "metadata": {},
   "source": [
    "### Locality and Commutator"
   ]
  },
  {
   "cell_type": "code",
   "execution_count": 80,
   "metadata": {},
   "outputs": [
    {
     "data": {
      "text/plain": [
       "(2i Z0, -2i Z0)"
      ]
     },
     "execution_count": 80,
     "metadata": {},
     "output_type": "execute_result"
    }
   ],
   "source": [
    "pauli('X').commutate(pauli('Y')), pauli('Y').commutate(pauli('X'))"
   ]
  },
  {
   "cell_type": "code",
   "execution_count": 81,
   "metadata": {},
   "outputs": [
    {
     "data": {
      "text/plain": [
       "(2i X0 -2i Y0, -2i X0 +2i Y0)"
      ]
     },
     "execution_count": 81,
     "metadata": {},
     "output_type": "execute_result"
    }
   ],
   "source": [
    "xy = pauli('X')+pauli('Y')\n",
    "z = pauli('Z')\n",
    "xy.commutate(z), z.commutate(xy)"
   ]
  },
  {
   "cell_type": "code",
   "execution_count": 75,
   "metadata": {},
   "outputs": [
    {
     "data": {
      "text/plain": [
       "- Z0 Z1 - Z1 Z2 - Z2 Z3 - Z0 Z3 - X0 - X1 - X2 - X3"
      ]
     },
     "execution_count": 75,
     "metadata": {},
     "output_type": "execute_result"
    }
   ],
   "source": [
    "H = -sum(pauli(('Z',i),('Z',(i+1)%4)) for i in range(4))-sum(pauli('X',i) for i in range(4))\n",
    "H"
   ]
  },
  {
   "cell_type": "markdown",
   "metadata": {},
   "source": [
    "`.loc_terms` collects operator terms that cover each local position."
   ]
  },
  {
   "cell_type": "code",
   "execution_count": 76,
   "metadata": {},
   "outputs": [
    {
     "data": {
      "text/plain": [
       "{0: {((0, 1),), ((0, 3), (1, 3)), ((0, 3), (3, 3))},\n",
       " 1: {((0, 3), (1, 3)), ((1, 1),), ((1, 3), (2, 3))},\n",
       " 2: {((1, 3), (2, 3)), ((2, 1),), ((2, 3), (3, 3))},\n",
       " 3: {((0, 3), (3, 3)), ((2, 3), (3, 3)), ((3, 1),)}}"
      ]
     },
     "execution_count": 76,
     "metadata": {},
     "output_type": "execute_result"
    }
   ],
   "source": [
    "H.loc_terms"
   ]
  },
  {
   "cell_type": "markdown",
   "metadata": {},
   "source": [
    "Commutator "
   ]
  },
  {
   "cell_type": "code",
   "execution_count": 77,
   "metadata": {},
   "outputs": [
    {
     "data": {
      "text/plain": [
       "-2i Z0 Y1 -2i Y1 Z2"
      ]
     },
     "execution_count": 77,
     "metadata": {},
     "output_type": "execute_result"
    }
   ],
   "source": [
    "H.commutate(pauli('X1'))"
   ]
  },
  {
   "cell_type": "code",
   "execution_count": 78,
   "metadata": {},
   "outputs": [
    {
     "data": {
      "text/plain": [
       "0"
      ]
     },
     "execution_count": 78,
     "metadata": {},
     "output_type": "execute_result"
    }
   ],
   "source": [
    "H.commutate(H)"
   ]
  },
  {
   "cell_type": "markdown",
   "metadata": {},
   "source": [
    "# Operator Space"
   ]
  },
  {
   "cell_type": "markdown",
   "metadata": {},
   "source": [
    "## Operator Signature"
   ]
  },
  {
   "cell_type": "markdown",
   "metadata": {},
   "source": [
    "Dot product of operator:\n",
    "* ordinary (non-Hermitian) dot product (no operator is conjugated)\n",
    "$$A\\cdot B=\\frac{1}{\\mathrm{Tr}\\mathbb{1}}\\mathrm{Tr}(A B)$$\n",
    "* Hermitian dot product (left operator conjugated)\n",
    "$$A\\cdot_H B=\\frac{1}{\\mathrm{Tr}\\mathbb{1}}\\mathrm{Tr}(A^\\dagger B)$$\n",
    "\n",
    "Positivity:\n",
    "* $A\\cdot A$ is **not** positive definite, its sign is defined as the signature of $A$. \n",
    "* $A\\cdot_H A$ is positive definite\n",
    "* One may define $\\text{signature}(A)=\\mathrm{Tr}A^2/\\mathrm{Tr}(A^\\dagger A)$. If $A^2=\\pm \\mathbb{1}$, then $A^\\dagger = \\text{signature}(A) A$."
   ]
  },
  {
   "cell_type": "code",
   "execution_count": 82,
   "metadata": {},
   "outputs": [
    {
     "data": {
      "text/plain": [
       "[I, χ0, χ0 χ1, χ0 χ1 χ2, χ0 χ1 χ2 χ3]"
      ]
     },
     "execution_count": 82,
     "metadata": {},
     "output_type": "execute_result"
    }
   ],
   "source": [
    "ops = [maj(range(n)) for n in range(5)]\n",
    "ops"
   ]
  },
  {
   "cell_type": "markdown",
   "metadata": {},
   "source": [
    "Operator may not have positive signature"
   ]
  },
  {
   "cell_type": "code",
   "execution_count": 83,
   "metadata": {},
   "outputs": [
    {
     "data": {
      "text/plain": [
       "[[1, 0, 0, 0, 0],\n",
       " [0, 1, 0, 0, 0],\n",
       " [0, 0, -1, 0, 0],\n",
       " [0, 0, 0, -1, 0],\n",
       " [0, 0, 0, 0, 1]]"
      ]
     },
     "execution_count": 83,
     "metadata": {},
     "output_type": "execute_result"
    }
   ],
   "source": [
    "[[(op1@op2).trace() for op2 in ops] for op1 in ops]"
   ]
  },
  {
   "cell_type": "code",
   "execution_count": 86,
   "metadata": {},
   "outputs": [
    {
     "data": {
      "text/plain": [
       "[[1, 0, 0, 0, 0],\n",
       " [0, 1, 0, 0, 0],\n",
       " [0, 0, 1, 0, 0],\n",
       " [0, 0, 0, 1, 0],\n",
       " [0, 0, 0, 0, 1]]"
      ]
     },
     "execution_count": 86,
     "metadata": {},
     "output_type": "execute_result"
    }
   ],
   "source": [
    "[[(op1.H@op2).trace() for op2 in ops] for op1 in ops]"
   ]
  },
  {
   "cell_type": "markdown",
   "metadata": {},
   "source": [
    "Inner product corresponds to the Hermitian dot product."
   ]
  },
  {
   "cell_type": "code",
   "execution_count": 87,
   "metadata": {},
   "outputs": [
    {
     "data": {
      "text/plain": [
       "[[1, 0, 0, 0, 0],\n",
       " [0, 1, 0, 0, 0],\n",
       " [0, 0, 1, 0, 0],\n",
       " [0, 0, 0, 1, 0],\n",
       " [0, 0, 0, 0, 1]]"
      ]
     },
     "execution_count": 87,
     "metadata": {},
     "output_type": "execute_result"
    }
   ],
   "source": [
    "[[op1.inner(op2) for op2 in ops] for op1 in ops]"
   ]
  },
  {
   "cell_type": "markdown",
   "metadata": {},
   "source": [
    "## Operators"
   ]
  },
  {
   "cell_type": "markdown",
   "metadata": {},
   "source": [
    "Construct an array of operators"
   ]
  },
  {
   "cell_type": "code",
   "execution_count": 88,
   "metadata": {},
   "outputs": [
    {
     "data": {
      "text/plain": [
       "Operators([I, χ0, χ0 χ1, χ0 χ1 χ2, χ0 χ1 χ2 χ3])"
      ]
     },
     "execution_count": 88,
     "metadata": {},
     "output_type": "execute_result"
    }
   ],
   "source": [
    "ops = Operators([maj(range(n)) for n in range(5)])\n",
    "ops"
   ]
  },
  {
   "cell_type": "code",
   "execution_count": 91,
   "metadata": {},
   "outputs": [
    {
     "data": {
      "text/plain": [
       "(χ0, Operators([I, χ0]), Operators([I, χ0 χ1 χ2]))"
      ]
     },
     "execution_count": 91,
     "metadata": {},
     "output_type": "execute_result"
    }
   ],
   "source": [
    "ops[1], ops[:2], ops[numpy.array([0,3])]"
   ]
  },
  {
   "cell_type": "markdown",
   "metadata": {},
   "source": [
    "Element-wise properties and functions."
   ]
  },
  {
   "cell_type": "code",
   "execution_count": 92,
   "metadata": {},
   "outputs": [
    {
     "data": {
      "text/plain": [
       "(Operators([I, χ0, - χ0 χ1, - χ0 χ1 χ2, χ0 χ1 χ2 χ3]),\n",
       " Operators([I, χ0, 0, 0, χ0 χ1 χ2 χ3]),\n",
       " Operators([0, 0, -i χ0 χ1, -i χ0 χ1 χ2, 0]))"
      ]
     },
     "execution_count": 92,
     "metadata": {},
     "output_type": "execute_result"
    }
   ],
   "source": [
    "ops.H, ops.real, ops.imag"
   ]
  },
  {
   "cell_type": "code",
   "execution_count": 93,
   "metadata": {},
   "outputs": [
    {
     "data": {
      "text/plain": [
       "(array([1.+0.j, 0.+0.j, 0.+0.j, 0.+0.j, 0.+0.j]),\n",
       " array([1.+0.j, 1.+0.j, 1.+0.j, 1.+0.j, 1.+0.j]))"
      ]
     },
     "execution_count": 93,
     "metadata": {},
     "output_type": "execute_result"
    }
   ],
   "source": [
    "ops.trace(), ops.norm()"
   ]
  },
  {
   "cell_type": "code",
   "execution_count": 94,
   "metadata": {},
   "outputs": [
    {
     "data": {
      "text/plain": [
       "(Operators([I, χ0, χ0 χ1, χ0 χ1 χ2, χ0 χ1 χ2 χ3]),\n",
       " Operators([I, χ0, χ0 χ1, χ0 χ1 χ2, χ0 χ1 χ2 χ3]))"
      ]
     },
     "execution_count": 94,
     "metadata": {},
     "output_type": "execute_result"
    }
   ],
   "source": [
    "ops.normalize(), ops.round()"
   ]
  },
  {
   "cell_type": "markdown",
   "metadata": {},
   "source": [
    "Element-wise binary operation"
   ]
  },
  {
   "cell_type": "code",
   "execution_count": 95,
   "metadata": {},
   "outputs": [
    {
     "data": {
      "text/plain": [
       "Operators([4 I, 4 χ0, 4 χ0 χ1, 4 χ0 χ1 χ2, 4 χ0 χ1 χ2 χ3])"
      ]
     },
     "execution_count": 95,
     "metadata": {},
     "output_type": "execute_result"
    }
   ],
   "source": [
    "ops + 3*ops # element wise "
   ]
  },
  {
   "cell_type": "code",
   "execution_count": 97,
   "metadata": {},
   "outputs": [
    {
     "data": {
      "text/plain": [
       "(array([1.+0.j, 1.+0.j, 1.+0.j, 1.+0.j, 1.+0.j]),\n",
       " array([1.+0.j, 0.+0.j, 0.+0.j, 0.+0.j, 0.+0.j]))"
      ]
     },
     "execution_count": 97,
     "metadata": {},
     "output_type": "execute_result"
    }
   ],
   "source": [
    "ops.inner(ops), ops.inner(maj())"
   ]
  },
  {
   "cell_type": "code",
   "execution_count": 98,
   "metadata": {},
   "outputs": [
    {
     "data": {
      "text/plain": [
       "(χ0 +2 χ0 χ1 +3 χ0 χ1 χ2 +4 χ0 χ1 χ2 χ3,\n",
       " χ0 +2 χ0 χ1 +3 χ0 χ1 χ2 +4 χ0 χ1 χ2 χ3)"
      ]
     },
     "execution_count": 98,
     "metadata": {},
     "output_type": "execute_result"
    }
   ],
   "source": [
    "x = numpy.arange(5)\n",
    "ops.dot(x), x.dot(ops)"
   ]
  },
  {
   "cell_type": "code",
   "execution_count": 99,
   "metadata": {},
   "outputs": [
    {
     "data": {
      "text/plain": [
       "(Operators([2 I, χ0 + I, χ0 χ1 + I, χ0 χ1 χ2 + I, χ0 χ1 χ2 χ3 + I]),\n",
       " Operators([2 I, χ0 + I, χ0 χ1 + I, χ0 χ1 χ2 + I, χ0 χ1 χ2 χ3 + I]))"
      ]
     },
     "execution_count": 99,
     "metadata": {},
     "output_type": "execute_result"
    }
   ],
   "source": [
    "ops + maj(), maj() + ops"
   ]
  },
  {
   "cell_type": "markdown",
   "metadata": {},
   "source": [
    "`Operators` object of a single operator (as scalar) falls back to an `Operator` object"
   ]
  },
  {
   "cell_type": "code",
   "execution_count": 100,
   "metadata": {},
   "outputs": [
    {
     "data": {
      "text/plain": [
       "I"
      ]
     },
     "execution_count": 100,
     "metadata": {},
     "output_type": "execute_result"
    }
   ],
   "source": [
    "Operators(maj())"
   ]
  },
  {
   "cell_type": "markdown",
   "metadata": {},
   "source": [
    "Select subspace"
   ]
  },
  {
   "cell_type": "code",
   "execution_count": 101,
   "metadata": {},
   "outputs": [
    {
     "data": {
      "text/plain": [
       "(Operators([I]), Operators([χ0, χ0 χ1, χ0 χ1 χ2, χ0 χ1 χ2 χ3]))"
      ]
     },
     "execution_count": 101,
     "metadata": {},
     "output_type": "execute_result"
    }
   ],
   "source": [
    "ops[ops == 1], ops[ops != 1]"
   ]
  },
  {
   "cell_type": "code",
   "execution_count": 102,
   "metadata": {},
   "outputs": [
    {
     "data": {
      "text/plain": [
       "Operators([I, χ0, χ0 χ1])"
      ]
     },
     "execution_count": 102,
     "metadata": {},
     "output_type": "execute_result"
    }
   ],
   "source": [
    "ops[ops.weight() <= 2]"
   ]
  },
  {
   "cell_type": "markdown",
   "metadata": {},
   "source": [
    "## OperatorSpace"
   ]
  },
  {
   "cell_type": "markdown",
   "metadata": {},
   "source": [
    "Start with a base space of operators"
   ]
  },
  {
   "cell_type": "code",
   "execution_count": 103,
   "metadata": {},
   "outputs": [
    {
     "data": {
      "text/plain": [
       "OperatorSpace([I])"
      ]
     },
     "execution_count": 103,
     "metadata": {},
     "output_type": "execute_result"
    }
   ],
   "source": [
    "ops0 = OperatorSpace([maj()])\n",
    "ops0"
   ]
  },
  {
   "cell_type": "code",
   "execution_count": 105,
   "metadata": {},
   "outputs": [
    {
     "data": {
      "text/plain": [
       "OperatorSpace([I, χ0, χ1, χ2, χ3])"
      ]
     },
     "execution_count": 105,
     "metadata": {},
     "output_type": "execute_result"
    }
   ],
   "source": [
    "ops1 = ops0.append([maj(i) for i in range(4)])\n",
    "ops1"
   ]
  },
  {
   "cell_type": "markdown",
   "metadata": {},
   "source": [
    "represent an operator in the operator space"
   ]
  },
  {
   "cell_type": "code",
   "execution_count": 106,
   "metadata": {},
   "outputs": [
    {
     "data": {
      "text/plain": [
       "array([0.+0.j, 0.+0.j, 1.+0.j, 0.+0.j, 0.+0.j])"
      ]
     },
     "execution_count": 106,
     "metadata": {},
     "output_type": "execute_result"
    }
   ],
   "source": [
    "v = ops1.represent(maj(1))\n",
    "v"
   ]
  },
  {
   "cell_type": "markdown",
   "metadata": {},
   "source": [
    "reconstruct operator from its representation"
   ]
  },
  {
   "cell_type": "code",
   "execution_count": 107,
   "metadata": {},
   "outputs": [
    {
     "data": {
      "text/plain": [
       "χ1"
      ]
     },
     "execution_count": 107,
     "metadata": {},
     "output_type": "execute_result"
    }
   ],
   "source": [
    "ops1.reconstruct(v)"
   ]
  },
  {
   "cell_type": "markdown",
   "metadata": {},
   "source": [
    "represent an array of operators in the operator space"
   ]
  },
  {
   "cell_type": "code",
   "execution_count": 110,
   "metadata": {},
   "outputs": [
    {
     "data": {
      "text/plain": [
       "Operators([[χ0, χ1],\n",
       "           [χ2, χ3]])"
      ]
     },
     "execution_count": 110,
     "metadata": {},
     "output_type": "execute_result"
    }
   ],
   "source": [
    "a = Operators([[maj(0),maj(1)],[maj(2),maj(3)]])\n",
    "a"
   ]
  },
  {
   "cell_type": "code",
   "execution_count": 111,
   "metadata": {},
   "outputs": [
    {
     "data": {
      "text/plain": [
       "array([[[0.+0.j, 1.+0.j, 0.+0.j, 0.+0.j, 0.+0.j],\n",
       "        [0.+0.j, 0.+0.j, 1.+0.j, 0.+0.j, 0.+0.j]],\n",
       "\n",
       "       [[0.+0.j, 0.+0.j, 0.+0.j, 1.+0.j, 0.+0.j],\n",
       "        [0.+0.j, 0.+0.j, 0.+0.j, 0.+0.j, 1.+0.j]]])"
      ]
     },
     "execution_count": 111,
     "metadata": {},
     "output_type": "execute_result"
    }
   ],
   "source": [
    "m = ops1.represent(a)\n",
    "m"
   ]
  },
  {
   "cell_type": "code",
   "execution_count": 112,
   "metadata": {},
   "outputs": [
    {
     "data": {
      "text/plain": [
       "Operators([[χ0, χ1],\n",
       "           [χ2, χ3]])"
      ]
     },
     "execution_count": 112,
     "metadata": {},
     "output_type": "execute_result"
    }
   ],
   "source": [
    "ops1.reconstruct(m)"
   ]
  },
  {
   "cell_type": "markdown",
   "metadata": {},
   "source": [
    "Use `outer` to obtain multiplication table of basis operators."
   ]
  },
  {
   "cell_type": "code",
   "execution_count": 113,
   "metadata": {},
   "outputs": [
    {
     "data": {
      "text/plain": [
       "Operators([[I, χ0, χ1, χ2, χ3],\n",
       "           [χ0, I, χ0 χ1, χ0 χ2, χ0 χ3],\n",
       "           [χ1, - χ0 χ1, I, χ1 χ2, χ1 χ3],\n",
       "           [χ2, - χ0 χ2, - χ1 χ2, I, χ2 χ3],\n",
       "           [χ3, - χ0 χ3, - χ1 χ3, - χ2 χ3, I]])"
      ]
     },
     "execution_count": 113,
     "metadata": {},
     "output_type": "execute_result"
    }
   ],
   "source": [
    "ope = ops1.outer(ops1)\n",
    "ope"
   ]
  },
  {
   "cell_type": "markdown",
   "metadata": {},
   "source": [
    "Construct orthonormal basis"
   ]
  },
  {
   "cell_type": "code",
   "execution_count": 114,
   "metadata": {},
   "outputs": [
    {
     "data": {
      "text/plain": [
       "OperatorSpace([I, χ1, χ2, χ3, χ0 χ1, χ0 χ2, χ0 χ3, χ1 χ2, χ1 χ3, χ2 χ3,\n",
       "               χ0])"
      ]
     },
     "execution_count": 114,
     "metadata": {},
     "output_type": "execute_result"
    }
   ],
   "source": [
    "ope.orth()"
   ]
  },
  {
   "cell_type": "markdown",
   "metadata": {},
   "source": [
    "Solve for null operators that are not in the smaller operator space (new operators generated by operator product)"
   ]
  },
  {
   "cell_type": "code",
   "execution_count": 115,
   "metadata": {},
   "outputs": [
    {
     "data": {
      "text/plain": [
       "OperatorSpace([χ0 χ2, χ0 χ3, χ1 χ2, χ1 χ3, χ2 χ3, χ0 χ1])"
      ]
     },
     "execution_count": 115,
     "metadata": {},
     "output_type": "execute_result"
    }
   ],
   "source": [
    "ope.orth().solve(ops1)"
   ]
  },
  {
   "cell_type": "markdown",
   "metadata": {},
   "source": [
    "Extend to a larger space, including new operators generated by ope. The basis are automatically orthonormalized."
   ]
  },
  {
   "cell_type": "code",
   "execution_count": 116,
   "metadata": {},
   "outputs": [
    {
     "data": {
      "text/plain": [
       "OperatorSpace([I, χ0, χ1, χ2, χ3, χ0 χ2, χ0 χ3, χ1 χ2, χ1 χ3, χ2 χ3,\n",
       "               χ0 χ1])"
      ]
     },
     "execution_count": 116,
     "metadata": {},
     "output_type": "execute_result"
    }
   ],
   "source": [
    "ops2 = ops1.append(ope.orth().solve(ops1))\n",
    "ops2"
   ]
  },
  {
   "cell_type": "markdown",
   "metadata": {},
   "source": [
    "It is better to choose a Hermitian basis, which can be done by Hermitianization."
   ]
  },
  {
   "cell_type": "code",
   "execution_count": 117,
   "metadata": {},
   "outputs": [
    {
     "data": {
      "text/plain": [
       "OperatorSpace([I, χ0, χ1, χ2, χ3, i χ0 χ2, i χ0 χ3, i χ1 χ2, i χ1 χ3,\n",
       "               i χ2 χ3, i χ0 χ1])"
      ]
     },
     "execution_count": 117,
     "metadata": {},
     "output_type": "execute_result"
    }
   ],
   "source": [
    "ops2 = ops2.real - ops2.imag\n",
    "ops2"
   ]
  },
  {
   "cell_type": "markdown",
   "metadata": {},
   "source": [
    "Represent the OPE result in the larger operator space, which gives the fusion tensor"
   ]
  },
  {
   "cell_type": "code",
   "execution_count": 118,
   "metadata": {},
   "outputs": [
    {
     "data": {
      "text/plain": [
       "(11, 5, 5)"
      ]
     },
     "execution_count": 118,
     "metadata": {},
     "output_type": "execute_result"
    }
   ],
   "source": [
    "ops2.represent(ope, axis=0).shape"
   ]
  },
  {
   "cell_type": "markdown",
   "metadata": {},
   "source": [
    "Create a Hamiltonian"
   ]
  },
  {
   "cell_type": "code",
   "execution_count": 119,
   "metadata": {},
   "outputs": [
    {
     "data": {
      "text/plain": [
       "i χ0 χ1 +i χ1 χ2 +i χ2 χ3 -i χ0 χ3"
      ]
     },
     "execution_count": 119,
     "metadata": {},
     "output_type": "execute_result"
    }
   ],
   "source": [
    "H = sum(1j*maj(i)@maj((i+1)%4) for i in range(4))\n",
    "H"
   ]
  },
  {
   "cell_type": "markdown",
   "metadata": {},
   "source": [
    "represent it in the full space"
   ]
  },
  {
   "cell_type": "code",
   "execution_count": 120,
   "metadata": {},
   "outputs": [
    {
     "data": {
      "text/plain": [
       "array([ 0.+0.j,  0.+0.j,  0.+0.j,  0.+0.j,  0.+0.j,  0.+0.j, -1.+0.j,\n",
       "        1.+0.j,  0.+0.j,  1.+0.j,  1.+0.j])"
      ]
     },
     "execution_count": 120,
     "metadata": {},
     "output_type": "execute_result"
    }
   ],
   "source": [
    "ops2.represent(H)"
   ]
  },
  {
   "cell_type": "markdown",
   "metadata": {},
   "source": [
    "Compute commutator to obtain constraint equatitions"
   ]
  },
  {
   "cell_type": "code",
   "execution_count": 121,
   "metadata": {},
   "outputs": [
    {
     "data": {
      "text/plain": [
       "OperatorSpace([2 χ1 -2 χ3, -2 χ0 +2 χ2, -2 χ1 +2 χ3, 2 χ0 -2 χ2,\n",
       "               2i χ1 χ2 +2i χ2 χ3 +2i χ0 χ3 -2i χ0 χ1, 2i χ1 χ3 -2i χ0 χ2,\n",
       "               -2i χ0 χ2 +2i χ1 χ3,\n",
       "               -2i χ0 χ3 -2i χ0 χ1 -2i χ1 χ2 +2i χ2 χ3,\n",
       "               -2i χ1 χ3 -2i χ0 χ2, 2i χ1 χ3 +2i χ0 χ2])"
      ]
     },
     "execution_count": 121,
     "metadata": {},
     "output_type": "execute_result"
    }
   ],
   "source": [
    "eqs = ops2[ops2 != 1].adjoint(H)\n",
    "eqs"
   ]
  },
  {
   "cell_type": "markdown",
   "metadata": {},
   "source": [
    "Pick out non-trivial equations (remove zeros)"
   ]
  },
  {
   "cell_type": "code",
   "execution_count": 122,
   "metadata": {},
   "outputs": [
    {
     "data": {
      "text/plain": [
       "OperatorSpace([2 χ1 -2 χ3, -2 χ0 +2 χ2, -2 χ1 +2 χ3, 2 χ0 -2 χ2,\n",
       "               2i χ1 χ2 +2i χ2 χ3 +2i χ0 χ3 -2i χ0 χ1, 2i χ1 χ3 -2i χ0 χ2,\n",
       "               -2i χ0 χ2 +2i χ1 χ3,\n",
       "               -2i χ0 χ3 -2i χ0 χ1 -2i χ1 χ2 +2i χ2 χ3,\n",
       "               -2i χ1 χ3 -2i χ0 χ2, 2i χ1 χ3 +2i χ0 χ2])"
      ]
     },
     "execution_count": 122,
     "metadata": {},
     "output_type": "execute_result"
    }
   ],
   "source": [
    "eqs1 = eqs[eqs != 0]\n",
    "eqs1"
   ]
  },
  {
   "cell_type": "markdown",
   "metadata": {},
   "source": [
    "Moreover, the identity operator has a fixed expectation value, it should also be constrained (although not constrained to zero). Impose this constraint by adding identity operator to the equations."
   ]
  },
  {
   "cell_type": "code",
   "execution_count": 124,
   "metadata": {},
   "outputs": [
    {
     "data": {
      "text/plain": [
       "OperatorSpace([2 χ1 -2 χ3, -2 χ0 +2 χ2, -2 χ1 +2 χ3, 2 χ0 -2 χ2,\n",
       "               2i χ1 χ2 +2i χ2 χ3 +2i χ0 χ3 -2i χ0 χ1, 2i χ1 χ3 -2i χ0 χ2,\n",
       "               -2i χ0 χ2 +2i χ1 χ3,\n",
       "               -2i χ0 χ3 -2i χ0 χ1 -2i χ1 χ2 +2i χ2 χ3,\n",
       "               -2i χ1 χ3 -2i χ0 χ2, 2i χ1 χ3 +2i χ0 χ2, I])"
      ]
     },
     "execution_count": 124,
     "metadata": {},
     "output_type": "execute_result"
    }
   ],
   "source": [
    "eqs2 = eqs[eqs != 0].append(maj())\n",
    "eqs2"
   ]
  },
  {
   "cell_type": "markdown",
   "metadata": {},
   "source": [
    "represent equations in the full operator space"
   ]
  },
  {
   "cell_type": "code",
   "execution_count": 126,
   "metadata": {},
   "outputs": [
    {
     "data": {
      "text/plain": [
       "array([[ 0.,  2.,  0., -2.,  0.,  0.,  0.,  0.,  0.,  0.],\n",
       "       [-2.,  0.,  2.,  0.,  0.,  0.,  0.,  0.,  0.,  0.],\n",
       "       [ 0., -2.,  0.,  2.,  0.,  0.,  0.,  0.,  0.,  0.],\n",
       "       [ 2.,  0., -2.,  0.,  0.,  0.,  0.,  0.,  0.,  0.],\n",
       "       [ 0.,  0.,  0.,  0.,  0.,  2.,  2.,  0.,  2., -2.],\n",
       "       [ 0.,  0.,  0.,  0., -2.,  0.,  0.,  2.,  0.,  0.],\n",
       "       [ 0.,  0.,  0.,  0., -2.,  0.,  0.,  2.,  0.,  0.],\n",
       "       [ 0.,  0.,  0.,  0.,  0., -2., -2.,  0.,  2., -2.],\n",
       "       [ 0.,  0.,  0.,  0., -2.,  0.,  0., -2.,  0.,  0.],\n",
       "       [ 0.,  0.,  0.,  0.,  2.,  0.,  0.,  2.,  0.,  0.]])"
      ]
     },
     "execution_count": 126,
     "metadata": {},
     "output_type": "execute_result"
    }
   ],
   "source": [
    "eqmat1 = ops2[ops2 != 1].represent(eqs1)\n",
    "eqmat1.real"
   ]
  },
  {
   "cell_type": "code",
   "execution_count": 127,
   "metadata": {},
   "outputs": [
    {
     "data": {
      "text/plain": [
       "array([[ 0.,  0.,  2.,  0., -2.,  0.,  0.,  0.,  0.,  0.,  0.],\n",
       "       [ 0., -2.,  0.,  2.,  0.,  0.,  0.,  0.,  0.,  0.,  0.],\n",
       "       [ 0.,  0., -2.,  0.,  2.,  0.,  0.,  0.,  0.,  0.,  0.],\n",
       "       [ 0.,  2.,  0., -2.,  0.,  0.,  0.,  0.,  0.,  0.,  0.],\n",
       "       [ 0.,  0.,  0.,  0.,  0.,  0.,  2.,  2.,  0.,  2., -2.],\n",
       "       [ 0.,  0.,  0.,  0.,  0., -2.,  0.,  0.,  2.,  0.,  0.],\n",
       "       [ 0.,  0.,  0.,  0.,  0., -2.,  0.,  0.,  2.,  0.,  0.],\n",
       "       [ 0.,  0.,  0.,  0.,  0.,  0., -2., -2.,  0.,  2., -2.],\n",
       "       [ 0.,  0.,  0.,  0.,  0., -2.,  0.,  0., -2.,  0.,  0.],\n",
       "       [ 0.,  0.,  0.,  0.,  0.,  2.,  0.,  0.,  2.,  0.,  0.],\n",
       "       [ 1.,  0.,  0.,  0.,  0.,  0.,  0.,  0.,  0.,  0.,  0.]])"
      ]
     },
     "execution_count": 127,
     "metadata": {},
     "output_type": "execute_result"
    }
   ],
   "source": [
    "eqmat2 = ops2.represent(eqs2)\n",
    "eqmat2.real"
   ]
  },
  {
   "cell_type": "markdown",
   "metadata": {},
   "source": [
    "Find null space. Null vectors form the projection operator that project to the null space, in which the constrains are satisfied."
   ]
  },
  {
   "cell_type": "code",
   "execution_count": 131,
   "metadata": {},
   "outputs": [
    {
     "name": "stdout",
     "output_type": "stream",
     "text": [
      "array([[ 0.        , -0.        , -0.        , -0.        ],\n",
      "       [ 0.        , -0.        , -0.70710678, -0.        ],\n",
      "       [ 0.        , -0.        ,  0.        , -0.70710678],\n",
      "       [ 0.        ,  0.        , -0.70710678,  0.        ],\n",
      "       [ 0.        , -0.        ,  0.        , -0.70710678],\n",
      "       [ 0.        , -0.        ,  0.        , -0.        ],\n",
      "       [ 0.        , -0.70710678,  0.        , -0.        ],\n",
      "       [ 0.        ,  0.70710678,  0.        , -0.        ],\n",
      "       [ 0.        ,  0.        ,  0.        ,  0.        ],\n",
      "       [ 0.70710678, -0.        ,  0.        ,  0.        ],\n",
      "       [ 0.70710678,  0.        ,  0.        ,  0.        ]])\n"
     ]
    }
   ],
   "source": [
    "import scipy\n",
    "proj = scipy.linalg.null_space(eqmat2.real)\n",
    "print(numpy.array_repr(proj,suppress_small=True))"
   ]
  },
  {
   "cell_type": "code",
   "execution_count": 132,
   "metadata": {},
   "outputs": [
    {
     "data": {
      "text/plain": [
       "((11, 11), (11, 4))"
      ]
     },
     "execution_count": 132,
     "metadata": {},
     "output_type": "execute_result"
    }
   ],
   "source": [
    "eqmat2.shape, proj.shape"
   ]
  },
  {
   "cell_type": "markdown",
   "metadata": {},
   "source": [
    "Reduced operators in the null space."
   ]
  },
  {
   "cell_type": "code",
   "execution_count": 133,
   "metadata": {},
   "outputs": [
    {
     "data": {
      "text/plain": [
       "Operators([0.71i χ2 χ3 +0.71i χ0 χ1, -0.71i χ0 χ3 +0.71i χ1 χ2,\n",
       "           -0.71 χ0 -0.71 χ2, -0.71 χ1 -0.71 χ3])"
      ]
     },
     "execution_count": 133,
     "metadata": {},
     "output_type": "execute_result"
    }
   ],
   "source": [
    "ops2.reconstruct(proj.round(10), axis=0)"
   ]
  },
  {
   "cell_type": "markdown",
   "metadata": {},
   "source": [
    "Reconstruct reduced operator space (including the identity operator)"
   ]
  },
  {
   "cell_type": "code",
   "execution_count": 135,
   "metadata": {},
   "outputs": [
    {
     "data": {
      "text/plain": [
       "OperatorSpace([I, 0.71i χ2 χ3 +0.71i χ0 χ1, -0.71i χ0 χ3 +0.71i χ1 χ2,\n",
       "               -0.71 χ0 -0.71 χ2, -0.71 χ1 -0.71 χ3])"
      ]
     },
     "execution_count": 135,
     "metadata": {},
     "output_type": "execute_result"
    }
   ],
   "source": [
    "ops3 = OperatorSpace([maj()]).append(ops2.reconstruct(proj.round(10), axis=0))\n",
    "ops3"
   ]
  },
  {
   "cell_type": "markdown",
   "metadata": {},
   "source": [
    "Represent the Hamiltonian and OPE matrix in the reduced operator space"
   ]
  },
  {
   "cell_type": "code",
   "execution_count": 136,
   "metadata": {},
   "outputs": [
    {
     "name": "stdout",
     "output_type": "stream",
     "text": [
      "array([0.    +0.j, 1.4142+0.j, 1.4142+0.j, 0.    +0.j, 0.    +0.j])\n",
      "array([[[ 1. +0.j ,  0. +0.j ,  0. +0.j ,  0. +0.j ,  0. +0.j ],\n",
      "        [ 0. +0.j ,  1. +0.j ,  0. +0.j ,  0. +0.j ,  0. +0.j ],\n",
      "        [ 0. +0.j ,  0. +0.j ,  1. +0.j ,  0. +0.j ,  0. +0.j ],\n",
      "        [ 0. +0.j ,  0. +0.j ,  0. +0.j ,  1. +0.j ,  0. +0.j ],\n",
      "        [ 0. +0.j ,  0. +0.j ,  0. +0.j ,  0. +0.j ,  1. +0.j ]],\n",
      "\n",
      "       [[ 0. +0.j ,  0. +0.j ,  0. +0.j ,  0. +0.j ,  0. +0.j ],\n",
      "        [ 0. +0.j ,  0. +0.j ,  0. -0.7j,  0. +0.j ,  0. +0.j ],\n",
      "        [ 0. +0.j ,  0. +0.7j,  0. +0.j ,  0. +0.j ,  0. +0.j ],\n",
      "        [ 0. +0.j ,  0. +0.j ,  0. +0.j ,  0. +0.j ,  0. -0.7j],\n",
      "        [ 0. +0.j ,  0. +0.j ,  0. +0.j ,  0. +0.7j,  0. +0.j ]],\n",
      "\n",
      "       [[ 0. +0.j ,  0. +0.j ,  0. +0.j ,  0. +0.j ,  0. +0.j ],\n",
      "        [ 0. +0.j ,  0. +0.j ,  0. +0.j ,  0. +0.j ,  0. +0.7j],\n",
      "        [ 0. +0.j ,  0. +0.j ,  0. +0.j ,  0. -0.7j,  0. +0.j ],\n",
      "        [ 0. +0.j ,  0. +0.j ,  0. +0.7j,  0. +0.j ,  0. +0.j ],\n",
      "        [ 0. +0.j ,  0. -0.7j,  0. +0.j ,  0. +0.j ,  0. +0.j ]],\n",
      "\n",
      "       [[ 0. +0.j , -0.7+0.j ,  0. +0.j , -0.7+0.j ,  0. +0.j ],\n",
      "        [-0.7+0.j ,  0. +0.j ,  0. +0.j ,  0. +0.j ,  0. +0.j ],\n",
      "        [ 0. +0.j ,  0. +0.j ,  0. +0.j ,  0. +0.j ,  0. +0.j ],\n",
      "        [-0.7+0.j ,  0. +0.j ,  0. +0.j ,  0. +0.j ,  0. +0.j ],\n",
      "        [ 0. +0.j ,  0. +0.j ,  0. +0.j ,  0. +0.j ,  0. +0.j ]],\n",
      "\n",
      "       [[ 0. +0.j ,  0. +0.j , -0.7+0.j ,  0. +0.j , -0.7+0.j ],\n",
      "        [ 0. +0.j ,  0. +0.j ,  0. +0.j ,  0. +0.j ,  0. +0.j ],\n",
      "        [-0.7+0.j ,  0. +0.j ,  0. +0.j ,  0. +0.j ,  0. +0.j ],\n",
      "        [ 0. +0.j ,  0. +0.j ,  0. +0.j ,  0. +0.j ,  0. +0.j ],\n",
      "        [-0.7+0.j ,  0. +0.j ,  0. +0.j ,  0. +0.j ,  0. +0.j ]]])\n"
     ]
    }
   ],
   "source": [
    "h = ops3.represent(H)\n",
    "M = ops3.represent(ope, axis=0)\n",
    "print(numpy.array_repr(h,precision=4))\n",
    "print(numpy.array_repr(M,precision=1, suppress_small=True))"
   ]
  },
  {
   "cell_type": "code",
   "execution_count": 137,
   "metadata": {},
   "outputs": [
    {
     "data": {
      "text/plain": [
       "(-1.9999999999859985,\n",
       " array([-7.07106781e-01, -7.07106781e-01,  7.62755857e-33, -2.46835709e-32]))"
      ]
     },
     "execution_count": 137,
     "metadata": {},
     "output_type": "execute_result"
    }
   ],
   "source": [
    "from qboot import SDP\n",
    "E, x = SDP(h[1:].real, M[0], M[1:])\n",
    "E, x"
   ]
  },
  {
   "cell_type": "code",
   "execution_count": 139,
   "metadata": {},
   "outputs": [
    {
     "data": {
      "text/plain": [
       "array([ 0.00000000e+00+0.j, -5.39349839e-33+0.j,  1.74539204e-32+0.j,\n",
       "       -5.39349839e-33+0.j,  1.74539204e-32+0.j,  0.00000000e+00+0.j,\n",
       "        5.00000000e-01+0.j, -5.00000000e-01+0.j,  0.00000000e+00+0.j,\n",
       "       -5.00000000e-01+0.j, -5.00000000e-01+0.j])"
      ]
     },
     "execution_count": 139,
     "metadata": {},
     "output_type": "execute_result"
    }
   ],
   "source": [
    "ops2.represent(ops3[ops3 != 1], axis=0) @ x"
   ]
  },
  {
   "cell_type": "markdown",
   "metadata": {},
   "source": [
    "Solve equations to find null operator space, using different operator space and equations"
   ]
  },
  {
   "cell_type": "code",
   "execution_count": 141,
   "metadata": {},
   "outputs": [
    {
     "data": {
      "text/plain": [
       "OperatorSpace([-0.55 χ0 -0.44 χ1 -0.55 χ2 -0.44 χ3,\n",
       "               -0.71i χ0 χ3 +0.71i χ1 χ2,\n",
       "               -0.44 χ0 +0.55 χ1 -0.44 χ2 +0.55 χ3,\n",
       "               0.71i χ2 χ3 +0.71i χ0 χ1])"
      ]
     },
     "execution_count": 141,
     "metadata": {},
     "output_type": "execute_result"
    }
   ],
   "source": [
    "ops2[ops2 != 1].solve(eqs).round(10)"
   ]
  },
  {
   "cell_type": "code",
   "execution_count": 142,
   "metadata": {},
   "outputs": [
    {
     "data": {
      "text/plain": [
       "OperatorSpace([- I, 0.37 χ0 -0.60 χ1 +0.37 χ2 -0.60 χ3,\n",
       "               -0.35 χ0 -0.21 χ1 -0.35 χ2 -0.21 χ3 +0.58i χ0 χ3 -0.58i χ1 χ2,\n",
       "               0.49 χ0 +0.30 χ1 +0.49 χ2 +0.30 χ3 +0.41i χ0 χ3 -0.41i χ1 χ2,\n",
       "               0.71i χ2 χ3 +0.71i χ0 χ1])"
      ]
     },
     "execution_count": 142,
     "metadata": {},
     "output_type": "execute_result"
    }
   ],
   "source": [
    "ops2.solve(eqs).round(10)"
   ]
  },
  {
   "cell_type": "code",
   "execution_count": 143,
   "metadata": {},
   "outputs": [
    {
     "data": {
      "text/plain": [
       "OperatorSpace([0.71i χ2 χ3 +0.71i χ0 χ1, -0.71i χ0 χ3 +0.71i χ1 χ2,\n",
       "               -0.71 χ0 -0.71 χ2, -0.71 χ1 -0.71 χ3])"
      ]
     },
     "execution_count": 143,
     "metadata": {},
     "output_type": "execute_result"
    }
   ],
   "source": [
    "ops2.solve(eqs.append(maj())).round(10)"
   ]
  },
  {
   "cell_type": "markdown",
   "metadata": {},
   "source": [
    "Results are different but equivalenet."
   ]
  },
  {
   "cell_type": "code",
   "execution_count": 1,
   "metadata": {},
   "outputs": [],
   "source": [
    "%run qboot"
   ]
  },
  {
   "cell_type": "code",
   "execution_count": 3,
   "metadata": {},
   "outputs": [
    {
     "data": {
      "text/plain": [
       "OperatorSpace([I, i χ1 χ2, i χ1 χ3, i χ1 χ4, i χ2 χ3, i χ2 χ4, i χ3 χ4,\n",
       "               χ1 χ2 χ3 χ4])"
      ]
     },
     "execution_count": 3,
     "metadata": {},
     "output_type": "execute_result"
    }
   ],
   "source": [
    "ops = OperatorSpace([maj()])\n",
    "ops = ops.append([1j*maj(i+1,j+1) for i,j in combinations(range(4),2)])\n",
    "ops = ops.append(maj(1,2,3,4))\n",
    "ops"
   ]
  },
  {
   "cell_type": "code",
   "execution_count": 4,
   "metadata": {},
   "outputs": [
    {
     "data": {
      "text/plain": [
       "Operators([[I, i χ1 χ2, i χ1 χ3, i χ1 χ4, i χ2 χ3, i χ2 χ4, i χ3 χ4,\n",
       "            χ1 χ2 χ3 χ4],\n",
       "           [i χ1 χ2, I, χ2 χ3, χ2 χ4, - χ1 χ3, - χ1 χ4, - χ1 χ2 χ3 χ4,\n",
       "            -i χ3 χ4],\n",
       "           [i χ1 χ3, - χ2 χ3, I, χ3 χ4, χ1 χ2, χ1 χ2 χ3 χ4, - χ1 χ4,\n",
       "            i χ2 χ4],\n",
       "           [i χ1 χ4, - χ2 χ4, - χ3 χ4, I, - χ1 χ2 χ3 χ4, χ1 χ2, χ1 χ3,\n",
       "            -i χ2 χ3],\n",
       "           [i χ2 χ3, χ1 χ3, - χ1 χ2, - χ1 χ2 χ3 χ4, I, χ3 χ4, - χ2 χ4,\n",
       "            -i χ1 χ4],\n",
       "           [i χ2 χ4, χ1 χ4, χ1 χ2 χ3 χ4, - χ1 χ2, - χ3 χ4, I, χ2 χ3,\n",
       "            i χ1 χ3],\n",
       "           [i χ3 χ4, - χ1 χ2 χ3 χ4, χ1 χ4, - χ1 χ3, χ2 χ4, - χ2 χ3, I,\n",
       "            -i χ1 χ2],\n",
       "           [χ1 χ2 χ3 χ4, -i χ3 χ4, i χ2 χ4, -i χ2 χ3, -i χ1 χ4, i χ1 χ3,\n",
       "            -i χ1 χ2, I]])"
      ]
     },
     "execution_count": 4,
     "metadata": {},
     "output_type": "execute_result"
    }
   ],
   "source": [
    "ope = ops.outer(ops)\n",
    "ope"
   ]
  },
  {
   "cell_type": "code",
   "execution_count": 5,
   "metadata": {},
   "outputs": [
    {
     "data": {
      "text/plain": [
       "array([[[ 1.+0.j,  0.+0.j,  0.+0.j,  0.+0.j,  0.+0.j,  0.+0.j,  0.+0.j,\n",
       "          0.+0.j],\n",
       "        [ 0.+0.j,  1.+0.j,  0.+0.j,  0.+0.j,  0.+0.j,  0.+0.j,  0.+0.j,\n",
       "          0.+0.j],\n",
       "        [ 0.+0.j,  0.+0.j,  1.+0.j,  0.+0.j,  0.+0.j,  0.+0.j,  0.+0.j,\n",
       "          0.+0.j],\n",
       "        [ 0.+0.j,  0.+0.j,  0.+0.j,  1.+0.j,  0.+0.j,  0.+0.j,  0.+0.j,\n",
       "          0.+0.j],\n",
       "        [ 0.+0.j,  0.+0.j,  0.+0.j,  0.+0.j,  1.+0.j,  0.+0.j,  0.+0.j,\n",
       "          0.+0.j],\n",
       "        [ 0.+0.j,  0.+0.j,  0.+0.j,  0.+0.j,  0.+0.j,  1.+0.j,  0.+0.j,\n",
       "          0.+0.j],\n",
       "        [ 0.+0.j,  0.+0.j,  0.+0.j,  0.+0.j,  0.+0.j,  0.+0.j,  1.+0.j,\n",
       "          0.+0.j],\n",
       "        [ 0.+0.j,  0.+0.j,  0.+0.j,  0.+0.j,  0.+0.j,  0.+0.j,  0.+0.j,\n",
       "          1.+0.j]],\n",
       "\n",
       "       [[ 0.+0.j,  1.+0.j,  0.+0.j,  0.+0.j,  0.+0.j,  0.+0.j,  0.+0.j,\n",
       "          0.+0.j],\n",
       "        [ 1.+0.j,  0.+0.j,  0.+0.j,  0.+0.j,  0.+0.j,  0.+0.j,  0.+0.j,\n",
       "          0.+0.j],\n",
       "        [ 0.+0.j,  0.+0.j,  0.+0.j,  0.+0.j,  0.-1.j,  0.+0.j,  0.+0.j,\n",
       "          0.+0.j],\n",
       "        [ 0.+0.j,  0.+0.j,  0.+0.j,  0.+0.j,  0.+0.j,  0.-1.j,  0.+0.j,\n",
       "          0.+0.j],\n",
       "        [ 0.+0.j,  0.+0.j,  0.+1.j,  0.+0.j,  0.+0.j,  0.+0.j,  0.+0.j,\n",
       "          0.+0.j],\n",
       "        [ 0.+0.j,  0.+0.j,  0.+0.j,  0.+1.j,  0.+0.j,  0.+0.j,  0.+0.j,\n",
       "          0.+0.j],\n",
       "        [ 0.+0.j,  0.+0.j,  0.+0.j,  0.+0.j,  0.+0.j,  0.+0.j,  0.+0.j,\n",
       "         -1.+0.j],\n",
       "        [ 0.+0.j,  0.+0.j,  0.+0.j,  0.+0.j,  0.+0.j,  0.+0.j, -1.+0.j,\n",
       "          0.+0.j]],\n",
       "\n",
       "       [[ 0.+0.j,  0.+0.j,  1.+0.j,  0.+0.j,  0.+0.j,  0.+0.j,  0.+0.j,\n",
       "          0.+0.j],\n",
       "        [ 0.+0.j,  0.+0.j,  0.+0.j,  0.+0.j,  0.+1.j,  0.+0.j,  0.+0.j,\n",
       "          0.+0.j],\n",
       "        [ 1.+0.j,  0.+0.j,  0.+0.j,  0.+0.j,  0.+0.j,  0.+0.j,  0.+0.j,\n",
       "          0.+0.j],\n",
       "        [ 0.+0.j,  0.+0.j,  0.+0.j,  0.+0.j,  0.+0.j,  0.+0.j,  0.-1.j,\n",
       "          0.+0.j],\n",
       "        [ 0.+0.j,  0.-1.j,  0.+0.j,  0.+0.j,  0.+0.j,  0.+0.j,  0.+0.j,\n",
       "          0.+0.j],\n",
       "        [ 0.+0.j,  0.+0.j,  0.+0.j,  0.+0.j,  0.+0.j,  0.+0.j,  0.+0.j,\n",
       "          1.+0.j],\n",
       "        [ 0.+0.j,  0.+0.j,  0.+0.j,  0.+1.j,  0.+0.j,  0.+0.j,  0.+0.j,\n",
       "          0.+0.j],\n",
       "        [ 0.+0.j,  0.+0.j,  0.+0.j,  0.+0.j,  0.+0.j,  1.+0.j,  0.+0.j,\n",
       "          0.+0.j]],\n",
       "\n",
       "       [[ 0.+0.j,  0.+0.j,  0.+0.j,  1.+0.j,  0.+0.j,  0.+0.j,  0.+0.j,\n",
       "          0.+0.j],\n",
       "        [ 0.+0.j,  0.+0.j,  0.+0.j,  0.+0.j,  0.+0.j,  0.+1.j,  0.+0.j,\n",
       "          0.+0.j],\n",
       "        [ 0.+0.j,  0.+0.j,  0.+0.j,  0.+0.j,  0.+0.j,  0.+0.j,  0.+1.j,\n",
       "          0.+0.j],\n",
       "        [ 1.+0.j,  0.+0.j,  0.+0.j,  0.+0.j,  0.+0.j,  0.+0.j,  0.+0.j,\n",
       "          0.+0.j],\n",
       "        [ 0.+0.j,  0.+0.j,  0.+0.j,  0.+0.j,  0.+0.j,  0.+0.j,  0.+0.j,\n",
       "         -1.+0.j],\n",
       "        [ 0.+0.j,  0.-1.j,  0.+0.j,  0.+0.j,  0.+0.j,  0.+0.j,  0.+0.j,\n",
       "          0.+0.j],\n",
       "        [ 0.+0.j,  0.+0.j,  0.-1.j,  0.+0.j,  0.+0.j,  0.+0.j,  0.+0.j,\n",
       "          0.+0.j],\n",
       "        [ 0.+0.j,  0.+0.j,  0.+0.j,  0.+0.j, -1.+0.j,  0.+0.j,  0.+0.j,\n",
       "          0.+0.j]],\n",
       "\n",
       "       [[ 0.+0.j,  0.+0.j,  0.+0.j,  0.+0.j,  1.+0.j,  0.+0.j,  0.+0.j,\n",
       "          0.+0.j],\n",
       "        [ 0.+0.j,  0.+0.j,  0.-1.j,  0.+0.j,  0.+0.j,  0.+0.j,  0.+0.j,\n",
       "          0.+0.j],\n",
       "        [ 0.+0.j,  0.+1.j,  0.+0.j,  0.+0.j,  0.+0.j,  0.+0.j,  0.+0.j,\n",
       "          0.+0.j],\n",
       "        [ 0.+0.j,  0.+0.j,  0.+0.j,  0.+0.j,  0.+0.j,  0.+0.j,  0.+0.j,\n",
       "         -1.+0.j],\n",
       "        [ 1.+0.j,  0.+0.j,  0.+0.j,  0.+0.j,  0.+0.j,  0.+0.j,  0.+0.j,\n",
       "          0.+0.j],\n",
       "        [ 0.+0.j,  0.+0.j,  0.+0.j,  0.+0.j,  0.+0.j,  0.+0.j,  0.-1.j,\n",
       "          0.+0.j],\n",
       "        [ 0.+0.j,  0.+0.j,  0.+0.j,  0.+0.j,  0.+0.j,  0.+1.j,  0.+0.j,\n",
       "          0.+0.j],\n",
       "        [ 0.+0.j,  0.+0.j,  0.+0.j, -1.+0.j,  0.+0.j,  0.+0.j,  0.+0.j,\n",
       "          0.+0.j]],\n",
       "\n",
       "       [[ 0.+0.j,  0.+0.j,  0.+0.j,  0.+0.j,  0.+0.j,  1.+0.j,  0.+0.j,\n",
       "          0.+0.j],\n",
       "        [ 0.+0.j,  0.+0.j,  0.+0.j,  0.-1.j,  0.+0.j,  0.+0.j,  0.+0.j,\n",
       "          0.+0.j],\n",
       "        [ 0.+0.j,  0.+0.j,  0.+0.j,  0.+0.j,  0.+0.j,  0.+0.j,  0.+0.j,\n",
       "          1.+0.j],\n",
       "        [ 0.+0.j,  0.+1.j,  0.+0.j,  0.+0.j,  0.+0.j,  0.+0.j,  0.+0.j,\n",
       "          0.+0.j],\n",
       "        [ 0.+0.j,  0.+0.j,  0.+0.j,  0.+0.j,  0.+0.j,  0.+0.j,  0.+1.j,\n",
       "          0.+0.j],\n",
       "        [ 1.+0.j,  0.+0.j,  0.+0.j,  0.+0.j,  0.+0.j,  0.+0.j,  0.+0.j,\n",
       "          0.+0.j],\n",
       "        [ 0.+0.j,  0.+0.j,  0.+0.j,  0.+0.j,  0.-1.j,  0.+0.j,  0.+0.j,\n",
       "          0.+0.j],\n",
       "        [ 0.+0.j,  0.+0.j,  1.+0.j,  0.+0.j,  0.+0.j,  0.+0.j,  0.+0.j,\n",
       "          0.+0.j]],\n",
       "\n",
       "       [[ 0.+0.j,  0.+0.j,  0.+0.j,  0.+0.j,  0.+0.j,  0.+0.j,  1.+0.j,\n",
       "          0.+0.j],\n",
       "        [ 0.+0.j,  0.+0.j,  0.+0.j,  0.+0.j,  0.+0.j,  0.+0.j,  0.+0.j,\n",
       "         -1.+0.j],\n",
       "        [ 0.+0.j,  0.+0.j,  0.+0.j,  0.-1.j,  0.+0.j,  0.+0.j,  0.+0.j,\n",
       "          0.+0.j],\n",
       "        [ 0.+0.j,  0.+0.j,  0.+1.j,  0.+0.j,  0.+0.j,  0.+0.j,  0.+0.j,\n",
       "          0.+0.j],\n",
       "        [ 0.+0.j,  0.+0.j,  0.+0.j,  0.+0.j,  0.+0.j,  0.-1.j,  0.+0.j,\n",
       "          0.+0.j],\n",
       "        [ 0.+0.j,  0.+0.j,  0.+0.j,  0.+0.j,  0.+1.j,  0.+0.j,  0.+0.j,\n",
       "          0.+0.j],\n",
       "        [ 1.+0.j,  0.+0.j,  0.+0.j,  0.+0.j,  0.+0.j,  0.+0.j,  0.+0.j,\n",
       "          0.+0.j],\n",
       "        [ 0.+0.j, -1.+0.j,  0.+0.j,  0.+0.j,  0.+0.j,  0.+0.j,  0.+0.j,\n",
       "          0.+0.j]],\n",
       "\n",
       "       [[ 0.+0.j,  0.+0.j,  0.+0.j,  0.+0.j,  0.+0.j,  0.+0.j,  0.+0.j,\n",
       "          1.+0.j],\n",
       "        [ 0.+0.j,  0.+0.j,  0.+0.j,  0.+0.j,  0.+0.j,  0.+0.j, -1.+0.j,\n",
       "          0.+0.j],\n",
       "        [ 0.+0.j,  0.+0.j,  0.+0.j,  0.+0.j,  0.+0.j,  1.+0.j,  0.+0.j,\n",
       "          0.+0.j],\n",
       "        [ 0.+0.j,  0.+0.j,  0.+0.j,  0.+0.j, -1.+0.j,  0.+0.j,  0.+0.j,\n",
       "          0.+0.j],\n",
       "        [ 0.+0.j,  0.+0.j,  0.+0.j, -1.+0.j,  0.+0.j,  0.+0.j,  0.+0.j,\n",
       "          0.+0.j],\n",
       "        [ 0.+0.j,  0.+0.j,  1.+0.j,  0.+0.j,  0.+0.j,  0.+0.j,  0.+0.j,\n",
       "          0.+0.j],\n",
       "        [ 0.+0.j, -1.+0.j,  0.+0.j,  0.+0.j,  0.+0.j,  0.+0.j,  0.+0.j,\n",
       "          0.+0.j],\n",
       "        [ 1.+0.j,  0.+0.j,  0.+0.j,  0.+0.j,  0.+0.j,  0.+0.j,  0.+0.j,\n",
       "          0.+0.j]]])"
      ]
     },
     "execution_count": 5,
     "metadata": {},
     "output_type": "execute_result"
    }
   ],
   "source": [
    "ops.represent(ope, axis=0)"
   ]
  },
  {
   "cell_type": "code",
   "execution_count": null,
   "metadata": {},
   "outputs": [],
   "source": []
  }
 ],
 "metadata": {
  "kernelspec": {
   "display_name": "Python 3 (ipykernel)",
   "language": "python",
   "name": "python3"
  },
  "language_info": {
   "codemirror_mode": {
    "name": "ipython",
    "version": 3
   },
   "file_extension": ".py",
   "mimetype": "text/x-python",
   "name": "python",
   "nbconvert_exporter": "python",
   "pygments_lexer": "ipython3",
   "version": "3.9.12"
  }
 },
 "nbformat": 4,
 "nbformat_minor": 4
}
