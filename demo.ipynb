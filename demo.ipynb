{
 "cells": [
  {
   "cell_type": "code",
   "execution_count": 1,
   "metadata": {},
   "outputs": [],
   "source": [
    "%run 'qboot.py'"
   ]
  },
  {
   "cell_type": "markdown",
   "metadata": {},
   "source": [
    "# Quantum Bootstrap"
   ]
  },
  {
   "cell_type": "markdown",
   "metadata": {},
   "source": [
    "## Hubbard Model"
   ]
  },
  {
   "cell_type": "markdown",
   "metadata": {
    "jp-MarkdownHeadingCollapsed": true,
    "tags": []
   },
   "source": [
    "### Problem Setup"
   ]
  },
  {
   "cell_type": "markdown",
   "metadata": {},
   "source": [
    "Define fermion creation/annihilation/number operators."
   ]
  },
  {
   "cell_type": "code",
   "execution_count": 2,
   "metadata": {},
   "outputs": [],
   "source": [
    "def c(i,s):\n",
    "    return (maj(4*i+2*s) + 1j * maj(4*i+2*s+1))/2\n",
    "def cd(i,s):\n",
    "    return (maj(4*i+2*s) - 1j * maj(4*i+2*s+1))/2\n",
    "def n(i,s):\n",
    "    return cd(i,s) @ c(i,s)"
   ]
  },
  {
   "cell_type": "markdown",
   "metadata": {},
   "source": [
    "Construct 1D Hubbard model Hamiltonian."
   ]
  },
  {
   "cell_type": "code",
   "execution_count": 3,
   "metadata": {},
   "outputs": [
    {
     "data": {
      "text/plain": [
       "-0.5i χ0 χ5 +0.5i χ1 χ4 -0.5i χ2 χ7 +0.5i χ3 χ6 -0.5i χ4 χ9 +0.5i χ5 χ8 -0.5i χ6 χ11 +0.5i χ7 χ10 +0.5i χ1 χ8 -0.5i χ0 χ9 +0.5i χ3 χ10 -0.5i χ2 χ11 +0.75 I +0.25i χ2 χ3 +0.25i χ0 χ1 -0.25 χ0 χ1 χ2 χ3 +0.25i χ6 χ7 +0.25i χ4 χ5 -0.25 χ4 χ5 χ6 χ7 +0.25i χ10 χ11 +0.25i χ8 χ9 -0.25 χ8 χ9 χ10 χ11"
      ]
     },
     "execution_count": 3,
     "metadata": {},
     "output_type": "execute_result"
    }
   ],
   "source": [
    "L = 3\n",
    "t, U = 1., 1.\n",
    "H = - t * sum(sum(cd(i,s) @ c((i+1)%L,s)+cd((i+1)%L,s) @ c(i,s) for s in [0,1]) for i in range(L)) \\\n",
    "    + U * sum(n(i,0) @ n(i,1) for i in range(L))\n",
    "H"
   ]
  },
  {
   "cell_type": "markdown",
   "metadata": {
    "jp-MarkdownHeadingCollapsed": true,
    "tags": []
   },
   "source": [
    "### Full Space Bootstrap"
   ]
  },
  {
   "cell_type": "markdown",
   "metadata": {},
   "source": [
    "Perform quantum bootstrap."
   ]
  },
  {
   "cell_type": "code",
   "execution_count": 4,
   "metadata": {},
   "outputs": [
    {
     "name": "stdout",
     "output_type": "stream",
     "text": [
      "    terms weight     norm\n",
      " 0:     1    0.0  1.0e+00\n",
      " 1:    21    2.1  1.9e+00\n",
      " 2:   144    4.1  2.4e+00\n",
      " 3:   375    6.0  2.6e+00\n",
      " 4:   519    7.8  2.6e+00\n",
      " 5:   543    9.7  2.4e+00\n",
      " 6:   543   11.0  1.9e+00\n",
      " 7:   543    7.6  1.2e+00\n",
      " 8:   543    6.9  1.8e+00\n",
      " 9:   543    6.6  1.7e+00\n",
      "10:   543    5.6  1.8e+00\n",
      "11:   543    5.3  8.4e-01\n",
      "12:   543    5.1  1.2e+00\n",
      "13:   543    5.6  1.0e+00\n",
      "14:   543    6.0  7.3e-01\n",
      "15:   543    6.7  1.4e+00\n",
      "16:   543    6.0  6.0e-02\n",
      "17:   544    6.0  1.5e+00\n",
      "Krylov space constructed.\n",
      "     pcost       dcost       gap    pres   dres   k/t\n",
      " 0: -4.4118e-02 -2.2362e+01  1e+01  3e-16  1e+01  1e+00\n",
      " 1: -3.2892e-01 -4.1191e+00  2e+00  2e-15  2e+00  2e-01\n",
      " 2: -6.6446e-01 -4.2450e+00  3e+00  3e-15  2e+00  2e-01\n",
      " 3: -2.4802e+00 -3.9003e+00  1e+00  4e-15  7e-01  1e-01\n",
      " 4: -2.9353e+00 -3.3637e+00  4e-01  2e-15  2e-01  3e-02\n",
      " 5: -3.0348e+00 -4.0966e+00  3e+00  2e-14  5e-01  1e-01\n",
      " 6: -4.0297e+00 -4.2738e+00  9e-01  7e-15  1e-01  4e-02\n",
      " 7: -4.4433e+00 -4.4471e+00  2e-02  1e-14  2e-03  8e-04\n",
      " 8: -4.4515e+00 -4.4515e+00  2e-04  1e-14  2e-05  8e-06\n",
      " 9: -4.4516e+00 -4.4516e+00  1e-05  1e-14  2e-06  6e-07\n",
      "10: -4.4516e+00 -4.4516e+00  1e-05  2e-14  1e-06  5e-07\n",
      "11: -4.4516e+00 -4.4516e+00  5e-06  4e-14  7e-07  3e-07\n",
      "12: -4.4516e+00 -4.4516e+00  4e-06  3e-14  6e-07  2e-07\n",
      "13: -4.4516e+00 -4.4516e+00  9e-07  1e-14  1e-07  5e-08\n",
      "14: -4.4516e+00 -4.4516e+00  6e-07  9e-15  9e-08  3e-08\n",
      "Optimal solution found.\n"
     ]
    },
    {
     "data": {
      "text/plain": [
       "-0.661i χ1 χ4 +0.661i χ2 χ7 -0.661i χ3 χ6 +0.661i χ4 χ9 +0.661i χ6 χ11 -0.661i χ7 χ10 -0.661i χ1 χ8 -0.661i χ3 χ10 +0.661i χ2 χ11 -0.333i χ2 χ3 -0.333i χ6 χ7 -0.333i χ10 χ11 -0.333i χ8 χ9 -0.021 χ8 χ9 χ10 χ11 +0.172i χ0 χ1 χ2 χ4 χ5 χ7 -0.172i χ0 χ1 χ3 χ4 χ5 χ6 +0.245i χ0 χ1 χ4 χ5 χ6 χ11 -0.245i χ0 χ1 χ4 χ5 χ7 χ10 -0.245i χ0 χ1 χ3 χ4 χ5 χ10 +0.245i χ0 χ1 χ2 χ4 χ5 χ11 -0.156i χ0 χ1 χ2 χ3 χ4 χ5 -0.156i χ0 χ1 χ4 χ5 χ6 χ7 -0.021i χ0 χ1 χ4 χ5 χ10 χ11 -1i χ0 χ1 χ4 χ5 χ8 χ9 -0.333 χ0 χ1 χ4 χ5 χ8 χ9 χ10 χ11 +0.172i χ0 χ2 χ3 χ5 χ6 χ7 +0.453i χ0 χ2 χ4 χ5 χ7 χ9 -0.453i χ0 χ2 χ5 χ6 χ7 χ11 +0.453i χ0 χ1 χ2 χ5 χ7 χ8 -0.453i χ0 χ2 χ3 χ5 χ7 χ10 -0.422i χ0 χ2 χ5 χ7 χ10 χ11 -0.422i χ0 χ2 χ5 χ7 χ8 χ9 -0.422 χ0 χ2 χ5 χ7 χ8 χ9 χ10 χ11 ..."
      ]
     },
     "execution_count": 4,
     "metadata": {},
     "output_type": "execute_result"
    }
   ],
   "source": [
    "rho = qboot(H, show_progress=True)\n",
    "rho"
   ]
  },
  {
   "cell_type": "markdown",
   "metadata": {},
   "source": [
    "Evaluate energy expectation value (**Ground truth**: -3.70156)"
   ]
  },
  {
   "cell_type": "code",
   "execution_count": 5,
   "metadata": {},
   "outputs": [
    {
     "data": {
      "text/plain": [
       "-3.701559045396696"
      ]
     },
     "execution_count": 5,
     "metadata": {},
     "output_type": "execute_result"
    }
   ],
   "source": [
    "rho.inner(H).real"
   ]
  },
  {
   "cell_type": "markdown",
   "metadata": {},
   "source": [
    "**Comment**: the Hamiltonian invloves 12 Majorana oeprators. If all the even fermion parity operators are to be considered, the operator space dimension would be $2^{12-1}=2048$ and the OPE tensor would be infeasible to construct. Using the Krylov space method (Lanczos algorithm), the operator space dimension can be reduce to 18."
   ]
  },
  {
   "cell_type": "markdown",
   "metadata": {
    "jp-MarkdownHeadingCollapsed": true,
    "tags": []
   },
   "source": [
    "### Subspace Bootstrap"
   ]
  },
  {
   "cell_type": "markdown",
   "metadata": {},
   "source": [
    "The computational complexity of the full space bootstrap is still exponential. To make the algorithm scalable, there are two stretegies to restrict complexity:\n",
    "* truncate the Krylov space at a maximum power $\\mathsf{span}(H^{n}|n\\leq n_\\text{max})$,\n",
    "* drop the operator if it becomes too complex (e.g. truncate multi-fermion operator to allow the product of at most $m$ Majorana fermions)."
   ]
  },
  {
   "cell_type": "markdown",
   "metadata": {},
   "source": [
    "Truncate the power."
   ]
  },
  {
   "cell_type": "code",
   "execution_count": 6,
   "metadata": {},
   "outputs": [
    {
     "name": "stdout",
     "output_type": "stream",
     "text": [
      "    terms weight     norm\n",
      " 0:     1    0.0  1.0e+00\n",
      " 1:    21    2.1  1.9e+00\n",
      " 2:   144    4.1  2.4e+00\n",
      " 3:   375    6.0  2.6e+00\n",
      " 4:   519    7.8  2.6e+00\n",
      " 5:   543    9.7  2.4e+00\n",
      " 6:   543   11.0  1.9e+00\n",
      " 7:   543    7.6  1.2e+00\n",
      " 8:   543    6.9  1.8e+00\n",
      " 9:   543    6.6  1.7e+00\n",
      "10:   543    5.6  1.8e+00\n",
      "Krylov space constructed.\n",
      "     pcost       dcost       gap    pres   dres   k/t\n",
      " 0: -9.2869e-02 -1.4206e+01  9e+00  2e-16  8e+00  1e+00\n",
      " 1: -3.8861e-01 -3.0441e+00  2e+00  1e-15  1e+00  2e-01\n",
      " 2: -1.3215e+00 -2.5983e+00  1e+00  2e-15  7e-01  1e-01\n",
      " 3: -2.4782e+00 -3.1882e+00  1e+00  5e-15  4e-01  9e-02\n",
      " 4: -2.9209e+00 -3.1743e+00  4e-01  4e-15  2e-01  4e-02\n",
      " 5: -3.0456e+00 -3.5255e+00  2e+00  2e-14  3e-01  1e-01\n",
      " 6: -4.1109e+00 -4.2047e+00  7e-01  1e-14  7e-02  4e-02\n",
      " 7: -4.4470e+00 -4.4480e+00  9e-03  3e-14  9e-04  7e-04\n",
      " 8: -4.4515e+00 -4.4515e+00  9e-05  1e-14  9e-06  7e-06\n",
      " 9: -4.4516e+00 -4.4516e+00  9e-07  7e-15  9e-08  7e-08\n",
      "Optimal solution found.\n"
     ]
    },
    {
     "data": {
      "text/plain": [
       "-0.661i χ1 χ4 +0.661i χ2 χ7 -0.661i χ3 χ6 +0.661i χ4 χ9 +0.661i χ6 χ11 -0.661i χ7 χ10 -0.661i χ1 χ8 -0.661i χ3 χ10 +0.661i χ2 χ11 -0.334i χ2 χ3 -0.334i χ6 χ7 -0.334i χ10 χ11 -0.334i χ8 χ9 -0.0195 χ8 χ9 χ10 χ11 +0.171i χ0 χ1 χ2 χ4 χ5 χ7 -0.171i χ0 χ1 χ3 χ4 χ5 χ6 +0.245i χ0 χ1 χ4 χ5 χ6 χ11 -0.245i χ0 χ1 χ4 χ5 χ7 χ10 -0.245i χ0 χ1 χ3 χ4 χ5 χ10 +0.245i χ0 χ1 χ2 χ4 χ5 χ11 -0.156i χ0 χ1 χ2 χ3 χ4 χ5 -0.156i χ0 χ1 χ4 χ5 χ6 χ7 -0.0207i χ0 χ1 χ4 χ5 χ10 χ11 -1i χ0 χ1 χ4 χ5 χ8 χ9 -0.333 χ0 χ1 χ4 χ5 χ8 χ9 χ10 χ11 +0.171i χ0 χ2 χ3 χ5 χ6 χ7 +0.453i χ0 χ2 χ4 χ5 χ7 χ9 -0.453i χ0 χ2 χ5 χ6 χ7 χ11 +0.453i χ0 χ1 χ2 χ5 χ7 χ8 -0.453i χ0 χ2 χ3 χ5 χ7 χ10 -0.422i χ0 χ2 χ5 χ7 χ10 χ11 -0.422i χ0 χ2 χ5 χ7 χ8 χ9 -0.422 χ0 χ2 χ5 χ7 χ8 χ9 χ10 χ11 ..."
      ]
     },
     "execution_count": 6,
     "metadata": {},
     "output_type": "execute_result"
    }
   ],
   "source": [
    "rho = qboot(H, max_power=10, show_progress=True)\n",
    "rho"
   ]
  },
  {
   "cell_type": "markdown",
   "metadata": {},
   "source": [
    "Evaluate energy expectation value (**Ground truth**: -3.70156)"
   ]
  },
  {
   "cell_type": "code",
   "execution_count": 7,
   "metadata": {},
   "outputs": [
    {
     "data": {
      "text/plain": [
       "-3.701559074532699"
      ]
     },
     "execution_count": 7,
     "metadata": {},
     "output_type": "execute_result"
    }
   ],
   "source": [
    "rho.inner(H).real"
   ]
  },
  {
   "cell_type": "markdown",
   "metadata": {},
   "source": [
    "Restrict the operator complexity (order of Majorana operator product)."
   ]
  },
  {
   "cell_type": "code",
   "execution_count": 8,
   "metadata": {},
   "outputs": [
    {
     "name": "stdout",
     "output_type": "stream",
     "text": [
      "    terms weight     norm\n",
      " 0:     1    0.0  1.0e+00\n",
      " 1:    21    2.1  1.9e+00\n",
      " 2:   117    4.0  2.3e+00\n",
      " 3:   153    3.9  6.2e-01\n",
      " 4:   225    4.0  7.7e-01\n",
      " 5:   225    4.0  1.4e+00\n",
      " 6:   225    4.0  1.4e+00\n",
      " 7:   225    4.0  2.3e+00\n",
      " 8:   225    4.0  8.6e-01\n",
      " 9:   225    2.8  2.6e-01\n",
      "10:   225    4.0  1.2e+00\n",
      "11:   225    3.3  9.5e-01\n",
      "12:   225    4.0  7.8e-02\n",
      "Krylov space constructed.\n",
      "     pcost       dcost       gap    pres   dres   k/t\n",
      " 0: -1.2158e-01 -1.9657e+01  1e+01  4e-16  5e+01  1e+00\n",
      " 1: -7.9083e-01 -5.9296e+00  3e+00  1e-15  1e+01  3e-01\n",
      " 2: -2.7491e+00 -4.2281e+00  8e-01  2e-15  4e+00  8e-02\n",
      " 3: -2.9753e+00 -3.0272e+00  3e-02  3e-15  1e-01  1e-03\n",
      " 4: -2.9935e+00 -2.9949e+00  7e-04  2e-15  4e-03  1e-05\n",
      " 5: -2.9941e+00 -2.9941e+00  7e-06  2e-15  4e-05  2e-07\n",
      " 6: -2.9941e+00 -2.9941e+00  3e-07  1e-15  2e-06  8e-09\n",
      " 7: -2.9941e+00 -2.9941e+00  1e-07  2e-15  7e-07  6e-09\n",
      " 8: -2.9941e+00 -2.9941e+00  2e-08  1e-15  9e-08  8e-10\n",
      "Optimal solution found.\n"
     ]
    },
    {
     "data": {
      "text/plain": [
       "0.132 χ0 χ1 χ4 χ5 +0.133 χ0 χ2 χ5 χ7 -0.133 χ0 χ3 χ5 χ6 +0.212 χ0 χ4 χ5 χ9 -0.164 χ0 χ5 χ6 χ11 +0.164 χ0 χ5 χ7 χ10 -0.212 χ0 χ1 χ5 χ8 -0.164 χ0 χ3 χ5 χ10 +0.164 χ0 χ2 χ5 χ11 +0.0935 χ0 χ2 χ3 χ5 +0.0935 χ0 χ5 χ6 χ7 -0.00443 χ0 χ5 χ10 χ11 +0.212 χ0 χ5 χ8 χ9 -0.435i χ1 χ4 +0.435i χ2 χ7 -0.435i χ3 χ6 +0.435i χ4 χ9 +0.435i χ6 χ11 -0.435i χ7 χ10 -0.435i χ1 χ8 -0.435i χ3 χ10 +0.435i χ2 χ11 -0.182i χ2 χ3 -0.182i χ6 χ7 -0.182i χ10 χ11 -0.182i χ8 χ9 -0.0434i χ2 χ5 χ7 χ9 +0.0434i χ3 χ5 χ6 χ9 +0.0434i χ0 χ6 χ8 χ11 -0.0434i χ0 χ7 χ8 χ10 +0.0732i χ0 χ2 χ3 χ8 -0.0732i χ0 χ8 χ10 χ11 -0.0434i χ1 χ5 χ6 χ11 ..."
      ]
     },
     "execution_count": 8,
     "metadata": {},
     "output_type": "execute_result"
    }
   ],
   "source": [
    "with limit(len, 4):\n",
    "    rho4 = qboot(H, max_power=20, show_progress=True)\n",
    "rho4"
   ]
  },
  {
   "cell_type": "code",
   "execution_count": 9,
   "metadata": {},
   "outputs": [
    {
     "name": "stdout",
     "output_type": "stream",
     "text": [
      "    terms weight     norm\n",
      " 0:     1    0.0  1.0e+00\n",
      " 1:    21    2.1  1.9e+00\n",
      " 2:   141    4.1  2.4e+00\n",
      " 3:   317    5.9  2.6e+00\n",
      " 4:   509    5.9  8.4e-01\n",
      " 5:   605    4.8  1.4e+00\n",
      " 6:   605    4.9  1.9e+00\n",
      " 7:   605    4.6  2.7e+00\n",
      " 8:   605    4.4  2.0e+00\n",
      " 9:   605    4.5  2.6e+00\n",
      "10:   605    5.1  8.6e-01\n",
      "11:   605    5.4  1.1e+00\n",
      "12:   605    4.6  1.3e+00\n",
      "13:   605    4.8  1.5e+00\n",
      "14:   605    4.9  1.0e+00\n",
      "15:   605    4.8  1.2e+00\n",
      "16:   605    4.3  1.1e+00\n",
      "17:   605    4.8  1.5e+00\n",
      "18:   605    5.7  8.0e-01\n",
      "19:   605    4.7  6.3e-01\n",
      "20:   606    4.9  5.5e-01\n",
      "Krylov space constructed.\n",
      "     pcost       dcost       gap    pres   dres   k/t\n",
      " 0: -4.1993e-01 -2.7537e+01  9e+00  7e-16  6e+01  1e+00\n",
      " 1: -8.4352e-01 -5.2899e+00  1e+00  1e-15  9e+00  1e-01\n",
      " 2: -7.2477e-01 -8.5650e+00  5e+00  4e-15  2e+01  3e-01\n",
      " 3: -3.2292e+00 -4.1628e+00  7e-01  2e-15  2e+00  7e-02\n",
      " 4: -3.7154e+00 -3.7558e+00  3e-02  5e-15  9e-02  1e-03\n",
      " 5: -3.7355e+00 -3.7403e+00  3e-03  2e-15  1e-02  1e-04\n",
      " 6: -3.6759e+00 -3.8080e+00  3e+00  1e-13  3e-01  9e-03\n",
      " 7: -3.7995e+00 -3.7980e+00  6e-01  3e-13  2e-02  1e-02\n",
      " 8: -3.8603e+00 -3.8586e+00  1e-01  8e-14  6e-03  5e-03\n",
      " 9: -4.0226e+00 -4.0215e+00  3e-02  9e-14  9e-04  2e-03\n",
      "10: -4.0490e+00 -4.0490e+00  3e-04  5e-13  1e-05  2e-05\n",
      "11: -4.0493e+00 -4.0493e+00  4e-05  4e-13  1e-06  2e-06\n",
      "12: -4.0493e+00 -4.0493e+00  3e-05  8e-13  9e-07  1e-06\n",
      "13: -4.0493e+00 -4.0493e+00  5e-06  7e-13  2e-07  3e-07\n",
      "14: -4.0493e+00 -4.0493e+00  2e-06  1e-12  8e-08  1e-07\n",
      "Optimal solution found.\n"
     ]
    },
    {
     "data": {
      "text/plain": [
       "-0.0679i χ1 χ4 +0.0679i χ2 χ7 -0.0679i χ3 χ6 +0.0679i χ4 χ9 +0.0679i χ6 χ11 -0.0679i χ7 χ10 -0.0679i χ1 χ8 -0.0679i χ3 χ10 +0.0679i χ2 χ11 -0.237i χ2 χ3 -0.237i χ6 χ7 -0.237i χ10 χ11 -0.237i χ8 χ9 +4.38 χ8 χ9 χ10 χ11 -1.83i χ0 χ1 χ2 χ4 χ5 χ7 +1.83i χ0 χ1 χ3 χ4 χ5 χ6 +0.906i χ0 χ1 χ4 χ5 χ6 χ11 -0.906i χ0 χ1 χ4 χ5 χ7 χ10 -0.906i χ0 χ1 χ3 χ4 χ5 χ10 +0.906i χ0 χ1 χ2 χ4 χ5 χ11 -1.43i χ0 χ1 χ2 χ3 χ4 χ5 -1.43i χ0 χ1 χ4 χ5 χ6 χ7 +2.68i χ0 χ1 χ4 χ5 χ10 χ11 -0.674i χ0 χ1 χ4 χ5 χ8 χ9 -1.83i χ0 χ2 χ3 χ5 χ6 χ7 +0.456i χ0 χ2 χ4 χ5 χ7 χ9 -0.456i χ0 χ2 χ5 χ6 χ7 χ11 +0.456i χ0 χ1 χ2 χ5 χ7 χ8 -0.456i χ0 χ2 χ3 χ5 χ7 χ10 +0.39i χ0 χ2 χ5 χ7 χ10 χ11 +0.39i χ0 χ2 χ5 χ7 χ8 χ9 -0.456i χ0 χ3 χ4 χ5 χ6 χ9 +0.456i χ0 χ3 χ5 χ6 χ7 χ10 ..."
      ]
     },
     "execution_count": 9,
     "metadata": {},
     "output_type": "execute_result"
    }
   ],
   "source": [
    "with limit(len, 6):\n",
    "    rho6 = qboot(H, max_power=20, show_progress=True)\n",
    "rho6"
   ]
  },
  {
   "cell_type": "code",
   "execution_count": 10,
   "metadata": {},
   "outputs": [
    {
     "name": "stdout",
     "output_type": "stream",
     "text": [
      "    terms weight     norm\n",
      " 0:     1    0.0  1.0e+00\n",
      " 1:    21    2.1  1.9e+00\n",
      " 2:   144    4.1  2.4e+00\n",
      " 3:   368    6.0  2.6e+00\n",
      " 4:   500    7.8  2.6e+00\n",
      " 5:   548    7.3  8.3e-01\n",
      " 6:   668    6.2  1.7e+00\n",
      " 7:   812    6.3  2.3e+00\n",
      " 8:   812    5.9  2.2e+00\n",
      " 9:   812    5.6  2.7e+00\n",
      "10:   812    5.2  2.5e+00\n",
      "11:   812    4.7  1.5e+00\n",
      "12:   812    5.4  1.3e+00\n",
      "13:   812    5.9  1.4e+00\n",
      "14:   812    6.5  1.5e+00\n",
      "15:   812    5.3  8.4e-01\n",
      "16:   812    6.1  1.2e+00\n",
      "17:   812    5.9  1.1e+00\n",
      "18:   812    5.9  5.4e-01\n",
      "19:   812    5.5  1.0e+00\n",
      "20:   813    6.1  1.1e+00\n",
      "Krylov space constructed.\n",
      "     pcost       dcost       gap    pres   dres   k/t\n",
      " 0: -4.2564e-02 -3.0986e+01  9e+00  2e-15  1e+02  1e+00\n",
      " 1: -6.8135e-01 -7.8950e+00  2e+00  2e-15  2e+01  2e-01\n",
      " 2: -1.9797e+00 -3.4729e+00  4e-01  1e-15  5e+00  5e-02\n",
      " 3: -1.8341e+00 -7.0343e+00  6e+00  8e-15  2e+01  3e-01\n",
      " 4: -2.8733e+00 -5.1276e+00  3e+00  2e-14  8e+00  1e-01\n",
      " 5: -4.0006e+00 -4.1565e+00  3e-01  1e-14  5e-01  1e-02\n",
      " 6: -4.1763e+00 -4.1817e+00  9e-03  1e-14  2e-02  2e-04\n",
      " 7: -4.1824e+00 -4.1832e+00  1e-03  7e-15  3e-03  3e-05\n",
      " 8: -4.1445e+00 -4.1770e+00  2e+00  3e-12  1e-01  3e-03\n",
      " 9: -4.2074e+00 -4.2053e+00  4e-01  9e-13  6e-03  4e-03\n",
      "10: -4.3141e+00 -4.3101e+00  1e-01  2e-12  1e-03  4e-03\n",
      "11: -4.4402e+00 -4.4399e+00  1e-02  1e-12  1e-04  3e-04\n",
      "12: -4.4503e+00 -4.4503e+00  1e-04  4e-12  1e-06  3e-06\n",
      "13: -4.4504e+00 -4.4504e+00  1e-05  4e-12  1e-07  3e-07\n",
      "14: -4.4504e+00 -4.4504e+00  8e-06  9e-13  8e-08  3e-07\n",
      "15: -4.4504e+00 -4.4504e+00  2e-06  8e-13  2e-08  6e-08\n",
      "Optimal solution found.\n"
     ]
    },
    {
     "data": {
      "text/plain": [
       "0.104i χ1 χ4 -0.104i χ2 χ7 +0.104i χ3 χ6 -0.104i χ4 χ9 -0.104i χ6 χ11 +0.104i χ7 χ10 +0.104i χ1 χ8 +0.104i χ3 χ10 -0.104i χ2 χ11 -0.342i χ2 χ3 -0.342i χ6 χ7 -0.342i χ10 χ11 -0.342i χ8 χ9 +6.08 χ8 χ9 χ10 χ11 -3.66i χ0 χ1 χ2 χ4 χ5 χ7 +3.66i χ0 χ1 χ3 χ4 χ5 χ6 +1.75i χ0 χ1 χ4 χ5 χ6 χ11 -1.75i χ0 χ1 χ4 χ5 χ7 χ10 -1.75i χ0 χ1 χ3 χ4 χ5 χ10 +1.75i χ0 χ1 χ2 χ4 χ5 χ11 -3.19i χ0 χ1 χ2 χ3 χ4 χ5 -3.19i χ0 χ1 χ4 χ5 χ6 χ7 +6.09i χ0 χ1 χ4 χ5 χ10 χ11 -1.01i χ0 χ1 χ4 χ5 χ8 χ9 -0.404 χ0 χ1 χ4 χ5 χ8 χ9 χ10 χ11 -3.66i χ0 χ2 χ3 χ5 χ6 χ7 +0.84i χ0 χ2 χ4 χ5 χ7 χ9 -0.84i χ0 χ2 χ5 χ6 χ7 χ11 +0.84i χ0 χ1 χ2 χ5 χ7 χ8 -0.84i χ0 χ2 χ3 χ5 χ7 χ10 +1.1i χ0 χ2 χ5 χ7 χ10 χ11 +1.1i χ0 χ2 χ5 χ7 χ8 χ9 +1.07 χ0 χ2 χ5 χ7 χ8 χ9 χ10 χ11 ..."
      ]
     },
     "execution_count": 10,
     "metadata": {},
     "output_type": "execute_result"
    }
   ],
   "source": [
    "with limit(len, 8):\n",
    "    rho8 = qboot(H, max_power=20, show_progress=True)\n",
    "rho8"
   ]
  },
  {
   "cell_type": "code",
   "execution_count": 11,
   "metadata": {},
   "outputs": [
    {
     "name": "stdout",
     "output_type": "stream",
     "text": [
      "    terms weight     norm\n",
      " 0:     1    0.0  1.0e+00\n",
      " 1:    21    2.1  1.9e+00\n",
      " 2:   144    4.1  2.4e+00\n",
      " 3:   374    6.0  2.6e+00\n",
      " 4:   518    7.8  2.6e+00\n",
      " 5:   542    9.7  2.4e+00\n",
      " 6:   542    6.5  8.0e-01\n",
      " 7:   542    6.2  2.2e+00\n",
      " 8:   542    5.6  1.6e+00\n",
      " 9:   542    5.6  1.6e+00\n",
      "10:   542    6.7  7.9e-01\n",
      "11:   542    5.9  7.6e-01\n",
      "12:   542    5.5  9.4e-01\n",
      "13:   542    6.1  7.3e-01\n",
      "14:   542    6.1  1.2e+00\n",
      "15:   542    6.5  9.2e-02\n",
      "16:   543    6.0  1.4e+00\n",
      "17:   543    5.5  6.8e-01\n",
      "Krylov space constructed.\n",
      "     pcost       dcost       gap    pres   dres   k/t\n",
      " 0:  4.1649e-01 -2.2758e+01  7e+00  2e-15  6e+02  1e+00\n",
      " 1:  8.7370e-02 -4.7592e+00  2e+00  1e-14  1e+02  3e-01\n",
      " 2: -2.8749e-01 -5.8351e+00  3e+00  1e-14  2e+02  3e-01\n",
      " 3: -2.2680e+00 -3.7880e+00  1e+00  4e-15  4e+01  2e-01\n",
      " 4: -2.4996e+00 -3.1210e+00  5e-01  2e-15  2e+01  7e-02\n",
      " 5: -2.7035e+00 -3.9944e+00  3e+00  8e-15  4e+01  2e-01\n",
      " 6: -3.7462e+00 -4.0451e+00  1e+00  6e-15  1e+01  1e-01\n",
      " 7: -4.3604e+00 -4.3737e+00  5e-02  1e-14  4e-01  3e-03\n",
      " 8: -4.3946e+00 -4.3949e+00  8e-04  1e-14  7e-03  3e-05\n",
      " 9: -4.3952e+00 -4.3953e+00  3e-05  3e-15  3e-04  1e-06\n",
      "10: -4.3953e+00 -4.3953e+00  1e-05  1e-14  1e-04  6e-07\n",
      "11: -4.3953e+00 -4.3953e+00  3e-06  2e-14  3e-05  2e-07\n",
      "12: -4.3953e+00 -4.3953e+00  2e-06  2e-14  2e-05  1e-07\n",
      "13: -4.3953e+00 -4.3953e+00  2e-06  2e-14  2e-05  8e-08\n",
      "14: -4.3953e+00 -4.3953e+00  6e-07  8e-15  6e-06  3e-08\n",
      "15: -4.3953e+00 -4.3953e+00  4e-07  7e-15  4e-06  2e-08\n",
      "16: -4.3953e+00 -4.3953e+00  8e-08  3e-15  7e-07  4e-09\n",
      "17: -4.3953e+00 -4.3953e+00  6e-08  1e-14  5e-07  3e-09\n",
      "18: -4.3953e+00 -4.3953e+00  1e-08  1e-14  1e-07  7e-10\n",
      "19: -4.3953e+00 -4.3953e+00  5e-10  5e-15  5e-09  3e-11\n",
      "Optimal solution found.\n"
     ]
    },
    {
     "data": {
      "text/plain": [
       "-0.653i χ1 χ4 +0.653i χ2 χ7 -0.653i χ3 χ6 +0.653i χ4 χ9 +0.653i χ6 χ11 -0.653i χ7 χ10 -0.653i χ1 χ8 -0.653i χ3 χ10 +0.653i χ2 χ11 -0.323i χ2 χ3 -0.323i χ6 χ7 -0.323i χ10 χ11 -0.323i χ8 χ9 -0.00855 χ8 χ9 χ10 χ11 +0.179i χ0 χ1 χ2 χ4 χ5 χ7 -0.179i χ0 χ1 χ3 χ4 χ5 χ6 +0.232i χ0 χ1 χ4 χ5 χ6 χ11 -0.232i χ0 χ1 χ4 χ5 χ7 χ10 -0.232i χ0 χ1 χ3 χ4 χ5 χ10 +0.232i χ0 χ1 χ2 χ4 χ5 χ11 -0.142i χ0 χ1 χ2 χ3 χ4 χ5 -0.142i χ0 χ1 χ4 χ5 χ6 χ7 -0.0185i χ0 χ1 χ4 χ5 χ10 χ11 -0.937i χ0 χ1 χ4 χ5 χ8 χ9 -0.288 χ0 χ1 χ4 χ5 χ8 χ9 χ10 χ11 +0.179i χ0 χ2 χ3 χ5 χ6 χ7 +0.424i χ0 χ2 χ4 χ5 χ7 χ9 -0.424i χ0 χ2 χ5 χ6 χ7 χ11 +0.424i χ0 χ1 χ2 χ5 χ7 χ8 -0.424i χ0 χ2 χ3 χ5 χ7 χ10 -0.395i χ0 χ2 χ5 χ7 χ10 χ11 -0.395i χ0 χ2 χ5 χ7 χ8 χ9 -0.367 χ0 χ2 χ5 χ7 χ8 χ9 χ10 χ11 ..."
      ]
     },
     "execution_count": 11,
     "metadata": {},
     "output_type": "execute_result"
    }
   ],
   "source": [
    "with limit(len, 10):\n",
    "    rho10 = qboot(H, max_power=20, show_progress=True)\n",
    "rho10"
   ]
  },
  {
   "cell_type": "markdown",
   "metadata": {},
   "source": [
    "Evaluate energy expectation value (**Ground truth**: -3.70156)"
   ]
  },
  {
   "cell_type": "code",
   "execution_count": 12,
   "metadata": {},
   "outputs": [
    {
     "data": {
      "text/plain": [
       "[-2.244094584843602,\n",
       " -3.299328729952867,\n",
       " -3.700428091878927,\n",
       " -3.6452645696429378]"
      ]
     },
     "execution_count": 12,
     "metadata": {},
     "output_type": "execute_result"
    }
   ],
   "source": [
    "[rho.inner(H).real for rho in [rho4, rho6, rho8, rho10]]"
   ]
  },
  {
   "cell_type": "markdown",
   "metadata": {},
   "source": [
    "This stretegy (restricting operator complexity) does not seem to be effective."
   ]
  },
  {
   "cell_type": "markdown",
   "metadata": {
    "jp-MarkdownHeadingCollapsed": true,
    "tags": []
   },
   "source": [
    "### Profiling"
   ]
  },
  {
   "cell_type": "markdown",
   "metadata": {},
   "source": [
    "Timing"
   ]
  },
  {
   "cell_type": "code",
   "execution_count": 61,
   "metadata": {},
   "outputs": [
    {
     "name": "stdout",
     "output_type": "stream",
     "text": [
      "603 ms ± 3.61 ms per loop (mean ± std. dev. of 7 runs, 1 loop each)\n"
     ]
    }
   ],
   "source": [
    "%timeit H.krylov()"
   ]
  },
  {
   "cell_type": "code",
   "execution_count": 62,
   "metadata": {},
   "outputs": [
    {
     "name": "stdout",
     "output_type": "stream",
     "text": [
      " "
     ]
    },
    {
     "data": {
      "text/plain": [
       "         3782359 function calls (3782358 primitive calls) in 1.082 seconds\n",
       "\n",
       "   Ordered by: internal time\n",
       "\n",
       "   ncalls  tottime  percall  cumtime  percall filename:lineno(function)\n",
       "   178640    0.338    0.000    0.402    0.000 qboot.py:527(term_mul)\n",
       "   178640    0.159    0.000    0.477    0.000 qboot.py:237(__iadd__)\n",
       "       18    0.149    0.008    1.056    0.059 qboot.py:285(__matmul__)\n",
       "   178693    0.095    0.000    0.250    0.000 qboot.py:385(norm)\n",
       "   381584    0.059    0.000    0.076    0.000 qboot.py:387(<genexpr>)\n",
       "   178693    0.050    0.000    0.126    0.000 {built-in method builtins.sum}\n",
       "   178675    0.046    0.000    0.293    0.000 qboot.py:150(__eq__)\n",
       "   676138    0.034    0.000    0.034    0.000 {method 'append' of 'list' objects}\n",
       "   397230    0.033    0.000    0.033    0.000 {built-in method builtins.abs}\n",
       "   690279    0.031    0.000    0.031    0.000 {built-in method builtins.len}\n",
       "   178764    0.027    0.000    0.027    0.000 qboot.py:83(__init__)\n",
       "   178693    0.018    0.000    0.018    0.000 {built-in method math.sqrt}\n",
       "   178693    0.012    0.000    0.012    0.000 {method 'values' of 'dict' objects}\n",
       "   178729    0.011    0.000    0.011    0.000 {built-in method builtins.isinstance}\n",
       "       35    0.006    0.000    0.012    0.000 qboot.py:206(__add__)\n",
       "       35    0.005    0.000    0.006    0.000 qboot.py:356(inner)\n",
       "    12712    0.002    0.000    0.002    0.000 {method 'pop' of 'dict' objects}\n",
       "       35    0.002    0.000    0.002    0.000 qboot.py:169(<dictcomp>)\n",
       "       35    0.001    0.000    0.001    0.000 qboot.py:204(<dictcomp>)\n",
       "       17    0.001    0.000    0.001    0.000 qboot.py:194(__itruediv__)\n",
       "        1    0.001    0.001    1.082    1.082 qboot.py:427(krylov)\n",
       "    15694    0.001    0.000    0.001    0.000 {method 'conjugate' of 'complex' objects}\n",
       "        1    0.000    0.000    1.082    1.082 <string>:1(<module>)\n",
       "       35    0.000    0.000    0.000    0.000 {method 'copy' of 'dict' objects}\n",
       "       35    0.000    0.000    0.014    0.000 qboot.py:257(__sub__)\n",
       "       35    0.000    0.000    0.002    0.000 qboot.py:161(__mul__)\n",
       "       35    0.000    0.000    0.001    0.000 qboot.py:202(__neg__)\n",
       "      5/4    0.000    0.000    0.000    0.000 {built-in method numpy.core._multiarray_umath.implement_array_function}\n",
       "        1    0.000    0.000    0.000    0.000 {built-in method numpy.asarray}\n",
       "        1    0.000    0.000    1.082    1.082 {built-in method builtins.exec}\n",
       "        3    0.000    0.000    0.000    0.000 twodim_base.py:234(diag)\n",
       "       35    0.000    0.000    0.002    0.000 qboot.py:171(__rmul__)\n",
       "       21    0.000    0.000    0.000    0.000 {built-in method numpy.asanyarray}\n",
       "       18    0.000    0.000    0.000    0.000 qboot.py:480(zero)\n",
       "        1    0.000    0.000    0.000    0.000 shape_base.py:357(stack)\n",
       "        5    0.000    0.000    0.000    0.000 {built-in method numpy.zeros}\n",
       "        3    0.000    0.000    0.000    0.000 <__array_function__ internals>:2(diag)\n",
       "       70    0.000    0.000    0.000    0.000 {method 'items' of 'dict' objects}\n",
       "        1    0.000    0.000    0.000    0.000 {method 'conjugate' of 'numpy.ndarray' objects}\n",
       "        1    0.000    0.000    0.000    0.000 qboot.py:493(unit)\n",
       "        1    0.000    0.000    0.000    0.000 <__array_function__ internals>:2(concatenate)\n",
       "        1    0.000    0.000    0.000    0.000 shape_base.py:432(<listcomp>)\n",
       "        1    0.000    0.000    0.000    0.000 qboot.py:977(__new__)\n",
       "        1    0.000    0.000    0.000    0.000 shape_base.py:420(<listcomp>)\n",
       "        1    0.000    0.000    0.000    0.000 twodim_base.py:161(eye)\n",
       "        1    0.000    0.000    0.000    0.000 shape_base.py:424(<setcomp>)\n",
       "        1    0.000    0.000    0.000    0.000 {method 'disable' of '_lsprof.Profiler' objects}\n",
       "        1    0.000    0.000    0.000    0.000 <__array_function__ internals>:2(stack)\n",
       "        1    0.000    0.000    0.000    0.000 shape_base.py:207(_arrays_for_stack_dispatcher)\n",
       "        1    0.000    0.000    0.000    0.000 {method 'view' of 'numpy.ndarray' objects}\n",
       "        2    0.000    0.000    0.000    0.000 {method 'conjugate' of 'int' objects}\n",
       "        1    0.000    0.000    0.000    0.000 shape_base.py:348(_stack_dispatcher)\n",
       "        1    0.000    0.000    0.000    0.000 {built-in method builtins.hasattr}\n",
       "        1    0.000    0.000    0.000    0.000 {built-in method numpy.core._multiarray_umath.normalize_axis_index}\n",
       "        1    0.000    0.000    0.000    0.000 qboot.py:990(squeeze)\n",
       "        3    0.000    0.000    0.000    0.000 twodim_base.py:230(_diag_dispatcher)\n",
       "        1    0.000    0.000    0.000    0.000 multiarray.py:148(concatenate)"
      ]
     },
     "metadata": {},
     "output_type": "display_data"
    }
   ],
   "source": [
    "%prun H.krylov()"
   ]
  },
  {
   "cell_type": "markdown",
   "metadata": {},
   "source": [
    "## Heisenberg Model"
   ]
  },
  {
   "cell_type": "markdown",
   "metadata": {
    "tags": []
   },
   "source": [
    "### Problem Setup"
   ]
  },
  {
   "cell_type": "markdown",
   "metadata": {},
   "source": [
    "Construct a 1D Heisenberg model Hamiltonian"
   ]
  },
  {
   "cell_type": "code",
   "execution_count": 14,
   "metadata": {},
   "outputs": [
    {
     "data": {
      "text/plain": [
       "X0 X1 + Y0 Y1 + Z0 Z1 + X1 X2 + Y1 Y2 + Z1 Z2 + X2 X3 + Y2 Y3 + Z2 Z3 + X3 X4 + Y3 Y4 + Z3 Z4 + X4 X5 + Y4 Y5 + Z4 Z5 + X0 X5 + Y0 Y5 + Z0 Z5"
      ]
     },
     "execution_count": 14,
     "metadata": {},
     "output_type": "execute_result"
    }
   ],
   "source": [
    "L = 6\n",
    "J = 1.\n",
    "H = J * sum(pauli((i,a), ((i+1)%L,a)) for i in range(L) for a in range(1,4))\n",
    "H"
   ]
  },
  {
   "cell_type": "markdown",
   "metadata": {
    "tags": []
   },
   "source": [
    "### Full Space Bootstrap"
   ]
  },
  {
   "cell_type": "markdown",
   "metadata": {},
   "source": [
    "Perform quantum bootstrap."
   ]
  },
  {
   "cell_type": "code",
   "execution_count": 15,
   "metadata": {},
   "outputs": [
    {
     "name": "stdout",
     "output_type": "stream",
     "text": [
      "    terms weight     norm\n",
      " 0:     1    0.0  1.0e+00\n",
      " 1:    18    2.0  4.2e+00\n",
      " 2:    99    3.6  4.7e+00\n",
      " 3:   321    4.0  5.0e+00\n",
      " 4:   483    4.3  4.6e+00\n",
      " 5:   519    4.7  4.5e+00\n",
      " 6:   525    4.3  2.9e+00\n",
      " 7:   525    4.2  2.8e+00\n",
      " 8:   525    4.7  2.7e+00\n",
      " 9:   525    4.8  2.1e+00\n",
      "10:   525    5.0  3.0e+00\n",
      "11:   525    4.0  1.0e+00\n",
      "12:   525    5.5  3.9e-01\n",
      "Krylov space constructed.\n",
      "     pcost       dcost       gap    pres   dres   k/t\n",
      " 0:  7.1560e-01 -1.9400e+01  1e+01  2e-16  4e+00  1e+00\n",
      " 1: -7.2294e-01 -6.2345e+00  4e+00  2e-15  1e+00  3e-01\n",
      " 2: -3.4279e+00 -7.7546e+00  5e+00  4e-15  1e+00  4e-01\n",
      " 3: -6.5419e+00 -8.2831e+00  3e+00  6e-15  4e-01  2e-01\n",
      " 4: -7.7597e+00 -8.4294e+00  1e+00  6e-15  2e-01  9e-02\n",
      " 5: -8.0084e+00 -9.1739e+00  5e+00  3e-14  3e-01  3e-01\n",
      " 6: -1.0829e+01 -1.0945e+01  7e-01  6e-15  3e-02  4e-02\n",
      " 7: -1.1207e+01 -1.1208e+01  8e-03  8e-15  4e-04  5e-04\n",
      " 8: -1.1211e+01 -1.1211e+01  8e-05  8e-15  4e-06  5e-06\n",
      " 9: -1.1211e+01 -1.1211e+01  8e-07  2e-14  4e-08  5e-08\n",
      "Optimal solution found.\n"
     ]
    },
    {
     "data": {
      "text/plain": [
       "0.518 Z0 Z1 X2 X3 +0.518 Z0 Z1 Y2 Y3 +0.623 Z0 Z1 Z2 Z3 +0.277 Z0 Z1 X3 X4 +0.277 Z0 Z1 Y3 Y4 +0.309 Z0 Z1 Z3 Z4 +0.518 Z0 Z1 X4 X5 +0.518 Z0 Z1 Y4 Y5 +0.623 Z0 Z1 Z4 Z5 +0.518 Y0 Y1 X2 X3 +0.623 Y0 Y1 Y2 Y3 +0.518 Y0 Y1 Z2 Z3 +0.277 Y0 Y1 X3 X4 +0.309 Y0 Y1 Y3 Y4 +0.277 Y0 Y1 Z3 Z4 +0.518 Y0 Y1 X4 X5 +0.623 Y0 Y1 Y4 Y5 +0.518 Y0 Y1 Z4 Z5 -0.309 X0 X3 -0.277 X0 X2 X3 X4 -0.173 X0 X2 Y3 Y4 -0.173 X0 X2 Z3 Z4 -0.277 X0 X2 X4 X5 -0.173 X0 X2 Y4 Y5 -0.173 X0 X2 Z4 Z5 -0.309 X2 X5 +0.277 Z0 Z1 Y2 Y5 -0.173 Y0 Z1 Y2 Z5 -0.173 Z0 Y1 Z2 Y5 +0.277 Y0 Y1 Z2 Z5 -0.277 X0 X1 X2 X4 -1 X0 X1 X2 X3 X4 X5 -0.623 X0 X1 X2 X3 Y4 Y5 ..."
      ]
     },
     "execution_count": 15,
     "metadata": {},
     "output_type": "execute_result"
    }
   ],
   "source": [
    "rho = qboot(H, show_progress=True)\n",
    "rho"
   ]
  },
  {
   "cell_type": "markdown",
   "metadata": {},
   "source": [
    "Evaluate energy expectation value (**Ground truth**: -11.2111)"
   ]
  },
  {
   "cell_type": "code",
   "execution_count": 15,
   "metadata": {},
   "outputs": [
    {
     "data": {
      "text/plain": [
       "-11.211102103566951"
      ]
     },
     "execution_count": 15,
     "metadata": {},
     "output_type": "execute_result"
    }
   ],
   "source": [
    "rho.inner(H).real"
   ]
  },
  {
   "cell_type": "markdown",
   "metadata": {
    "tags": []
   },
   "source": [
    "### Subspace Bootstrap"
   ]
  },
  {
   "cell_type": "markdown",
   "metadata": {},
   "source": [
    "Truncate the power."
   ]
  },
  {
   "cell_type": "code",
   "execution_count": 21,
   "metadata": {},
   "outputs": [
    {
     "name": "stdout",
     "output_type": "stream",
     "text": [
      "    terms weight     norm\n",
      " 0:     1    0.0  1.0e+00\n",
      " 1:    18    2.0  4.2e+00\n",
      " 2:    99    3.6  4.7e+00\n",
      " 3:   321    4.0  5.0e+00\n",
      " 4:   483    4.3  4.6e+00\n",
      " 5:   519    4.7  4.5e+00\n",
      " 6:   525    4.3  2.9e+00\n",
      " 7:   525    4.2  2.8e+00\n",
      " 8:   525    4.7  2.7e+00\n",
      "Krylov space constructed.\n",
      "     pcost       dcost       gap    pres   dres   k/t\n",
      " 0:  7.3125e-01 -1.3808e+01  1e+01  2e-16  3e+00  1e+00\n",
      " 1: -7.1549e-01 -4.7216e+00  3e+00  2e-15  8e-01  3e-01\n",
      " 2: -1.4667e+00 -5.0578e+00  4e+00  3e-15  8e-01  4e-01\n",
      " 3: -5.2043e+00 -7.2152e+00  4e+00  1e-14  5e-01  3e-01\n",
      " 4: -7.8389e+00 -8.2603e+00  1e+00  4e-15  1e-01  1e-01\n",
      " 5: -8.1714e+00 -8.9102e+00  5e+00  2e-14  2e-01  4e-01\n",
      " 6: -1.0868e+01 -1.0931e+01  8e-01  7e-15  3e-02  7e-02\n",
      " 7: -1.1208e+01 -1.1208e+01  9e-03  1e-14  3e-04  8e-04\n",
      " 8: -1.1211e+01 -1.1211e+01  9e-05  2e-14  3e-06  8e-06\n",
      " 9: -1.1211e+01 -1.1211e+01  9e-07  1e-14  3e-08  8e-08\n",
      "Optimal solution found.\n"
     ]
    },
    {
     "data": {
      "text/plain": [
       "0.518 Z0 Z1 X2 X3 +0.518 Z0 Z1 Y2 Y3 +0.621 Z0 Z1 Z2 Z3 +0.278 Z0 Z1 X3 X4 +0.278 Z0 Z1 Y3 Y4 +0.311 Z0 Z1 Z3 Z4 +0.518 Z0 Z1 X4 X5 +0.518 Z0 Z1 Y4 Y5 +0.621 Z0 Z1 Z4 Z5 +0.518 Y0 Y1 X2 X3 +0.621 Y0 Y1 Y2 Y3 +0.518 Y0 Y1 Z2 Z3 +0.278 Y0 Y1 X3 X4 +0.311 Y0 Y1 Y3 Y4 +0.278 Y0 Y1 Z3 Z4 +0.518 Y0 Y1 X4 X5 +0.621 Y0 Y1 Y4 Y5 +0.518 Y0 Y1 Z4 Z5 -0.309 X0 X3 -0.278 X0 X2 X3 X4 -0.173 X0 X2 Y3 Y4 -0.173 X0 X2 Z3 Z4 -0.278 X0 X2 X4 X5 -0.173 X0 X2 Y4 Y5 -0.173 X0 X2 Z4 Z5 -0.309 X2 X5 +0.277 Z0 Z1 Y2 Y5 -0.174 Y0 Z1 Y2 Z5 -0.174 Z0 Y1 Z2 Y5 +0.277 Y0 Y1 Z2 Z5 -0.278 X0 X1 X2 X4 -0.998 X0 X1 X2 X3 X4 X5 -0.622 X0 X1 X2 X3 Y4 Y5 ..."
      ]
     },
     "execution_count": 21,
     "metadata": {},
     "output_type": "execute_result"
    }
   ],
   "source": [
    "rho = qboot(H, max_power=8, show_progress=True)\n",
    "rho"
   ]
  },
  {
   "cell_type": "markdown",
   "metadata": {},
   "source": [
    "Evaluate energy expectation value (**Ground truth**: -11.2111)"
   ]
  },
  {
   "cell_type": "code",
   "execution_count": 22,
   "metadata": {},
   "outputs": [
    {
     "data": {
      "text/plain": [
       "-11.211069119588117"
      ]
     },
     "execution_count": 22,
     "metadata": {},
     "output_type": "execute_result"
    }
   ],
   "source": [
    "rho.inner(H).real"
   ]
  },
  {
   "cell_type": "markdown",
   "metadata": {},
   "source": [
    "Restrict the operator complexity (order of Majorana operator product)."
   ]
  },
  {
   "cell_type": "code",
   "execution_count": 17,
   "metadata": {},
   "outputs": [
    {
     "name": "stdout",
     "output_type": "stream",
     "text": [
      "    terms weight     norm\n",
      " 0:     1    0.0  1.0e+00\n",
      " 1:    18    2.0  4.2e+00\n",
      " 2:    18    2.0  2.0e+00\n",
      " 3:     9    2.0  2.8e+00\n",
      "Krylov space constructed.\n",
      "     pcost       dcost       gap    pres   dres   k/t\n",
      " 0:  2.9021e-01 -1.1004e+01  1e+01  8e-17  1e+00  1e+00\n",
      " 1: -5.4306e+00 -6.9278e+00  1e+00  6e-16  2e-01  3e-01\n",
      " 2: -5.8801e+00 -5.9330e+00  5e-02  5e-16  6e-03  5e-03\n",
      " 3: -5.9174e+00 -5.9179e+00  4e-04  2e-15  6e-05  5e-05\n",
      " 4: -5.9178e+00 -5.9178e+00  4e-06  6e-16  6e-07  5e-07\n",
      " 5: -5.9178e+00 -5.9178e+00  4e-08  1e-15  6e-09  5e-09\n",
      "Optimal solution found.\n"
     ]
    },
    {
     "data": {
      "text/plain": [
       "-0.329 X0 X1 -0.329 Y0 Y1 -0.329 Z0 Z1 -0.329 X1 X2 -0.329 Y1 Y2 -0.329 Z1 Z2 -0.329 X2 X3 -0.329 Y2 Y3 -0.329 Z2 Z3 -0.329 X3 X4 -0.329 Y3 Y4 -0.329 Z3 Z4 -0.329 X4 X5 -0.329 Y4 Y5 -0.329 Z4 Z5 -0.329 X0 X5 -0.329 Y0 Y5 -0.329 Z0 Z5 + I+0.144 X0 X2 +0.144 X1 X5 +0.144 Y0 Y2 +0.144 Y1 Y5 +0.144 Z0 Z2 +0.144 Z1 Z5 +0.144 X1 X3 +0.144 Y1 Y3 +0.144 Z1 Z3 +0.144 X2 X4 +0.144 Y2 Y4 +0.144 Z2 Z4 +0.144 X3 X5 +0.144 Y3 Y5 ..."
      ]
     },
     "execution_count": 17,
     "metadata": {},
     "output_type": "execute_result"
    }
   ],
   "source": [
    "with limit(len, 2):\n",
    "    rho2 = qboot(H, max_power=20, show_progress=True)\n",
    "rho2"
   ]
  },
  {
   "cell_type": "code",
   "execution_count": 18,
   "metadata": {},
   "outputs": [
    {
     "name": "stdout",
     "output_type": "stream",
     "text": [
      "    terms weight     norm\n",
      " 0:     1    0.0  1.0e+00\n",
      " 1:    18    2.0  4.2e+00\n",
      " 2:    18    2.0  2.0e+00\n",
      " 3:    81    2.3  3.5e+00\n",
      " 4:    81    2.7  2.4e+00\n",
      "Krylov space constructed.\n",
      "     pcost       dcost       gap    pres   dres   k/t\n",
      " 0:  5.1421e-01 -1.2482e+01  1e+01  1e-16  2e+00  1e+00\n",
      " 1: -4.6226e+00 -5.9536e+00  1e+00  1e-15  2e-01  2e-01\n",
      " 2: -5.0030e+00 -5.6248e+00  6e-01  1e-15  1e-01  1e-01\n",
      " 3: -5.7406e+00 -6.4269e+00  2e+00  2e-15  1e-01  3e-01\n",
      " 4: -6.7548e+00 -6.7853e+00  1e-01  4e-15  6e-03  1e-02\n",
      " 5: -6.8173e+00 -6.8176e+00  1e-03  2e-15  6e-05  1e-04\n",
      " 6: -6.8179e+00 -6.8179e+00  1e-05  3e-15  6e-07  1e-06\n",
      " 7: -6.8179e+00 -6.8179e+00  1e-07  1e-15  6e-09  1e-08\n",
      "Optimal solution found.\n"
     ]
    },
    {
     "data": {
      "text/plain": [
       "-0.532 X0 X3 -0.247i X0 Z1 Y3 +0.247i X0 Y1 Z3 -0.532 X1 X4 -0.247i Z0 X1 Y4 +0.247i Y0 X1 Z4 +0.247i Y0 Z1 X3 -0.532 Y0 Y3 -0.247i Y0 X1 Z3 +0.247i Z0 Y1 X4 -0.532 Y1 Y4 -0.247i X0 Y1 Z4 -0.247i Z0 Y1 X3 +0.247i Z0 X1 Y3 -0.532 Z0 Z3 -0.247i Y0 Z1 X4 +0.247i X0 Z1 Y4 -0.532 Z1 Z4 -0.532 X2 X5 -0.247i Z1 X2 Y5 +0.247i Y1 X2 Z5 -0.247i X1 Z2 Y4 +0.247i X1 Y2 Z4 +0.247i Z1 Y2 X5 -0.532 Y2 Y5 -0.247i X1 Y2 Z5 +0.247i Y1 Z2 X4 -0.247i Y1 X2 Z4 -0.247i Y1 Z2 X5 +0.247i X1 Z2 Y5 -0.532 Z2 Z5 -0.247i Z1 Y2 X4 +0.247i Z1 X2 Y4 ..."
      ]
     },
     "execution_count": 18,
     "metadata": {},
     "output_type": "execute_result"
    }
   ],
   "source": [
    "with limit(len, 3):\n",
    "    rho3 = qboot(H, max_power=20, show_progress=True)\n",
    "rho3"
   ]
  },
  {
   "cell_type": "code",
   "execution_count": 19,
   "metadata": {},
   "outputs": [
    {
     "name": "stdout",
     "output_type": "stream",
     "text": [
      "    terms weight     norm\n",
      " 0:     1    0.0  1.0e+00\n",
      " 1:    18    2.0  4.2e+00\n",
      " 2:    99    3.6  4.7e+00\n",
      " 3:   270    3.5  4.4e+00\n",
      " 4:   324    3.4  3.8e+00\n",
      " 5:   414    3.3  2.5e+00\n",
      " 6:   414    3.6  1.8e+00\n",
      " 7:   414    3.6  2.6e+00\n",
      " 8:   414    3.6  3.5e+00\n",
      " 9:   414    3.8  2.3e+00\n",
      "10:   414    3.8  1.3e+00\n",
      "11:   414    3.1  2.3e+00\n",
      "12:   414    3.7  1.5e-01\n",
      "Krylov space constructed.\n",
      "     pcost       dcost       gap    pres   dres   k/t\n",
      " 0:  2.6189e-01 -2.1519e+01  1e+01  5e-16  4e+01  1e+00\n",
      " 1: -1.3734e+00 -7.8108e+00  4e+00  3e-15  1e+01  3e-01\n",
      " 2: -1.5063e+00 -8.2515e+00  5e+00  3e-15  1e+01  4e-01\n",
      " 3: -4.1126e+00 -1.0345e+01  7e+00  5e-15  1e+01  5e-01\n",
      " 4: -8.1296e+00 -9.9316e+00  3e+00  2e-15  4e+00  2e-01\n",
      " 5: -9.6945e+00 -9.7499e+00  9e-02  5e-15  1e-01  5e-03\n",
      " 6: -9.7559e+00 -9.7567e+00  1e-03  3e-15  2e-03  5e-05\n",
      " 7: -9.7569e+00 -9.7569e+00  2e-05  5e-15  2e-05  5e-07\n",
      " 8: -9.7569e+00 -9.7569e+00  2e-07  2e-15  2e-07  5e-09\n",
      " 9: -9.7569e+00 -9.7569e+00  1e-08  5e-15  2e-08  4e-10\n",
      "Optimal solution found.\n"
     ]
    },
    {
     "data": {
      "text/plain": [
       "0.266 Z0 Z1 X2 X3 +0.266 Z0 Z1 Y2 Y3 +0.319 Z0 Z1 Z2 Z3 +0.305 Z0 Z1 X3 X4 +0.305 Z0 Z1 Y3 Y4 +0.34 Z0 Z1 Z3 Z4 +0.266 Z0 Z1 X4 X5 +0.266 Z0 Z1 Y4 Y5 +0.319 Z0 Z1 Z4 Z5 +0.266 Y0 Y1 X2 X3 +0.319 Y0 Y1 Y2 Y3 +0.266 Y0 Y1 Z2 Z3 +0.305 Y0 Y1 X3 X4 +0.34 Y0 Y1 Y3 Y4 +0.305 Y0 Y1 Z3 Z4 +0.266 Y0 Y1 X4 X5 +0.319 Y0 Y1 Y4 Y5 +0.266 Y0 Y1 Z4 Z5 -0.234 X0 X3 -0.253 X0 X2 X3 X4 -0.15 X0 X2 Y3 Y4 -0.15 X0 X2 Z3 Z4 -0.253 X0 X2 X4 X5 -0.15 X0 X2 Y4 Y5 -0.15 X0 X2 Z4 Z5 -0.234 X2 X5 +0.114 Z0 Z1 Y2 Y5 -0.0601 Y0 Z1 Y2 Z5 -0.0601 Z0 Y1 Z2 Y5 +0.114 Y0 Y1 Z2 Z5 -0.253 X0 X1 X2 X4 -0.253 X1 X2 X3 X5 -0.15 X0 X1 Y2 Y4 ..."
      ]
     },
     "execution_count": 19,
     "metadata": {},
     "output_type": "execute_result"
    }
   ],
   "source": [
    "with limit(len, 4):\n",
    "    rho4 = qboot(H, max_power=20, show_progress=True)\n",
    "rho4"
   ]
  },
  {
   "cell_type": "code",
   "execution_count": 20,
   "metadata": {},
   "outputs": [
    {
     "name": "stdout",
     "output_type": "stream",
     "text": [
      "    terms weight     norm\n",
      " 0:     1    0.0  1.0e+00\n",
      " 1:    18    2.0  4.2e+00\n",
      " 2:    99    3.6  4.7e+00\n",
      " 3:   270    3.5  4.4e+00\n",
      " 4:   468    3.5  3.9e+00\n",
      " 5:   702    3.2  2.1e+00\n",
      " 6:   702    3.7  3.7e+00\n",
      " 7:   702    4.1  3.0e+00\n",
      " 8:   702    4.3  3.7e+00\n",
      " 9:   702    4.0  4.2e+00\n",
      "10:   702    4.0  3.5e+00\n",
      "11:   702    4.1  1.9e+00\n",
      "12:   702    3.5  1.4e+00\n",
      "13:   702    3.8  7.4e-01\n",
      "14:   702    3.8  1.5e-01\n",
      "Krylov space constructed.\n",
      "     pcost       dcost       gap    pres   dres   k/t\n",
      " 0:  3.6364e-01 -2.2495e+01  1e+01  5e-16  4e+01  1e+00\n",
      " 1: -9.4865e-01 -7.9389e+00  4e+00  2e-15  1e+01  3e-01\n",
      " 2: -1.4374e+00 -9.4185e+00  5e+00  3e-15  1e+01  4e-01\n",
      " 3: -5.2807e+00 -1.1438e+01  7e+00  3e-15  1e+01  5e-01\n",
      " 4: -9.3932e+00 -9.7752e+00  5e-01  6e-15  7e-01  6e-02\n",
      " 5: -9.7647e+00 -9.7715e+00  9e-03  3e-15  1e-02  6e-04\n",
      " 6: -9.7691e+00 -9.7717e+00  4e-03  3e-15  4e-03  2e-04\n",
      " 7: -9.6751e+00 -9.7879e+00  9e+00  3e-13  2e-01  2e-02\n",
      " 8: -9.8387e+00 -9.8651e+00  6e+00  7e-13  7e-02  2e-02\n",
      " 9: -9.7502e+00 -9.7626e+00  4e+00  3e-13  6e-02  2e-02\n",
      "10: -9.8370e+00 -9.8470e+00  6e-01  2e-13  2e-02  4e-03\n",
      "11: -1.0033e+01 -1.0031e+01  6e-01  4e-13  7e-03  7e-03\n",
      "12: -1.0128e+01 -1.0127e+01  2e-02  4e-13  2e-04  6e-04\n",
      "13: -1.0139e+01 -1.0139e+01  2e-04  2e-13  2e-06  7e-06\n",
      "14: -1.0139e+01 -1.0139e+01  2e-06  9e-13  2e-08  7e-08\n",
      "Optimal solution found.\n"
     ]
    },
    {
     "data": {
      "text/plain": [
       "-1.28 Z0 Z1 X2 X3 -1.28 Z0 Z1 Y2 Y3 +0.573 Z0 Z1 Z2 Z3 +0.863 Z0 Z1 X3 X4 +0.863 Z0 Z1 Y3 Y4 +2.07 Z0 Z1 Z3 Z4 -1.28 Z0 Z1 X4 X5 -1.28 Z0 Z1 Y4 Y5 +0.573 Z0 Z1 Z4 Z5 -1.28 Y0 Y1 X2 X3 +0.573 Y0 Y1 Y2 Y3 -1.28 Y0 Y1 Z2 Z3 +0.863 Y0 Y1 X3 X4 +2.07 Y0 Y1 Y3 Y4 +0.863 Y0 Y1 Z3 Z4 -1.28 Y0 Y1 X4 X5 +0.573 Y0 Y1 Y4 Y5 -1.28 Y0 Y1 Z4 Z5 -3.42 X0 X3 -1.35 X0 X2 X3 X4 +0.566 X0 X2 Y3 Y4 +0.566 X0 X2 Z3 Z4 -1.35 X0 X2 X4 X5 +0.566 X0 X2 Y4 Y5 +0.566 X0 X2 Z4 Z5 -3.42 X2 X5 +1.12 Z0 Z1 Y2 Y5 +0.738 Y0 Z1 Y2 Z5 +0.738 Z0 Y1 Z2 Y5 +1.12 Y0 Y1 Z2 Z5 -1.35 X0 X1 X2 X4 -1.35 X1 X2 X3 X5 +0.566 X0 X1 Y2 Y4 ..."
      ]
     },
     "execution_count": 20,
     "metadata": {},
     "output_type": "execute_result"
    }
   ],
   "source": [
    "with limit(len, 5):\n",
    "    rho5 = qboot(H, max_power=20, show_progress=True)\n",
    "rho5"
   ]
  },
  {
   "cell_type": "code",
   "execution_count": 21,
   "metadata": {},
   "outputs": [
    {
     "name": "stdout",
     "output_type": "stream",
     "text": [
      "    terms weight     norm\n",
      " 0:     1    0.0  1.0e+00\n",
      " 1:    18    2.0  4.2e+00\n",
      " 2:    99    3.6  4.7e+00\n",
      " 3:   321    4.0  5.0e+00\n",
      " 4:   483    4.3  4.6e+00\n",
      " 5:   519    4.7  4.5e+00\n",
      " 6:   525    4.3  2.9e+00\n",
      " 7:   525    4.2  2.8e+00\n",
      " 8:   525    4.7  2.7e+00\n",
      " 9:   525    4.8  2.1e+00\n",
      "10:   525    5.0  3.0e+00\n",
      "11:   525    4.0  1.0e+00\n",
      "12:   525    5.5  3.9e-01\n",
      "Krylov space constructed.\n",
      "     pcost       dcost       gap    pres   dres   k/t\n",
      " 0:  7.1560e-01 -1.9400e+01  1e+01  2e-16  4e+00  1e+00\n",
      " 1: -7.2294e-01 -6.2345e+00  4e+00  2e-15  1e+00  3e-01\n",
      " 2: -3.4279e+00 -7.7546e+00  5e+00  4e-15  1e+00  4e-01\n",
      " 3: -6.5419e+00 -8.2831e+00  3e+00  6e-15  4e-01  2e-01\n",
      " 4: -7.7597e+00 -8.4294e+00  1e+00  6e-15  2e-01  9e-02\n",
      " 5: -8.0084e+00 -9.1739e+00  5e+00  3e-14  3e-01  3e-01\n",
      " 6: -1.0829e+01 -1.0945e+01  7e-01  6e-15  3e-02  4e-02\n",
      " 7: -1.1207e+01 -1.1208e+01  8e-03  8e-15  4e-04  5e-04\n",
      " 8: -1.1211e+01 -1.1211e+01  8e-05  8e-15  4e-06  5e-06\n",
      " 9: -1.1211e+01 -1.1211e+01  8e-07  2e-14  4e-08  5e-08\n",
      "Optimal solution found.\n"
     ]
    },
    {
     "data": {
      "text/plain": [
       "0.518 Z0 Z1 X2 X3 +0.518 Z0 Z1 Y2 Y3 +0.623 Z0 Z1 Z2 Z3 +0.277 Z0 Z1 X3 X4 +0.277 Z0 Z1 Y3 Y4 +0.309 Z0 Z1 Z3 Z4 +0.518 Z0 Z1 X4 X5 +0.518 Z0 Z1 Y4 Y5 +0.623 Z0 Z1 Z4 Z5 +0.518 Y0 Y1 X2 X3 +0.623 Y0 Y1 Y2 Y3 +0.518 Y0 Y1 Z2 Z3 +0.277 Y0 Y1 X3 X4 +0.309 Y0 Y1 Y3 Y4 +0.277 Y0 Y1 Z3 Z4 +0.518 Y0 Y1 X4 X5 +0.623 Y0 Y1 Y4 Y5 +0.518 Y0 Y1 Z4 Z5 -0.309 X0 X3 -0.277 X0 X2 X3 X4 -0.173 X0 X2 Y3 Y4 -0.173 X0 X2 Z3 Z4 -0.277 X0 X2 X4 X5 -0.173 X0 X2 Y4 Y5 -0.173 X0 X2 Z4 Z5 -0.309 X2 X5 +0.277 Z0 Z1 Y2 Y5 -0.173 Y0 Z1 Y2 Z5 -0.173 Z0 Y1 Z2 Y5 +0.277 Y0 Y1 Z2 Z5 -0.277 X0 X1 X2 X4 -1 X0 X1 X2 X3 X4 X5 -0.623 X0 X1 X2 X3 Y4 Y5 ..."
      ]
     },
     "execution_count": 21,
     "metadata": {},
     "output_type": "execute_result"
    }
   ],
   "source": [
    "with limit(len, 6):\n",
    "    rho6 = qboot(H, max_power=20, show_progress=True)\n",
    "rho6"
   ]
  },
  {
   "cell_type": "markdown",
   "metadata": {},
   "source": [
    "Evaluate energy expectation value (**Ground truth**: -11.2111)"
   ]
  },
  {
   "cell_type": "code",
   "execution_count": 22,
   "metadata": {},
   "outputs": [
    {
     "data": {
      "text/plain": [
       "[-5.9177550964802546,\n",
       " -6.817948490193718,\n",
       " -9.756900675215123,\n",
       " -10.138721242767767,\n",
       " -11.211102103566951]"
      ]
     },
     "execution_count": 22,
     "metadata": {},
     "output_type": "execute_result"
    }
   ],
   "source": [
    "[rho.inner(H).real for rho in [rho2, rho3, rho4, rho5, rho6]]"
   ]
  },
  {
   "cell_type": "markdown",
   "metadata": {},
   "source": [
    "Restricting operator complexity causes accuracy loss very quickly?"
   ]
  },
  {
   "cell_type": "code",
   "execution_count": null,
   "metadata": {},
   "outputs": [],
   "source": []
  }
 ],
 "metadata": {
  "kernelspec": {
   "display_name": "Python 3 (ipykernel)",
   "language": "python",
   "name": "python3"
  },
  "language_info": {
   "codemirror_mode": {
    "name": "ipython",
    "version": 3
   },
   "file_extension": ".py",
   "mimetype": "text/x-python",
   "name": "python",
   "nbconvert_exporter": "python",
   "pygments_lexer": "ipython3",
   "version": "3.9.12"
  }
 },
 "nbformat": 4,
 "nbformat_minor": 4
}
